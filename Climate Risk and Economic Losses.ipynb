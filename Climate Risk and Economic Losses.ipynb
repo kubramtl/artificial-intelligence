{
 "cells": [
  {
   "cell_type": "markdown",
   "id": "9949e0e0",
   "metadata": {},
   "source": [
    "## Climate Risk and Economic Losses\n"
   ]
  },
  {
   "cell_type": "markdown",
   "id": "74f25356",
   "metadata": {},
   "source": [
    "**This dataset contains critical information about the Global Climate Risk Index and associated economic data for countries around the world.The data provides insight into the effects of climate-related disasters on countries. Our target is  to understand that how climate disasters(floods, heatwaves, storms, droughts and wildfires) affect to countries as economic losses and  to find solutions about agains to potential losses."
   ]
  },
  {
   "cell_type": "markdown",
   "id": "3a149fb1",
   "metadata": {},
   "source": [
    "**The Global Climate Risk Index measures a country’s vulnerability and resilience to extreme climate related events such as floods, heatwaves, storms, droughts and wildfires. The CRI takes into account fatalities caused by these events as well as economic losses in purchasing power parity US dollars."
   ]
  },
  {
   "cell_type": "markdown",
   "id": "61f2f892",
   "metadata": {},
   "source": [
    "**we will make regression  depends on Climate Risk Index."
   ]
  },
  {
   "cell_type": "markdown",
   "id": "69886c21",
   "metadata": {},
   "source": [
    "### Feature of the countries "
   ]
  },
  {
   "cell_type": "markdown",
   "id": "28147989",
   "metadata": {},
   "source": [
    "**the_geom : Geometry of the country (Geometry)\n",
    "\n",
    "**he_geom_webmercator :\tWeb Mercator projection of the geometry of the country (Geometry)\n",
    "\n",
    "**cri_rank : Rank of the country on the Climate Risk Index (Integer)\n",
    "\n",
    "**cri_score : Score of the country on the Climate Risk Index (Integer)\n",
    "\n",
    "**fatalities_per_100k_rank : Rank of the country in terms of fatalities per 100,000 people (Integer)\n",
    "\n",
    "**fatalities_per_100k_total : Total number fatalities per 100,000 people (Integer)\n",
    "\n",
    "**fatalities_rank :\tRank of the country in terms of total fatalities (Integer)\n",
    "\n",
    "**fatalities_total : Total number of fatalities (Integer)\n",
    "\n",
    "**losses_per_gdp__rank : Rank of the country in terms of losses per GDP (Integer)\n",
    "\n",
    "**losses_per_gdp__total : Total losses per GDP (Integer)\n",
    "\n",
    "**losses_usdm_ppp_rank : Rank of the country in terms of losses in USDM PPP (Integer)\n",
    "\n",
    "**losses_usdm_ppp_total : Total losses in USDM PPP (Integer)\n",
    "\n",
    "**rw_country_code :\tCountry code (String)\n",
    "\n",
    "**Country name (String)"
   ]
  },
  {
   "cell_type": "code",
   "execution_count": 1,
   "id": "9a0e8d54",
   "metadata": {},
   "outputs": [],
   "source": [
    "import pandas as pd\n",
    "import numpy as np\n",
    "import warnings\n",
    "warnings.filterwarnings(\"ignore\")\n",
    "import seaborn as sns\n",
    "import matplotlib.pyplot as plt\n",
    "\n"
   ]
  },
  {
   "cell_type": "code",
   "execution_count": 2,
   "id": "4fb5ed62",
   "metadata": {},
   "outputs": [],
   "source": [
    "df=pd.read_csv(\"climate-risk-index-1.csv\")"
   ]
  },
  {
   "cell_type": "code",
   "execution_count": 3,
   "id": "dde33916",
   "metadata": {},
   "outputs": [
    {
     "data": {
      "text/html": [
       "<div>\n",
       "<style scoped>\n",
       "    .dataframe tbody tr th:only-of-type {\n",
       "        vertical-align: middle;\n",
       "    }\n",
       "\n",
       "    .dataframe tbody tr th {\n",
       "        vertical-align: top;\n",
       "    }\n",
       "\n",
       "    .dataframe thead th {\n",
       "        text-align: right;\n",
       "    }\n",
       "</style>\n",
       "<table border=\"1\" class=\"dataframe\">\n",
       "  <thead>\n",
       "    <tr style=\"text-align: right;\">\n",
       "      <th></th>\n",
       "      <th>index</th>\n",
       "      <th>cartodb_id</th>\n",
       "      <th>the_geom</th>\n",
       "      <th>the_geom_webmercator</th>\n",
       "      <th>country</th>\n",
       "      <th>cri_rank</th>\n",
       "      <th>cri_score</th>\n",
       "      <th>fatalities_per_100k_rank</th>\n",
       "      <th>fatalities_per_100k_total</th>\n",
       "      <th>fatalities_rank</th>\n",
       "      <th>fatalities_total</th>\n",
       "      <th>losses_per_gdp__rank</th>\n",
       "      <th>losses_per_gdp__total</th>\n",
       "      <th>losses_usdm_ppp_rank</th>\n",
       "      <th>losses_usdm_ppp_total</th>\n",
       "      <th>rw_country_code</th>\n",
       "      <th>rw_country_name</th>\n",
       "    </tr>\n",
       "  </thead>\n",
       "  <tbody>\n",
       "    <tr>\n",
       "      <th>97</th>\n",
       "      <td>97</td>\n",
       "      <td>98</td>\n",
       "      <td>NaN</td>\n",
       "      <td>NaN</td>\n",
       "      <td>Latvia</td>\n",
       "      <td>135</td>\n",
       "      <td>124.50</td>\n",
       "      <td>114</td>\n",
       "      <td>0.00</td>\n",
       "      <td>114</td>\n",
       "      <td>0</td>\n",
       "      <td>135</td>\n",
       "      <td>NaN</td>\n",
       "      <td>135</td>\n",
       "      <td>0.000</td>\n",
       "      <td>LVA</td>\n",
       "      <td>Latvia</td>\n",
       "    </tr>\n",
       "    <tr>\n",
       "      <th>120</th>\n",
       "      <td>120</td>\n",
       "      <td>121</td>\n",
       "      <td>NaN</td>\n",
       "      <td>NaN</td>\n",
       "      <td>Republic of Congo</td>\n",
       "      <td>119</td>\n",
       "      <td>104.00</td>\n",
       "      <td>77</td>\n",
       "      <td>0.05</td>\n",
       "      <td>90</td>\n",
       "      <td>2</td>\n",
       "      <td>126</td>\n",
       "      <td>0.0006</td>\n",
       "      <td>128</td>\n",
       "      <td>0.166</td>\n",
       "      <td>COG</td>\n",
       "      <td>Republic of Congo</td>\n",
       "    </tr>\n",
       "    <tr>\n",
       "      <th>158</th>\n",
       "      <td>158</td>\n",
       "      <td>159</td>\n",
       "      <td>NaN</td>\n",
       "      <td>NaN</td>\n",
       "      <td>Kuwait</td>\n",
       "      <td>135</td>\n",
       "      <td>124.50</td>\n",
       "      <td>114</td>\n",
       "      <td>0.00</td>\n",
       "      <td>114</td>\n",
       "      <td>0</td>\n",
       "      <td>135</td>\n",
       "      <td>NaN</td>\n",
       "      <td>135</td>\n",
       "      <td>0.000</td>\n",
       "      <td>KWT</td>\n",
       "      <td>Kuwait</td>\n",
       "    </tr>\n",
       "    <tr>\n",
       "      <th>172</th>\n",
       "      <td>172</td>\n",
       "      <td>173</td>\n",
       "      <td>NaN</td>\n",
       "      <td>NaN</td>\n",
       "      <td>Montenegro</td>\n",
       "      <td>135</td>\n",
       "      <td>124.50</td>\n",
       "      <td>114</td>\n",
       "      <td>0.00</td>\n",
       "      <td>114</td>\n",
       "      <td>0</td>\n",
       "      <td>135</td>\n",
       "      <td>NaN</td>\n",
       "      <td>135</td>\n",
       "      <td>0.000</td>\n",
       "      <td>MNE</td>\n",
       "      <td>Montenegro</td>\n",
       "    </tr>\n",
       "    <tr>\n",
       "      <th>99</th>\n",
       "      <td>99</td>\n",
       "      <td>100</td>\n",
       "      <td>NaN</td>\n",
       "      <td>NaN</td>\n",
       "      <td>Malawi</td>\n",
       "      <td>3</td>\n",
       "      <td>13.83</td>\n",
       "      <td>14</td>\n",
       "      <td>0.61</td>\n",
       "      <td>20</td>\n",
       "      <td>111</td>\n",
       "      <td>6</td>\n",
       "      <td>4.4507</td>\n",
       "      <td>23</td>\n",
       "      <td>907.985</td>\n",
       "      <td>MWI</td>\n",
       "      <td>Malawi</td>\n",
       "    </tr>\n",
       "    <tr>\n",
       "      <th>39</th>\n",
       "      <td>39</td>\n",
       "      <td>40</td>\n",
       "      <td>NaN</td>\n",
       "      <td>NaN</td>\n",
       "      <td>Australia</td>\n",
       "      <td>20</td>\n",
       "      <td>35.50</td>\n",
       "      <td>51</td>\n",
       "      <td>0.11</td>\n",
       "      <td>45</td>\n",
       "      <td>26</td>\n",
       "      <td>30</td>\n",
       "      <td>0.3342</td>\n",
       "      <td>6</td>\n",
       "      <td>3812.502</td>\n",
       "      <td>AUS</td>\n",
       "      <td>Australia</td>\n",
       "    </tr>\n",
       "    <tr>\n",
       "      <th>121</th>\n",
       "      <td>121</td>\n",
       "      <td>122</td>\n",
       "      <td>NaN</td>\n",
       "      <td>NaN</td>\n",
       "      <td>Republic of Yemen</td>\n",
       "      <td>26</td>\n",
       "      <td>41.83</td>\n",
       "      <td>48</td>\n",
       "      <td>0.11</td>\n",
       "      <td>41</td>\n",
       "      <td>32</td>\n",
       "      <td>31</td>\n",
       "      <td>0.3048</td>\n",
       "      <td>52</td>\n",
       "      <td>230.670</td>\n",
       "      <td>YEM</td>\n",
       "      <td>Yemen</td>\n",
       "    </tr>\n",
       "    <tr>\n",
       "      <th>175</th>\n",
       "      <td>175</td>\n",
       "      <td>176</td>\n",
       "      <td>NaN</td>\n",
       "      <td>NaN</td>\n",
       "      <td>Puerto Rico</td>\n",
       "      <td>110</td>\n",
       "      <td>97.00</td>\n",
       "      <td>114</td>\n",
       "      <td>0.00</td>\n",
       "      <td>114</td>\n",
       "      <td>0</td>\n",
       "      <td>81</td>\n",
       "      <td>0.0437</td>\n",
       "      <td>78</td>\n",
       "      <td>57.565</td>\n",
       "      <td>NaN</td>\n",
       "      <td>NaN</td>\n",
       "    </tr>\n",
       "    <tr>\n",
       "      <th>2</th>\n",
       "      <td>2</td>\n",
       "      <td>3</td>\n",
       "      <td>NaN</td>\n",
       "      <td>NaN</td>\n",
       "      <td>Spain</td>\n",
       "      <td>69</td>\n",
       "      <td>66.33</td>\n",
       "      <td>74</td>\n",
       "      <td>0.05</td>\n",
       "      <td>47</td>\n",
       "      <td>22</td>\n",
       "      <td>86</td>\n",
       "      <td>0.0394</td>\n",
       "      <td>31</td>\n",
       "      <td>637.070</td>\n",
       "      <td>ESP</td>\n",
       "      <td>Spain</td>\n",
       "    </tr>\n",
       "    <tr>\n",
       "      <th>127</th>\n",
       "      <td>127</td>\n",
       "      <td>128</td>\n",
       "      <td>NaN</td>\n",
       "      <td>NaN</td>\n",
       "      <td>Zimbabwe</td>\n",
       "      <td>14</td>\n",
       "      <td>29.50</td>\n",
       "      <td>33</td>\n",
       "      <td>0.21</td>\n",
       "      <td>43</td>\n",
       "      <td>29</td>\n",
       "      <td>10</td>\n",
       "      <td>0.9044</td>\n",
       "      <td>48</td>\n",
       "      <td>253.578</td>\n",
       "      <td>ZWE</td>\n",
       "      <td>Zimbabwe</td>\n",
       "    </tr>\n",
       "    <tr>\n",
       "      <th>48</th>\n",
       "      <td>48</td>\n",
       "      <td>49</td>\n",
       "      <td>NaN</td>\n",
       "      <td>NaN</td>\n",
       "      <td>Iraq</td>\n",
       "      <td>93</td>\n",
       "      <td>78.00</td>\n",
       "      <td>37</td>\n",
       "      <td>0.18</td>\n",
       "      <td>30</td>\n",
       "      <td>65</td>\n",
       "      <td>125</td>\n",
       "      <td>0.0006</td>\n",
       "      <td>114</td>\n",
       "      <td>3.233</td>\n",
       "      <td>IRQ</td>\n",
       "      <td>Iraq</td>\n",
       "    </tr>\n",
       "    <tr>\n",
       "      <th>132</th>\n",
       "      <td>132</td>\n",
       "      <td>133</td>\n",
       "      <td>NaN</td>\n",
       "      <td>NaN</td>\n",
       "      <td>Cape Verde</td>\n",
       "      <td>43</td>\n",
       "      <td>52.00</td>\n",
       "      <td>22</td>\n",
       "      <td>0.38</td>\n",
       "      <td>90</td>\n",
       "      <td>2</td>\n",
       "      <td>37</td>\n",
       "      <td>0.2494</td>\n",
       "      <td>104</td>\n",
       "      <td>8.511</td>\n",
       "      <td>CPV</td>\n",
       "      <td>Cape Verde</td>\n",
       "    </tr>\n",
       "    <tr>\n",
       "      <th>110</th>\n",
       "      <td>110</td>\n",
       "      <td>111</td>\n",
       "      <td>NaN</td>\n",
       "      <td>NaN</td>\n",
       "      <td>Niger</td>\n",
       "      <td>90</td>\n",
       "      <td>77.17</td>\n",
       "      <td>46</td>\n",
       "      <td>0.12</td>\n",
       "      <td>49</td>\n",
       "      <td>21</td>\n",
       "      <td>103</td>\n",
       "      <td>0.0139</td>\n",
       "      <td>116</td>\n",
       "      <td>2.649</td>\n",
       "      <td>NER</td>\n",
       "      <td>Niger</td>\n",
       "    </tr>\n",
       "    <tr>\n",
       "      <th>57</th>\n",
       "      <td>57</td>\n",
       "      <td>58</td>\n",
       "      <td>NaN</td>\n",
       "      <td>NaN</td>\n",
       "      <td>Bahrain</td>\n",
       "      <td>135</td>\n",
       "      <td>124.50</td>\n",
       "      <td>114</td>\n",
       "      <td>0.00</td>\n",
       "      <td>114</td>\n",
       "      <td>0</td>\n",
       "      <td>135</td>\n",
       "      <td>NaN</td>\n",
       "      <td>135</td>\n",
       "      <td>0.000</td>\n",
       "      <td>BHR</td>\n",
       "      <td>Bahrain</td>\n",
       "    </tr>\n",
       "    <tr>\n",
       "      <th>96</th>\n",
       "      <td>96</td>\n",
       "      <td>97</td>\n",
       "      <td>NaN</td>\n",
       "      <td>NaN</td>\n",
       "      <td>Kiribati</td>\n",
       "      <td>83</td>\n",
       "      <td>75.50</td>\n",
       "      <td>114</td>\n",
       "      <td>0.00</td>\n",
       "      <td>114</td>\n",
       "      <td>0</td>\n",
       "      <td>5</td>\n",
       "      <td>6.2500</td>\n",
       "      <td>101</td>\n",
       "      <td>12.625</td>\n",
       "      <td>KIR</td>\n",
       "      <td>Kiribati</td>\n",
       "    </tr>\n",
       "  </tbody>\n",
       "</table>\n",
       "</div>"
      ],
      "text/plain": [
       "     index  cartodb_id  the_geom  the_geom_webmercator            country  \\\n",
       "97      97          98       NaN                   NaN             Latvia   \n",
       "120    120         121       NaN                   NaN  Republic of Congo   \n",
       "158    158         159       NaN                   NaN             Kuwait   \n",
       "172    172         173       NaN                   NaN         Montenegro   \n",
       "99      99         100       NaN                   NaN             Malawi   \n",
       "39      39          40       NaN                   NaN          Australia   \n",
       "121    121         122       NaN                   NaN  Republic of Yemen   \n",
       "175    175         176       NaN                   NaN        Puerto Rico   \n",
       "2        2           3       NaN                   NaN              Spain   \n",
       "127    127         128       NaN                   NaN           Zimbabwe   \n",
       "48      48          49       NaN                   NaN               Iraq   \n",
       "132    132         133       NaN                   NaN         Cape Verde   \n",
       "110    110         111       NaN                   NaN              Niger   \n",
       "57      57          58       NaN                   NaN            Bahrain   \n",
       "96      96          97       NaN                   NaN           Kiribati   \n",
       "\n",
       "     cri_rank  cri_score  fatalities_per_100k_rank  fatalities_per_100k_total  \\\n",
       "97        135     124.50                       114                       0.00   \n",
       "120       119     104.00                        77                       0.05   \n",
       "158       135     124.50                       114                       0.00   \n",
       "172       135     124.50                       114                       0.00   \n",
       "99          3      13.83                        14                       0.61   \n",
       "39         20      35.50                        51                       0.11   \n",
       "121        26      41.83                        48                       0.11   \n",
       "175       110      97.00                       114                       0.00   \n",
       "2          69      66.33                        74                       0.05   \n",
       "127        14      29.50                        33                       0.21   \n",
       "48         93      78.00                        37                       0.18   \n",
       "132        43      52.00                        22                       0.38   \n",
       "110        90      77.17                        46                       0.12   \n",
       "57        135     124.50                       114                       0.00   \n",
       "96         83      75.50                       114                       0.00   \n",
       "\n",
       "     fatalities_rank  fatalities_total  losses_per_gdp__rank  \\\n",
       "97               114                 0                   135   \n",
       "120               90                 2                   126   \n",
       "158              114                 0                   135   \n",
       "172              114                 0                   135   \n",
       "99                20               111                     6   \n",
       "39                45                26                    30   \n",
       "121               41                32                    31   \n",
       "175              114                 0                    81   \n",
       "2                 47                22                    86   \n",
       "127               43                29                    10   \n",
       "48                30                65                   125   \n",
       "132               90                 2                    37   \n",
       "110               49                21                   103   \n",
       "57               114                 0                   135   \n",
       "96               114                 0                     5   \n",
       "\n",
       "     losses_per_gdp__total  losses_usdm_ppp_rank  losses_usdm_ppp_total  \\\n",
       "97                     NaN                   135                  0.000   \n",
       "120                 0.0006                   128                  0.166   \n",
       "158                    NaN                   135                  0.000   \n",
       "172                    NaN                   135                  0.000   \n",
       "99                  4.4507                    23                907.985   \n",
       "39                  0.3342                     6               3812.502   \n",
       "121                 0.3048                    52                230.670   \n",
       "175                 0.0437                    78                 57.565   \n",
       "2                   0.0394                    31                637.070   \n",
       "127                 0.9044                    48                253.578   \n",
       "48                  0.0006                   114                  3.233   \n",
       "132                 0.2494                   104                  8.511   \n",
       "110                 0.0139                   116                  2.649   \n",
       "57                     NaN                   135                  0.000   \n",
       "96                  6.2500                   101                 12.625   \n",
       "\n",
       "    rw_country_code    rw_country_name  \n",
       "97              LVA             Latvia  \n",
       "120             COG  Republic of Congo  \n",
       "158             KWT             Kuwait  \n",
       "172             MNE         Montenegro  \n",
       "99              MWI             Malawi  \n",
       "39              AUS          Australia  \n",
       "121             YEM              Yemen  \n",
       "175             NaN                NaN  \n",
       "2               ESP              Spain  \n",
       "127             ZWE           Zimbabwe  \n",
       "48              IRQ               Iraq  \n",
       "132             CPV         Cape Verde  \n",
       "110             NER              Niger  \n",
       "57              BHR            Bahrain  \n",
       "96              KIR           Kiribati  "
      ]
     },
     "execution_count": 3,
     "metadata": {},
     "output_type": "execute_result"
    }
   ],
   "source": [
    "df.sample(15)"
   ]
  },
  {
   "cell_type": "code",
   "execution_count": 4,
   "id": "fc1def97",
   "metadata": {},
   "outputs": [
    {
     "data": {
      "text/plain": [
       "(182, 17)"
      ]
     },
     "execution_count": 4,
     "metadata": {},
     "output_type": "execute_result"
    }
   ],
   "source": [
    "df.shape # we have 182 countries "
   ]
  },
  {
   "cell_type": "code",
   "execution_count": 5,
   "id": "ff055965",
   "metadata": {},
   "outputs": [
    {
     "data": {
      "text/plain": [
       "77.3694"
      ]
     },
     "execution_count": 5,
     "metadata": {},
     "output_type": "execute_result"
    }
   ],
   "source": [
    "df.losses_per_gdp__total.max()"
   ]
  },
  {
   "cell_type": "code",
   "execution_count": 6,
   "id": "b742c327",
   "metadata": {},
   "outputs": [
    {
     "data": {
      "text/html": [
       "<div>\n",
       "<style scoped>\n",
       "    .dataframe tbody tr th:only-of-type {\n",
       "        vertical-align: middle;\n",
       "    }\n",
       "\n",
       "    .dataframe tbody tr th {\n",
       "        vertical-align: top;\n",
       "    }\n",
       "\n",
       "    .dataframe thead th {\n",
       "        text-align: right;\n",
       "    }\n",
       "</style>\n",
       "<table border=\"1\" class=\"dataframe\">\n",
       "  <thead>\n",
       "    <tr style=\"text-align: right;\">\n",
       "      <th></th>\n",
       "      <th>index</th>\n",
       "      <th>cartodb_id</th>\n",
       "      <th>the_geom</th>\n",
       "      <th>the_geom_webmercator</th>\n",
       "      <th>country</th>\n",
       "      <th>cri_rank</th>\n",
       "      <th>cri_score</th>\n",
       "      <th>fatalities_per_100k_rank</th>\n",
       "      <th>fatalities_per_100k_total</th>\n",
       "      <th>fatalities_rank</th>\n",
       "      <th>fatalities_total</th>\n",
       "      <th>losses_per_gdp__rank</th>\n",
       "      <th>losses_per_gdp__total</th>\n",
       "      <th>losses_usdm_ppp_rank</th>\n",
       "      <th>losses_usdm_ppp_total</th>\n",
       "      <th>rw_country_code</th>\n",
       "      <th>rw_country_name</th>\n",
       "    </tr>\n",
       "  </thead>\n",
       "  <tbody>\n",
       "    <tr>\n",
       "      <th>137</th>\n",
       "      <td>137</td>\n",
       "      <td>138</td>\n",
       "      <td>NaN</td>\n",
       "      <td>NaN</td>\n",
       "      <td>Dominica</td>\n",
       "      <td>2</td>\n",
       "      <td>13.0</td>\n",
       "      <td>1</td>\n",
       "      <td>43.66</td>\n",
       "      <td>42</td>\n",
       "      <td>31</td>\n",
       "      <td>1</td>\n",
       "      <td>77.3694</td>\n",
       "      <td>32</td>\n",
       "      <td>611.219</td>\n",
       "      <td>DMA</td>\n",
       "      <td>Dominica</td>\n",
       "    </tr>\n",
       "  </tbody>\n",
       "</table>\n",
       "</div>"
      ],
      "text/plain": [
       "     index  cartodb_id  the_geom  the_geom_webmercator   country  cri_rank  \\\n",
       "137    137         138       NaN                   NaN  Dominica         2   \n",
       "\n",
       "     cri_score  fatalities_per_100k_rank  fatalities_per_100k_total  \\\n",
       "137       13.0                         1                      43.66   \n",
       "\n",
       "     fatalities_rank  fatalities_total  losses_per_gdp__rank  \\\n",
       "137               42                31                     1   \n",
       "\n",
       "     losses_per_gdp__total  losses_usdm_ppp_rank  losses_usdm_ppp_total  \\\n",
       "137                77.3694                    32                611.219   \n",
       "\n",
       "    rw_country_code rw_country_name  \n",
       "137             DMA        Dominica  "
      ]
     },
     "execution_count": 6,
     "metadata": {},
     "output_type": "execute_result"
    }
   ],
   "source": [
    "df[df[\"losses_per_gdp__total\"]==77.3694]\n",
    "# Dominica "
   ]
  },
  {
   "cell_type": "code",
   "execution_count": 8,
   "id": "67e68c24",
   "metadata": {},
   "outputs": [
    {
     "name": "stdout",
     "output_type": "stream",
     "text": [
      "<class 'pandas.core.frame.DataFrame'>\n",
      "RangeIndex: 182 entries, 0 to 181\n",
      "Data columns (total 17 columns):\n",
      " #   Column                     Non-Null Count  Dtype  \n",
      "---  ------                     --------------  -----  \n",
      " 0   index                      182 non-null    int64  \n",
      " 1   cartodb_id                 182 non-null    int64  \n",
      " 2   the_geom                   0 non-null      float64\n",
      " 3   the_geom_webmercator       0 non-null      float64\n",
      " 4   country                    182 non-null    object \n",
      " 5   cri_rank                   182 non-null    int64  \n",
      " 6   cri_score                  182 non-null    float64\n",
      " 7   fatalities_per_100k_rank   182 non-null    int64  \n",
      " 8   fatalities_per_100k_total  182 non-null    float64\n",
      " 9   fatalities_rank            182 non-null    int64  \n",
      " 10  fatalities_total           182 non-null    int64  \n",
      " 11  losses_per_gdp__rank       182 non-null    int64  \n",
      " 12  losses_per_gdp__total      131 non-null    float64\n",
      " 13  losses_usdm_ppp_rank       182 non-null    int64  \n",
      " 14  losses_usdm_ppp_total      182 non-null    float64\n",
      " 15  rw_country_code            179 non-null    object \n",
      " 16  rw_country_name            179 non-null    object \n",
      "dtypes: float64(6), int64(8), object(3)\n",
      "memory usage: 24.3+ KB\n"
     ]
    }
   ],
   "source": [
    "df.info()"
   ]
  },
  {
   "cell_type": "code",
   "execution_count": 9,
   "id": "8f5b6e50",
   "metadata": {},
   "outputs": [
    {
     "data": {
      "text/plain": [
       "index                          0\n",
       "cartodb_id                     0\n",
       "the_geom                     182\n",
       "the_geom_webmercator         182\n",
       "country                        0\n",
       "cri_rank                       0\n",
       "cri_score                      0\n",
       "fatalities_per_100k_rank       0\n",
       "fatalities_per_100k_total      0\n",
       "fatalities_rank                0\n",
       "fatalities_total               0\n",
       "losses_per_gdp__rank           0\n",
       "losses_per_gdp__total         51\n",
       "losses_usdm_ppp_rank           0\n",
       "losses_usdm_ppp_total          0\n",
       "rw_country_code                3\n",
       "rw_country_name                3\n",
       "dtype: int64"
      ]
     },
     "execution_count": 9,
     "metadata": {},
     "output_type": "execute_result"
    }
   ],
   "source": [
    "df.isnull().sum()"
   ]
  },
  {
   "cell_type": "code",
   "execution_count": 10,
   "id": "e6f83fa7",
   "metadata": {},
   "outputs": [],
   "source": [
    "# we can delete these  columns couse of they are full empty.\n",
    "df=df.drop([\"the_geom\",\"the_geom_webmercator\"], axis=1) "
   ]
  },
  {
   "cell_type": "code",
   "execution_count": 11,
   "id": "96ab50e2",
   "metadata": {},
   "outputs": [],
   "source": [
    "# \"index\", \"cartodb_id\", \"rw_country_name\" and \"rw_country_code\" are not required.\n",
    "df=df.drop([\"index\", \"cartodb_id\", \"rw_country_name\", \"rw_country_code\"], axis=1)"
   ]
  },
  {
   "cell_type": "code",
   "execution_count": 13,
   "id": "3d33822c",
   "metadata": {},
   "outputs": [
    {
     "data": {
      "text/plain": [
       "count    131.000000\n",
       "mean       1.517654\n",
       "std        8.171267\n",
       "min        0.000100\n",
       "25%        0.016500\n",
       "50%        0.084100\n",
       "75%        0.275950\n",
       "max       77.369400\n",
       "Name: losses_per_gdp__total, dtype: float64"
      ]
     },
     "execution_count": 13,
     "metadata": {},
     "output_type": "execute_result"
    }
   ],
   "source": [
    "df[\"losses_per_gdp__total\"].describe() # mean of this feateure is low according to standard deviation., so i use median value."
   ]
  },
  {
   "cell_type": "code",
   "execution_count": 14,
   "id": "8b8b7d6d",
   "metadata": {},
   "outputs": [
    {
     "data": {
      "text/plain": [
       "0.0841"
      ]
     },
     "execution_count": 14,
     "metadata": {},
     "output_type": "execute_result"
    }
   ],
   "source": [
    "df[\"losses_per_gdp__total\"].median() "
   ]
  },
  {
   "cell_type": "code",
   "execution_count": 15,
   "id": "cd4894fa",
   "metadata": {},
   "outputs": [],
   "source": [
    "df[\"losses_per_gdp__total\"].fillna(df[\"losses_per_gdp__total\"].median(), inplace=True)"
   ]
  },
  {
   "cell_type": "code",
   "execution_count": 16,
   "id": "eb90abdc",
   "metadata": {},
   "outputs": [
    {
     "data": {
      "text/plain": [
       "count    182.000000\n",
       "mean       1.115944\n",
       "std        6.955060\n",
       "min        0.000100\n",
       "25%        0.039575\n",
       "50%        0.084100\n",
       "75%        0.166050\n",
       "max       77.369400\n",
       "Name: losses_per_gdp__total, dtype: float64"
      ]
     },
     "execution_count": 16,
     "metadata": {},
     "output_type": "execute_result"
    }
   ],
   "source": [
    "df[\"losses_per_gdp__total\"].describe()"
   ]
  },
  {
   "cell_type": "code",
   "execution_count": 18,
   "id": "9392162d",
   "metadata": {},
   "outputs": [
    {
     "data": {
      "text/plain": [
       "country                      0\n",
       "cri_rank                     0\n",
       "cri_score                    0\n",
       "fatalities_per_100k_rank     0\n",
       "fatalities_per_100k_total    0\n",
       "fatalities_rank              0\n",
       "fatalities_total             0\n",
       "losses_per_gdp__rank         0\n",
       "losses_per_gdp__total        0\n",
       "losses_usdm_ppp_rank         0\n",
       "losses_usdm_ppp_total        0\n",
       "dtype: int64"
      ]
     },
     "execution_count": 18,
     "metadata": {},
     "output_type": "execute_result"
    }
   ],
   "source": [
    "df.isnull().sum()"
   ]
  },
  {
   "cell_type": "code",
   "execution_count": 19,
   "id": "35f0e3b9",
   "metadata": {},
   "outputs": [
    {
     "data": {
      "text/html": [
       "<div>\n",
       "<style scoped>\n",
       "    .dataframe tbody tr th:only-of-type {\n",
       "        vertical-align: middle;\n",
       "    }\n",
       "\n",
       "    .dataframe tbody tr th {\n",
       "        vertical-align: top;\n",
       "    }\n",
       "\n",
       "    .dataframe thead th {\n",
       "        text-align: right;\n",
       "    }\n",
       "</style>\n",
       "<table border=\"1\" class=\"dataframe\">\n",
       "  <thead>\n",
       "    <tr style=\"text-align: right;\">\n",
       "      <th></th>\n",
       "      <th>cri_rank</th>\n",
       "      <th>cri_score</th>\n",
       "      <th>fatalities_per_100k_rank</th>\n",
       "      <th>fatalities_per_100k_total</th>\n",
       "      <th>fatalities_rank</th>\n",
       "      <th>fatalities_total</th>\n",
       "      <th>losses_per_gdp__rank</th>\n",
       "      <th>losses_per_gdp__total</th>\n",
       "      <th>losses_usdm_ppp_rank</th>\n",
       "      <th>losses_usdm_ppp_total</th>\n",
       "    </tr>\n",
       "  </thead>\n",
       "  <tbody>\n",
       "    <tr>\n",
       "      <th>cri_rank</th>\n",
       "      <td>1.000000</td>\n",
       "      <td>0.992066</td>\n",
       "      <td>0.833210</td>\n",
       "      <td>-0.246836</td>\n",
       "      <td>0.797387</td>\n",
       "      <td>-0.299047</td>\n",
       "      <td>0.855257</td>\n",
       "      <td>-0.214200</td>\n",
       "      <td>0.814721</td>\n",
       "      <td>-0.273320</td>\n",
       "    </tr>\n",
       "    <tr>\n",
       "      <th>cri_score</th>\n",
       "      <td>0.992066</td>\n",
       "      <td>1.000000</td>\n",
       "      <td>0.831161</td>\n",
       "      <td>-0.251526</td>\n",
       "      <td>0.800126</td>\n",
       "      <td>-0.292762</td>\n",
       "      <td>0.866967</td>\n",
       "      <td>-0.223521</td>\n",
       "      <td>0.829311</td>\n",
       "      <td>-0.267235</td>\n",
       "    </tr>\n",
       "    <tr>\n",
       "      <th>fatalities_per_100k_rank</th>\n",
       "      <td>0.833210</td>\n",
       "      <td>0.831161</td>\n",
       "      <td>1.000000</td>\n",
       "      <td>-0.290038</td>\n",
       "      <td>0.832027</td>\n",
       "      <td>-0.295520</td>\n",
       "      <td>0.513768</td>\n",
       "      <td>-0.192611</td>\n",
       "      <td>0.438988</td>\n",
       "      <td>-0.125780</td>\n",
       "    </tr>\n",
       "    <tr>\n",
       "      <th>fatalities_per_100k_total</th>\n",
       "      <td>-0.246836</td>\n",
       "      <td>-0.251526</td>\n",
       "      <td>-0.290038</td>\n",
       "      <td>1.000000</td>\n",
       "      <td>-0.154809</td>\n",
       "      <td>0.067906</td>\n",
       "      <td>-0.212471</td>\n",
       "      <td>0.834402</td>\n",
       "      <td>-0.121545</td>\n",
       "      <td>-0.009246</td>\n",
       "    </tr>\n",
       "    <tr>\n",
       "      <th>fatalities_rank</th>\n",
       "      <td>0.797387</td>\n",
       "      <td>0.800126</td>\n",
       "      <td>0.832027</td>\n",
       "      <td>-0.154809</td>\n",
       "      <td>1.000000</td>\n",
       "      <td>-0.377154</td>\n",
       "      <td>0.426958</td>\n",
       "      <td>-0.050055</td>\n",
       "      <td>0.612183</td>\n",
       "      <td>-0.309275</td>\n",
       "    </tr>\n",
       "    <tr>\n",
       "      <th>fatalities_total</th>\n",
       "      <td>-0.299047</td>\n",
       "      <td>-0.292762</td>\n",
       "      <td>-0.295520</td>\n",
       "      <td>0.067906</td>\n",
       "      <td>-0.377154</td>\n",
       "      <td>1.000000</td>\n",
       "      <td>-0.135999</td>\n",
       "      <td>-0.019242</td>\n",
       "      <td>-0.270063</td>\n",
       "      <td>0.602925</td>\n",
       "    </tr>\n",
       "    <tr>\n",
       "      <th>losses_per_gdp__rank</th>\n",
       "      <td>0.855257</td>\n",
       "      <td>0.866967</td>\n",
       "      <td>0.513768</td>\n",
       "      <td>-0.212471</td>\n",
       "      <td>0.426958</td>\n",
       "      <td>-0.135999</td>\n",
       "      <td>1.000000</td>\n",
       "      <td>-0.279467</td>\n",
       "      <td>0.796458</td>\n",
       "      <td>-0.208939</td>\n",
       "    </tr>\n",
       "    <tr>\n",
       "      <th>losses_per_gdp__total</th>\n",
       "      <td>-0.214200</td>\n",
       "      <td>-0.223521</td>\n",
       "      <td>-0.192611</td>\n",
       "      <td>0.834402</td>\n",
       "      <td>-0.050055</td>\n",
       "      <td>-0.019242</td>\n",
       "      <td>-0.279467</td>\n",
       "      <td>1.000000</td>\n",
       "      <td>-0.110507</td>\n",
       "      <td>-0.012970</td>\n",
       "    </tr>\n",
       "    <tr>\n",
       "      <th>losses_usdm_ppp_rank</th>\n",
       "      <td>0.814721</td>\n",
       "      <td>0.829311</td>\n",
       "      <td>0.438988</td>\n",
       "      <td>-0.121545</td>\n",
       "      <td>0.612183</td>\n",
       "      <td>-0.270063</td>\n",
       "      <td>0.796458</td>\n",
       "      <td>-0.110507</td>\n",
       "      <td>1.000000</td>\n",
       "      <td>-0.350230</td>\n",
       "    </tr>\n",
       "    <tr>\n",
       "      <th>losses_usdm_ppp_total</th>\n",
       "      <td>-0.273320</td>\n",
       "      <td>-0.267235</td>\n",
       "      <td>-0.125780</td>\n",
       "      <td>-0.009246</td>\n",
       "      <td>-0.309275</td>\n",
       "      <td>0.602925</td>\n",
       "      <td>-0.208939</td>\n",
       "      <td>-0.012970</td>\n",
       "      <td>-0.350230</td>\n",
       "      <td>1.000000</td>\n",
       "    </tr>\n",
       "  </tbody>\n",
       "</table>\n",
       "</div>"
      ],
      "text/plain": [
       "                           cri_rank  cri_score  fatalities_per_100k_rank  \\\n",
       "cri_rank                   1.000000   0.992066                  0.833210   \n",
       "cri_score                  0.992066   1.000000                  0.831161   \n",
       "fatalities_per_100k_rank   0.833210   0.831161                  1.000000   \n",
       "fatalities_per_100k_total -0.246836  -0.251526                 -0.290038   \n",
       "fatalities_rank            0.797387   0.800126                  0.832027   \n",
       "fatalities_total          -0.299047  -0.292762                 -0.295520   \n",
       "losses_per_gdp__rank       0.855257   0.866967                  0.513768   \n",
       "losses_per_gdp__total     -0.214200  -0.223521                 -0.192611   \n",
       "losses_usdm_ppp_rank       0.814721   0.829311                  0.438988   \n",
       "losses_usdm_ppp_total     -0.273320  -0.267235                 -0.125780   \n",
       "\n",
       "                           fatalities_per_100k_total  fatalities_rank  \\\n",
       "cri_rank                                   -0.246836         0.797387   \n",
       "cri_score                                  -0.251526         0.800126   \n",
       "fatalities_per_100k_rank                   -0.290038         0.832027   \n",
       "fatalities_per_100k_total                   1.000000        -0.154809   \n",
       "fatalities_rank                            -0.154809         1.000000   \n",
       "fatalities_total                            0.067906        -0.377154   \n",
       "losses_per_gdp__rank                       -0.212471         0.426958   \n",
       "losses_per_gdp__total                       0.834402        -0.050055   \n",
       "losses_usdm_ppp_rank                       -0.121545         0.612183   \n",
       "losses_usdm_ppp_total                      -0.009246        -0.309275   \n",
       "\n",
       "                           fatalities_total  losses_per_gdp__rank  \\\n",
       "cri_rank                          -0.299047              0.855257   \n",
       "cri_score                         -0.292762              0.866967   \n",
       "fatalities_per_100k_rank          -0.295520              0.513768   \n",
       "fatalities_per_100k_total          0.067906             -0.212471   \n",
       "fatalities_rank                   -0.377154              0.426958   \n",
       "fatalities_total                   1.000000             -0.135999   \n",
       "losses_per_gdp__rank              -0.135999              1.000000   \n",
       "losses_per_gdp__total             -0.019242             -0.279467   \n",
       "losses_usdm_ppp_rank              -0.270063              0.796458   \n",
       "losses_usdm_ppp_total              0.602925             -0.208939   \n",
       "\n",
       "                           losses_per_gdp__total  losses_usdm_ppp_rank  \\\n",
       "cri_rank                               -0.214200              0.814721   \n",
       "cri_score                              -0.223521              0.829311   \n",
       "fatalities_per_100k_rank               -0.192611              0.438988   \n",
       "fatalities_per_100k_total               0.834402             -0.121545   \n",
       "fatalities_rank                        -0.050055              0.612183   \n",
       "fatalities_total                       -0.019242             -0.270063   \n",
       "losses_per_gdp__rank                   -0.279467              0.796458   \n",
       "losses_per_gdp__total                   1.000000             -0.110507   \n",
       "losses_usdm_ppp_rank                   -0.110507              1.000000   \n",
       "losses_usdm_ppp_total                  -0.012970             -0.350230   \n",
       "\n",
       "                           losses_usdm_ppp_total  \n",
       "cri_rank                               -0.273320  \n",
       "cri_score                              -0.267235  \n",
       "fatalities_per_100k_rank               -0.125780  \n",
       "fatalities_per_100k_total              -0.009246  \n",
       "fatalities_rank                        -0.309275  \n",
       "fatalities_total                        0.602925  \n",
       "losses_per_gdp__rank                   -0.208939  \n",
       "losses_per_gdp__total                  -0.012970  \n",
       "losses_usdm_ppp_rank                   -0.350230  \n",
       "losses_usdm_ppp_total                   1.000000  "
      ]
     },
     "execution_count": 19,
     "metadata": {},
     "output_type": "execute_result"
    }
   ],
   "source": [
    "df.corr()"
   ]
  },
  {
   "cell_type": "code",
   "execution_count": 20,
   "id": "ec174ac8",
   "metadata": {},
   "outputs": [
    {
     "data": {
      "text/html": [
       "<div>\n",
       "<style scoped>\n",
       "    .dataframe tbody tr th:only-of-type {\n",
       "        vertical-align: middle;\n",
       "    }\n",
       "\n",
       "    .dataframe tbody tr th {\n",
       "        vertical-align: top;\n",
       "    }\n",
       "\n",
       "    .dataframe thead th {\n",
       "        text-align: right;\n",
       "    }\n",
       "</style>\n",
       "<table border=\"1\" class=\"dataframe\">\n",
       "  <thead>\n",
       "    <tr style=\"text-align: right;\">\n",
       "      <th></th>\n",
       "      <th>count</th>\n",
       "      <th>mean</th>\n",
       "      <th>std</th>\n",
       "      <th>min</th>\n",
       "      <th>25%</th>\n",
       "      <th>50%</th>\n",
       "      <th>75%</th>\n",
       "      <th>max</th>\n",
       "    </tr>\n",
       "  </thead>\n",
       "  <tbody>\n",
       "    <tr>\n",
       "      <th>cri_rank</th>\n",
       "      <td>182.0</td>\n",
       "      <td>85.230769</td>\n",
       "      <td>44.708529</td>\n",
       "      <td>1.0000</td>\n",
       "      <td>46.250000</td>\n",
       "      <td>91.0000</td>\n",
       "      <td>135.00000</td>\n",
       "      <td>135.0000</td>\n",
       "    </tr>\n",
       "    <tr>\n",
       "      <th>cri_score</th>\n",
       "      <td>182.0</td>\n",
       "      <td>81.791923</td>\n",
       "      <td>34.582412</td>\n",
       "      <td>12.1700</td>\n",
       "      <td>52.872500</td>\n",
       "      <td>77.5000</td>\n",
       "      <td>124.50000</td>\n",
       "      <td>124.5000</td>\n",
       "    </tr>\n",
       "    <tr>\n",
       "      <th>fatalities_per_100k_rank</th>\n",
       "      <td>182.0</td>\n",
       "      <td>78.609890</td>\n",
       "      <td>37.858511</td>\n",
       "      <td>1.0000</td>\n",
       "      <td>46.250000</td>\n",
       "      <td>91.5000</td>\n",
       "      <td>114.00000</td>\n",
       "      <td>114.0000</td>\n",
       "    </tr>\n",
       "    <tr>\n",
       "      <th>fatalities_per_100k_total</th>\n",
       "      <td>182.0</td>\n",
       "      <td>0.519670</td>\n",
       "      <td>3.393934</td>\n",
       "      <td>0.0000</td>\n",
       "      <td>0.000000</td>\n",
       "      <td>0.0200</td>\n",
       "      <td>0.12000</td>\n",
       "      <td>43.6600</td>\n",
       "    </tr>\n",
       "    <tr>\n",
       "      <th>fatalities_rank</th>\n",
       "      <td>182.0</td>\n",
       "      <td>77.626374</td>\n",
       "      <td>37.500688</td>\n",
       "      <td>1.0000</td>\n",
       "      <td>46.250000</td>\n",
       "      <td>90.0000</td>\n",
       "      <td>114.00000</td>\n",
       "      <td>114.0000</td>\n",
       "    </tr>\n",
       "    <tr>\n",
       "      <th>fatalities_total</th>\n",
       "      <td>182.0</td>\n",
       "      <td>86.840659</td>\n",
       "      <td>427.350623</td>\n",
       "      <td>0.0000</td>\n",
       "      <td>0.000000</td>\n",
       "      <td>2.0000</td>\n",
       "      <td>22.75000</td>\n",
       "      <td>4317.0000</td>\n",
       "    </tr>\n",
       "    <tr>\n",
       "      <th>losses_per_gdp__rank</th>\n",
       "      <td>182.0</td>\n",
       "      <td>85.302198</td>\n",
       "      <td>44.691600</td>\n",
       "      <td>1.0000</td>\n",
       "      <td>46.250000</td>\n",
       "      <td>91.5000</td>\n",
       "      <td>135.00000</td>\n",
       "      <td>135.0000</td>\n",
       "    </tr>\n",
       "    <tr>\n",
       "      <th>losses_per_gdp__total</th>\n",
       "      <td>182.0</td>\n",
       "      <td>1.115944</td>\n",
       "      <td>6.955060</td>\n",
       "      <td>0.0001</td>\n",
       "      <td>0.039575</td>\n",
       "      <td>0.0841</td>\n",
       "      <td>0.16605</td>\n",
       "      <td>77.3694</td>\n",
       "    </tr>\n",
       "    <tr>\n",
       "      <th>losses_usdm_ppp_rank</th>\n",
       "      <td>182.0</td>\n",
       "      <td>85.302198</td>\n",
       "      <td>44.691600</td>\n",
       "      <td>1.0000</td>\n",
       "      <td>46.250000</td>\n",
       "      <td>91.5000</td>\n",
       "      <td>135.00000</td>\n",
       "      <td>135.0000</td>\n",
       "    </tr>\n",
       "    <tr>\n",
       "      <th>losses_usdm_ppp_total</th>\n",
       "      <td>182.0</td>\n",
       "      <td>907.507599</td>\n",
       "      <td>4483.998505</td>\n",
       "      <td>0.0000</td>\n",
       "      <td>0.000000</td>\n",
       "      <td>30.3470</td>\n",
       "      <td>262.17825</td>\n",
       "      <td>40077.2220</td>\n",
       "    </tr>\n",
       "  </tbody>\n",
       "</table>\n",
       "</div>"
      ],
      "text/plain": [
       "                           count        mean          std      min        25%  \\\n",
       "cri_rank                   182.0   85.230769    44.708529   1.0000  46.250000   \n",
       "cri_score                  182.0   81.791923    34.582412  12.1700  52.872500   \n",
       "fatalities_per_100k_rank   182.0   78.609890    37.858511   1.0000  46.250000   \n",
       "fatalities_per_100k_total  182.0    0.519670     3.393934   0.0000   0.000000   \n",
       "fatalities_rank            182.0   77.626374    37.500688   1.0000  46.250000   \n",
       "fatalities_total           182.0   86.840659   427.350623   0.0000   0.000000   \n",
       "losses_per_gdp__rank       182.0   85.302198    44.691600   1.0000  46.250000   \n",
       "losses_per_gdp__total      182.0    1.115944     6.955060   0.0001   0.039575   \n",
       "losses_usdm_ppp_rank       182.0   85.302198    44.691600   1.0000  46.250000   \n",
       "losses_usdm_ppp_total      182.0  907.507599  4483.998505   0.0000   0.000000   \n",
       "\n",
       "                               50%        75%         max  \n",
       "cri_rank                   91.0000  135.00000    135.0000  \n",
       "cri_score                  77.5000  124.50000    124.5000  \n",
       "fatalities_per_100k_rank   91.5000  114.00000    114.0000  \n",
       "fatalities_per_100k_total   0.0200    0.12000     43.6600  \n",
       "fatalities_rank            90.0000  114.00000    114.0000  \n",
       "fatalities_total            2.0000   22.75000   4317.0000  \n",
       "losses_per_gdp__rank       91.5000  135.00000    135.0000  \n",
       "losses_per_gdp__total       0.0841    0.16605     77.3694  \n",
       "losses_usdm_ppp_rank       91.5000  135.00000    135.0000  \n",
       "losses_usdm_ppp_total      30.3470  262.17825  40077.2220  "
      ]
     },
     "execution_count": 20,
     "metadata": {},
     "output_type": "execute_result"
    }
   ],
   "source": [
    "df.describe().T"
   ]
  },
  {
   "cell_type": "code",
   "execution_count": 21,
   "id": "2f735688",
   "metadata": {},
   "outputs": [
    {
     "data": {
      "text/plain": [
       "<AxesSubplot:>"
      ]
     },
     "execution_count": 21,
     "metadata": {},
     "output_type": "execute_result"
    },
    {
     "data": {
      "image/png": "[encoded data removed]",
      "text/plain": [
       "<Figure size 1080x576 with 2 Axes>"
      ]
     },
     "metadata": {
      "needs_background": "light"
     },
     "output_type": "display_data"
    }
   ],
   "source": [
    "plt.figure(figsize=(15,8))\n",
    "sns.heatmap(df.corr(), annot=True)"
   ]
  },
  {
   "cell_type": "code",
   "execution_count": 22,
   "id": "88319050",
   "metadata": {
    "scrolled": true
   },
   "outputs": [
    {
     "data": {
      "text/plain": [
       "cri_score                    1.000000\n",
       "cri_rank                     0.992066\n",
       "losses_per_gdp__rank         0.866967\n",
       "fatalities_per_100k_rank     0.831161\n",
       "losses_usdm_ppp_rank         0.829311\n",
       "fatalities_rank              0.800126\n",
       "losses_per_gdp__total       -0.223521\n",
       "fatalities_per_100k_total   -0.251526\n",
       "losses_usdm_ppp_total       -0.267235\n",
       "fatalities_total            -0.292762\n",
       "Name: cri_score, dtype: float64"
      ]
     },
     "execution_count": 22,
     "metadata": {},
     "output_type": "execute_result"
    }
   ],
   "source": [
    "# so when we build a model,we are going to take into account all features of countries except the \"cri_rank\".\n",
    "df.corr()[\"cri_score\"].sort_values(ascending=False)"
   ]
  },
  {
   "cell_type": "code",
   "execution_count": 23,
   "id": "0b42cfcb",
   "metadata": {},
   "outputs": [
    {
     "data": {
      "text/plain": [
       "losses_per_gdp__total        1.000000\n",
       "fatalities_per_100k_total    0.834402\n",
       "losses_usdm_ppp_total       -0.012970\n",
       "fatalities_total            -0.019242\n",
       "fatalities_rank             -0.050055\n",
       "losses_usdm_ppp_rank        -0.110507\n",
       "fatalities_per_100k_rank    -0.192611\n",
       "cri_rank                    -0.214200\n",
       "cri_score                   -0.223521\n",
       "losses_per_gdp__rank        -0.279467\n",
       "Name: losses_per_gdp__total, dtype: float64"
      ]
     },
     "execution_count": 23,
     "metadata": {},
     "output_type": "execute_result"
    }
   ],
   "source": [
    "df.corr()[\"losses_per_gdp__total\"].sort_values(ascending=False)\n",
    "#"
   ]
  },
  {
   "cell_type": "markdown",
   "id": "f0e10a90",
   "metadata": {},
   "source": [
    "## Data Visualizations"
   ]
  },
  {
   "cell_type": "code",
   "execution_count": 26,
   "id": "8463473e",
   "metadata": {},
   "outputs": [
    {
     "data": {
      "text/plain": [
       "<AxesSubplot:xlabel='fatalities_total', ylabel='cri_score'>"
      ]
     },
     "execution_count": 26,
     "metadata": {},
     "output_type": "execute_result"
    },
    {
     "data": {
      "image/png": "[encoded data removed]",
      "text/plain": [
       "<Figure size 432x288 with 1 Axes>"
      ]
     },
     "metadata": {
      "needs_background": "light"
     },
     "output_type": "display_data"
    }
   ],
   "source": [
    "# Correlation between fatalities total and climate risk index is not linear.\n",
    "# if climate risk index of a country is hight than that country has low fatalities total.\n",
    "sns.scatterplot(x=df.fatalities_total, y=df.cri_score)"
   ]
  },
  {
   "cell_type": "code",
   "execution_count": 25,
   "id": "c1127cbd",
   "metadata": {},
   "outputs": [
    {
     "data": {
      "text/plain": [
       "<AxesSubplot:xlabel='fatalities_per_100k_total', ylabel='losses_per_gdp__total'>"
      ]
     },
     "execution_count": 25,
     "metadata": {},
     "output_type": "execute_result"
    },
    {
     "data": {
      "image/png": "[encoded data removed]",
      "text/plain": [
       "<Figure size 432x288 with 1 Axes>"
      ]
     },
     "metadata": {
      "needs_background": "light"
     },
     "output_type": "display_data"
    }
   ],
   "source": [
    " sns.scatterplot(x=df.fatalities_per_100k_total, y=df.losses_per_gdp__total) "
   ]
  },
  {
   "cell_type": "code",
   "execution_count": 27,
   "id": "f609a24a",
   "metadata": {},
   "outputs": [
    {
     "data": {
      "text/html": [
       "<div>\n",
       "<style scoped>\n",
       "    .dataframe tbody tr th:only-of-type {\n",
       "        vertical-align: middle;\n",
       "    }\n",
       "\n",
       "    .dataframe tbody tr th {\n",
       "        vertical-align: top;\n",
       "    }\n",
       "\n",
       "    .dataframe thead th {\n",
       "        text-align: right;\n",
       "    }\n",
       "</style>\n",
       "<table border=\"1\" class=\"dataframe\">\n",
       "  <thead>\n",
       "    <tr style=\"text-align: right;\">\n",
       "      <th></th>\n",
       "      <th>country</th>\n",
       "      <th>cri_rank</th>\n",
       "      <th>cri_score</th>\n",
       "      <th>fatalities_per_100k_rank</th>\n",
       "      <th>fatalities_per_100k_total</th>\n",
       "      <th>fatalities_rank</th>\n",
       "      <th>fatalities_total</th>\n",
       "      <th>losses_per_gdp__rank</th>\n",
       "      <th>losses_per_gdp__total</th>\n",
       "      <th>losses_usdm_ppp_rank</th>\n",
       "      <th>losses_usdm_ppp_total</th>\n",
       "    </tr>\n",
       "  </thead>\n",
       "  <tbody>\n",
       "    <tr>\n",
       "      <th>22</th>\n",
       "      <td>Vanuatu</td>\n",
       "      <td>5</td>\n",
       "      <td>20.33</td>\n",
       "      <td>5</td>\n",
       "      <td>4.09</td>\n",
       "      <td>65</td>\n",
       "      <td>11</td>\n",
       "      <td>2</td>\n",
       "      <td>40.6504</td>\n",
       "      <td>43</td>\n",
       "      <td>278.862</td>\n",
       "    </tr>\n",
       "    <tr>\n",
       "      <th>137</th>\n",
       "      <td>Dominica</td>\n",
       "      <td>2</td>\n",
       "      <td>13.00</td>\n",
       "      <td>1</td>\n",
       "      <td>43.66</td>\n",
       "      <td>42</td>\n",
       "      <td>31</td>\n",
       "      <td>1</td>\n",
       "      <td>77.3694</td>\n",
       "      <td>32</td>\n",
       "      <td>611.219</td>\n",
       "    </tr>\n",
       "    <tr>\n",
       "      <th>157</th>\n",
       "      <td>Tuvalu</td>\n",
       "      <td>81</td>\n",
       "      <td>75.17</td>\n",
       "      <td>114</td>\n",
       "      <td>0.00</td>\n",
       "      <td>114</td>\n",
       "      <td>0</td>\n",
       "      <td>3</td>\n",
       "      <td>33.3333</td>\n",
       "      <td>103</td>\n",
       "      <td>12.333</td>\n",
       "    </tr>\n",
       "  </tbody>\n",
       "</table>\n",
       "</div>"
      ],
      "text/plain": [
       "      country  cri_rank  cri_score  fatalities_per_100k_rank  \\\n",
       "22    Vanuatu         5      20.33                         5   \n",
       "137  Dominica         2      13.00                         1   \n",
       "157    Tuvalu        81      75.17                       114   \n",
       "\n",
       "     fatalities_per_100k_total  fatalities_rank  fatalities_total  \\\n",
       "22                        4.09               65                11   \n",
       "137                      43.66               42                31   \n",
       "157                       0.00              114                 0   \n",
       "\n",
       "     losses_per_gdp__rank  losses_per_gdp__total  losses_usdm_ppp_rank  \\\n",
       "22                      2                40.6504                    43   \n",
       "137                     1                77.3694                    32   \n",
       "157                     3                33.3333                   103   \n",
       "\n",
       "     losses_usdm_ppp_total  \n",
       "22                 278.862  \n",
       "137                611.219  \n",
       "157                 12.333  "
      ]
     },
     "execution_count": 27,
     "metadata": {},
     "output_type": "execute_result"
    }
   ],
   "source": [
    "df[df[\"losses_per_gdp__total\"]>30]\n",
    "# sometimes although fatalities total is zero, losses per gdp can be high,\n",
    "#so in some countries like Tuvalu can be seen very few climate disasters\n"
   ]
  },
  {
   "cell_type": "code",
   "execution_count": 28,
   "id": "d50e049f",
   "metadata": {},
   "outputs": [
    {
     "data": {
      "text/plain": [
       "<AxesSubplot:xlabel='fatalities_per_100k_total', ylabel='losses_usdm_ppp_total'>"
      ]
     },
     "execution_count": 28,
     "metadata": {},
     "output_type": "execute_result"
    },
    {
     "data": {
      "image/png": "[encoded data removed]",
      "text/plain": [
       "<Figure size 432x288 with 1 Axes>"
      ]
     },
     "metadata": {
      "needs_background": "light"
     },
     "output_type": "display_data"
    }
   ],
   "source": [
    "sns.scatterplot(x=df.fatalities_per_100k_total, y=df.losses_usdm_ppp_total) "
   ]
  },
  {
   "cell_type": "code",
   "execution_count": 29,
   "id": "c6c0abfa",
   "metadata": {},
   "outputs": [
    {
     "data": {
      "text/html": [
       "<div>\n",
       "<style scoped>\n",
       "    .dataframe tbody tr th:only-of-type {\n",
       "        vertical-align: middle;\n",
       "    }\n",
       "\n",
       "    .dataframe tbody tr th {\n",
       "        vertical-align: top;\n",
       "    }\n",
       "\n",
       "    .dataframe thead th {\n",
       "        text-align: right;\n",
       "    }\n",
       "</style>\n",
       "<table border=\"1\" class=\"dataframe\">\n",
       "  <thead>\n",
       "    <tr style=\"text-align: right;\">\n",
       "      <th></th>\n",
       "      <th>country</th>\n",
       "      <th>cri_rank</th>\n",
       "      <th>cri_score</th>\n",
       "      <th>fatalities_per_100k_rank</th>\n",
       "      <th>fatalities_per_100k_total</th>\n",
       "      <th>fatalities_rank</th>\n",
       "      <th>fatalities_total</th>\n",
       "      <th>losses_per_gdp__rank</th>\n",
       "      <th>losses_per_gdp__total</th>\n",
       "      <th>losses_usdm_ppp_rank</th>\n",
       "      <th>losses_usdm_ppp_total</th>\n",
       "    </tr>\n",
       "  </thead>\n",
       "  <tbody>\n",
       "    <tr>\n",
       "      <th>21</th>\n",
       "      <td>United States</td>\n",
       "      <td>21</td>\n",
       "      <td>36.17</td>\n",
       "      <td>55</td>\n",
       "      <td>0.10</td>\n",
       "      <td>8</td>\n",
       "      <td>325</td>\n",
       "      <td>48</td>\n",
       "      <td>0.1504</td>\n",
       "      <td>3</td>\n",
       "      <td>27122.700</td>\n",
       "    </tr>\n",
       "    <tr>\n",
       "      <th>69</th>\n",
       "      <td>China</td>\n",
       "      <td>23</td>\n",
       "      <td>38.00</td>\n",
       "      <td>68</td>\n",
       "      <td>0.07</td>\n",
       "      <td>4</td>\n",
       "      <td>916</td>\n",
       "      <td>43</td>\n",
       "      <td>0.1842</td>\n",
       "      <td>2</td>\n",
       "      <td>36272.535</td>\n",
       "    </tr>\n",
       "    <tr>\n",
       "      <th>89</th>\n",
       "      <td>India</td>\n",
       "      <td>4</td>\n",
       "      <td>15.33</td>\n",
       "      <td>24</td>\n",
       "      <td>0.33</td>\n",
       "      <td>1</td>\n",
       "      <td>4317</td>\n",
       "      <td>21</td>\n",
       "      <td>0.5011</td>\n",
       "      <td>1</td>\n",
       "      <td>40077.222</td>\n",
       "    </tr>\n",
       "  </tbody>\n",
       "</table>\n",
       "</div>"
      ],
      "text/plain": [
       "          country  cri_rank  cri_score  fatalities_per_100k_rank  \\\n",
       "21  United States        21      36.17                        55   \n",
       "69          China        23      38.00                        68   \n",
       "89          India         4      15.33                        24   \n",
       "\n",
       "    fatalities_per_100k_total  fatalities_rank  fatalities_total  \\\n",
       "21                       0.10                8               325   \n",
       "69                       0.07                4               916   \n",
       "89                       0.33                1              4317   \n",
       "\n",
       "    losses_per_gdp__rank  losses_per_gdp__total  losses_usdm_ppp_rank  \\\n",
       "21                    48                 0.1504                     3   \n",
       "69                    43                 0.1842                     2   \n",
       "89                    21                 0.5011                     1   \n",
       "\n",
       "    losses_usdm_ppp_total  \n",
       "21              27122.700  \n",
       "69              36272.535  \n",
       "89              40077.222  "
      ]
     },
     "execution_count": 29,
     "metadata": {},
     "output_type": "execute_result"
    }
   ],
   "source": [
    "#Each country has different population as a number. United States, Chine and India  have huge population, \n",
    "#because of this thay have large of losses ppp total.\n",
    "df[df[\"losses_usdm_ppp_total\"]>25000] "
   ]
  },
  {
   "cell_type": "code",
   "execution_count": 30,
   "id": "bfaa8dd3",
   "metadata": {},
   "outputs": [
    {
     "data": {
      "text/plain": [
       "<AxesSubplot:xlabel='fatalities_per_100k_total', ylabel='fatalities_total'>"
      ]
     },
     "execution_count": 30,
     "metadata": {},
     "output_type": "execute_result"
    },
    {
     "data": {
      "image/png": "[encoded data removed]",
      "text/plain": [
       "<Figure size 432x288 with 1 Axes>"
      ]
     },
     "metadata": {
      "needs_background": "light"
     },
     "output_type": "display_data"
    }
   ],
   "source": [
    "sns.scatterplot(x=df.fatalities_per_100k_total, y=df.fatalities_total) "
   ]
  },
  {
   "cell_type": "code",
   "execution_count": 31,
   "id": "ce6e80b4",
   "metadata": {},
   "outputs": [
    {
     "data": {
      "text/html": [
       "<div>\n",
       "<style scoped>\n",
       "    .dataframe tbody tr th:only-of-type {\n",
       "        vertical-align: middle;\n",
       "    }\n",
       "\n",
       "    .dataframe tbody tr th {\n",
       "        vertical-align: top;\n",
       "    }\n",
       "\n",
       "    .dataframe thead th {\n",
       "        text-align: right;\n",
       "    }\n",
       "</style>\n",
       "<table border=\"1\" class=\"dataframe\">\n",
       "  <thead>\n",
       "    <tr style=\"text-align: right;\">\n",
       "      <th></th>\n",
       "      <th>country</th>\n",
       "      <th>cri_rank</th>\n",
       "      <th>cri_score</th>\n",
       "      <th>fatalities_per_100k_rank</th>\n",
       "      <th>fatalities_per_100k_total</th>\n",
       "      <th>fatalities_rank</th>\n",
       "      <th>fatalities_total</th>\n",
       "      <th>losses_per_gdp__rank</th>\n",
       "      <th>losses_per_gdp__total</th>\n",
       "      <th>losses_usdm_ppp_rank</th>\n",
       "      <th>losses_usdm_ppp_total</th>\n",
       "    </tr>\n",
       "  </thead>\n",
       "  <tbody>\n",
       "    <tr>\n",
       "      <th>85</th>\n",
       "      <td>France</td>\n",
       "      <td>16</td>\n",
       "      <td>33.33</td>\n",
       "      <td>4</td>\n",
       "      <td>5.19</td>\n",
       "      <td>2</td>\n",
       "      <td>3336</td>\n",
       "      <td>85</td>\n",
       "      <td>0.0401</td>\n",
       "      <td>20</td>\n",
       "      <td>1069.897</td>\n",
       "    </tr>\n",
       "    <tr>\n",
       "      <th>89</th>\n",
       "      <td>India</td>\n",
       "      <td>4</td>\n",
       "      <td>15.33</td>\n",
       "      <td>24</td>\n",
       "      <td>0.33</td>\n",
       "      <td>1</td>\n",
       "      <td>4317</td>\n",
       "      <td>21</td>\n",
       "      <td>0.5011</td>\n",
       "      <td>1</td>\n",
       "      <td>40077.222</td>\n",
       "    </tr>\n",
       "    <tr>\n",
       "      <th>117</th>\n",
       "      <td>Pakistan</td>\n",
       "      <td>11</td>\n",
       "      <td>28.17</td>\n",
       "      <td>11</td>\n",
       "      <td>0.88</td>\n",
       "      <td>3</td>\n",
       "      <td>1663</td>\n",
       "      <td>60</td>\n",
       "      <td>0.0974</td>\n",
       "      <td>24</td>\n",
       "      <td>907.122</td>\n",
       "    </tr>\n",
       "  </tbody>\n",
       "</table>\n",
       "</div>"
      ],
      "text/plain": [
       "      country  cri_rank  cri_score  fatalities_per_100k_rank  \\\n",
       "85     France        16      33.33                         4   \n",
       "89      India         4      15.33                        24   \n",
       "117  Pakistan        11      28.17                        11   \n",
       "\n",
       "     fatalities_per_100k_total  fatalities_rank  fatalities_total  \\\n",
       "85                        5.19                2              3336   \n",
       "89                        0.33                1              4317   \n",
       "117                       0.88                3              1663   \n",
       "\n",
       "     losses_per_gdp__rank  losses_per_gdp__total  losses_usdm_ppp_rank  \\\n",
       "85                     85                 0.0401                    20   \n",
       "89                     21                 0.5011                     1   \n",
       "117                    60                 0.0974                    24   \n",
       "\n",
       "     losses_usdm_ppp_total  \n",
       "85                1069.897  \n",
       "89               40077.222  \n",
       "117                907.122  "
      ]
     },
     "execution_count": 31,
     "metadata": {},
     "output_type": "execute_result"
    }
   ],
   "source": [
    "#interesting key point is France. France is heavily affected by disasters \n",
    "df[df[\"fatalities_total\"]>1000]"
   ]
  },
  {
   "cell_type": "code",
   "execution_count": 33,
   "id": "cf861ba7",
   "metadata": {},
   "outputs": [],
   "source": [
    "df1=df[df.fatalities_per_100k_rank==114]\n"
   ]
  },
  {
   "cell_type": "code",
   "execution_count": 34,
   "id": "ba7cdcab",
   "metadata": {},
   "outputs": [
    {
     "data": {
      "text/html": [
       "<div>\n",
       "<style scoped>\n",
       "    .dataframe tbody tr th:only-of-type {\n",
       "        vertical-align: middle;\n",
       "    }\n",
       "\n",
       "    .dataframe tbody tr th {\n",
       "        vertical-align: top;\n",
       "    }\n",
       "\n",
       "    .dataframe thead th {\n",
       "        text-align: right;\n",
       "    }\n",
       "</style>\n",
       "<table border=\"1\" class=\"dataframe\">\n",
       "  <thead>\n",
       "    <tr style=\"text-align: right;\">\n",
       "      <th></th>\n",
       "      <th>country</th>\n",
       "      <th>cri_rank</th>\n",
       "      <th>cri_score</th>\n",
       "      <th>fatalities_per_100k_rank</th>\n",
       "      <th>fatalities_per_100k_total</th>\n",
       "      <th>fatalities_rank</th>\n",
       "      <th>fatalities_total</th>\n",
       "      <th>losses_per_gdp__rank</th>\n",
       "      <th>losses_per_gdp__total</th>\n",
       "      <th>losses_usdm_ppp_rank</th>\n",
       "      <th>losses_usdm_ppp_total</th>\n",
       "    </tr>\n",
       "  </thead>\n",
       "  <tbody>\n",
       "    <tr>\n",
       "      <th>3</th>\n",
       "      <td>Slovenia</td>\n",
       "      <td>135</td>\n",
       "      <td>124.50</td>\n",
       "      <td>114</td>\n",
       "      <td>0.0</td>\n",
       "      <td>114</td>\n",
       "      <td>0</td>\n",
       "      <td>135</td>\n",
       "      <td>0.0841</td>\n",
       "      <td>135</td>\n",
       "      <td>0.000</td>\n",
       "    </tr>\n",
       "    <tr>\n",
       "      <th>4</th>\n",
       "      <td>South Sudan</td>\n",
       "      <td>133</td>\n",
       "      <td>117.33</td>\n",
       "      <td>114</td>\n",
       "      <td>0.0</td>\n",
       "      <td>114</td>\n",
       "      <td>0</td>\n",
       "      <td>120</td>\n",
       "      <td>0.0021</td>\n",
       "      <td>122</td>\n",
       "      <td>0.508</td>\n",
       "    </tr>\n",
       "    <tr>\n",
       "      <th>7</th>\n",
       "      <td>Serbia</td>\n",
       "      <td>83</td>\n",
       "      <td>75.50</td>\n",
       "      <td>114</td>\n",
       "      <td>0.0</td>\n",
       "      <td>114</td>\n",
       "      <td>0</td>\n",
       "      <td>33</td>\n",
       "      <td>0.2794</td>\n",
       "      <td>45</td>\n",
       "      <td>272.927</td>\n",
       "    </tr>\n",
       "    <tr>\n",
       "      <th>10</th>\n",
       "      <td>Swaziland</td>\n",
       "      <td>128</td>\n",
       "      <td>109.33</td>\n",
       "      <td>114</td>\n",
       "      <td>0.0</td>\n",
       "      <td>114</td>\n",
       "      <td>0</td>\n",
       "      <td>98</td>\n",
       "      <td>0.0174</td>\n",
       "      <td>118</td>\n",
       "      <td>1.890</td>\n",
       "    </tr>\n",
       "    <tr>\n",
       "      <th>13</th>\n",
       "      <td>Tunisia</td>\n",
       "      <td>135</td>\n",
       "      <td>124.50</td>\n",
       "      <td>114</td>\n",
       "      <td>0.0</td>\n",
       "      <td>114</td>\n",
       "      <td>0</td>\n",
       "      <td>135</td>\n",
       "      <td>0.0841</td>\n",
       "      <td>135</td>\n",
       "      <td>0.000</td>\n",
       "    </tr>\n",
       "  </tbody>\n",
       "</table>\n",
       "</div>"
      ],
      "text/plain": [
       "        country  cri_rank  cri_score  fatalities_per_100k_rank  \\\n",
       "3      Slovenia       135     124.50                       114   \n",
       "4   South Sudan       133     117.33                       114   \n",
       "7        Serbia        83      75.50                       114   \n",
       "10    Swaziland       128     109.33                       114   \n",
       "13      Tunisia       135     124.50                       114   \n",
       "\n",
       "    fatalities_per_100k_total  fatalities_rank  fatalities_total  \\\n",
       "3                         0.0              114                 0   \n",
       "4                         0.0              114                 0   \n",
       "7                         0.0              114                 0   \n",
       "10                        0.0              114                 0   \n",
       "13                        0.0              114                 0   \n",
       "\n",
       "    losses_per_gdp__rank  losses_per_gdp__total  losses_usdm_ppp_rank  \\\n",
       "3                    135                 0.0841                   135   \n",
       "4                    120                 0.0021                   122   \n",
       "7                     33                 0.2794                    45   \n",
       "10                    98                 0.0174                   118   \n",
       "13                   135                 0.0841                   135   \n",
       "\n",
       "    losses_usdm_ppp_total  \n",
       "3                   0.000  \n",
       "4                   0.508  \n",
       "7                 272.927  \n",
       "10                  1.890  \n",
       "13                  0.000  "
      ]
     },
     "execution_count": 34,
     "metadata": {},
     "output_type": "execute_result"
    }
   ],
   "source": [
    "df1.head() # that countries have zero fatalities againts to disasters\n",
    "#the best important  feature is losses per gdp, "
   ]
  },
  {
   "cell_type": "code",
   "execution_count": 35,
   "id": "a7424cc5",
   "metadata": {},
   "outputs": [
    {
     "data": {
      "text/plain": [
       "<AxesSubplot:xlabel='losses_per_gdp__total', ylabel='cri_score'>"
      ]
     },
     "execution_count": 35,
     "metadata": {},
     "output_type": "execute_result"
    },
    {
     "data": {
      "image/png": "[encoded data removed]",
      "text/plain": [
       "<Figure size 432x288 with 1 Axes>"
      ]
     },
     "metadata": {
      "needs_background": "light"
     },
     "output_type": "display_data"
    }
   ],
   "source": [
    "sns.scatterplot(x=df1.losses_per_gdp__total, y=df1.cri_score)"
   ]
  },
  {
   "cell_type": "code",
   "execution_count": 36,
   "id": "66d5085f",
   "metadata": {},
   "outputs": [
    {
     "data": {
      "text/html": [
       "<div>\n",
       "<style scoped>\n",
       "    .dataframe tbody tr th:only-of-type {\n",
       "        vertical-align: middle;\n",
       "    }\n",
       "\n",
       "    .dataframe tbody tr th {\n",
       "        vertical-align: top;\n",
       "    }\n",
       "\n",
       "    .dataframe thead th {\n",
       "        text-align: right;\n",
       "    }\n",
       "</style>\n",
       "<table border=\"1\" class=\"dataframe\">\n",
       "  <thead>\n",
       "    <tr style=\"text-align: right;\">\n",
       "      <th></th>\n",
       "      <th>country</th>\n",
       "      <th>cri_rank</th>\n",
       "      <th>cri_score</th>\n",
       "      <th>fatalities_per_100k_rank</th>\n",
       "      <th>fatalities_per_100k_total</th>\n",
       "      <th>fatalities_rank</th>\n",
       "      <th>fatalities_total</th>\n",
       "      <th>losses_per_gdp__rank</th>\n",
       "      <th>losses_per_gdp__total</th>\n",
       "      <th>losses_usdm_ppp_rank</th>\n",
       "      <th>losses_usdm_ppp_total</th>\n",
       "    </tr>\n",
       "  </thead>\n",
       "  <tbody>\n",
       "    <tr>\n",
       "      <th>22</th>\n",
       "      <td>Vanuatu</td>\n",
       "      <td>5</td>\n",
       "      <td>20.33</td>\n",
       "      <td>5</td>\n",
       "      <td>4.09</td>\n",
       "      <td>65</td>\n",
       "      <td>11</td>\n",
       "      <td>2</td>\n",
       "      <td>40.6504</td>\n",
       "      <td>43</td>\n",
       "      <td>278.862</td>\n",
       "    </tr>\n",
       "    <tr>\n",
       "      <th>96</th>\n",
       "      <td>Kiribati</td>\n",
       "      <td>83</td>\n",
       "      <td>75.50</td>\n",
       "      <td>114</td>\n",
       "      <td>0.00</td>\n",
       "      <td>114</td>\n",
       "      <td>0</td>\n",
       "      <td>5</td>\n",
       "      <td>6.2500</td>\n",
       "      <td>101</td>\n",
       "      <td>12.625</td>\n",
       "    </tr>\n",
       "    <tr>\n",
       "      <th>137</th>\n",
       "      <td>Dominica</td>\n",
       "      <td>2</td>\n",
       "      <td>13.00</td>\n",
       "      <td>1</td>\n",
       "      <td>43.66</td>\n",
       "      <td>42</td>\n",
       "      <td>31</td>\n",
       "      <td>1</td>\n",
       "      <td>77.3694</td>\n",
       "      <td>32</td>\n",
       "      <td>611.219</td>\n",
       "    </tr>\n",
       "    <tr>\n",
       "      <th>157</th>\n",
       "      <td>Tuvalu</td>\n",
       "      <td>81</td>\n",
       "      <td>75.17</td>\n",
       "      <td>114</td>\n",
       "      <td>0.00</td>\n",
       "      <td>114</td>\n",
       "      <td>0</td>\n",
       "      <td>3</td>\n",
       "      <td>33.3333</td>\n",
       "      <td>103</td>\n",
       "      <td>12.333</td>\n",
       "    </tr>\n",
       "    <tr>\n",
       "      <th>159</th>\n",
       "      <td>Micronesia</td>\n",
       "      <td>12</td>\n",
       "      <td>28.50</td>\n",
       "      <td>3</td>\n",
       "      <td>8.74</td>\n",
       "      <td>71</td>\n",
       "      <td>9</td>\n",
       "      <td>4</td>\n",
       "      <td>12.5786</td>\n",
       "      <td>86</td>\n",
       "      <td>38.491</td>\n",
       "    </tr>\n",
       "  </tbody>\n",
       "</table>\n",
       "</div>"
      ],
      "text/plain": [
       "        country  cri_rank  cri_score  fatalities_per_100k_rank  \\\n",
       "22      Vanuatu         5      20.33                         5   \n",
       "96     Kiribati        83      75.50                       114   \n",
       "137    Dominica         2      13.00                         1   \n",
       "157      Tuvalu        81      75.17                       114   \n",
       "159  Micronesia        12      28.50                         3   \n",
       "\n",
       "     fatalities_per_100k_total  fatalities_rank  fatalities_total  \\\n",
       "22                        4.09               65                11   \n",
       "96                        0.00              114                 0   \n",
       "137                      43.66               42                31   \n",
       "157                       0.00              114                 0   \n",
       "159                       8.74               71                 9   \n",
       "\n",
       "     losses_per_gdp__rank  losses_per_gdp__total  losses_usdm_ppp_rank  \\\n",
       "22                      2                40.6504                    43   \n",
       "96                      5                 6.2500                   101   \n",
       "137                     1                77.3694                    32   \n",
       "157                     3                33.3333                   103   \n",
       "159                     4                12.5786                    86   \n",
       "\n",
       "     losses_usdm_ppp_total  \n",
       "22                 278.862  \n",
       "96                  12.625  \n",
       "137                611.219  \n",
       "157                 12.333  \n",
       "159                 38.491  "
      ]
     },
     "execution_count": 36,
     "metadata": {},
     "output_type": "execute_result"
    }
   ],
   "source": [
    "df[df[\"losses_per_gdp__total\"]>5]"
   ]
  },
  {
   "cell_type": "code",
   "execution_count": 39,
   "id": "d5d219b2",
   "metadata": {},
   "outputs": [
    {
     "data": {
      "text/plain": [
       "<AxesSubplot:xlabel='cri_score', ylabel='losses_per_gdp__total'>"
      ]
     },
     "execution_count": 39,
     "metadata": {},
     "output_type": "execute_result"
    },
    {
     "data": {
      "image/png": "[encoded data removed]",
      "text/plain": [
       "<Figure size 432x288 with 1 Axes>"
      ]
     },
     "metadata": {
      "needs_background": "light"
     },
     "output_type": "display_data"
    }
   ],
   "source": [
    "sns.scatterplot(x=df.cri_score, y=df.losses_per_gdp__total)"
   ]
  },
  {
   "cell_type": "code",
   "execution_count": 40,
   "id": "a005eb11",
   "metadata": {},
   "outputs": [
    {
     "data": {
      "text/plain": [
       "<AxesSubplot:xlabel='losses_usdm_ppp_total', ylabel='losses_per_gdp__total'>"
      ]
     },
     "execution_count": 40,
     "metadata": {},
     "output_type": "execute_result"
    },
    {
     "data": {
      "image/png": "[encoded data removed]",
      "text/plain": [
       "<Figure size 432x288 with 1 Axes>"
      ]
     },
     "metadata": {
      "needs_background": "light"
     },
     "output_type": "display_data"
    }
   ],
   "source": [
    "sns.scatterplot(y=df.losses_per_gdp__total\t, x=df.losses_usdm_ppp_total) "
   ]
  },
  {
   "cell_type": "code",
   "execution_count": 45,
   "id": "f25ee3e6",
   "metadata": {},
   "outputs": [
    {
     "data": {
      "text/plain": [
       "<AxesSubplot:xlabel='losses_per_gdp__total'>"
      ]
     },
     "execution_count": 45,
     "metadata": {},
     "output_type": "execute_result"
    },
    {
     "data": {
      "image/png": "[encoded data removed]",
      "text/plain": [
       "<Figure size 432x288 with 1 Axes>"
      ]
     },
     "metadata": {
      "needs_background": "light"
     },
     "output_type": "display_data"
    }
   ],
   "source": [
    "sns.boxplot(x=df.losses_per_gdp__total)"
   ]
  },
  {
   "cell_type": "markdown",
   "id": "d6054b73",
   "metadata": {},
   "source": [
    "### Modelling"
   ]
  },
  {
   "cell_type": "code",
   "execution_count": 55,
   "id": "7cfdf733",
   "metadata": {},
   "outputs": [],
   "source": [
    "x=df.drop([\"cri_score\",\"country\"], axis=1)\n",
    "y=df[[\"cri_score\"]] # our target"
   ]
  },
  {
   "cell_type": "code",
   "execution_count": 56,
   "id": "a55dc166",
   "metadata": {},
   "outputs": [],
   "source": [
    "from sklearn.model_selection import train_test_split\n",
    "x_train,x_test,y_train,y_test=train_test_split(x,y,test_size=0.2,random_state=42)\n",
    "from sklearn.metrics import mean_squared_error,r2_score,mean_absolute_error"
   ]
  },
  {
   "cell_type": "code",
   "execution_count": 66,
   "id": "44a7017e",
   "metadata": {},
   "outputs": [],
   "source": [
    "from sklearn.linear_model import LinearRegression\n",
    "from sklearn.linear_model import Ridge,Lasso"
   ]
  },
  {
   "cell_type": "code",
   "execution_count": 67,
   "id": "0ab0f335",
   "metadata": {},
   "outputs": [],
   "source": [
    "L=LinearRegression()\n",
    "R=Ridge()\n",
    "Lass=Lasso()"
   ]
  },
  {
   "cell_type": "code",
   "execution_count": 68,
   "id": "52a3de89",
   "metadata": {},
   "outputs": [
    {
     "name": "stdout",
     "output_type": "stream",
     "text": [
      "r2_score: 0.9999999946857397\n",
      "mean_squared_error: 0.0023792151205150602\n",
      "mean_absolute_error: 0.0017954989027754555\n"
     ]
    }
   ],
   "source": [
    "#linear regression\n",
    "model=L.fit(x_train,y_train)\n",
    "tahmin=model.predict(x_test)\n",
    "print(\"r2_score:\",r2_score(tahmin,y_test))\n",
    "print(\"mean_squared_error:\",mean_squared_error(tahmin,y_test)**0.5)\n",
    "print(\"mean_absolute_error:\",mean_absolute_error(tahmin,y_test))\n"
   ]
  },
  {
   "cell_type": "code",
   "execution_count": 69,
   "id": "60ab434d",
   "metadata": {},
   "outputs": [
    {
     "name": "stdout",
     "output_type": "stream",
     "text": [
      "r2_score: 0.999999994393827\n",
      "mean_squared_error: 0.0024436831941456153\n",
      "mean_absolute_error: 0.001985823434795988\n"
     ]
    }
   ],
   "source": [
    "#Ridge\n",
    "model=R.fit(x_train,y_train)\n",
    "tahmin1=model.predict(x_test)\n",
    "print(\"r2_score:\",r2_score(tahmin1,y_test))\n",
    "print(\"mean_squared_error:\",mean_squared_error(tahmin1,y_test)**0.5)\n",
    "print(\"mean_absolute_error:\",mean_absolute_error(tahmin1,y_test))"
   ]
  },
  {
   "cell_type": "code",
   "execution_count": 65,
   "id": "652515c1",
   "metadata": {},
   "outputs": [
    {
     "name": "stdout",
     "output_type": "stream",
     "text": [
      "r2_score: 0.9999959798487332\n",
      "mean_squared_error: 0.06538714457141329\n",
      "mean_absolute_error: 0.05747678467367296\n"
     ]
    }
   ],
   "source": [
    "#Lasso\n",
    "model=Lass.fit(x_train,y_train)\n",
    "tahmin2=model.predict(x_test)\n",
    "print(\"r2_score:\",r2_score(tahmin2,y_test))\n",
    "print(\"mean_squared_error:\",mean_squared_error(tahmin2,y_test)**0.5)\n",
    "print(\"mean_absolute_error:\",mean_absolute_error(tahmin2,y_test))"
   ]
  },
  {
   "cell_type": "markdown",
   "id": "a75751d0",
   "metadata": {},
   "source": [
    "### Anaylsis"
   ]
  },
  {
   "cell_type": "markdown",
   "id": "122890b5",
   "metadata": {},
   "source": [
    "**Climate disasters generally cause to fatalities and economic lost almost 3 billion dolars. at the same time it cause to migration.\n",
    "**The cause of these disasters is climate change.\n",
    "**"
   ]
  }
 ],
 "metadata": {
  "kernelspec": {
   "display_name": "Python 3 (ipykernel)",
   "language": "python",
   "name": "python3"
  },
  "language_info": {
   "codemirror_mode": {
    "name": "ipython",
    "version": 3
   },
   "file_extension": ".py",
   "mimetype": "text/x-python",
   "name": "python",
   "nbconvert_exporter": "python",
   "pygments_lexer": "ipython3",
   "version": "3.9.12"
  }
 },
 "nbformat": 4,
 "nbformat_minor": 5
}
