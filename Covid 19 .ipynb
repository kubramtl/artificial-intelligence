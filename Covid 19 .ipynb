{
 "cells": [
  {
   "cell_type": "markdown",
   "id": "22117d9f",
   "metadata": {},
   "source": [
    "# Covid 19 "
   ]
  },
  {
   "cell_type": "code",
   "execution_count": 1,
   "id": "eeabfd22",
   "metadata": {},
   "outputs": [],
   "source": [
    "import numpy as np\n",
    "import pandas as pd\n",
    "import seaborn as sns\n",
    "import matplotlib.pyplot as plt\n",
    "%matplotlib inline\n",
    "import plotly.express as px\n",
    "import datetime\n",
    "import warnings\n",
    "warnings.filterwarnings(\"ignore\")"
   ]
  },
  {
   "cell_type": "code",
   "execution_count": 2,
   "id": "a1af2898",
   "metadata": {},
   "outputs": [],
   "source": [
    "df=pd.read_csv(\"Covid Data.csv\")"
   ]
  },
  {
   "cell_type": "markdown",
   "id": "8452499a",
   "metadata": {},
   "source": [
    "# EDA"
   ]
  },
  {
   "cell_type": "code",
   "execution_count": 3,
   "id": "6eb885cb",
   "metadata": {
    "scrolled": true
   },
   "outputs": [
    {
     "data": {
      "text/html": [
       "<div>\n",
       "<style scoped>\n",
       "    .dataframe tbody tr th:only-of-type {\n",
       "        vertical-align: middle;\n",
       "    }\n",
       "\n",
       "    .dataframe tbody tr th {\n",
       "        vertical-align: top;\n",
       "    }\n",
       "\n",
       "    .dataframe thead th {\n",
       "        text-align: right;\n",
       "    }\n",
       "</style>\n",
       "<table border=\"1\" class=\"dataframe\">\n",
       "  <thead>\n",
       "    <tr style=\"text-align: right;\">\n",
       "      <th></th>\n",
       "      <th>USMER</th>\n",
       "      <th>MEDICAL_UNIT</th>\n",
       "      <th>SEX</th>\n",
       "      <th>PATIENT_TYPE</th>\n",
       "      <th>DATE_DIED</th>\n",
       "      <th>INTUBED</th>\n",
       "      <th>PNEUMONIA</th>\n",
       "      <th>AGE</th>\n",
       "      <th>PREGNANT</th>\n",
       "      <th>DIABETES</th>\n",
       "      <th>...</th>\n",
       "      <th>ASTHMA</th>\n",
       "      <th>INMSUPR</th>\n",
       "      <th>HIPERTENSION</th>\n",
       "      <th>OTHER_DISEASE</th>\n",
       "      <th>CARDIOVASCULAR</th>\n",
       "      <th>OBESITY</th>\n",
       "      <th>RENAL_CHRONIC</th>\n",
       "      <th>TOBACCO</th>\n",
       "      <th>CLASIFFICATION_FINAL</th>\n",
       "      <th>ICU</th>\n",
       "    </tr>\n",
       "  </thead>\n",
       "  <tbody>\n",
       "    <tr>\n",
       "      <th>0</th>\n",
       "      <td>2</td>\n",
       "      <td>1</td>\n",
       "      <td>1</td>\n",
       "      <td>1</td>\n",
       "      <td>03/05/2020</td>\n",
       "      <td>97</td>\n",
       "      <td>1</td>\n",
       "      <td>65</td>\n",
       "      <td>2</td>\n",
       "      <td>2</td>\n",
       "      <td>...</td>\n",
       "      <td>2</td>\n",
       "      <td>2</td>\n",
       "      <td>1</td>\n",
       "      <td>2</td>\n",
       "      <td>2</td>\n",
       "      <td>2</td>\n",
       "      <td>2</td>\n",
       "      <td>2</td>\n",
       "      <td>3</td>\n",
       "      <td>97</td>\n",
       "    </tr>\n",
       "    <tr>\n",
       "      <th>1</th>\n",
       "      <td>2</td>\n",
       "      <td>1</td>\n",
       "      <td>2</td>\n",
       "      <td>1</td>\n",
       "      <td>03/06/2020</td>\n",
       "      <td>97</td>\n",
       "      <td>1</td>\n",
       "      <td>72</td>\n",
       "      <td>97</td>\n",
       "      <td>2</td>\n",
       "      <td>...</td>\n",
       "      <td>2</td>\n",
       "      <td>2</td>\n",
       "      <td>1</td>\n",
       "      <td>2</td>\n",
       "      <td>2</td>\n",
       "      <td>1</td>\n",
       "      <td>1</td>\n",
       "      <td>2</td>\n",
       "      <td>5</td>\n",
       "      <td>97</td>\n",
       "    </tr>\n",
       "    <tr>\n",
       "      <th>2</th>\n",
       "      <td>2</td>\n",
       "      <td>1</td>\n",
       "      <td>2</td>\n",
       "      <td>2</td>\n",
       "      <td>09/06/2020</td>\n",
       "      <td>1</td>\n",
       "      <td>2</td>\n",
       "      <td>55</td>\n",
       "      <td>97</td>\n",
       "      <td>1</td>\n",
       "      <td>...</td>\n",
       "      <td>2</td>\n",
       "      <td>2</td>\n",
       "      <td>2</td>\n",
       "      <td>2</td>\n",
       "      <td>2</td>\n",
       "      <td>2</td>\n",
       "      <td>2</td>\n",
       "      <td>2</td>\n",
       "      <td>3</td>\n",
       "      <td>2</td>\n",
       "    </tr>\n",
       "    <tr>\n",
       "      <th>3</th>\n",
       "      <td>2</td>\n",
       "      <td>1</td>\n",
       "      <td>1</td>\n",
       "      <td>1</td>\n",
       "      <td>12/06/2020</td>\n",
       "      <td>97</td>\n",
       "      <td>2</td>\n",
       "      <td>53</td>\n",
       "      <td>2</td>\n",
       "      <td>2</td>\n",
       "      <td>...</td>\n",
       "      <td>2</td>\n",
       "      <td>2</td>\n",
       "      <td>2</td>\n",
       "      <td>2</td>\n",
       "      <td>2</td>\n",
       "      <td>2</td>\n",
       "      <td>2</td>\n",
       "      <td>2</td>\n",
       "      <td>7</td>\n",
       "      <td>97</td>\n",
       "    </tr>\n",
       "    <tr>\n",
       "      <th>4</th>\n",
       "      <td>2</td>\n",
       "      <td>1</td>\n",
       "      <td>2</td>\n",
       "      <td>1</td>\n",
       "      <td>21/06/2020</td>\n",
       "      <td>97</td>\n",
       "      <td>2</td>\n",
       "      <td>68</td>\n",
       "      <td>97</td>\n",
       "      <td>1</td>\n",
       "      <td>...</td>\n",
       "      <td>2</td>\n",
       "      <td>2</td>\n",
       "      <td>1</td>\n",
       "      <td>2</td>\n",
       "      <td>2</td>\n",
       "      <td>2</td>\n",
       "      <td>2</td>\n",
       "      <td>2</td>\n",
       "      <td>3</td>\n",
       "      <td>97</td>\n",
       "    </tr>\n",
       "  </tbody>\n",
       "</table>\n",
       "<p>5 rows × 21 columns</p>\n",
       "</div>"
      ],
      "text/plain": [
       "   USMER  MEDICAL_UNIT  SEX  PATIENT_TYPE   DATE_DIED  INTUBED  PNEUMONIA  \\\n",
       "0      2             1    1             1  03/05/2020       97          1   \n",
       "1      2             1    2             1  03/06/2020       97          1   \n",
       "2      2             1    2             2  09/06/2020        1          2   \n",
       "3      2             1    1             1  12/06/2020       97          2   \n",
       "4      2             1    2             1  21/06/2020       97          2   \n",
       "\n",
       "   AGE  PREGNANT  DIABETES  ...  ASTHMA  INMSUPR  HIPERTENSION  OTHER_DISEASE  \\\n",
       "0   65         2         2  ...       2        2             1              2   \n",
       "1   72        97         2  ...       2        2             1              2   \n",
       "2   55        97         1  ...       2        2             2              2   \n",
       "3   53         2         2  ...       2        2             2              2   \n",
       "4   68        97         1  ...       2        2             1              2   \n",
       "\n",
       "   CARDIOVASCULAR  OBESITY  RENAL_CHRONIC  TOBACCO  CLASIFFICATION_FINAL  ICU  \n",
       "0               2        2              2        2                     3   97  \n",
       "1               2        1              1        2                     5   97  \n",
       "2               2        2              2        2                     3    2  \n",
       "3               2        2              2        2                     7   97  \n",
       "4               2        2              2        2                     3   97  \n",
       "\n",
       "[5 rows x 21 columns]"
      ]
     },
     "execution_count": 3,
     "metadata": {},
     "output_type": "execute_result"
    }
   ],
   "source": [
    "df.head()"
   ]
  },
  {
   "cell_type": "code",
   "execution_count": 4,
   "id": "a88d1b42",
   "metadata": {},
   "outputs": [
    {
     "data": {
      "text/plain": [
       "(1048575, 21)"
      ]
     },
     "execution_count": 4,
     "metadata": {},
     "output_type": "execute_result"
    }
   ],
   "source": [
    "df.shape"
   ]
  },
  {
   "cell_type": "code",
   "execution_count": 5,
   "id": "11fbe9b4",
   "metadata": {},
   "outputs": [
    {
     "name": "stdout",
     "output_type": "stream",
     "text": [
      "<class 'pandas.core.frame.DataFrame'>\n",
      "RangeIndex: 1048575 entries, 0 to 1048574\n",
      "Data columns (total 21 columns):\n",
      " #   Column                Non-Null Count    Dtype \n",
      "---  ------                --------------    ----- \n",
      " 0   USMER                 1048575 non-null  int64 \n",
      " 1   MEDICAL_UNIT          1048575 non-null  int64 \n",
      " 2   SEX                   1048575 non-null  int64 \n",
      " 3   PATIENT_TYPE          1048575 non-null  int64 \n",
      " 4   DATE_DIED             1048575 non-null  object\n",
      " 5   INTUBED               1048575 non-null  int64 \n",
      " 6   PNEUMONIA             1048575 non-null  int64 \n",
      " 7   AGE                   1048575 non-null  int64 \n",
      " 8   PREGNANT              1048575 non-null  int64 \n",
      " 9   DIABETES              1048575 non-null  int64 \n",
      " 10  COPD                  1048575 non-null  int64 \n",
      " 11  ASTHMA                1048575 non-null  int64 \n",
      " 12  INMSUPR               1048575 non-null  int64 \n",
      " 13  HIPERTENSION          1048575 non-null  int64 \n",
      " 14  OTHER_DISEASE         1048575 non-null  int64 \n",
      " 15  CARDIOVASCULAR        1048575 non-null  int64 \n",
      " 16  OBESITY               1048575 non-null  int64 \n",
      " 17  RENAL_CHRONIC         1048575 non-null  int64 \n",
      " 18  TOBACCO               1048575 non-null  int64 \n",
      " 19  CLASIFFICATION_FINAL  1048575 non-null  int64 \n",
      " 20  ICU                   1048575 non-null  int64 \n",
      "dtypes: int64(20), object(1)\n",
      "memory usage: 168.0+ MB\n"
     ]
    }
   ],
   "source": [
    "df.info()"
   ]
  },
  {
   "cell_type": "code",
   "execution_count": 7,
   "id": "210721ea",
   "metadata": {},
   "outputs": [
    {
     "data": {
      "text/html": [
       "<div>\n",
       "<style scoped>\n",
       "    .dataframe tbody tr th:only-of-type {\n",
       "        vertical-align: middle;\n",
       "    }\n",
       "\n",
       "    .dataframe tbody tr th {\n",
       "        vertical-align: top;\n",
       "    }\n",
       "\n",
       "    .dataframe thead th {\n",
       "        text-align: right;\n",
       "    }\n",
       "</style>\n",
       "<table border=\"1\" class=\"dataframe\">\n",
       "  <thead>\n",
       "    <tr style=\"text-align: right;\">\n",
       "      <th></th>\n",
       "      <th>USMER</th>\n",
       "      <th>MEDICAL_UNIT</th>\n",
       "      <th>SEX</th>\n",
       "      <th>PATIENT_TYPE</th>\n",
       "      <th>INTUBED</th>\n",
       "      <th>PNEUMONIA</th>\n",
       "      <th>AGE</th>\n",
       "      <th>PREGNANT</th>\n",
       "      <th>DIABETES</th>\n",
       "      <th>COPD</th>\n",
       "      <th>ASTHMA</th>\n",
       "      <th>INMSUPR</th>\n",
       "      <th>HIPERTENSION</th>\n",
       "      <th>OTHER_DISEASE</th>\n",
       "      <th>CARDIOVASCULAR</th>\n",
       "      <th>OBESITY</th>\n",
       "      <th>RENAL_CHRONIC</th>\n",
       "      <th>TOBACCO</th>\n",
       "      <th>CLASIFFICATION_FINAL</th>\n",
       "      <th>ICU</th>\n",
       "    </tr>\n",
       "  </thead>\n",
       "  <tbody>\n",
       "    <tr>\n",
       "      <th>USMER</th>\n",
       "      <td>1.000000</td>\n",
       "      <td>0.127927</td>\n",
       "      <td>-0.001126</td>\n",
       "      <td>-0.190570</td>\n",
       "      <td>0.175457</td>\n",
       "      <td>-0.154950</td>\n",
       "      <td>-0.045088</td>\n",
       "      <td>-0.001469</td>\n",
       "      <td>0.014704</td>\n",
       "      <td>0.011030</td>\n",
       "      <td>0.010814</td>\n",
       "      <td>0.003234</td>\n",
       "      <td>0.014830</td>\n",
       "      <td>-0.015763</td>\n",
       "      <td>0.010097</td>\n",
       "      <td>0.014567</td>\n",
       "      <td>0.011527</td>\n",
       "      <td>0.010638</td>\n",
       "      <td>0.028840</td>\n",
       "      <td>0.174901</td>\n",
       "    </tr>\n",
       "    <tr>\n",
       "      <th>MEDICAL_UNIT</th>\n",
       "      <td>0.127927</td>\n",
       "      <td>1.000000</td>\n",
       "      <td>0.001475</td>\n",
       "      <td>-0.205413</td>\n",
       "      <td>0.205243</td>\n",
       "      <td>-0.046433</td>\n",
       "      <td>-0.082223</td>\n",
       "      <td>0.005300</td>\n",
       "      <td>0.019523</td>\n",
       "      <td>0.014209</td>\n",
       "      <td>0.013312</td>\n",
       "      <td>0.011785</td>\n",
       "      <td>0.020964</td>\n",
       "      <td>0.027453</td>\n",
       "      <td>0.014406</td>\n",
       "      <td>0.019577</td>\n",
       "      <td>0.014751</td>\n",
       "      <td>0.012282</td>\n",
       "      <td>0.079981</td>\n",
       "      <td>0.205141</td>\n",
       "    </tr>\n",
       "    <tr>\n",
       "      <th>SEX</th>\n",
       "      <td>-0.001126</td>\n",
       "      <td>0.001475</td>\n",
       "      <td>1.000000</td>\n",
       "      <td>0.089505</td>\n",
       "      <td>-0.089943</td>\n",
       "      <td>-0.012131</td>\n",
       "      <td>0.028367</td>\n",
       "      <td>0.992713</td>\n",
       "      <td>0.008888</td>\n",
       "      <td>0.009372</td>\n",
       "      <td>0.010415</td>\n",
       "      <td>0.007999</td>\n",
       "      <td>0.009257</td>\n",
       "      <td>0.009039</td>\n",
       "      <td>0.008174</td>\n",
       "      <td>0.009858</td>\n",
       "      <td>0.008249</td>\n",
       "      <td>0.004919</td>\n",
       "      <td>-0.057782</td>\n",
       "      <td>-0.089844</td>\n",
       "    </tr>\n",
       "    <tr>\n",
       "      <th>PATIENT_TYPE</th>\n",
       "      <td>-0.190570</td>\n",
       "      <td>-0.205413</td>\n",
       "      <td>0.089505</td>\n",
       "      <td>1.000000</td>\n",
       "      <td>-0.976335</td>\n",
       "      <td>0.022966</td>\n",
       "      <td>0.315193</td>\n",
       "      <td>0.088340</td>\n",
       "      <td>0.008743</td>\n",
       "      <td>0.019548</td>\n",
       "      <td>0.023042</td>\n",
       "      <td>0.024924</td>\n",
       "      <td>0.006852</td>\n",
       "      <td>0.036724</td>\n",
       "      <td>0.022175</td>\n",
       "      <td>0.019650</td>\n",
       "      <td>0.018873</td>\n",
       "      <td>0.022123</td>\n",
       "      <td>-0.183370</td>\n",
       "      <td>-0.975810</td>\n",
       "    </tr>\n",
       "    <tr>\n",
       "      <th>INTUBED</th>\n",
       "      <td>0.175457</td>\n",
       "      <td>0.205243</td>\n",
       "      <td>-0.089943</td>\n",
       "      <td>-0.976335</td>\n",
       "      <td>1.000000</td>\n",
       "      <td>0.079743</td>\n",
       "      <td>-0.317945</td>\n",
       "      <td>-0.088097</td>\n",
       "      <td>-0.009215</td>\n",
       "      <td>-0.020124</td>\n",
       "      <td>-0.023446</td>\n",
       "      <td>-0.024140</td>\n",
       "      <td>-0.007628</td>\n",
       "      <td>-0.035404</td>\n",
       "      <td>-0.022442</td>\n",
       "      <td>-0.020217</td>\n",
       "      <td>-0.019309</td>\n",
       "      <td>-0.022428</td>\n",
       "      <td>0.193075</td>\n",
       "      <td>0.999434</td>\n",
       "    </tr>\n",
       "    <tr>\n",
       "      <th>PNEUMONIA</th>\n",
       "      <td>-0.154950</td>\n",
       "      <td>-0.046433</td>\n",
       "      <td>-0.012131</td>\n",
       "      <td>0.022966</td>\n",
       "      <td>0.079743</td>\n",
       "      <td>1.000000</td>\n",
       "      <td>-0.073127</td>\n",
       "      <td>-0.007284</td>\n",
       "      <td>-0.004484</td>\n",
       "      <td>-0.005618</td>\n",
       "      <td>-0.005392</td>\n",
       "      <td>-0.000802</td>\n",
       "      <td>-0.004799</td>\n",
       "      <td>0.001612</td>\n",
       "      <td>-0.004758</td>\n",
       "      <td>-0.004276</td>\n",
       "      <td>-0.005287</td>\n",
       "      <td>-0.004325</td>\n",
       "      <td>0.075351</td>\n",
       "      <td>0.079691</td>\n",
       "    </tr>\n",
       "    <tr>\n",
       "      <th>AGE</th>\n",
       "      <td>-0.045088</td>\n",
       "      <td>-0.082223</td>\n",
       "      <td>0.028367</td>\n",
       "      <td>0.315193</td>\n",
       "      <td>-0.317945</td>\n",
       "      <td>-0.073127</td>\n",
       "      <td>1.000000</td>\n",
       "      <td>0.027257</td>\n",
       "      <td>0.004422</td>\n",
       "      <td>0.019048</td>\n",
       "      <td>0.022715</td>\n",
       "      <td>0.022820</td>\n",
       "      <td>-0.004964</td>\n",
       "      <td>0.022837</td>\n",
       "      <td>0.019489</td>\n",
       "      <td>0.015500</td>\n",
       "      <td>0.020124</td>\n",
       "      <td>0.021263</td>\n",
       "      <td>-0.152637</td>\n",
       "      <td>-0.317813</td>\n",
       "    </tr>\n",
       "    <tr>\n",
       "      <th>PREGNANT</th>\n",
       "      <td>-0.001469</td>\n",
       "      <td>0.005300</td>\n",
       "      <td>0.992713</td>\n",
       "      <td>0.088340</td>\n",
       "      <td>-0.088097</td>\n",
       "      <td>-0.007284</td>\n",
       "      <td>0.027257</td>\n",
       "      <td>1.000000</td>\n",
       "      <td>0.014707</td>\n",
       "      <td>0.015736</td>\n",
       "      <td>0.016765</td>\n",
       "      <td>0.014265</td>\n",
       "      <td>0.015335</td>\n",
       "      <td>0.014175</td>\n",
       "      <td>0.014378</td>\n",
       "      <td>0.015895</td>\n",
       "      <td>0.014392</td>\n",
       "      <td>0.010794</td>\n",
       "      <td>-0.057809</td>\n",
       "      <td>-0.087991</td>\n",
       "    </tr>\n",
       "    <tr>\n",
       "      <th>DIABETES</th>\n",
       "      <td>0.014704</td>\n",
       "      <td>0.019523</td>\n",
       "      <td>0.008888</td>\n",
       "      <td>0.008743</td>\n",
       "      <td>-0.009215</td>\n",
       "      <td>-0.004484</td>\n",
       "      <td>0.004422</td>\n",
       "      <td>0.014707</td>\n",
       "      <td>1.000000</td>\n",
       "      <td>0.828823</td>\n",
       "      <td>0.829349</td>\n",
       "      <td>0.781108</td>\n",
       "      <td>0.835018</td>\n",
       "      <td>0.634611</td>\n",
       "      <td>0.809417</td>\n",
       "      <td>0.752739</td>\n",
       "      <td>0.812657</td>\n",
       "      <td>0.771763</td>\n",
       "      <td>-0.004739</td>\n",
       "      <td>-0.009223</td>\n",
       "    </tr>\n",
       "    <tr>\n",
       "      <th>COPD</th>\n",
       "      <td>0.011030</td>\n",
       "      <td>0.014209</td>\n",
       "      <td>0.009372</td>\n",
       "      <td>0.019548</td>\n",
       "      <td>-0.020124</td>\n",
       "      <td>-0.005618</td>\n",
       "      <td>0.019048</td>\n",
       "      <td>0.015736</td>\n",
       "      <td>0.828823</td>\n",
       "      <td>1.000000</td>\n",
       "      <td>0.908929</td>\n",
       "      <td>0.852273</td>\n",
       "      <td>0.855249</td>\n",
       "      <td>0.687323</td>\n",
       "      <td>0.880097</td>\n",
       "      <td>0.814868</td>\n",
       "      <td>0.884032</td>\n",
       "      <td>0.836097</td>\n",
       "      <td>-0.010336</td>\n",
       "      <td>-0.020146</td>\n",
       "    </tr>\n",
       "    <tr>\n",
       "      <th>ASTHMA</th>\n",
       "      <td>0.010814</td>\n",
       "      <td>0.013312</td>\n",
       "      <td>0.010415</td>\n",
       "      <td>0.023042</td>\n",
       "      <td>-0.023446</td>\n",
       "      <td>-0.005392</td>\n",
       "      <td>0.022715</td>\n",
       "      <td>0.016765</td>\n",
       "      <td>0.829349</td>\n",
       "      <td>0.908929</td>\n",
       "      <td>1.000000</td>\n",
       "      <td>0.868917</td>\n",
       "      <td>0.864264</td>\n",
       "      <td>0.696709</td>\n",
       "      <td>0.891026</td>\n",
       "      <td>0.824631</td>\n",
       "      <td>0.895050</td>\n",
       "      <td>0.845067</td>\n",
       "      <td>-0.011178</td>\n",
       "      <td>-0.023415</td>\n",
       "    </tr>\n",
       "    <tr>\n",
       "      <th>INMSUPR</th>\n",
       "      <td>0.003234</td>\n",
       "      <td>0.011785</td>\n",
       "      <td>0.007999</td>\n",
       "      <td>0.024924</td>\n",
       "      <td>-0.024140</td>\n",
       "      <td>-0.000802</td>\n",
       "      <td>0.022820</td>\n",
       "      <td>0.014265</td>\n",
       "      <td>0.781108</td>\n",
       "      <td>0.852273</td>\n",
       "      <td>0.868917</td>\n",
       "      <td>1.000000</td>\n",
       "      <td>0.825158</td>\n",
       "      <td>0.734826</td>\n",
       "      <td>0.853365</td>\n",
       "      <td>0.783953</td>\n",
       "      <td>0.852755</td>\n",
       "      <td>0.806749</td>\n",
       "      <td>-0.009412</td>\n",
       "      <td>-0.024077</td>\n",
       "    </tr>\n",
       "    <tr>\n",
       "      <th>HIPERTENSION</th>\n",
       "      <td>0.014830</td>\n",
       "      <td>0.020964</td>\n",
       "      <td>0.009257</td>\n",
       "      <td>0.006852</td>\n",
       "      <td>-0.007628</td>\n",
       "      <td>-0.004799</td>\n",
       "      <td>-0.004964</td>\n",
       "      <td>0.015335</td>\n",
       "      <td>0.835018</td>\n",
       "      <td>0.855249</td>\n",
       "      <td>0.864264</td>\n",
       "      <td>0.825158</td>\n",
       "      <td>1.000000</td>\n",
       "      <td>0.671532</td>\n",
       "      <td>0.861063</td>\n",
       "      <td>0.805127</td>\n",
       "      <td>0.860477</td>\n",
       "      <td>0.816539</td>\n",
       "      <td>-0.006020</td>\n",
       "      <td>-0.007573</td>\n",
       "    </tr>\n",
       "    <tr>\n",
       "      <th>OTHER_DISEASE</th>\n",
       "      <td>-0.015763</td>\n",
       "      <td>0.027453</td>\n",
       "      <td>0.009039</td>\n",
       "      <td>0.036724</td>\n",
       "      <td>-0.035404</td>\n",
       "      <td>0.001612</td>\n",
       "      <td>0.022837</td>\n",
       "      <td>0.014175</td>\n",
       "      <td>0.634611</td>\n",
       "      <td>0.687323</td>\n",
       "      <td>0.696709</td>\n",
       "      <td>0.734826</td>\n",
       "      <td>0.671532</td>\n",
       "      <td>1.000000</td>\n",
       "      <td>0.717129</td>\n",
       "      <td>0.649809</td>\n",
       "      <td>0.704725</td>\n",
       "      <td>0.668621</td>\n",
       "      <td>-0.011143</td>\n",
       "      <td>-0.035330</td>\n",
       "    </tr>\n",
       "    <tr>\n",
       "      <th>CARDIOVASCULAR</th>\n",
       "      <td>0.010097</td>\n",
       "      <td>0.014406</td>\n",
       "      <td>0.008174</td>\n",
       "      <td>0.022175</td>\n",
       "      <td>-0.022442</td>\n",
       "      <td>-0.004758</td>\n",
       "      <td>0.019489</td>\n",
       "      <td>0.014378</td>\n",
       "      <td>0.809417</td>\n",
       "      <td>0.880097</td>\n",
       "      <td>0.891026</td>\n",
       "      <td>0.853365</td>\n",
       "      <td>0.861063</td>\n",
       "      <td>0.717129</td>\n",
       "      <td>1.000000</td>\n",
       "      <td>0.834389</td>\n",
       "      <td>0.913248</td>\n",
       "      <td>0.858102</td>\n",
       "      <td>-0.012143</td>\n",
       "      <td>-0.022413</td>\n",
       "    </tr>\n",
       "    <tr>\n",
       "      <th>OBESITY</th>\n",
       "      <td>0.014567</td>\n",
       "      <td>0.019577</td>\n",
       "      <td>0.009858</td>\n",
       "      <td>0.019650</td>\n",
       "      <td>-0.020217</td>\n",
       "      <td>-0.004276</td>\n",
       "      <td>0.015500</td>\n",
       "      <td>0.015895</td>\n",
       "      <td>0.752739</td>\n",
       "      <td>0.814868</td>\n",
       "      <td>0.824631</td>\n",
       "      <td>0.783953</td>\n",
       "      <td>0.805127</td>\n",
       "      <td>0.649809</td>\n",
       "      <td>0.834389</td>\n",
       "      <td>1.000000</td>\n",
       "      <td>0.842466</td>\n",
       "      <td>0.801834</td>\n",
       "      <td>-0.006924</td>\n",
       "      <td>-0.020254</td>\n",
       "    </tr>\n",
       "    <tr>\n",
       "      <th>RENAL_CHRONIC</th>\n",
       "      <td>0.011527</td>\n",
       "      <td>0.014751</td>\n",
       "      <td>0.008249</td>\n",
       "      <td>0.018873</td>\n",
       "      <td>-0.019309</td>\n",
       "      <td>-0.005287</td>\n",
       "      <td>0.020124</td>\n",
       "      <td>0.014392</td>\n",
       "      <td>0.812657</td>\n",
       "      <td>0.884032</td>\n",
       "      <td>0.895050</td>\n",
       "      <td>0.852755</td>\n",
       "      <td>0.860477</td>\n",
       "      <td>0.704725</td>\n",
       "      <td>0.913248</td>\n",
       "      <td>0.842466</td>\n",
       "      <td>1.000000</td>\n",
       "      <td>0.868761</td>\n",
       "      <td>-0.011342</td>\n",
       "      <td>-0.019285</td>\n",
       "    </tr>\n",
       "    <tr>\n",
       "      <th>TOBACCO</th>\n",
       "      <td>0.010638</td>\n",
       "      <td>0.012282</td>\n",
       "      <td>0.004919</td>\n",
       "      <td>0.022123</td>\n",
       "      <td>-0.022428</td>\n",
       "      <td>-0.004325</td>\n",
       "      <td>0.021263</td>\n",
       "      <td>0.010794</td>\n",
       "      <td>0.771763</td>\n",
       "      <td>0.836097</td>\n",
       "      <td>0.845067</td>\n",
       "      <td>0.806749</td>\n",
       "      <td>0.816539</td>\n",
       "      <td>0.668621</td>\n",
       "      <td>0.858102</td>\n",
       "      <td>0.801834</td>\n",
       "      <td>0.868761</td>\n",
       "      <td>1.000000</td>\n",
       "      <td>-0.012567</td>\n",
       "      <td>-0.022445</td>\n",
       "    </tr>\n",
       "    <tr>\n",
       "      <th>CLASIFFICATION_FINAL</th>\n",
       "      <td>0.028840</td>\n",
       "      <td>0.079981</td>\n",
       "      <td>-0.057782</td>\n",
       "      <td>-0.183370</td>\n",
       "      <td>0.193075</td>\n",
       "      <td>0.075351</td>\n",
       "      <td>-0.152637</td>\n",
       "      <td>-0.057809</td>\n",
       "      <td>-0.004739</td>\n",
       "      <td>-0.010336</td>\n",
       "      <td>-0.011178</td>\n",
       "      <td>-0.009412</td>\n",
       "      <td>-0.006020</td>\n",
       "      <td>-0.011143</td>\n",
       "      <td>-0.012143</td>\n",
       "      <td>-0.006924</td>\n",
       "      <td>-0.011342</td>\n",
       "      <td>-0.012567</td>\n",
       "      <td>1.000000</td>\n",
       "      <td>0.193163</td>\n",
       "    </tr>\n",
       "    <tr>\n",
       "      <th>ICU</th>\n",
       "      <td>0.174901</td>\n",
       "      <td>0.205141</td>\n",
       "      <td>-0.089844</td>\n",
       "      <td>-0.975810</td>\n",
       "      <td>0.999434</td>\n",
       "      <td>0.079691</td>\n",
       "      <td>-0.317813</td>\n",
       "      <td>-0.087991</td>\n",
       "      <td>-0.009223</td>\n",
       "      <td>-0.020146</td>\n",
       "      <td>-0.023415</td>\n",
       "      <td>-0.024077</td>\n",
       "      <td>-0.007573</td>\n",
       "      <td>-0.035330</td>\n",
       "      <td>-0.022413</td>\n",
       "      <td>-0.020254</td>\n",
       "      <td>-0.019285</td>\n",
       "      <td>-0.022445</td>\n",
       "      <td>0.193163</td>\n",
       "      <td>1.000000</td>\n",
       "    </tr>\n",
       "  </tbody>\n",
       "</table>\n",
       "</div>"
      ],
      "text/plain": [
       "                         USMER  MEDICAL_UNIT       SEX  PATIENT_TYPE  \\\n",
       "USMER                 1.000000      0.127927 -0.001126     -0.190570   \n",
       "MEDICAL_UNIT          0.127927      1.000000  0.001475     -0.205413   \n",
       "SEX                  -0.001126      0.001475  1.000000      0.089505   \n",
       "PATIENT_TYPE         -0.190570     -0.205413  0.089505      1.000000   \n",
       "INTUBED               0.175457      0.205243 -0.089943     -0.976335   \n",
       "PNEUMONIA            -0.154950     -0.046433 -0.012131      0.022966   \n",
       "AGE                  -0.045088     -0.082223  0.028367      0.315193   \n",
       "PREGNANT             -0.001469      0.005300  0.992713      0.088340   \n",
       "DIABETES              0.014704      0.019523  0.008888      0.008743   \n",
       "COPD                  0.011030      0.014209  0.009372      0.019548   \n",
       "ASTHMA                0.010814      0.013312  0.010415      0.023042   \n",
       "INMSUPR               0.003234      0.011785  0.007999      0.024924   \n",
       "HIPERTENSION          0.014830      0.020964  0.009257      0.006852   \n",
       "OTHER_DISEASE        -0.015763      0.027453  0.009039      0.036724   \n",
       "CARDIOVASCULAR        0.010097      0.014406  0.008174      0.022175   \n",
       "OBESITY               0.014567      0.019577  0.009858      0.019650   \n",
       "RENAL_CHRONIC         0.011527      0.014751  0.008249      0.018873   \n",
       "TOBACCO               0.010638      0.012282  0.004919      0.022123   \n",
       "CLASIFFICATION_FINAL  0.028840      0.079981 -0.057782     -0.183370   \n",
       "ICU                   0.174901      0.205141 -0.089844     -0.975810   \n",
       "\n",
       "                       INTUBED  PNEUMONIA       AGE  PREGNANT  DIABETES  \\\n",
       "USMER                 0.175457  -0.154950 -0.045088 -0.001469  0.014704   \n",
       "MEDICAL_UNIT          0.205243  -0.046433 -0.082223  0.005300  0.019523   \n",
       "SEX                  -0.089943  -0.012131  0.028367  0.992713  0.008888   \n",
       "PATIENT_TYPE         -0.976335   0.022966  0.315193  0.088340  0.008743   \n",
       "INTUBED               1.000000   0.079743 -0.317945 -0.088097 -0.009215   \n",
       "PNEUMONIA             0.079743   1.000000 -0.073127 -0.007284 -0.004484   \n",
       "AGE                  -0.317945  -0.073127  1.000000  0.027257  0.004422   \n",
       "PREGNANT             -0.088097  -0.007284  0.027257  1.000000  0.014707   \n",
       "DIABETES             -0.009215  -0.004484  0.004422  0.014707  1.000000   \n",
       "COPD                 -0.020124  -0.005618  0.019048  0.015736  0.828823   \n",
       "ASTHMA               -0.023446  -0.005392  0.022715  0.016765  0.829349   \n",
       "INMSUPR              -0.024140  -0.000802  0.022820  0.014265  0.781108   \n",
       "HIPERTENSION         -0.007628  -0.004799 -0.004964  0.015335  0.835018   \n",
       "OTHER_DISEASE        -0.035404   0.001612  0.022837  0.014175  0.634611   \n",
       "CARDIOVASCULAR       -0.022442  -0.004758  0.019489  0.014378  0.809417   \n",
       "OBESITY              -0.020217  -0.004276  0.015500  0.015895  0.752739   \n",
       "RENAL_CHRONIC        -0.019309  -0.005287  0.020124  0.014392  0.812657   \n",
       "TOBACCO              -0.022428  -0.004325  0.021263  0.010794  0.771763   \n",
       "CLASIFFICATION_FINAL  0.193075   0.075351 -0.152637 -0.057809 -0.004739   \n",
       "ICU                   0.999434   0.079691 -0.317813 -0.087991 -0.009223   \n",
       "\n",
       "                          COPD    ASTHMA   INMSUPR  HIPERTENSION  \\\n",
       "USMER                 0.011030  0.010814  0.003234      0.014830   \n",
       "MEDICAL_UNIT          0.014209  0.013312  0.011785      0.020964   \n",
       "SEX                   0.009372  0.010415  0.007999      0.009257   \n",
       "PATIENT_TYPE          0.019548  0.023042  0.024924      0.006852   \n",
       "INTUBED              -0.020124 -0.023446 -0.024140     -0.007628   \n",
       "PNEUMONIA            -0.005618 -0.005392 -0.000802     -0.004799   \n",
       "AGE                   0.019048  0.022715  0.022820     -0.004964   \n",
       "PREGNANT              0.015736  0.016765  0.014265      0.015335   \n",
       "DIABETES              0.828823  0.829349  0.781108      0.835018   \n",
       "COPD                  1.000000  0.908929  0.852273      0.855249   \n",
       "ASTHMA                0.908929  1.000000  0.868917      0.864264   \n",
       "INMSUPR               0.852273  0.868917  1.000000      0.825158   \n",
       "HIPERTENSION          0.855249  0.864264  0.825158      1.000000   \n",
       "OTHER_DISEASE         0.687323  0.696709  0.734826      0.671532   \n",
       "CARDIOVASCULAR        0.880097  0.891026  0.853365      0.861063   \n",
       "OBESITY               0.814868  0.824631  0.783953      0.805127   \n",
       "RENAL_CHRONIC         0.884032  0.895050  0.852755      0.860477   \n",
       "TOBACCO               0.836097  0.845067  0.806749      0.816539   \n",
       "CLASIFFICATION_FINAL -0.010336 -0.011178 -0.009412     -0.006020   \n",
       "ICU                  -0.020146 -0.023415 -0.024077     -0.007573   \n",
       "\n",
       "                      OTHER_DISEASE  CARDIOVASCULAR   OBESITY  RENAL_CHRONIC  \\\n",
       "USMER                     -0.015763        0.010097  0.014567       0.011527   \n",
       "MEDICAL_UNIT               0.027453        0.014406  0.019577       0.014751   \n",
       "SEX                        0.009039        0.008174  0.009858       0.008249   \n",
       "PATIENT_TYPE               0.036724        0.022175  0.019650       0.018873   \n",
       "INTUBED                   -0.035404       -0.022442 -0.020217      -0.019309   \n",
       "PNEUMONIA                  0.001612       -0.004758 -0.004276      -0.005287   \n",
       "AGE                        0.022837        0.019489  0.015500       0.020124   \n",
       "PREGNANT                   0.014175        0.014378  0.015895       0.014392   \n",
       "DIABETES                   0.634611        0.809417  0.752739       0.812657   \n",
       "COPD                       0.687323        0.880097  0.814868       0.884032   \n",
       "ASTHMA                     0.696709        0.891026  0.824631       0.895050   \n",
       "INMSUPR                    0.734826        0.853365  0.783953       0.852755   \n",
       "HIPERTENSION               0.671532        0.861063  0.805127       0.860477   \n",
       "OTHER_DISEASE              1.000000        0.717129  0.649809       0.704725   \n",
       "CARDIOVASCULAR             0.717129        1.000000  0.834389       0.913248   \n",
       "OBESITY                    0.649809        0.834389  1.000000       0.842466   \n",
       "RENAL_CHRONIC              0.704725        0.913248  0.842466       1.000000   \n",
       "TOBACCO                    0.668621        0.858102  0.801834       0.868761   \n",
       "CLASIFFICATION_FINAL      -0.011143       -0.012143 -0.006924      -0.011342   \n",
       "ICU                       -0.035330       -0.022413 -0.020254      -0.019285   \n",
       "\n",
       "                       TOBACCO  CLASIFFICATION_FINAL       ICU  \n",
       "USMER                 0.010638              0.028840  0.174901  \n",
       "MEDICAL_UNIT          0.012282              0.079981  0.205141  \n",
       "SEX                   0.004919             -0.057782 -0.089844  \n",
       "PATIENT_TYPE          0.022123             -0.183370 -0.975810  \n",
       "INTUBED              -0.022428              0.193075  0.999434  \n",
       "PNEUMONIA            -0.004325              0.075351  0.079691  \n",
       "AGE                   0.021263             -0.152637 -0.317813  \n",
       "PREGNANT              0.010794             -0.057809 -0.087991  \n",
       "DIABETES              0.771763             -0.004739 -0.009223  \n",
       "COPD                  0.836097             -0.010336 -0.020146  \n",
       "ASTHMA                0.845067             -0.011178 -0.023415  \n",
       "INMSUPR               0.806749             -0.009412 -0.024077  \n",
       "HIPERTENSION          0.816539             -0.006020 -0.007573  \n",
       "OTHER_DISEASE         0.668621             -0.011143 -0.035330  \n",
       "CARDIOVASCULAR        0.858102             -0.012143 -0.022413  \n",
       "OBESITY               0.801834             -0.006924 -0.020254  \n",
       "RENAL_CHRONIC         0.868761             -0.011342 -0.019285  \n",
       "TOBACCO               1.000000             -0.012567 -0.022445  \n",
       "CLASIFFICATION_FINAL -0.012567              1.000000  0.193163  \n",
       "ICU                  -0.022445              0.193163  1.000000  "
      ]
     },
     "execution_count": 7,
     "metadata": {},
     "output_type": "execute_result"
    }
   ],
   "source": [
    "df.corr()"
   ]
  },
  {
   "cell_type": "code",
   "execution_count": 8,
   "id": "02faebbd",
   "metadata": {
    "scrolled": true
   },
   "outputs": [
    {
     "data": {
      "text/plain": [
       "USMER                   0\n",
       "MEDICAL_UNIT            0\n",
       "SEX                     0\n",
       "PATIENT_TYPE            0\n",
       "DATE_DIED               0\n",
       "INTUBED                 0\n",
       "PNEUMONIA               0\n",
       "AGE                     0\n",
       "PREGNANT                0\n",
       "DIABETES                0\n",
       "COPD                    0\n",
       "ASTHMA                  0\n",
       "INMSUPR                 0\n",
       "HIPERTENSION            0\n",
       "OTHER_DISEASE           0\n",
       "CARDIOVASCULAR          0\n",
       "OBESITY                 0\n",
       "RENAL_CHRONIC           0\n",
       "TOBACCO                 0\n",
       "CLASIFFICATION_FINAL    0\n",
       "ICU                     0\n",
       "dtype: int64"
      ]
     },
     "execution_count": 8,
     "metadata": {},
     "output_type": "execute_result"
    }
   ],
   "source": [
    "df.isnull().sum()"
   ]
  },
  {
   "cell_type": "markdown",
   "id": "d3afab13",
   "metadata": {},
   "source": [
    "**Yukarda eksik veri olmadığını gösteriyor ama veri setindeki açıklamalarda 97, 98 ve 99'un boş veriler olduğunu belirtiyor, bundan dolayı  hangi sütunda varsa SİLİP DOLDURMAMIZ  gerekiyor. "
   ]
  },
  {
   "cell_type": "code",
   "execution_count": 9,
   "id": "bb20a9e7",
   "metadata": {},
   "outputs": [
    {
     "data": {
      "text/plain": [
       "2     892534\n",
       "1     140038\n",
       "99     16003\n",
       "Name: PNEUMONIA, dtype: int64"
      ]
     },
     "execution_count": 9,
     "metadata": {},
     "output_type": "execute_result"
    }
   ],
   "source": [
    "df[\"PNEUMONIA\"].value_counts() #HAVA KESESİ İLTİHABI"
   ]
  },
  {
   "cell_type": "code",
   "execution_count": 10,
   "id": "0b2880b1",
   "metadata": {},
   "outputs": [],
   "source": [
    "df[\"PNEUMONIA\"] = df[\"PNEUMONIA\"].replace(99, 2)"
   ]
  },
  {
   "cell_type": "code",
   "execution_count": 11,
   "id": "45178c8d",
   "metadata": {},
   "outputs": [],
   "source": [
    "df=df.drop(\"USMER\", axis=1) # çok bir etkisi yok"
   ]
  },
  {
   "cell_type": "code",
   "execution_count": 12,
   "id": "9f1bb045",
   "metadata": {},
   "outputs": [
    {
     "data": {
      "text/plain": [
       "2     960979\n",
       "1      84376\n",
       "98      3220\n",
       "Name: TOBACCO, dtype: int64"
      ]
     },
     "execution_count": 12,
     "metadata": {},
     "output_type": "execute_result"
    }
   ],
   "source": [
    "df[\"TOBACCO\"].value_counts()"
   ]
  },
  {
   "cell_type": "code",
   "execution_count": 13,
   "id": "357a0f94",
   "metadata": {},
   "outputs": [],
   "source": [
    "df[\"TOBACCO\"] = df[\"TOBACCO\"].replace(98, 2)"
   ]
  },
  {
   "cell_type": "code",
   "execution_count": 14,
   "id": "c964e4f6",
   "metadata": {},
   "outputs": [
    {
     "data": {
      "text/plain": [
       "1    848544\n",
       "2    200031\n",
       "Name: PATIENT_TYPE, dtype: int64"
      ]
     },
     "execution_count": 14,
     "metadata": {},
     "output_type": "execute_result"
    }
   ],
   "source": [
    "df[\"PATIENT_TYPE\"].value_counts() # HASTANEDE Mİ DEĞİLMİ?"
   ]
  },
  {
   "cell_type": "code",
   "execution_count": 15,
   "id": "08bb3435",
   "metadata": {},
   "outputs": [
    {
     "data": {
      "text/plain": [
       "2     920248\n",
       "1     124989\n",
       "98      3338\n",
       "Name: DIABETES, dtype: int64"
      ]
     },
     "execution_count": 15,
     "metadata": {},
     "output_type": "execute_result"
    }
   ],
   "source": [
    "df[\"DIABETES\"].value_counts() #Araştırma bulgularına göre, diyabet tanısı olmayan kişilerde kan şekeri seviyesi yükseldikçe Covid-19'u ağır geçirme riski de arttı"
   ]
  },
  {
   "cell_type": "markdown",
   "id": "24e1b18e",
   "metadata": {},
   "source": [
    "**araştırma bulgularına göre, diyabet tanısı olmayan kişilerde kan şekeri seviyesi yükseldikçe Covid-19'u ağır geçirme riski de arttı"
   ]
  },
  {
   "cell_type": "code",
   "execution_count": 16,
   "id": "ccb4cb1e",
   "metadata": {},
   "outputs": [],
   "source": [
    "df[\"DIABETES\"] = df[\"DIABETES\"].replace(98, 1)# diyabetlecovid 19 arasında ters ilişi var."
   ]
  },
  {
   "cell_type": "code",
   "execution_count": 17,
   "id": "ccee54ae",
   "metadata": {},
   "outputs": [
    {
     "data": {
      "text/plain": [
       "2     1030510\n",
       "1       15062\n",
       "98       3003\n",
       "Name: COPD, dtype: int64"
      ]
     },
     "execution_count": 17,
     "metadata": {},
     "output_type": "execute_result"
    }
   ],
   "source": [
    "df[\"COPD\"].value_counts() #Kronik obstrüktif akciğer hastalığı VARMI YOKMU?"
   ]
  },
  {
   "cell_type": "code",
   "execution_count": 18,
   "id": "72297c2a",
   "metadata": {},
   "outputs": [],
   "source": [
    "df[\"COPD\"] = df[\"COPD\"].replace(98, 2)\n"
   ]
  },
  {
   "cell_type": "code",
   "execution_count": 19,
   "id": "7a622620",
   "metadata": {},
   "outputs": [
    {
     "data": {
      "text/plain": [
       "2     1014024\n",
       "1       31572\n",
       "98       2979\n",
       "Name: ASTHMA, dtype: int64"
      ]
     },
     "execution_count": 19,
     "metadata": {},
     "output_type": "execute_result"
    }
   ],
   "source": [
    "df[\"ASTHMA\"].value_counts() #ASTIM"
   ]
  },
  {
   "cell_type": "code",
   "execution_count": 20,
   "id": "598a1302",
   "metadata": {},
   "outputs": [],
   "source": [
    "df[\"ASTHMA\"] = df[\"ASTHMA\"].replace(98, 2)"
   ]
  },
  {
   "cell_type": "code",
   "execution_count": 21,
   "id": "d61a3d8c",
   "metadata": {},
   "outputs": [
    {
     "data": {
      "text/plain": [
       "2     1031001\n",
       "1       14170\n",
       "98       3404\n",
       "Name: INMSUPR, dtype: int64"
      ]
     },
     "execution_count": 21,
     "metadata": {},
     "output_type": "execute_result"
    }
   ],
   "source": [
    "df[\"INMSUPR\"].value_counts() # \"INMSUPR\":bağışıklık sisteminin baskılanmasını sağlayan, temel olarak otoimmün hastalıklar ve organ nakillerinde kullanılan ilaçlara verilen genel isimdir"
   ]
  },
  {
   "cell_type": "code",
   "execution_count": 22,
   "id": "ae3b88fd",
   "metadata": {},
   "outputs": [],
   "source": [
    "df[\"INMSUPR\"] = df[\"INMSUPR\"].replace(98, 1) # ÖLÜMLE TERS ORANTILI OLDUĞU İÇİN "
   ]
  },
  {
   "cell_type": "code",
   "execution_count": 23,
   "id": "dac6a3e9",
   "metadata": {},
   "outputs": [
    {
     "data": {
      "text/plain": [
       "2     882742\n",
       "1     162729\n",
       "98      3104\n",
       "Name: HIPERTENSION, dtype: int64"
      ]
     },
     "execution_count": 23,
     "metadata": {},
     "output_type": "execute_result"
    }
   ],
   "source": [
    "df[\"HIPERTENSION\"].value_counts()"
   ]
  },
  {
   "cell_type": "code",
   "execution_count": 24,
   "id": "49720fef",
   "metadata": {},
   "outputs": [],
   "source": [
    "df[\"HIPERTENSION\"] = df[\"HIPERTENSION\"].replace(98, 2)"
   ]
  },
  {
   "cell_type": "code",
   "execution_count": 25,
   "id": "cebcb41b",
   "metadata": {},
   "outputs": [
    {
     "data": {
      "text/plain": [
       "2     1015490\n",
       "1       28040\n",
       "98       5045\n",
       "Name: OTHER_DISEASE, dtype: int64"
      ]
     },
     "execution_count": 25,
     "metadata": {},
     "output_type": "execute_result"
    }
   ],
   "source": [
    "df[\"OTHER_DISEASE\"].value_counts()"
   ]
  },
  {
   "cell_type": "code",
   "execution_count": 26,
   "id": "7a9597de",
   "metadata": {},
   "outputs": [],
   "source": [
    "df[\"OTHER_DISEASE\"] = df[\"OTHER_DISEASE\"].replace(98, 2)"
   ]
  },
  {
   "cell_type": "code",
   "execution_count": 27,
   "id": "b7038eb0",
   "metadata": {},
   "outputs": [
    {
     "data": {
      "text/plain": [
       "2     1024730\n",
       "1       20769\n",
       "98       3076\n",
       "Name: CARDIOVASCULAR, dtype: int64"
      ]
     },
     "execution_count": 27,
     "metadata": {},
     "output_type": "execute_result"
    }
   ],
   "source": [
    "df[\"CARDIOVASCULAR\"].value_counts()"
   ]
  },
  {
   "cell_type": "code",
   "execution_count": 28,
   "id": "592b0f72",
   "metadata": {},
   "outputs": [],
   "source": [
    "df[\"CARDIOVASCULAR\"] = df[\"CARDIOVASCULAR\"].replace(98, 2)"
   ]
  },
  {
   "cell_type": "code",
   "execution_count": 29,
   "id": "be38ddcd",
   "metadata": {},
   "outputs": [
    {
     "data": {
      "text/plain": [
       "2     885727\n",
       "1     159816\n",
       "98      3032\n",
       "Name: OBESITY, dtype: int64"
      ]
     },
     "execution_count": 29,
     "metadata": {},
     "output_type": "execute_result"
    }
   ],
   "source": [
    "df[\"OBESITY\"].value_counts()"
   ]
  },
  {
   "cell_type": "code",
   "execution_count": 30,
   "id": "8b66049e",
   "metadata": {},
   "outputs": [],
   "source": [
    "df[\"OBESITY\"] = df[\"OBESITY\"].replace(98, 2)"
   ]
  },
  {
   "cell_type": "code",
   "execution_count": 31,
   "id": "68390bc5",
   "metadata": {},
   "outputs": [
    {
     "data": {
      "text/plain": [
       "2     1026665\n",
       "1       18904\n",
       "98       3006\n",
       "Name: RENAL_CHRONIC, dtype: int64"
      ]
     },
     "execution_count": 31,
     "metadata": {},
     "output_type": "execute_result"
    }
   ],
   "source": [
    "df[\"RENAL_CHRONIC\"].value_counts() # Hastanın kronik böbrek hastalığı olup olmadığı."
   ]
  },
  {
   "cell_type": "code",
   "execution_count": 32,
   "id": "36900671",
   "metadata": {},
   "outputs": [],
   "source": [
    "df[\"RENAL_CHRONIC\"] = df[\"RENAL_CHRONIC\"].replace(98, 2)"
   ]
  },
  {
   "cell_type": "code",
   "execution_count": 33,
   "id": "ba249eba",
   "metadata": {},
   "outputs": [
    {
     "data": {
      "text/plain": [
       "7    499250\n",
       "3    381527\n",
       "6    128133\n",
       "5     26091\n",
       "1      8601\n",
       "4      3122\n",
       "2      1851\n",
       "Name: CLASIFFICATION_FINAL, dtype: int64"
      ]
     },
     "execution_count": 33,
     "metadata": {},
     "output_type": "execute_result"
    }
   ],
   "source": [
    "df[\"CLASIFFICATION_FINAL\"].value_counts()"
   ]
  },
  {
   "cell_type": "code",
   "execution_count": 34,
   "id": "70f113da",
   "metadata": {},
   "outputs": [
    {
     "data": {
      "text/plain": [
       "97    848544\n",
       "2     159050\n",
       "1      33656\n",
       "99      7325\n",
       "Name: INTUBED, dtype: int64"
      ]
     },
     "execution_count": 34,
     "metadata": {},
     "output_type": "execute_result"
    }
   ],
   "source": [
    "df[\"INTUBED\"].value_counts()"
   ]
  },
  {
   "cell_type": "code",
   "execution_count": 35,
   "id": "d856622c",
   "metadata": {},
   "outputs": [],
   "source": [
    "df[\"INTUBED\"] = df[\"INTUBED\"].replace(97, 2)\n",
    "df[\"INTUBED\"] = df[\"INTUBED\"].replace(99, 2)"
   ]
  },
  {
   "cell_type": "code",
   "execution_count": 36,
   "id": "31ae65d4",
   "metadata": {},
   "outputs": [
    {
     "data": {
      "text/plain": [
       "97    848544\n",
       "2     175685\n",
       "1      16858\n",
       "99      7488\n",
       "Name: ICU, dtype: int64"
      ]
     },
     "execution_count": 36,
     "metadata": {},
     "output_type": "execute_result"
    }
   ],
   "source": [
    "df[\"ICU\"].value_counts() #intensive care unit.yoğun bakım ünitesi."
   ]
  },
  {
   "cell_type": "code",
   "execution_count": 37,
   "id": "f9321c63",
   "metadata": {},
   "outputs": [],
   "source": [
    "df[\"ICU\"] = df[\"ICU\"].replace(97, 2)\n",
    "df[\"ICU\"] = df[\"ICU\"].replace(99, 2)"
   ]
  },
  {
   "cell_type": "code",
   "execution_count": 38,
   "id": "6d83d470",
   "metadata": {},
   "outputs": [
    {
     "data": {
      "text/plain": [
       "array([ 2, 97, 98,  1], dtype=int64)"
      ]
     },
     "execution_count": 38,
     "metadata": {},
     "output_type": "execute_result"
    }
   ],
   "source": [
    "df[\"PREGNANT\"].unique()"
   ]
  },
  {
   "cell_type": "code",
   "execution_count": 39,
   "id": "2775f3e0",
   "metadata": {},
   "outputs": [],
   "source": [
    "df[\"PREGNANT\"] = df[\"PREGNANT\"].replace(98, 2)# hamile olmamalarına göre değiştirdik\n",
    "df[\"PREGNANT\"] = df[\"PREGNANT\"].replace(97, 2)"
   ]
  },
  {
   "cell_type": "code",
   "execution_count": 40,
   "id": "0bb6abe9",
   "metadata": {},
   "outputs": [
    {
     "data": {
      "text/plain": [
       "7    499250\n",
       "3    381527\n",
       "6    128133\n",
       "5     26091\n",
       "1      8601\n",
       "4      3122\n",
       "2      1851\n",
       "Name: CLASIFFICATION_FINAL, dtype: int64"
      ]
     },
     "execution_count": 40,
     "metadata": {},
     "output_type": "execute_result"
    }
   ],
   "source": [
    "df[\"CLASIFFICATION_FINAL\"].value_counts()"
   ]
  },
  {
   "cell_type": "code",
   "execution_count": 41,
   "id": "f3f461b1",
   "metadata": {},
   "outputs": [],
   "source": [
    "df[\"CLASIFFICATION_FINAL\"] = df[\"CLASIFFICATION_FINAL\"].replace([1,2,3], 1) # covid olan\n",
    "df[\"CLASIFFICATION_FINAL\"] = df[\"CLASIFFICATION_FINAL\"].replace([4,5,6,7], 2) #covid olmayan"
   ]
  },
  {
   "cell_type": "code",
   "execution_count": 42,
   "id": "6b5f711f",
   "metadata": {},
   "outputs": [
    {
     "data": {
      "text/html": [
       "<div>\n",
       "<style scoped>\n",
       "    .dataframe tbody tr th:only-of-type {\n",
       "        vertical-align: middle;\n",
       "    }\n",
       "\n",
       "    .dataframe tbody tr th {\n",
       "        vertical-align: top;\n",
       "    }\n",
       "\n",
       "    .dataframe thead th {\n",
       "        text-align: right;\n",
       "    }\n",
       "</style>\n",
       "<table border=\"1\" class=\"dataframe\">\n",
       "  <thead>\n",
       "    <tr style=\"text-align: right;\">\n",
       "      <th></th>\n",
       "      <th>MEDICAL_UNIT</th>\n",
       "      <th>SEX</th>\n",
       "      <th>PATIENT_TYPE</th>\n",
       "      <th>DATE_DIED</th>\n",
       "      <th>INTUBED</th>\n",
       "      <th>PNEUMONIA</th>\n",
       "      <th>AGE</th>\n",
       "      <th>PREGNANT</th>\n",
       "      <th>DIABETES</th>\n",
       "      <th>COPD</th>\n",
       "      <th>ASTHMA</th>\n",
       "      <th>INMSUPR</th>\n",
       "      <th>HIPERTENSION</th>\n",
       "      <th>OTHER_DISEASE</th>\n",
       "      <th>CARDIOVASCULAR</th>\n",
       "      <th>OBESITY</th>\n",
       "      <th>RENAL_CHRONIC</th>\n",
       "      <th>TOBACCO</th>\n",
       "      <th>CLASIFFICATION_FINAL</th>\n",
       "      <th>ICU</th>\n",
       "    </tr>\n",
       "  </thead>\n",
       "  <tbody>\n",
       "    <tr>\n",
       "      <th>342663</th>\n",
       "      <td>6</td>\n",
       "      <td>2</td>\n",
       "      <td>2</td>\n",
       "      <td>18/05/2020</td>\n",
       "      <td>2</td>\n",
       "      <td>1</td>\n",
       "      <td>58</td>\n",
       "      <td>2</td>\n",
       "      <td>1</td>\n",
       "      <td>2</td>\n",
       "      <td>2</td>\n",
       "      <td>2</td>\n",
       "      <td>2</td>\n",
       "      <td>2</td>\n",
       "      <td>2</td>\n",
       "      <td>2</td>\n",
       "      <td>2</td>\n",
       "      <td>2</td>\n",
       "      <td>1</td>\n",
       "      <td>2</td>\n",
       "    </tr>\n",
       "    <tr>\n",
       "      <th>500700</th>\n",
       "      <td>12</td>\n",
       "      <td>1</td>\n",
       "      <td>1</td>\n",
       "      <td>9999-99-99</td>\n",
       "      <td>2</td>\n",
       "      <td>2</td>\n",
       "      <td>59</td>\n",
       "      <td>2</td>\n",
       "      <td>2</td>\n",
       "      <td>2</td>\n",
       "      <td>2</td>\n",
       "      <td>2</td>\n",
       "      <td>2</td>\n",
       "      <td>2</td>\n",
       "      <td>2</td>\n",
       "      <td>2</td>\n",
       "      <td>2</td>\n",
       "      <td>1</td>\n",
       "      <td>1</td>\n",
       "      <td>2</td>\n",
       "    </tr>\n",
       "    <tr>\n",
       "      <th>1030182</th>\n",
       "      <td>12</td>\n",
       "      <td>1</td>\n",
       "      <td>1</td>\n",
       "      <td>9999-99-99</td>\n",
       "      <td>2</td>\n",
       "      <td>2</td>\n",
       "      <td>26</td>\n",
       "      <td>2</td>\n",
       "      <td>2</td>\n",
       "      <td>2</td>\n",
       "      <td>2</td>\n",
       "      <td>2</td>\n",
       "      <td>2</td>\n",
       "      <td>2</td>\n",
       "      <td>2</td>\n",
       "      <td>2</td>\n",
       "      <td>2</td>\n",
       "      <td>2</td>\n",
       "      <td>2</td>\n",
       "      <td>2</td>\n",
       "    </tr>\n",
       "    <tr>\n",
       "      <th>1004552</th>\n",
       "      <td>12</td>\n",
       "      <td>1</td>\n",
       "      <td>1</td>\n",
       "      <td>9999-99-99</td>\n",
       "      <td>2</td>\n",
       "      <td>2</td>\n",
       "      <td>27</td>\n",
       "      <td>2</td>\n",
       "      <td>2</td>\n",
       "      <td>2</td>\n",
       "      <td>2</td>\n",
       "      <td>2</td>\n",
       "      <td>2</td>\n",
       "      <td>2</td>\n",
       "      <td>2</td>\n",
       "      <td>2</td>\n",
       "      <td>2</td>\n",
       "      <td>1</td>\n",
       "      <td>2</td>\n",
       "      <td>2</td>\n",
       "    </tr>\n",
       "    <tr>\n",
       "      <th>431722</th>\n",
       "      <td>10</td>\n",
       "      <td>1</td>\n",
       "      <td>2</td>\n",
       "      <td>06/06/2020</td>\n",
       "      <td>2</td>\n",
       "      <td>1</td>\n",
       "      <td>85</td>\n",
       "      <td>2</td>\n",
       "      <td>2</td>\n",
       "      <td>2</td>\n",
       "      <td>2</td>\n",
       "      <td>2</td>\n",
       "      <td>1</td>\n",
       "      <td>2</td>\n",
       "      <td>2</td>\n",
       "      <td>2</td>\n",
       "      <td>2</td>\n",
       "      <td>2</td>\n",
       "      <td>2</td>\n",
       "      <td>1</td>\n",
       "    </tr>\n",
       "    <tr>\n",
       "      <th>489399</th>\n",
       "      <td>12</td>\n",
       "      <td>1</td>\n",
       "      <td>1</td>\n",
       "      <td>9999-99-99</td>\n",
       "      <td>2</td>\n",
       "      <td>2</td>\n",
       "      <td>50</td>\n",
       "      <td>2</td>\n",
       "      <td>2</td>\n",
       "      <td>2</td>\n",
       "      <td>2</td>\n",
       "      <td>2</td>\n",
       "      <td>2</td>\n",
       "      <td>2</td>\n",
       "      <td>2</td>\n",
       "      <td>1</td>\n",
       "      <td>2</td>\n",
       "      <td>2</td>\n",
       "      <td>1</td>\n",
       "      <td>2</td>\n",
       "    </tr>\n",
       "    <tr>\n",
       "      <th>712820</th>\n",
       "      <td>12</td>\n",
       "      <td>2</td>\n",
       "      <td>1</td>\n",
       "      <td>9999-99-99</td>\n",
       "      <td>2</td>\n",
       "      <td>2</td>\n",
       "      <td>39</td>\n",
       "      <td>2</td>\n",
       "      <td>2</td>\n",
       "      <td>2</td>\n",
       "      <td>2</td>\n",
       "      <td>2</td>\n",
       "      <td>2</td>\n",
       "      <td>2</td>\n",
       "      <td>2</td>\n",
       "      <td>2</td>\n",
       "      <td>2</td>\n",
       "      <td>2</td>\n",
       "      <td>2</td>\n",
       "      <td>2</td>\n",
       "    </tr>\n",
       "    <tr>\n",
       "      <th>267810</th>\n",
       "      <td>4</td>\n",
       "      <td>1</td>\n",
       "      <td>1</td>\n",
       "      <td>9999-99-99</td>\n",
       "      <td>2</td>\n",
       "      <td>2</td>\n",
       "      <td>31</td>\n",
       "      <td>2</td>\n",
       "      <td>2</td>\n",
       "      <td>2</td>\n",
       "      <td>2</td>\n",
       "      <td>2</td>\n",
       "      <td>2</td>\n",
       "      <td>2</td>\n",
       "      <td>2</td>\n",
       "      <td>2</td>\n",
       "      <td>2</td>\n",
       "      <td>2</td>\n",
       "      <td>2</td>\n",
       "      <td>2</td>\n",
       "    </tr>\n",
       "    <tr>\n",
       "      <th>205461</th>\n",
       "      <td>4</td>\n",
       "      <td>2</td>\n",
       "      <td>1</td>\n",
       "      <td>9999-99-99</td>\n",
       "      <td>2</td>\n",
       "      <td>2</td>\n",
       "      <td>25</td>\n",
       "      <td>2</td>\n",
       "      <td>2</td>\n",
       "      <td>2</td>\n",
       "      <td>2</td>\n",
       "      <td>2</td>\n",
       "      <td>2</td>\n",
       "      <td>2</td>\n",
       "      <td>2</td>\n",
       "      <td>2</td>\n",
       "      <td>2</td>\n",
       "      <td>2</td>\n",
       "      <td>2</td>\n",
       "      <td>2</td>\n",
       "    </tr>\n",
       "    <tr>\n",
       "      <th>199323</th>\n",
       "      <td>4</td>\n",
       "      <td>2</td>\n",
       "      <td>1</td>\n",
       "      <td>9999-99-99</td>\n",
       "      <td>2</td>\n",
       "      <td>2</td>\n",
       "      <td>55</td>\n",
       "      <td>2</td>\n",
       "      <td>1</td>\n",
       "      <td>2</td>\n",
       "      <td>2</td>\n",
       "      <td>2</td>\n",
       "      <td>2</td>\n",
       "      <td>2</td>\n",
       "      <td>2</td>\n",
       "      <td>2</td>\n",
       "      <td>2</td>\n",
       "      <td>2</td>\n",
       "      <td>2</td>\n",
       "      <td>2</td>\n",
       "    </tr>\n",
       "  </tbody>\n",
       "</table>\n",
       "</div>"
      ],
      "text/plain": [
       "         MEDICAL_UNIT  SEX  PATIENT_TYPE   DATE_DIED  INTUBED  PNEUMONIA  AGE  \\\n",
       "342663              6    2             2  18/05/2020        2          1   58   \n",
       "500700             12    1             1  9999-99-99        2          2   59   \n",
       "1030182            12    1             1  9999-99-99        2          2   26   \n",
       "1004552            12    1             1  9999-99-99        2          2   27   \n",
       "431722             10    1             2  06/06/2020        2          1   85   \n",
       "489399             12    1             1  9999-99-99        2          2   50   \n",
       "712820             12    2             1  9999-99-99        2          2   39   \n",
       "267810              4    1             1  9999-99-99        2          2   31   \n",
       "205461              4    2             1  9999-99-99        2          2   25   \n",
       "199323              4    2             1  9999-99-99        2          2   55   \n",
       "\n",
       "         PREGNANT  DIABETES  COPD  ASTHMA  INMSUPR  HIPERTENSION  \\\n",
       "342663          2         1     2       2        2             2   \n",
       "500700          2         2     2       2        2             2   \n",
       "1030182         2         2     2       2        2             2   \n",
       "1004552         2         2     2       2        2             2   \n",
       "431722          2         2     2       2        2             1   \n",
       "489399          2         2     2       2        2             2   \n",
       "712820          2         2     2       2        2             2   \n",
       "267810          2         2     2       2        2             2   \n",
       "205461          2         2     2       2        2             2   \n",
       "199323          2         1     2       2        2             2   \n",
       "\n",
       "         OTHER_DISEASE  CARDIOVASCULAR  OBESITY  RENAL_CHRONIC  TOBACCO  \\\n",
       "342663               2               2        2              2        2   \n",
       "500700               2               2        2              2        1   \n",
       "1030182              2               2        2              2        2   \n",
       "1004552              2               2        2              2        1   \n",
       "431722               2               2        2              2        2   \n",
       "489399               2               2        1              2        2   \n",
       "712820               2               2        2              2        2   \n",
       "267810               2               2        2              2        2   \n",
       "205461               2               2        2              2        2   \n",
       "199323               2               2        2              2        2   \n",
       "\n",
       "         CLASIFFICATION_FINAL  ICU  \n",
       "342663                      1    2  \n",
       "500700                      1    2  \n",
       "1030182                     2    2  \n",
       "1004552                     2    2  \n",
       "431722                      2    1  \n",
       "489399                      1    2  \n",
       "712820                      2    2  \n",
       "267810                      2    2  \n",
       "205461                      2    2  \n",
       "199323                      2    2  "
      ]
     },
     "execution_count": 42,
     "metadata": {},
     "output_type": "execute_result"
    }
   ],
   "source": [
    "df.sample(10)"
   ]
  },
  {
   "cell_type": "code",
   "execution_count": 43,
   "id": "ab6a64fb",
   "metadata": {},
   "outputs": [
    {
     "data": {
      "text/plain": [
       "(1048575, 20)"
      ]
     },
     "execution_count": 43,
     "metadata": {},
     "output_type": "execute_result"
    }
   ],
   "source": [
    "df.shape"
   ]
  },
  {
   "cell_type": "markdown",
   "id": "6acea0c8",
   "metadata": {},
   "source": [
    "**Eğer \"DATE_DIED\" sütunundaki bazı verilerde  \"9999-99-99\"  varsa bu yaşadığı anlamına gelir, tarih değerleride öldüğü anlamına gelir.Bunları sayısal olarak isimlendircez."
   ]
  },
  {
   "cell_type": "code",
   "execution_count": 44,
   "id": "d21b2276",
   "metadata": {},
   "outputs": [],
   "source": [
    "df[\"DEATH\"] = [2 if each==\"9999-99-99\" else 1 for each in df.DATE_DIED]# yani ölenler \"1\", yaşayanlarda \"2\" olarak atandı."
   ]
  },
  {
   "cell_type": "code",
   "execution_count": 45,
   "id": "a4f60941",
   "metadata": {
    "scrolled": false
   },
   "outputs": [
    {
     "data": {
      "text/plain": [
       "DEATH                   1.000000\n",
       "INTUBED                 0.496163\n",
       "PNEUMONIA               0.469278\n",
       "DIABETES                0.218504\n",
       "HIPERTENSION            0.203231\n",
       "ICU                     0.202333\n",
       "CLASIFFICATION_FINAL    0.192564\n",
       "MEDICAL_UNIT            0.149030\n",
       "RENAL_CHRONIC           0.118744\n",
       "COPD                    0.089624\n",
       "CARDIOVASCULAR          0.076410\n",
       "INMSUPR                 0.059359\n",
       "OBESITY                 0.056649\n",
       "OTHER_DISEASE           0.056416\n",
       "TOBACCO                 0.005441\n",
       "ASTHMA                 -0.017907\n",
       "PREGNANT               -0.021166\n",
       "SEX                    -0.081383\n",
       "AGE                    -0.320801\n",
       "PATIENT_TYPE           -0.515582\n",
       "Name: DEATH, dtype: float64"
      ]
     },
     "execution_count": 45,
     "metadata": {},
     "output_type": "execute_result"
    }
   ],
   "source": [
    "df.corr()[\"DEATH\"].sort_values(ascending=False) "
   ]
  },
  {
   "cell_type": "markdown",
   "id": "acfb99d3",
   "metadata": {},
   "source": [
    "**\"INTUBED\" durumuna gelmenin sebeplerinden biri de az bir oranda \"MEDİCAL_UNİT\" olabilir.Bu yüzden modelimize koyarız."
   ]
  },
  {
   "cell_type": "code",
   "execution_count": 46,
   "id": "54a6c10b",
   "metadata": {
    "scrolled": true
   },
   "outputs": [
    {
     "data": {
      "text/plain": [
       "INTUBED                 1.000000\n",
       "DEATH                   0.496163\n",
       "ICU                     0.377065\n",
       "PNEUMONIA               0.339690\n",
       "CLASIFFICATION_FINAL    0.124009\n",
       "DIABETES                0.123742\n",
       "HIPERTENSION            0.116884\n",
       "MEDICAL_UNIT            0.098304\n",
       "RENAL_CHRONIC           0.060439\n",
       "CARDIOVASCULAR          0.045448\n",
       "COPD                    0.044225\n",
       "OBESITY                 0.041224\n",
       "OTHER_DISEASE           0.040750\n",
       "INMSUPR                 0.038100\n",
       "TOBACCO                 0.006122\n",
       "PREGNANT               -0.009930\n",
       "ASTHMA                 -0.010017\n",
       "SEX                    -0.053619\n",
       "AGE                    -0.165490\n",
       "PATIENT_TYPE           -0.375063\n",
       "Name: INTUBED, dtype: float64"
      ]
     },
     "execution_count": 46,
     "metadata": {},
     "output_type": "execute_result"
    }
   ],
   "source": [
    "df.corr()[\"INTUBED\"].sort_values(ascending=False)  "
   ]
  },
  {
   "cell_type": "code",
   "execution_count": 47,
   "id": "b95b6026",
   "metadata": {},
   "outputs": [
    {
     "data": {
      "text/plain": [
       "CLASIFFICATION_FINAL    1.000000\n",
       "PNEUMONIA               0.195232\n",
       "DEATH                   0.192564\n",
       "INTUBED                 0.124009\n",
       "DIABETES                0.093724\n",
       "HIPERTENSION            0.086533\n",
       "OBESITY                 0.071468\n",
       "ICU                     0.064996\n",
       "MEDICAL_UNIT            0.058648\n",
       "RENAL_CHRONIC           0.013115\n",
       "CARDIOVASCULAR          0.010499\n",
       "COPD                    0.008292\n",
       "INMSUPR                -0.005336\n",
       "OTHER_DISEASE          -0.005669\n",
       "PREGNANT               -0.006417\n",
       "ASTHMA                 -0.016036\n",
       "TOBACCO                -0.020250\n",
       "SEX                    -0.054363\n",
       "AGE                    -0.155060\n",
       "PATIENT_TYPE           -0.183198\n",
       "Name: CLASIFFICATION_FINAL, dtype: float64"
      ]
     },
     "execution_count": 47,
     "metadata": {},
     "output_type": "execute_result"
    }
   ],
   "source": [
    "df.corr()[\"CLASIFFICATION_FINAL\"].sort_values(ascending=False)  "
   ]
  },
  {
   "cell_type": "markdown",
   "id": "6902ea23",
   "metadata": {},
   "source": [
    "# Veri görselleştirme"
   ]
  },
  {
   "cell_type": "code",
   "execution_count": 48,
   "id": "ad1860eb",
   "metadata": {},
   "outputs": [
    {
     "data": {
      "text/plain": [
       "<AxesSubplot:>"
      ]
     },
     "execution_count": 48,
     "metadata": {},
     "output_type": "execute_result"
    },
    {
     "data": {
      "image/png": "[encoded data removed]",
      "text/plain": [
       "<Figure size 1440x576 with 2 Axes>"
      ]
     },
     "metadata": {
      "needs_background": "light"
     },
     "output_type": "display_data"
    }
   ],
   "source": [
    "plt.figure(figsize=(20,8))\n",
    "sns.heatmap(df.corr(), annot=True, cmap=\"coolwarm\") # bu haritada kırmızını yoğun olduğu yerler korelasyonu kuvvetli olan yerlerdir"
   ]
  },
  {
   "cell_type": "code",
   "execution_count": 49,
   "id": "bc509708",
   "metadata": {
    "scrolled": true
   },
   "outputs": [
    {
     "data": {
      "text/plain": [
       "<AxesSubplot:>"
      ]
     },
     "execution_count": 49,
     "metadata": {},
     "output_type": "execute_result"
    },
    {
     "data": {
      "image/png": "[encoded data removed]",
      "text/plain": [
       "<Figure size 432x288 with 1 Axes>"
      ]
     },
     "metadata": {
      "needs_background": "light"
     },
     "output_type": "display_data"
    }
   ],
   "source": [
    "df[\"AGE\"].hist()"
   ]
  },
  {
   "cell_type": "code",
   "execution_count": 50,
   "id": "443d0c6a",
   "metadata": {},
   "outputs": [
    {
     "data": {
      "image/png": "[encoded data removed]",
      "text/plain": [
       "<Figure size 1440x576 with 1 Axes>"
      ]
     },
     "metadata": {
      "needs_background": "light"
     },
     "output_type": "display_data"
    }
   ],
   "source": [
    "plt.figure(figsize=(20,8))\n",
    "ax=sns.countplot(x=df[\"AGE\"], hue=df[\"DEATH\"])\n",
    "ax.bar_label(ax.containers[0]);"
   ]
  },
  {
   "cell_type": "code",
   "execution_count": 51,
   "id": "cd027d96",
   "metadata": {},
   "outputs": [
    {
     "data": {
      "text/plain": [
       "<AxesSubplot:xlabel='MEDICAL_UNIT', ylabel='DEATH'>"
      ]
     },
     "execution_count": 51,
     "metadata": {},
     "output_type": "execute_result"
    },
    {
     "data": {
      "image/png": "[encoded data removed]",
      "text/plain": [
       "<Figure size 432x288 with 1 Axes>"
      ]
     },
     "metadata": {
      "needs_background": "light"
     },
     "output_type": "display_data"
    }
   ],
   "source": [
    "sns.lineplot(data=df, x=\"MEDICAL_UNIT\", y=\"DEATH\")\n"
   ]
  },
  {
   "cell_type": "code",
   "execution_count": 53,
   "id": "e48bdede",
   "metadata": {},
   "outputs": [
    {
     "data": {
      "text/plain": [
       "<AxesSubplot:xlabel='MEDICAL_UNIT', ylabel='ICU'>"
      ]
     },
     "execution_count": 53,
     "metadata": {},
     "output_type": "execute_result"
    },
    {
     "data": {
      "image/png": "[encoded data removed]",
      "text/plain": [
       "<Figure size 432x288 with 1 Axes>"
      ]
     },
     "metadata": {
      "needs_background": "light"
     },
     "output_type": "display_data"
    }
   ],
   "source": [
    "sns.lineplot(data=df, x=\"MEDICAL_UNIT\", y=\"ICU\")\n"
   ]
  },
  {
   "cell_type": "code",
   "execution_count": 54,
   "id": "978ae98b",
   "metadata": {},
   "outputs": [
    {
     "data": {
      "text/plain": [
       "Index(['MEDICAL_UNIT', 'SEX', 'PATIENT_TYPE', 'DATE_DIED', 'INTUBED',\n",
       "       'PNEUMONIA', 'AGE', 'PREGNANT', 'DIABETES', 'COPD', 'ASTHMA', 'INMSUPR',\n",
       "       'HIPERTENSION', 'OTHER_DISEASE', 'CARDIOVASCULAR', 'OBESITY',\n",
       "       'RENAL_CHRONIC', 'TOBACCO', 'CLASIFFICATION_FINAL', 'ICU', 'DEATH'],\n",
       "      dtype='object')"
      ]
     },
     "execution_count": 54,
     "metadata": {},
     "output_type": "execute_result"
    }
   ],
   "source": [
    "df.columns"
   ]
  },
  {
   "cell_type": "code",
   "execution_count": 55,
   "id": "fbcca4da",
   "metadata": {},
   "outputs": [
    {
     "data": {
      "text/plain": [
       "array([ 1,  2,  3,  4,  5,  6,  7,  8,  9, 10, 11, 12, 13], dtype=int64)"
      ]
     },
     "execution_count": 55,
     "metadata": {},
     "output_type": "execute_result"
    }
   ],
   "source": [
    "df[\"MEDICAL_UNIT\"].unique() # Doğal Sağlık hizmeti ödeme gücüne değil, klinik ihtiyaca dayalı bir sağlık hizmetidir."
   ]
  },
  {
   "cell_type": "code",
   "execution_count": 56,
   "id": "d6b4cf04",
   "metadata": {},
   "outputs": [],
   "source": [
    "x=df[['MEDICAL_UNIT', 'PATIENT_TYPE', 'INTUBED', 'PNEUMONIA', 'AGE',\n",
    "       'PREGNANT', 'DIABETES', 'COPD', 'ASTHMA', 'INMSUPR', 'HIPERTENSION',\n",
    "       'OTHER_DISEASE', 'CARDIOVASCULAR', 'OBESITY', 'RENAL_CHRONIC',\n",
    "       'TOBACCO', 'CLASIFFICATION_FINAL', 'ICU']]\n",
    "y=df[\"DEATH\"]"
   ]
  },
  {
   "cell_type": "code",
   "execution_count": null,
   "id": "225e9724",
   "metadata": {},
   "outputs": [],
   "source": [
    "!pip install sklearn"
   ]
  },
  {
   "cell_type": "code",
   "execution_count": null,
   "id": "301983c1",
   "metadata": {},
   "outputs": [],
   "source": [
    "from sklearn.naive_bayes import GaussianNB\n",
    "from sklearn.naive_bayes import BernoulliNB\n",
    "g=GaussianNB()\n",
    "b=BernoulliNB()"
   ]
  },
  {
   "cell_type": "code",
   "execution_count": null,
   "id": "d7d26b5d",
   "metadata": {},
   "outputs": [],
   "source": [
    "g.fit(x,y)\n",
    "b.fit(x,y)"
   ]
  },
  {
   "cell_type": "code",
   "execution_count": 60,
   "id": "e33bb376",
   "metadata": {},
   "outputs": [],
   "source": [
    "tahmin1=g.predict(x)\n",
    "tahmin2=b.predict(x)"
   ]
  },
  {
   "cell_type": "code",
   "execution_count": 61,
   "id": "3df4c675",
   "metadata": {},
   "outputs": [],
   "source": [
    "from sklearn.metrics import accuracy_score, confusion_matrix,classification_report"
   ]
  },
  {
   "cell_type": "code",
   "execution_count": 62,
   "id": "fca4dce9",
   "metadata": {},
   "outputs": [
    {
     "data": {
      "text/plain": [
       "0.8959282836230121"
      ]
     },
     "execution_count": 62,
     "metadata": {},
     "output_type": "execute_result"
    }
   ],
   "source": [
    "accuracy_score(tahmin1,y)"
   ]
  },
  {
   "cell_type": "code",
   "execution_count": 63,
   "id": "ad75fa32",
   "metadata": {},
   "outputs": [
    {
     "data": {
      "text/plain": [
       "array([[ 57449,  89634],\n",
       "       [ 19493, 881999]], dtype=int64)"
      ]
     },
     "execution_count": 63,
     "metadata": {},
     "output_type": "execute_result"
    }
   ],
   "source": [
    "confusion_matrix(tahmin1,y)\n"
   ]
  },
  {
   "cell_type": "code",
   "execution_count": 64,
   "id": "ae622b70",
   "metadata": {
    "scrolled": true
   },
   "outputs": [
    {
     "name": "stdout",
     "output_type": "stream",
     "text": [
      "              precision    recall  f1-score   support\n",
      "\n",
      "           1       0.75      0.39      0.51    147083\n",
      "           2       0.91      0.98      0.94    901492\n",
      "\n",
      "    accuracy                           0.90   1048575\n",
      "   macro avg       0.83      0.68      0.73   1048575\n",
      "weighted avg       0.89      0.90      0.88   1048575\n",
      "\n"
     ]
    }
   ],
   "source": [
    "\n",
    "print(classification_report(tahmin1,y))"
   ]
  },
  {
   "cell_type": "code",
   "execution_count": 65,
   "id": "fabce0aa",
   "metadata": {},
   "outputs": [],
   "source": [
    "from sklearn.neighbors import KNeighborsClassifier\n",
    "k=KNeighborsClassifier()"
   ]
  },
  {
   "cell_type": "code",
   "execution_count": 1,
   "id": "9c289232",
   "metadata": {},
   "outputs": [
    {
     "ename": "NameError",
     "evalue": "name 'k' is not defined",
     "output_type": "error",
     "traceback": [
      "\u001b[1;31m---------------------------------------------------------------------------\u001b[0m",
      "\u001b[1;31mNameError\u001b[0m                                 Traceback (most recent call last)",
      "Input \u001b[1;32mIn [1]\u001b[0m, in \u001b[0;36m<cell line: 1>\u001b[1;34m()\u001b[0m\n\u001b[1;32m----> 1\u001b[0m \u001b[43mk\u001b[49m\u001b[38;5;241m.\u001b[39mfit(x,y)\n",
      "\u001b[1;31mNameError\u001b[0m: name 'k' is not defined"
     ]
    }
   ],
   "source": [
    "k.fit(x,y)"
   ]
  },
  {
   "cell_type": "code",
   "execution_count": null,
   "id": "0a972ebb",
   "metadata": {},
   "outputs": [],
   "source": [
    "tahmin3=k.predict(x)"
   ]
  },
  {
   "cell_type": "code",
   "execution_count": null,
   "id": "2f293ab5",
   "metadata": {},
   "outputs": [],
   "source": [
    "accuracy_score(tahmin3,y)"
   ]
  },
  {
   "cell_type": "code",
   "execution_count": null,
   "id": "9674535e",
   "metadata": {},
   "outputs": [],
   "source": [
    "confusion_matrix(tahmin3,y)"
   ]
  },
  {
   "cell_type": "code",
   "execution_count": null,
   "id": "999c0fa0",
   "metadata": {},
   "outputs": [],
   "source": [
    "confusion_matrix(tahmin3,y)"
   ]
  },
  {
   "cell_type": "code",
   "execution_count": null,
   "id": "b6d8fa06",
   "metadata": {},
   "outputs": [],
   "source": [
    "from sklearn.model_selection import train_test_split"
   ]
  },
  {
   "cell_type": "code",
   "execution_count": null,
   "id": "a82ee590",
   "metadata": {},
   "outputs": [],
   "source": [
    "x_train,x_test,y_train,y_test=train_test_split(x,y,test_size=0.20,random_state=42)"
   ]
  },
  {
   "cell_type": "code",
   "execution_count": null,
   "id": "d762b926",
   "metadata": {},
   "outputs": [],
   "source": [
    "from sklearn.linear_model import LinearRegression"
   ]
  },
  {
   "cell_type": "code",
   "execution_count": null,
   "id": "673e4fe0",
   "metadata": {},
   "outputs": [],
   "source": [
    "lr=LinearRegression()"
   ]
  },
  {
   "cell_type": "code",
   "execution_count": null,
   "id": "c49eb0e5",
   "metadata": {},
   "outputs": [],
   "source": [
    "model=lr.fit(x_train,y_train)"
   ]
  },
  {
   "cell_type": "code",
   "execution_count": null,
   "id": "b97fe13b",
   "metadata": {},
   "outputs": [],
   "source": [
    "tahmin2=model.predict(x_test)"
   ]
  },
  {
   "cell_type": "code",
   "execution_count": null,
   "id": "07bbff4f",
   "metadata": {},
   "outputs": [],
   "source": [
    "from sklearn.metrics import r2_score, mean_squared_error"
   ]
  },
  {
   "cell_type": "code",
   "execution_count": null,
   "id": "01b8f1f5",
   "metadata": {},
   "outputs": [],
   "source": [
    "r2_score(tahmin2,y_test)"
   ]
  },
  {
   "cell_type": "code",
   "execution_count": null,
   "id": "072d88b9",
   "metadata": {},
   "outputs": [],
   "source": [
    "(mean_squared_error(tahmin2,y_test))**0.5"
   ]
  },
  {
   "cell_type": "code",
   "execution_count": null,
   "id": "b2fc7600",
   "metadata": {},
   "outputs": [],
   "source": []
  }
 ],
 "metadata": {
  "kernelspec": {
   "display_name": "Python 3 (ipykernel)",
   "language": "python",
   "name": "python3"
  },
  "language_info": {
   "codemirror_mode": {
    "name": "ipython",
    "version": 3
   },
   "file_extension": ".py",
   "mimetype": "text/x-python",
   "name": "python",
   "nbconvert_exporter": "python",
   "pygments_lexer": "ipython3",
   "version": "3.9.12"
  }
 },
 "nbformat": 4,
 "nbformat_minor": 5
}
