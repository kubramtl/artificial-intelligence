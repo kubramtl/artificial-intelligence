{
 "cells": [
  {
   "cell_type": "code",
   "execution_count": null,
   "id": "65c29698",
   "metadata": {},
   "outputs": [],
   "source": [
    "#verileri normalleştirme/ölçeklendirme"
   ]
  },
  {
   "cell_type": "code",
   "execution_count": 3,
   "id": "14811cf7",
   "metadata": {},
   "outputs": [],
   "source": [
    "import pandas as pd"
   ]
  },
  {
   "cell_type": "code",
   "execution_count": 4,
   "id": "dd4c1e67",
   "metadata": {},
   "outputs": [],
   "source": [
    "df=pd.read_csv(\"heightweight.csv\")"
   ]
  },
  {
   "cell_type": "code",
   "execution_count": 5,
   "id": "dc980332",
   "metadata": {},
   "outputs": [
    {
     "data": {
      "text/html": [
       "<div>\n",
       "<style scoped>\n",
       "    .dataframe tbody tr th:only-of-type {\n",
       "        vertical-align: middle;\n",
       "    }\n",
       "\n",
       "    .dataframe tbody tr th {\n",
       "        vertical-align: top;\n",
       "    }\n",
       "\n",
       "    .dataframe thead th {\n",
       "        text-align: right;\n",
       "    }\n",
       "</style>\n",
       "<table border=\"1\" class=\"dataframe\">\n",
       "  <thead>\n",
       "    <tr style=\"text-align: right;\">\n",
       "      <th></th>\n",
       "      <th>gender</th>\n",
       "      <th>ageYear</th>\n",
       "      <th>ageMonth</th>\n",
       "      <th>HeightIn</th>\n",
       "      <th>WeightLB</th>\n",
       "    </tr>\n",
       "  </thead>\n",
       "  <tbody>\n",
       "    <tr>\n",
       "      <th>0</th>\n",
       "      <td>f</td>\n",
       "      <td>11.91667</td>\n",
       "      <td>143</td>\n",
       "      <td>56.3</td>\n",
       "      <td>85.0</td>\n",
       "    </tr>\n",
       "    <tr>\n",
       "      <th>1</th>\n",
       "      <td>f</td>\n",
       "      <td>12.91667</td>\n",
       "      <td>155</td>\n",
       "      <td>62.3</td>\n",
       "      <td>105.0</td>\n",
       "    </tr>\n",
       "    <tr>\n",
       "      <th>2</th>\n",
       "      <td>f</td>\n",
       "      <td>12.75000</td>\n",
       "      <td>153</td>\n",
       "      <td>63.3</td>\n",
       "      <td>108.0</td>\n",
       "    </tr>\n",
       "    <tr>\n",
       "      <th>3</th>\n",
       "      <td>f</td>\n",
       "      <td>13.41667</td>\n",
       "      <td>161</td>\n",
       "      <td>59.0</td>\n",
       "      <td>92.0</td>\n",
       "    </tr>\n",
       "    <tr>\n",
       "      <th>4</th>\n",
       "      <td>f</td>\n",
       "      <td>15.91667</td>\n",
       "      <td>191</td>\n",
       "      <td>62.5</td>\n",
       "      <td>112.5</td>\n",
       "    </tr>\n",
       "  </tbody>\n",
       "</table>\n",
       "</div>"
      ],
      "text/plain": [
       "  gender   ageYear  ageMonth  HeightIn  WeightLB\n",
       "0      f  11.91667       143      56.3      85.0\n",
       "1      f  12.91667       155      62.3     105.0\n",
       "2      f  12.75000       153      63.3     108.0\n",
       "3      f  13.41667       161      59.0      92.0\n",
       "4      f  15.91667       191      62.5     112.5"
      ]
     },
     "execution_count": 5,
     "metadata": {},
     "output_type": "execute_result"
    }
   ],
   "source": [
    "df.head()"
   ]
  },
  {
   "cell_type": "code",
   "execution_count": 6,
   "id": "2466f2c5",
   "metadata": {},
   "outputs": [],
   "source": [
    "import seaborn as sns"
   ]
  },
  {
   "cell_type": "code",
   "execution_count": 7,
   "id": "1a9efdb5",
   "metadata": {},
   "outputs": [
    {
     "data": {
      "text/plain": [
       "<AxesSubplot:>"
      ]
     },
     "execution_count": 7,
     "metadata": {},
     "output_type": "execute_result"
    },
    {
     "data": {
      "image/png": "[encoded data removed]",
      "text/plain": [
       "<Figure size 432x288 with 1 Axes>"
      ]
     },
     "metadata": {
      "needs_background": "light"
     },
     "output_type": "display_data"
    }
   ],
   "source": [
    "sns.scatterplot()"
   ]
  },
  {
   "cell_type": "code",
   "execution_count": 9,
   "id": "f501680b",
   "metadata": {},
   "outputs": [
    {
     "data": {
      "text/html": [
       "<div>\n",
       "<style scoped>\n",
       "    .dataframe tbody tr th:only-of-type {\n",
       "        vertical-align: middle;\n",
       "    }\n",
       "\n",
       "    .dataframe tbody tr th {\n",
       "        vertical-align: top;\n",
       "    }\n",
       "\n",
       "    .dataframe thead th {\n",
       "        text-align: right;\n",
       "    }\n",
       "</style>\n",
       "<table border=\"1\" class=\"dataframe\">\n",
       "  <thead>\n",
       "    <tr style=\"text-align: right;\">\n",
       "      <th></th>\n",
       "      <th>ageYear</th>\n",
       "      <th>ageMonth</th>\n",
       "      <th>HeightIn</th>\n",
       "      <th>WeightLB</th>\n",
       "    </tr>\n",
       "  </thead>\n",
       "  <tbody>\n",
       "    <tr>\n",
       "      <th>ageYear</th>\n",
       "      <td>1.000000</td>\n",
       "      <td>1.000000</td>\n",
       "      <td>0.648857</td>\n",
       "      <td>0.634636</td>\n",
       "    </tr>\n",
       "    <tr>\n",
       "      <th>ageMonth</th>\n",
       "      <td>1.000000</td>\n",
       "      <td>1.000000</td>\n",
       "      <td>0.648857</td>\n",
       "      <td>0.634636</td>\n",
       "    </tr>\n",
       "    <tr>\n",
       "      <th>HeightIn</th>\n",
       "      <td>0.648857</td>\n",
       "      <td>0.648857</td>\n",
       "      <td>1.000000</td>\n",
       "      <td>0.774876</td>\n",
       "    </tr>\n",
       "    <tr>\n",
       "      <th>WeightLB</th>\n",
       "      <td>0.634636</td>\n",
       "      <td>0.634636</td>\n",
       "      <td>0.774876</td>\n",
       "      <td>1.000000</td>\n",
       "    </tr>\n",
       "  </tbody>\n",
       "</table>\n",
       "</div>"
      ],
      "text/plain": [
       "           ageYear  ageMonth  HeightIn  WeightLB\n",
       "ageYear   1.000000  1.000000  0.648857  0.634636\n",
       "ageMonth  1.000000  1.000000  0.648857  0.634636\n",
       "HeightIn  0.648857  0.648857  1.000000  0.774876\n",
       "WeightLB  0.634636  0.634636  0.774876  1.000000"
      ]
     },
     "execution_count": 9,
     "metadata": {},
     "output_type": "execute_result"
    }
   ],
   "source": [
    "df.corr()"
   ]
  },
  {
   "cell_type": "code",
   "execution_count": 10,
   "id": "8e4817c3",
   "metadata": {},
   "outputs": [],
   "source": [
    "#veriyi stadartlaştırma yad ölçeklendirme"
   ]
  },
  {
   "cell_type": "code",
   "execution_count": 11,
   "id": "c5513df4",
   "metadata": {},
   "outputs": [
    {
     "data": {
      "text/html": [
       "<div>\n",
       "<style scoped>\n",
       "    .dataframe tbody tr th:only-of-type {\n",
       "        vertical-align: middle;\n",
       "    }\n",
       "\n",
       "    .dataframe tbody tr th {\n",
       "        vertical-align: top;\n",
       "    }\n",
       "\n",
       "    .dataframe thead th {\n",
       "        text-align: right;\n",
       "    }\n",
       "</style>\n",
       "<table border=\"1\" class=\"dataframe\">\n",
       "  <thead>\n",
       "    <tr style=\"text-align: right;\">\n",
       "      <th></th>\n",
       "      <th>gender</th>\n",
       "      <th>ageYear</th>\n",
       "      <th>ageMonth</th>\n",
       "      <th>HeightIn</th>\n",
       "      <th>WeightLB</th>\n",
       "    </tr>\n",
       "  </thead>\n",
       "  <tbody>\n",
       "    <tr>\n",
       "      <th>0</th>\n",
       "      <td>f</td>\n",
       "      <td>11.91667</td>\n",
       "      <td>143</td>\n",
       "      <td>56.3</td>\n",
       "      <td>85.0</td>\n",
       "    </tr>\n",
       "    <tr>\n",
       "      <th>1</th>\n",
       "      <td>f</td>\n",
       "      <td>12.91667</td>\n",
       "      <td>155</td>\n",
       "      <td>62.3</td>\n",
       "      <td>105.0</td>\n",
       "    </tr>\n",
       "    <tr>\n",
       "      <th>2</th>\n",
       "      <td>f</td>\n",
       "      <td>12.75000</td>\n",
       "      <td>153</td>\n",
       "      <td>63.3</td>\n",
       "      <td>108.0</td>\n",
       "    </tr>\n",
       "    <tr>\n",
       "      <th>3</th>\n",
       "      <td>f</td>\n",
       "      <td>13.41667</td>\n",
       "      <td>161</td>\n",
       "      <td>59.0</td>\n",
       "      <td>92.0</td>\n",
       "    </tr>\n",
       "    <tr>\n",
       "      <th>4</th>\n",
       "      <td>f</td>\n",
       "      <td>15.91667</td>\n",
       "      <td>191</td>\n",
       "      <td>62.5</td>\n",
       "      <td>112.5</td>\n",
       "    </tr>\n",
       "  </tbody>\n",
       "</table>\n",
       "</div>"
      ],
      "text/plain": [
       "  gender   ageYear  ageMonth  HeightIn  WeightLB\n",
       "0      f  11.91667       143      56.3      85.0\n",
       "1      f  12.91667       155      62.3     105.0\n",
       "2      f  12.75000       153      63.3     108.0\n",
       "3      f  13.41667       161      59.0      92.0\n",
       "4      f  15.91667       191      62.5     112.5"
      ]
     },
     "execution_count": 11,
     "metadata": {},
     "output_type": "execute_result"
    }
   ],
   "source": [
    "df.head()\n"
   ]
  },
  {
   "cell_type": "code",
   "execution_count": 13,
   "id": "70a8db72",
   "metadata": {},
   "outputs": [],
   "source": [
    "df2=df[[\"ageYear\",\"WeightLB\"]]"
   ]
  },
  {
   "cell_type": "code",
   "execution_count": 14,
   "id": "88ee0406",
   "metadata": {},
   "outputs": [
    {
     "data": {
      "text/html": [
       "<div>\n",
       "<style scoped>\n",
       "    .dataframe tbody tr th:only-of-type {\n",
       "        vertical-align: middle;\n",
       "    }\n",
       "\n",
       "    .dataframe tbody tr th {\n",
       "        vertical-align: top;\n",
       "    }\n",
       "\n",
       "    .dataframe thead th {\n",
       "        text-align: right;\n",
       "    }\n",
       "</style>\n",
       "<table border=\"1\" class=\"dataframe\">\n",
       "  <thead>\n",
       "    <tr style=\"text-align: right;\">\n",
       "      <th></th>\n",
       "      <th>ageYear</th>\n",
       "      <th>WeightLB</th>\n",
       "    </tr>\n",
       "  </thead>\n",
       "  <tbody>\n",
       "    <tr>\n",
       "      <th>0</th>\n",
       "      <td>11.91667</td>\n",
       "      <td>85.0</td>\n",
       "    </tr>\n",
       "    <tr>\n",
       "      <th>1</th>\n",
       "      <td>12.91667</td>\n",
       "      <td>105.0</td>\n",
       "    </tr>\n",
       "    <tr>\n",
       "      <th>2</th>\n",
       "      <td>12.75000</td>\n",
       "      <td>108.0</td>\n",
       "    </tr>\n",
       "    <tr>\n",
       "      <th>3</th>\n",
       "      <td>13.41667</td>\n",
       "      <td>92.0</td>\n",
       "    </tr>\n",
       "    <tr>\n",
       "      <th>4</th>\n",
       "      <td>15.91667</td>\n",
       "      <td>112.5</td>\n",
       "    </tr>\n",
       "    <tr>\n",
       "      <th>...</th>\n",
       "      <td>...</td>\n",
       "      <td>...</td>\n",
       "    </tr>\n",
       "    <tr>\n",
       "      <th>232</th>\n",
       "      <td>13.66667</td>\n",
       "      <td>112.0</td>\n",
       "    </tr>\n",
       "    <tr>\n",
       "      <th>233</th>\n",
       "      <td>15.75000</td>\n",
       "      <td>114.0</td>\n",
       "    </tr>\n",
       "    <tr>\n",
       "      <th>234</th>\n",
       "      <td>13.66667</td>\n",
       "      <td>140.0</td>\n",
       "    </tr>\n",
       "    <tr>\n",
       "      <th>235</th>\n",
       "      <td>13.91667</td>\n",
       "      <td>107.5</td>\n",
       "    </tr>\n",
       "    <tr>\n",
       "      <th>236</th>\n",
       "      <td>12.58333</td>\n",
       "      <td>87.0</td>\n",
       "    </tr>\n",
       "  </tbody>\n",
       "</table>\n",
       "<p>237 rows × 2 columns</p>\n",
       "</div>"
      ],
      "text/plain": [
       "      ageYear  WeightLB\n",
       "0    11.91667      85.0\n",
       "1    12.91667     105.0\n",
       "2    12.75000     108.0\n",
       "3    13.41667      92.0\n",
       "4    15.91667     112.5\n",
       "..        ...       ...\n",
       "232  13.66667     112.0\n",
       "233  15.75000     114.0\n",
       "234  13.66667     140.0\n",
       "235  13.91667     107.5\n",
       "236  12.58333      87.0\n",
       "\n",
       "[237 rows x 2 columns]"
      ]
     },
     "execution_count": 14,
     "metadata": {},
     "output_type": "execute_result"
    }
   ],
   "source": [
    "df2"
   ]
  },
  {
   "cell_type": "code",
   "execution_count": 15,
   "id": "66c2bdd3",
   "metadata": {},
   "outputs": [],
   "source": [
    "from sklearn.preprocessing import normalize, scale"
   ]
  },
  {
   "cell_type": "code",
   "execution_count": 16,
   "id": "bc3a7d60",
   "metadata": {},
   "outputs": [],
   "source": [
    "data=scale(df2)"
   ]
  },
  {
   "cell_type": "code",
   "execution_count": 17,
   "id": "30017cef",
   "metadata": {},
   "outputs": [
    {
     "data": {
      "text/plain": [
       "array([[-1.16552514, -0.840635  ],\n",
       "       [-0.51288498,  0.19031193],\n",
       "       [-0.62166052,  0.34495397],\n",
       "       [-0.1865649 , -0.47980357],\n",
       "       [ 1.4450355 ,  0.57691704],\n",
       "       [ 0.35729973,  0.55114336],\n",
       "       [ 1.11871542,  0.13876459],\n",
       "       [-1.21991618, -1.66539255],\n",
       "       [-0.24095593, -0.35093521],\n",
       "       [-1.32868518, -1.69116622],\n",
       "       [-1.38307622,  0.13876459],\n",
       "       [ 0.73800431,  0.11299091],\n",
       "       [-0.40411597,  1.14393785],\n",
       "       [-0.83920506, -0.42825623],\n",
       "       [-1.16552514, -2.61901847],\n",
       "       [-1.05675613, -0.63444561],\n",
       "       [ 1.4450355 ,  0.29340663],\n",
       "       [-0.78482056, -1.17569276],\n",
       "       [-0.9479806 ,  0.7057854 ],\n",
       "       [ 0.84677985,  0.65423806],\n",
       "       [-1.27430068, -0.840635  ],\n",
       "       [-1.32868518, -1.04682439],\n",
       "       [-0.02340486, -0.91795602],\n",
       "       [ 0.6292353 ,  0.55114336],\n",
       "       [ 1.11871542, -0.01587745],\n",
       "       [ 0.08536415,  0.11299091],\n",
       "       [ 0.57484427, -0.40248255],\n",
       "       [ 0.84677985,  0.55114336],\n",
       "       [ 2.47838025,  1.99446907],\n",
       "       [-1.0023651 , -0.91795602],\n",
       "       [ 0.30291522, -0.58289827],\n",
       "       [-0.1321804 , -0.89218235],\n",
       "       [-0.83920506,  0.47382234],\n",
       "       [-1.38307622, -0.27361419],\n",
       "       [ 1.17309993, -0.32516153],\n",
       "       [ 1.77135559,  1.01506948],\n",
       "       [ 0.24852419, -0.09319847],\n",
       "       [ 0.68361981,  2.12333744],\n",
       "       [ 1.11871542,  0.86042744],\n",
       "       [ 0.95555538,  0.16453826],\n",
       "       [ 0.46607526,  0.06144357],\n",
       "       [ 0.08536415, -0.60867194],\n",
       "       [ 0.19413968, -0.32516153],\n",
       "       [ 0.24852419, -0.14474582],\n",
       "       [-0.78482056, -0.37670888],\n",
       "       [ 1.06432439,  0.34495397],\n",
       "       [-1.38307622, -1.94890296],\n",
       "       [-0.9479806 , -0.86640868],\n",
       "       [-1.11114064, -0.40248255],\n",
       "       [ 0.68361981,  0.55114336],\n",
       "       [ 0.73800431,  2.43262152],\n",
       "       [ 1.77135559,  0.55114336],\n",
       "       [-1.0023651 ,  0.39650132],\n",
       "       [-1.05675613, -0.50557725],\n",
       "       [-0.9479806 , -1.35610847],\n",
       "       [-1.05675613, -0.89218235],\n",
       "       [-0.51288498,  0.29340663],\n",
       "       [ 0.13975518, -0.4540299 ],\n",
       "       [ 1.00993989,  0.422275  ],\n",
       "       [-1.16552514, -0.89218235],\n",
       "       [ 1.00993989,  0.06144357],\n",
       "       [ 1.11871542,  0.24185928],\n",
       "       [-0.89359609, -1.25301378],\n",
       "       [-0.9479806 ,  0.52536969],\n",
       "       [-0.56727601,  0.65423806],\n",
       "       [-0.45850048, -1.35610847],\n",
       "       [-1.11114064, -1.43342949],\n",
       "       [-0.56727601, -0.40248255],\n",
       "       [-0.67604502,  0.19031193],\n",
       "       [ 1.4450355 ,  0.62846438],\n",
       "       [ 1.39064447,  1.99446907],\n",
       "       [-1.32868518, -1.25301378],\n",
       "       [-0.89359609, -0.86640868],\n",
       "       [ 1.33625997,  0.62846438],\n",
       "       [-1.16552514, -1.2272401 ],\n",
       "       [ 0.73800431,  0.83465377],\n",
       "       [-0.02340486, -0.17051949],\n",
       "       [-0.40411597,  0.55114336],\n",
       "       [-0.9479806 , -0.01587745],\n",
       "       [-0.89359609, -0.32516153],\n",
       "       [ 0.68361981, -1.04682439],\n",
       "       [ 0.35729973, -0.53135092],\n",
       "       [ 0.41168423,  2.09756377],\n",
       "       [ 1.39064447, -0.14474582],\n",
       "       [ 1.00993989,  0.55114336],\n",
       "       [-1.16552514,  0.78310642],\n",
       "       [ 0.79239534, -0.14474582],\n",
       "       [ 1.17309993, -0.91795602],\n",
       "       [ 0.95555538,  1.63363765],\n",
       "       [ 0.95555538, -0.50557725],\n",
       "       [-1.21991618, -1.48497684],\n",
       "       [ 0.03097964,  0.26763295],\n",
       "       [ 0.03097964, -1.76848724],\n",
       "       [-0.56727601,  1.0923905 ],\n",
       "       [-0.78482056, -1.40765582],\n",
       "       [-0.51288498,  2.22643213],\n",
       "       [-0.07779589, -0.89218235],\n",
       "       [-1.27430068, -1.48497684],\n",
       "       [-0.9479806 , -1.92312928],\n",
       "       [ 2.47838025,  0.75733275],\n",
       "       [ 0.35729973, -0.89218235],\n",
       "       [ 0.13975518, -0.40248255],\n",
       "       [ 0.95555538,  0.52536969],\n",
       "       [-1.11114064, -0.47980357],\n",
       "       [ 1.55380451,  0.7057854 ],\n",
       "       [-1.27430068, -0.840635  ],\n",
       "       [-0.02340486,  0.34495397],\n",
       "       [ 1.17309993,  0.34495397],\n",
       "       [ 0.24852419, -0.840635  ],\n",
       "       [ 0.57484427, -0.78908765],\n",
       "       [ 0.84677985,  0.47382234],\n",
       "       [ 0.03097964, -0.17051949],\n",
       "       [-0.40411597,  0.19031193],\n",
       "       [-1.11114064, -1.27878745],\n",
       "       [-0.78482056, -0.89218235],\n",
       "       [-0.78482056,  1.37590091],\n",
       "       [-1.38307622, -0.73754031],\n",
       "       [ 1.33625997,  1.37590091],\n",
       "       [ 1.00993989,  0.49959602],\n",
       "       [-0.9479806 , -1.14991908],\n",
       "       [-1.0023651 , -0.58289827],\n",
       "       [-0.24095593, -0.89218235],\n",
       "       [-0.45850048,  0.55114336],\n",
       "       [ 0.46607526, -0.42825623],\n",
       "       [-0.73043605,  0.8088801 ],\n",
       "       [-1.27430068, -0.89218235],\n",
       "       [-0.78482056, -0.09319847],\n",
       "       [-0.02340486, -0.32516153],\n",
       "       [-0.62166052, -0.89218235],\n",
       "       [ 2.26083571,  1.68518499],\n",
       "       [ 4.65384529,  3.6182105 ],\n",
       "       [ 0.6292353 , -0.14474582],\n",
       "       [ 0.6292353 ,  0.88620112],\n",
       "       [-1.32868518, -0.35093521],\n",
       "       [ 1.11871542,  0.19031193],\n",
       "       [ 0.84677985,  0.13876459],\n",
       "       [-1.0023651 , -0.9437297 ],\n",
       "       [ 1.00993989,  0.21608561],\n",
       "       [-1.32868518, -0.89218235],\n",
       "       [-0.73043605, -0.78908765],\n",
       "       [-0.73043605, -1.04682439],\n",
       "       [-1.11114064, -0.37670888],\n",
       "       [-0.24095593, -1.17569276],\n",
       "       [ 0.73800431,  0.93774846],\n",
       "       [ 1.55380451,  1.63363765],\n",
       "       [-0.1321804 ,  0.91197479],\n",
       "       [-0.02340486, -0.32516153],\n",
       "       [ 1.17309993,  0.55114336],\n",
       "       [-1.16552514, -1.35610847],\n",
       "       [ 0.57484427, -0.47980357],\n",
       "       [ 0.57484427,  0.55114336],\n",
       "       [ 0.57484427, -0.14474582],\n",
       "       [ 0.46607526,  0.57691704],\n",
       "       [ 0.30291522,  0.57691704],\n",
       "       [ 0.52045977,  0.34495397],\n",
       "       [-0.02340486,  0.34495397],\n",
       "       [-1.11114064, -0.68599296],\n",
       "       [-0.45850048,  0.24185928],\n",
       "       [-0.83920506, -0.47980357],\n",
       "       [-1.11114064,  0.83465377],\n",
       "       [-0.9479806 , -0.89218235],\n",
       "       [ 1.28187546,  0.55114336],\n",
       "       [ 0.24852419, -0.0674248 ],\n",
       "       [ 0.41168423,  0.55114336],\n",
       "       [-0.78482056, -0.89218235],\n",
       "       [ 1.55380451,  1.35012724],\n",
       "       [-0.40411597, -1.07259806],\n",
       "       [ 0.19413968, -0.40248255],\n",
       "       [-1.32868518, -0.76331398],\n",
       "       [-0.45850048, -0.4540299 ],\n",
       "       [-0.45850048,  0.37072765],\n",
       "       [-0.34972494,  1.01506948],\n",
       "       [ 1.06432439,  0.55114336],\n",
       "       [-0.45850048,  0.65423806],\n",
       "       [-1.11114064, -0.89218235],\n",
       "       [ 0.6292353 , -1.04682439],\n",
       "       [ 0.19413968,  0.52536969],\n",
       "       [-0.83920506, -1.04682439],\n",
       "       [-1.21991618, -1.6138452 ],\n",
       "       [ 1.28187546,  1.99446907],\n",
       "       [ 2.09767567,  0.8088801 ],\n",
       "       [-1.21991618, -0.89218235],\n",
       "       [ 1.33625997,  0.55114336],\n",
       "       [ 1.28187546,  2.53571621],\n",
       "       [ 1.93451563,  2.3553005 ],\n",
       "       [-0.67604502,  0.19031193],\n",
       "       [ 0.52045977,  0.93774846],\n",
       "       [ 0.08536415, -0.89218235],\n",
       "       [-1.05675613, -0.53135092],\n",
       "       [-1.16552514, -0.01587745],\n",
       "       [-0.07779589,  0.83465377],\n",
       "       [ 0.08536415,  1.01506948],\n",
       "       [ 0.95555538,  1.63363765],\n",
       "       [ 0.46607526,  0.55114336],\n",
       "       [-0.51288498, -0.50557725],\n",
       "       [-0.1321804 ,  0.19031193],\n",
       "       [ 0.68361981,  0.49959602],\n",
       "       [ 0.68361981,  0.55114336],\n",
       "       [ 0.57484427,  0.65423806],\n",
       "       [ 0.08536415, -0.53135092],\n",
       "       [-0.78482056, -0.17051949],\n",
       "       [-0.78482056,  0.86042744],\n",
       "       [ 1.28187546,  0.73155908],\n",
       "       [-0.07779589,  0.55114336],\n",
       "       [ 0.35729973,  0.55114336],\n",
       "       [-0.1321804 , -0.53135092],\n",
       "       [-1.27430068, -0.840635  ],\n",
       "       [ 0.52045977,  0.55114336],\n",
       "       [-1.21991618, -0.71176663],\n",
       "       [-0.89359609,  0.86042744],\n",
       "       [-1.32868518, -0.91795602],\n",
       "       [-0.24095593,  0.75733275],\n",
       "       [-1.11114064, -0.63444561],\n",
       "       [ 2.26083571,  3.6182105 ],\n",
       "       [-0.29534044,  0.55114336],\n",
       "       [-0.83920506, -1.51075051],\n",
       "       [ 1.55380451,  2.50994254],\n",
       "       [ 1.60819555,  1.71095867],\n",
       "       [-0.67604502, -0.22206684],\n",
       "       [-1.0023651 , -1.53652418],\n",
       "       [-1.38307622, -1.43342949],\n",
       "       [ 1.17309993,  0.55114336],\n",
       "       [-0.1865649 , -1.35610847],\n",
       "       [-0.62166052,  1.37590091],\n",
       "       [ 1.71696455, -0.17051949],\n",
       "       [-0.02340486, -0.89218235],\n",
       "       [-0.29534044, -0.11897215],\n",
       "       [ 0.73800431,  0.55114336],\n",
       "       [-0.62166052, -1.12414541],\n",
       "       [-0.51288498, -1.07259806],\n",
       "       [ 0.73800431,  0.06144357],\n",
       "       [-1.21991618, -1.30456112],\n",
       "       [-0.02340486,  0.55114336],\n",
       "       [ 1.33625997,  0.65423806],\n",
       "       [-0.02340486,  1.99446907],\n",
       "       [ 0.13975518,  0.3191803 ],\n",
       "       [-0.73043605, -0.73754031]])"
      ]
     },
     "execution_count": 17,
     "metadata": {},
     "output_type": "execute_result"
    }
   ],
   "source": [
    "data"
   ]
  },
  {
   "cell_type": "code",
   "execution_count": 18,
   "id": "9b7f62e5",
   "metadata": {},
   "outputs": [],
   "source": [
    "normaldata=normalize(df2)"
   ]
  },
  {
   "cell_type": "code",
   "execution_count": 19,
   "id": "1544cc73",
   "metadata": {},
   "outputs": [
    {
     "data": {
      "text/plain": [
       "array([[0.13883833, 0.99031506],\n",
       "       [0.12209554, 0.99251835],\n",
       "       [0.11724138, 0.99310345],\n",
       "       [0.14430693, 0.98953298],\n",
       "       [0.1400864 , 0.99013928],\n",
       "       [0.12621466, 0.99200295],\n",
       "       [0.14663487, 0.98919069],\n",
       "       [0.16902985, 0.98561093],\n",
       "       [0.13970967, 0.99019251],\n",
       "       [0.16789859, 0.98580427],\n",
       "       [0.11069371, 0.99385457],\n",
       "       [0.14186764, 0.98988564],\n",
       "       [0.10534839, 0.99443538],\n",
       "       [0.13233829, 0.99120461],\n",
       "       [0.22966597, 0.97326951],\n",
       "       [0.13453349, 0.99090905],\n",
       "       [0.14713495, 0.98911643],\n",
       "       [0.15725448, 0.98755811],\n",
       "       [0.10592249, 0.99437439],\n",
       "       [0.13045451, 0.9914543 ],\n",
       "       [0.13693316, 0.99058029],\n",
       "       [0.1425618 , 0.9897859 ],\n",
       "       [0.16152349, 0.98686887],\n",
       "       [0.12984383, 0.99153446],\n",
       "       [0.15089259, 0.98855016],\n",
       "       [0.13247733, 0.99118604],\n",
       "       [0.15410821, 0.98805398],\n",
       "       [0.13274336, 0.99115044],\n",
       "       [0.12403473, 0.99227788],\n",
       "       [0.14418605, 0.9895506 ],\n",
       "       [0.1554929 , 0.98783701],\n",
       "       [0.1586781 , 0.98733037],\n",
       "       [0.11166529, 0.99374587],\n",
       "       [0.11979084, 0.99279915],\n",
       "       [0.16102864, 0.98694973],\n",
       "       [0.13444321, 0.9909213 ],\n",
       "       [0.14014415, 0.99013111],\n",
       "       [0.10295869, 0.99468563],\n",
       "       [0.12954877, 0.99157305],\n",
       "       [0.14363074, 0.98963135],\n",
       "       [0.13927953, 0.9902531 ],\n",
       "       [0.15274857, 0.98826508],\n",
       "       [0.14579379, 0.989315  ],\n",
       "       [0.14153857, 0.98993274],\n",
       "       [0.13181834, 0.99127389],\n",
       "       [0.14056566, 0.99007136],\n",
       "       [0.17945341, 0.98376647],\n",
       "       [0.14347063, 0.98965457],\n",
       "       [0.12729812, 0.9918645 ],\n",
       "       [0.130569  , 0.99143922],\n",
       "       [0.09939312, 0.99504824],\n",
       "       [0.14502773, 0.98942759],\n",
       "       [0.1109319 , 0.99382801],\n",
       "       [0.13092159, 0.99139273],\n",
       "       [0.16119729, 0.9869222 ],\n",
       "       [0.14238357, 0.98981156],\n",
       "       [0.11984647, 0.99279244],\n",
       "       [0.14877611, 0.98887091],\n",
       "       [0.13793811, 0.99044085],\n",
       "       [0.14045874, 0.99008653],\n",
       "       [0.14716066, 0.9891126 ],\n",
       "       [0.14392602, 0.98958845],\n",
       "       [0.15815717, 0.98741395],\n",
       "       [0.10920835, 0.99401888],\n",
       "       [0.11186648, 0.99372325],\n",
       "       [0.17078672, 0.98530802],\n",
       "       [0.1611319 , 0.98693288],\n",
       "       [0.13597999, 0.99071158],\n",
       "       [0.11976663, 0.99280207],\n",
       "       [0.13887607, 0.99030977],\n",
       "       [0.11237881, 0.99366544],\n",
       "       [0.14980542, 0.9887155 ],\n",
       "       [0.1444263 , 0.98951556],\n",
       "       [0.13744946, 0.99050878],\n",
       "       [0.15197736, 0.98838397],\n",
       "       [0.12524703, 0.99212559],\n",
       "       [0.13811922, 0.99041561],\n",
       "       [0.11602649, 0.99324612],\n",
       "       [0.12040475, 0.99272488],\n",
       "       [0.12874411, 0.99167785],\n",
       "       [0.17915264, 0.98382129],\n",
       "       [0.15470806, 0.98796023],\n",
       "       [0.10042862, 0.99494427],\n",
       "       [0.15870714, 0.9873257 ],\n",
       "       [0.13491581, 0.99085707],\n",
       "       [0.10175805, 0.99480918],\n",
       "       [0.14973107, 0.98872676],\n",
       "       [0.18251089, 0.98320383],\n",
       "       [0.11330081, 0.99356073],\n",
       "       [0.16352475, 0.98653923],\n",
       "       [0.16108675, 0.98694025],\n",
       "       [0.12804521, 0.99176833],\n",
       "       [0.20103408, 0.97958425],\n",
       "       [0.10419168, 0.99455723],\n",
       "       [0.16655936, 0.98603143],\n",
       "       [0.08903372, 0.99602861],\n",
       "       [0.15963267, 0.98717648],\n",
       "       [0.15998152, 0.98712001],\n",
       "       [0.18799353, 0.98217027],\n",
       "       [0.14917407, 0.98881095],\n",
       "       [0.16725326, 0.98591396],\n",
       "       [0.14721959, 0.98910383],\n",
       "       [0.13478275, 0.99087517],\n",
       "       [0.12933918, 0.99160041],\n",
       "       [0.13850704, 0.99036145],\n",
       "       [0.13693316, 0.99058029],\n",
       "       [0.12554207, 0.9920883 ],\n",
       "       [0.1420629 , 0.98985763],\n",
       "       [0.16345781, 0.98655033],\n",
       "       [0.16718689, 0.98592522],\n",
       "       [0.13451292, 0.99091184],\n",
       "       [0.13894516, 0.99030008],\n",
       "       [0.12364697, 0.99232627],\n",
       "       [0.15496777, 0.98791953],\n",
       "       [0.14718875, 0.98910842],\n",
       "       [0.09719389, 0.99526547],\n",
       "       [0.1319771 , 0.99125277],\n",
       "       [0.12212582, 0.99251463],\n",
       "       [0.13610885, 0.99069389],\n",
       "       [0.15323203, 0.98819024],\n",
       "       [0.13396664, 0.99098584],\n",
       "       [0.15676751, 0.98763553],\n",
       "       [0.11529735, 0.99333102],\n",
       "       [0.15318828, 0.98819702],\n",
       "       [0.10693316, 0.99426621],\n",
       "       [0.13853221, 0.99035793],\n",
       "       [0.12464836, 0.99220098],\n",
       "       [0.14239377, 0.98981009],\n",
       "       [0.15006687, 0.98867585],\n",
       "       [0.12707097, 0.99189363],\n",
       "       [0.12059064, 0.99270232],\n",
       "       [0.1472765 , 0.98909536],\n",
       "       [0.12283212, 0.99242746],\n",
       "       [0.12252661, 0.99246523],\n",
       "       [0.14526796, 0.98939235],\n",
       "       [0.1427536 , 0.98975826],\n",
       "       [0.14503643, 0.98942632],\n",
       "       [0.14306287, 0.9897136 ],\n",
       "       [0.13756841, 0.99049227],\n",
       "       [0.14477625, 0.98946442],\n",
       "       [0.15350844, 0.98814734],\n",
       "       [0.12663189, 0.99194978],\n",
       "       [0.16745305, 0.98588005],\n",
       "       [0.12318292, 0.99238398],\n",
       "       [0.12005269, 0.99276752],\n",
       "       [0.11272234, 0.99362653],\n",
       "       [0.14239377, 0.98981009],\n",
       "       [0.13708631, 0.99055911],\n",
       "       [0.1569205 , 0.98761124],\n",
       "       [0.15655973, 0.98766849],\n",
       "       [0.12911835, 0.99162919],\n",
       "       [0.14645764, 0.98921694],\n",
       "       [0.12710874, 0.99188879],\n",
       "       [0.12493925, 0.99216439],\n",
       "       [0.13306533, 0.99110727],\n",
       "       [0.12554207, 0.9920883 ],\n",
       "       [0.1351132 , 0.99083017],\n",
       "       [0.12172946, 0.99256332],\n",
       "       [0.13375115, 0.99101495],\n",
       "       [0.10159919, 0.99482541],\n",
       "       [0.14430689, 0.98953298],\n",
       "       [0.13853224, 0.99035792],\n",
       "       [0.13945709, 0.99022811],\n",
       "       [0.12694087, 0.99191029],\n",
       "       [0.14718875, 0.98910842],\n",
       "       [0.12515197, 0.99213758],\n",
       "       [0.16042092, 0.9870487 ],\n",
       "       [0.14808183, 0.98897511],\n",
       "       [0.13366452, 0.99102664],\n",
       "       [0.13917282, 0.99026811],\n",
       "       [0.11896479, 0.99289847],\n",
       "       [0.10817689, 0.99413166],\n",
       "       [0.13563949, 0.99075826],\n",
       "       [0.11330079, 0.99356073],\n",
       "       [0.14142136, 0.98994949],\n",
       "       [0.17817274, 0.98399923],\n",
       "       [0.12458233, 0.99220927],\n",
       "       [0.15152229, 0.98845384],\n",
       "       [0.1666827 , 0.98601059],\n",
       "       [0.11121062, 0.99379686],\n",
       "       [0.14309889, 0.9897084 ],\n",
       "       [0.13949562, 0.99022269],\n",
       "       [0.13925483, 0.99025658],\n",
       "       [0.103538  , 0.9946255 ],\n",
       "       [0.11265693, 0.99363394],\n",
       "       [0.11976663, 0.99280207],\n",
       "       [0.12045541, 0.99271874],\n",
       "       [0.1624938 , 0.98670956],\n",
       "       [0.13162851, 0.99129912],\n",
       "       [0.11717407, 0.99311139],\n",
       "       [0.11483801, 0.99338423],\n",
       "       [0.11358516, 0.99352826],\n",
       "       [0.11330081, 0.99356073],\n",
       "       [0.12766696, 0.99181709],\n",
       "       [0.13977991, 0.9901826 ],\n",
       "       [0.12752174, 0.99183578],\n",
       "       [0.13172498, 0.9912863 ],\n",
       "       [0.130569  , 0.99143922],\n",
       "       [0.12688991, 0.99191681],\n",
       "       [0.15028807, 0.98864225],\n",
       "       [0.12652593, 0.9919633 ],\n",
       "       [0.10534279, 0.99443597],\n",
       "       [0.1344113 , 0.99092563],\n",
       "       [0.12039751, 0.99272576],\n",
       "       [0.12621466, 0.99200295],\n",
       "       [0.14674563, 0.98917426],\n",
       "       [0.13693316, 0.99058029],\n",
       "       [0.12839276, 0.9917234 ],\n",
       "       [0.13401806, 0.99097889],\n",
       "       [0.10395347, 0.99458216],\n",
       "       [0.13837645, 0.9903797 ],\n",
       "       [0.11419064, 0.99345886],\n",
       "       [0.13362234, 0.99103233],\n",
       "       [0.09959948, 0.99502761],\n",
       "       [0.11748429, 0.99307474],\n",
       "       [0.16994516, 0.98545352],\n",
       "       [0.10661112, 0.99430079],\n",
       "       [0.1193393 , 0.99285353],\n",
       "       [0.12948489, 0.9915814 ],\n",
       "       [0.16775188, 0.98582925],\n",
       "       [0.15567496, 0.98780833],\n",
       "       [0.13708631, 0.99055911],\n",
       "       [0.17609352, 0.98437344],\n",
       "       [0.09911886, 0.9950756 ],\n",
       "       [0.16439895, 0.98639393],\n",
       "       [0.1605869 , 0.98702171],\n",
       "       [0.13265555, 0.9911622 ],\n",
       "       [0.13129397, 0.99134348],\n",
       "       [0.15835379, 0.98738244],\n",
       "       [0.15842903, 0.98737037],\n",
       "       [0.14322345, 0.98969038],\n",
       "       [0.15384801, 0.98809453],\n",
       "       [0.1211254 , 0.99263721],\n",
       "       [0.13685792, 0.99059069],\n",
       "       [0.09715724, 0.99526904],\n",
       "       [0.12838604, 0.99172427],\n",
       "       [0.14314645, 0.98970152]])"
      ]
     },
     "execution_count": 19,
     "metadata": {},
     "output_type": "execute_result"
    }
   ],
   "source": [
    "normaldata # data normalleştirdik"
   ]
  },
  {
   "cell_type": "code",
   "execution_count": 21,
   "id": "a7bc470d",
   "metadata": {},
   "outputs": [],
   "source": [
    "import tensorflow as tf"
   ]
  },
  {
   "cell_type": "code",
   "execution_count": 22,
   "id": "95d895cb",
   "metadata": {},
   "outputs": [],
   "source": [
    "import  matplotlib.pyplot as plt"
   ]
  },
  {
   "cell_type": "code",
   "execution_count": 23,
   "id": "c8537f6d",
   "metadata": {},
   "outputs": [
    {
     "name": "stderr",
     "output_type": "stream",
     "text": [
      "C:\\Users\\kubra\\anaconda\\lib\\site-packages\\seaborn\\distributions.py:2619: FutureWarning: `distplot` is a deprecated function and will be removed in a future version. Please adapt your code to use either `displot` (a figure-level function with similar flexibility) or `histplot` (an axes-level function for histograms).\n",
      "  warnings.warn(msg, FutureWarning)\n",
      "C:\\Users\\kubra\\anaconda\\lib\\site-packages\\seaborn\\distributions.py:2657: RuntimeWarning: Mean of empty slice.\n",
      "  line, = ax.plot(a.mean(), 0)\n",
      "C:\\Users\\kubra\\anaconda\\lib\\site-packages\\numpy\\core\\_methods.py:189: RuntimeWarning: invalid value encountered in double_scalars\n",
      "  ret = ret.dtype.type(ret / rcount)\n",
      "C:\\Users\\kubra\\anaconda\\lib\\site-packages\\numpy\\lib\\histograms.py:906: RuntimeWarning: invalid value encountered in true_divide\n",
      "  return n/db/n.sum(), bin_edges\n"
     ]
    },
    {
     "data": {
      "text/plain": [
       "<AxesSubplot:>"
      ]
     },
     "execution_count": 23,
     "metadata": {},
     "output_type": "execute_result"
    },
    {
     "data": {
      "image/png": "[encoded data removed]",
      "text/plain": [
       "<Figure size 432x288 with 1 Axes>"
      ]
     },
     "metadata": {
      "needs_background": "light"
     },
     "output_type": "display_data"
    }
   ],
   "source": [
    "sns.distplot()"
   ]
  },
  {
   "cell_type": "code",
   "execution_count": 26,
   "id": "dabe5e86",
   "metadata": {},
   "outputs": [],
   "source": [
    "mnist=tf.keras.datasets.mnist"
   ]
  },
  {
   "cell_type": "code",
   "execution_count": 27,
   "id": "e176a298",
   "metadata": {},
   "outputs": [
    {
     "name": "stdout",
     "output_type": "stream",
     "text": [
      "Downloading data from https://storage.googleapis.com/tensorflow/tf-keras-datasets/mnist.npz\n",
      "11490434/11490434 [==============================] - 7s 1us/step\n"
     ]
    }
   ],
   "source": [
    "(train_images,train_labels),(test_images,test_labels)=mnist.load_data()\n"
   ]
  },
  {
   "cell_type": "code",
   "execution_count": 28,
   "id": "18ed163b",
   "metadata": {},
   "outputs": [
    {
     "data": {
      "text/plain": [
       "(60000, 28, 28)"
      ]
     },
     "execution_count": 28,
     "metadata": {},
     "output_type": "execute_result"
    }
   ],
   "source": [
    "train_images.shape"
   ]
  },
  {
   "cell_type": "code",
   "execution_count": 29,
   "id": "1dc4381e",
   "metadata": {},
   "outputs": [
    {
     "data": {
      "text/plain": [
       "array([5, 0, 4, ..., 5, 6, 8], dtype=uint8)"
      ]
     },
     "execution_count": 29,
     "metadata": {},
     "output_type": "execute_result"
    }
   ],
   "source": [
    "train_labels"
   ]
  },
  {
   "cell_type": "code",
   "execution_count": 31,
   "id": "54784486",
   "metadata": {},
   "outputs": [],
   "source": [
    "import matplotlib.pyplot as plt"
   ]
  },
  {
   "cell_type": "code",
   "execution_count": 32,
   "id": "9229a6d5",
   "metadata": {},
   "outputs": [
    {
     "data": {
      "text/plain": [
       "<matplotlib.image.AxesImage at 0x21a64752160>"
      ]
     },
     "execution_count": 32,
     "metadata": {},
     "output_type": "execute_result"
    },
    {
     "data": {
      "image/png": "[encoded data removed]",
      "text/plain": [
       "<Figure size 432x288 with 1 Axes>"
      ]
     },
     "metadata": {
      "needs_background": "light"
     },
     "output_type": "display_data"
    }
   ],
   "source": [
    "plt.imshow(train_images[0], cmap=\"gray\")"
   ]
  },
  {
   "cell_type": "code",
   "execution_count": 33,
   "id": "199b7445",
   "metadata": {},
   "outputs": [
    {
     "data": {
      "text/plain": [
       "<matplotlib.image.AxesImage at 0x21a686c18b0>"
      ]
     },
     "execution_count": 33,
     "metadata": {},
     "output_type": "execute_result"
    },
    {
     "data": {
      "image/png": "[encoded data removed]",
      "text/plain": [
       "<Figure size 432x288 with 1 Axes>"
      ]
     },
     "metadata": {
      "needs_background": "light"
     },
     "output_type": "display_data"
    }
   ],
   "source": [
    "plt.imshow(train_images[59999], cmap=\"gray\")"
   ]
  },
  {
   "cell_type": "code",
   "execution_count": 34,
   "id": "41986633",
   "metadata": {},
   "outputs": [],
   "source": [
    "train_images=train_images/255.0\n",
    "test_images=test_images/255.0\n"
   ]
  },
  {
   "cell_type": "code",
   "execution_count": 35,
   "id": "a536a2de",
   "metadata": {},
   "outputs": [],
   "source": [
    "#convolutional neurol networks\n"
   ]
  },
  {
   "cell_type": "code",
   "execution_count": 42,
   "id": "73db087e",
   "metadata": {},
   "outputs": [],
   "source": [
    "from tensorflow.keras.models import Sequential\n",
    "from tensorflow.keras.layers import Dense, Conv2D,InputLayer,Reshape,MaxPooling2D,Flatten\n"
   ]
  },
  {
   "cell_type": "code",
   "execution_count": 43,
   "id": "2155fa80",
   "metadata": {},
   "outputs": [],
   "source": [
    "model=Sequential()\n",
    "model.add(InputLayer(input_shape=(28,28)))\n",
    "model.add(Reshape(target_shape=(28,28,1)))\n",
    "model.add(Conv2D(filters=12,kernel_size=(3,3),activation='relu'))\n",
    "model.add(MaxPooling2D(pool_size=(2,2)))\n",
    "model.add(Flatten())\n",
    "model.add(Dense(10))\n"
   ]
  },
  {
   "cell_type": "code",
   "execution_count": 45,
   "id": "62682325",
   "metadata": {},
   "outputs": [],
   "source": [
    "model.compile(loss=tf.keras.losses.SparseCategoricalCrossentropy(from_logits=True),optimizer=\"adam\",metrics=\"accuracy\")\n"
   ]
  },
  {
   "cell_type": "code",
   "execution_count": 46,
   "id": "531b016a",
   "metadata": {},
   "outputs": [
    {
     "name": "stdout",
     "output_type": "stream",
     "text": [
      "Epoch 1/10\n",
      "1688/1688 [==============================] - 9s 5ms/step - loss: 0.2950 - accuracy: 0.9160 - val_loss: 0.1299 - val_accuracy: 0.9672\n",
      "Epoch 2/10\n",
      "1688/1688 [==============================] - 12s 7ms/step - loss: 0.1208 - accuracy: 0.9655 - val_loss: 0.0892 - val_accuracy: 0.9773\n",
      "Epoch 3/10\n",
      "1688/1688 [==============================] - 10s 6ms/step - loss: 0.0879 - accuracy: 0.9748 - val_loss: 0.0765 - val_accuracy: 0.9800\n",
      "Epoch 4/10\n",
      "1688/1688 [==============================] - 10s 6ms/step - loss: 0.0716 - accuracy: 0.9791 - val_loss: 0.0664 - val_accuracy: 0.9827\n",
      "Epoch 5/10\n",
      "1688/1688 [==============================] - 11s 6ms/step - loss: 0.0610 - accuracy: 0.9821 - val_loss: 0.0655 - val_accuracy: 0.9827\n",
      "Epoch 6/10\n",
      "1688/1688 [==============================] - 11s 6ms/step - loss: 0.0532 - accuracy: 0.9838 - val_loss: 0.0625 - val_accuracy: 0.9833\n",
      "Epoch 7/10\n",
      "1688/1688 [==============================] - 11s 7ms/step - loss: 0.0476 - accuracy: 0.9864 - val_loss: 0.0684 - val_accuracy: 0.9820\n",
      "Epoch 8/10\n",
      "1688/1688 [==============================] - 11s 6ms/step - loss: 0.0431 - accuracy: 0.9873 - val_loss: 0.0575 - val_accuracy: 0.9848\n",
      "Epoch 9/10\n",
      "1688/1688 [==============================] - 10s 6ms/step - loss: 0.0389 - accuracy: 0.9881 - val_loss: 0.0616 - val_accuracy: 0.9848\n",
      "Epoch 10/10\n",
      "1688/1688 [==============================] - 10s 6ms/step - loss: 0.0356 - accuracy: 0.9894 - val_loss: 0.0597 - val_accuracy: 0.9867\n"
     ]
    },
    {
     "data": {
      "text/plain": [
       "<keras.callbacks.History at 0x21a655ccac0>"
      ]
     },
     "execution_count": 46,
     "metadata": {},
     "output_type": "execute_result"
    }
   ],
   "source": [
    "model.fit(train_images,train_labels,validation_split=0.10,epochs=10)\n"
   ]
  },
  {
   "cell_type": "code",
   "execution_count": 47,
   "id": "714bb8fd",
   "metadata": {},
   "outputs": [
    {
     "name": "stdout",
     "output_type": "stream",
     "text": [
      "313/313 [==============================] - 1s 2ms/step - loss: 0.0562 - accuracy: 0.9828\n"
     ]
    }
   ],
   "source": [
    "_,accuracy=model.evaluate(test_images,test_labels)"
   ]
  },
  {
   "cell_type": "code",
   "execution_count": 48,
   "id": "8a88b1f3",
   "metadata": {},
   "outputs": [
    {
     "data": {
      "text/plain": [
       "0.9828000068664551"
      ]
     },
     "execution_count": 48,
     "metadata": {},
     "output_type": "execute_result"
    }
   ],
   "source": [
    "accuracy"
   ]
  },
  {
   "cell_type": "code",
   "execution_count": 49,
   "id": "6ba9c81b",
   "metadata": {},
   "outputs": [
    {
     "data": {
      "text/plain": [
       "0.05616048723459244"
      ]
     },
     "execution_count": 49,
     "metadata": {},
     "output_type": "execute_result"
    }
   ],
   "source": [
    "_"
   ]
  },
  {
   "cell_type": "code",
   "execution_count": null,
   "id": "98924340",
   "metadata": {},
   "outputs": [],
   "source": [
    "MLOPs, (Heroku =ücretsiz kaynaklar)"
   ]
  }
 ],
 "metadata": {
  "kernelspec": {
   "display_name": "Python 3 (ipykernel)",
   "language": "python",
   "name": "python3"
  },
  "language_info": {
   "codemirror_mode": {
    "name": "ipython",
    "version": 3
   },
   "file_extension": ".py",
   "mimetype": "text/x-python",
   "name": "python",
   "nbconvert_exporter": "python",
   "pygments_lexer": "ipython3",
   "version": "3.9.12"
  }
 },
 "nbformat": 4,
 "nbformat_minor": 5
}
