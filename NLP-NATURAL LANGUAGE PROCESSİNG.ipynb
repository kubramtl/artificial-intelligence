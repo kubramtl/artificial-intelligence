{
 "cells": [
  {
   "cell_type": "markdown",
   "id": "3ee1507e",
   "metadata": {},
   "source": [
    "Natural Language Processing\n"
   ]
  },
  {
   "cell_type": "code",
   "execution_count": 66,
   "id": "d1948140",
   "metadata": {},
   "outputs": [
    {
     "name": "stdout",
     "output_type": "stream",
     "text": [
      "Requirement already satisfied: nltk in c:\\users\\kubra\\anaconda\\lib\\site-packages (3.7)\n",
      "Requirement already satisfied: regex>=2021.8.3 in c:\\users\\kubra\\anaconda\\lib\\site-packages (from nltk) (2022.3.15)\n",
      "Requirement already satisfied: joblib in c:\\users\\kubra\\anaconda\\lib\\site-packages (from nltk) (1.1.0)\n",
      "Requirement already satisfied: tqdm in c:\\users\\kubra\\anaconda\\lib\\site-packages (from nltk) (4.64.0)\n",
      "Requirement already satisfied: click in c:\\users\\kubra\\anaconda\\lib\\site-packages (from nltk) (8.0.4)\n",
      "Requirement already satisfied: colorama in c:\\users\\kubra\\appdata\\roaming\\python\\python39\\site-packages (from click->nltk) (0.4.4)\n",
      "Note: you may need to restart the kernel to use updated packages.\n"
     ]
    }
   ],
   "source": [
    "pip install nltk"
   ]
  },
  {
   "cell_type": "code",
   "execution_count": 67,
   "id": "09687e01",
   "metadata": {},
   "outputs": [],
   "source": [
    "#natıral language toolkit"
   ]
  },
  {
   "cell_type": "code",
   "execution_count": 68,
   "id": "6f700f39",
   "metadata": {},
   "outputs": [],
   "source": [
    "import nltk"
   ]
  },
  {
   "cell_type": "code",
   "execution_count": 69,
   "id": "74a5dc1f",
   "metadata": {},
   "outputs": [
    {
     "name": "stderr",
     "output_type": "stream",
     "text": [
      "[nltk_data] Downloading package punkt to\n",
      "[nltk_data]     C:\\Users\\kubra\\AppData\\Roaming\\nltk_data...\n",
      "[nltk_data]   Package punkt is already up-to-date!\n"
     ]
    },
    {
     "data": {
      "text/plain": [
       "True"
      ]
     },
     "execution_count": 69,
     "metadata": {},
     "output_type": "execute_result"
    }
   ],
   "source": [
    "\n",
    "nltk.download(\"punkt\")"
   ]
  },
  {
   "cell_type": "code",
   "execution_count": 70,
   "id": "576ddc73",
   "metadata": {},
   "outputs": [],
   "source": [
    "import nltk"
   ]
  },
  {
   "cell_type": "code",
   "execution_count": 71,
   "id": "b869afcf",
   "metadata": {},
   "outputs": [],
   "source": [
    "cumle=\"Yaylaya gitmişti yayla zamanı.Gülizar döndü de, Döndü dönmedi\""
   ]
  },
  {
   "cell_type": "code",
   "execution_count": 72,
   "id": "eb4ef4c5",
   "metadata": {},
   "outputs": [
    {
     "data": {
      "text/plain": [
       "'yaylaya gitmişti yayla zamanı.gülizar döndü de, döndü dönmedi'"
      ]
     },
     "execution_count": 72,
     "metadata": {},
     "output_type": "execute_result"
    }
   ],
   "source": [
    "cumle.lower()"
   ]
  },
  {
   "cell_type": "code",
   "execution_count": 73,
   "id": "eaaf933f",
   "metadata": {},
   "outputs": [
    {
     "data": {
      "text/plain": [
       "'YAYLAYA GITMIŞTI YAYLA ZAMANI.GÜLIZAR DÖNDÜ DE, DÖNDÜ DÖNMEDI'"
      ]
     },
     "execution_count": 73,
     "metadata": {},
     "output_type": "execute_result"
    }
   ],
   "source": [
    "cumle.upper()"
   ]
  },
  {
   "cell_type": "code",
   "execution_count": 74,
   "id": "e7a64e06",
   "metadata": {},
   "outputs": [
    {
     "data": {
      "text/plain": [
       "['Yaylaya',\n",
       " 'gitmişti',\n",
       " 'yayla',\n",
       " 'zamanı.Gülizar',\n",
       " 'döndü',\n",
       " 'de,',\n",
       " 'Döndü',\n",
       " 'dönmedi']"
      ]
     },
     "execution_count": 74,
     "metadata": {},
     "output_type": "execute_result"
    }
   ],
   "source": [
    "cumle.split()#listeye çeviriyor virgülle"
   ]
  },
  {
   "cell_type": "code",
   "execution_count": 75,
   "id": "39e64a25",
   "metadata": {},
   "outputs": [
    {
     "data": {
      "text/plain": [
       "'Y'"
      ]
     },
     "execution_count": 75,
     "metadata": {},
     "output_type": "execute_result"
    }
   ],
   "source": [
    "cumle[0] #dizi olark düşünüleblir"
   ]
  },
  {
   "cell_type": "code",
   "execution_count": 76,
   "id": "8bc690d4",
   "metadata": {},
   "outputs": [],
   "source": [
    "from nltk.tokenize import sent_tokenize # cümleleri ayırıyor"
   ]
  },
  {
   "cell_type": "code",
   "execution_count": 77,
   "id": "35bc895c",
   "metadata": {},
   "outputs": [],
   "source": [
    "text=\"i love Python. Zafer lives in a small village.Please call back.\""
   ]
  },
  {
   "cell_type": "code",
   "execution_count": 78,
   "id": "e2c67f8c",
   "metadata": {},
   "outputs": [
    {
     "data": {
      "text/plain": [
       "['i love Python', ' Zafer lives in a small village', 'Please call back', '']"
      ]
     },
     "execution_count": 78,
     "metadata": {},
     "output_type": "execute_result"
    }
   ],
   "source": [
    "text.split(\".\")"
   ]
  },
  {
   "cell_type": "code",
   "execution_count": 79,
   "id": "359349f8",
   "metadata": {},
   "outputs": [
    {
     "data": {
      "text/plain": [
       "['i love Python.', 'Zafer lives in a small village.Please call back.']"
      ]
     },
     "execution_count": 79,
     "metadata": {},
     "output_type": "execute_result"
    }
   ],
   "source": [
    "sent_tokenize(text)"
   ]
  },
  {
   "cell_type": "code",
   "execution_count": 80,
   "id": "7f75c03e",
   "metadata": {},
   "outputs": [],
   "source": [
    "from nltk.tokenize import word_tokenize"
   ]
  },
  {
   "cell_type": "code",
   "execution_count": 81,
   "id": "a875d9ad",
   "metadata": {},
   "outputs": [
    {
     "data": {
      "text/plain": [
       "['i',\n",
       " 'love',\n",
       " 'Python',\n",
       " '.',\n",
       " 'Zafer',\n",
       " 'lives',\n",
       " 'in',\n",
       " 'a',\n",
       " 'small',\n",
       " 'village.Please',\n",
       " 'call',\n",
       " 'back',\n",
       " '.']"
      ]
     },
     "execution_count": 81,
     "metadata": {},
     "output_type": "execute_result"
    }
   ],
   "source": [
    "word_tokenize(text)   #tokenize;kelimelri ayırmak ve onu listeye çevirmek demek"
   ]
  },
  {
   "cell_type": "code",
   "execution_count": 82,
   "id": "6e113cbe",
   "metadata": {},
   "outputs": [],
   "source": [
    "from nltk.tokenize import TreebankWordTokenizer"
   ]
  },
  {
   "cell_type": "code",
   "execution_count": 83,
   "id": "376303bf",
   "metadata": {},
   "outputs": [
    {
     "data": {
      "text/plain": [
       "['i',\n",
       " 'love',\n",
       " 'Python.',\n",
       " 'Zafer',\n",
       " 'lives',\n",
       " 'in',\n",
       " 'a',\n",
       " 'small',\n",
       " 'village.Please',\n",
       " 'call',\n",
       " 'back',\n",
       " '.']"
      ]
     },
     "execution_count": 83,
     "metadata": {},
     "output_type": "execute_result"
    }
   ],
   "source": [
    "TreebankWordTokenizer().tokenize(text)"
   ]
  },
  {
   "cell_type": "code",
   "execution_count": 84,
   "id": "2d7465e1",
   "metadata": {},
   "outputs": [],
   "source": [
    "#stopwords ;gereksiz kelimeler demek"
   ]
  },
  {
   "cell_type": "code",
   "execution_count": 85,
   "id": "30fb329d",
   "metadata": {},
   "outputs": [
    {
     "name": "stderr",
     "output_type": "stream",
     "text": [
      "[nltk_data] Downloading package stopwords to\n",
      "[nltk_data]     C:\\Users\\kubra\\AppData\\Roaming\\nltk_data...\n",
      "[nltk_data]   Package stopwords is already up-to-date!\n"
     ]
    },
    {
     "data": {
      "text/plain": [
       "True"
      ]
     },
     "execution_count": 85,
     "metadata": {},
     "output_type": "execute_result"
    }
   ],
   "source": [
    "nltk.download('stopwords')"
   ]
  },
  {
   "cell_type": "code",
   "execution_count": 86,
   "id": "fb699587",
   "metadata": {},
   "outputs": [
    {
     "name": "stdout",
     "output_type": "stream",
     "text": [
      "['i', 'me', 'my', 'myself', 'we', 'our', 'ours', 'ourselves', 'you', \"you're\", \"you've\", \"you'll\", \"you'd\", 'your', 'yours', 'yourself', 'yourselves', 'he', 'him', 'his', 'himself', 'she', \"she's\", 'her', 'hers', 'herself', 'it', \"it's\", 'its', 'itself', 'they', 'them', 'their', 'theirs', 'themselves', 'what', 'which', 'who', 'whom', 'this', 'that', \"that'll\", 'these', 'those', 'am', 'is', 'are', 'was', 'were', 'be', 'been', 'being', 'have', 'has', 'had', 'having', 'do', 'does', 'did', 'doing', 'a', 'an', 'the', 'and', 'but', 'if', 'or', 'because', 'as', 'until', 'while', 'of', 'at', 'by', 'for', 'with', 'about', 'against', 'between', 'into', 'through', 'during', 'before', 'after', 'above', 'below', 'to', 'from', 'up', 'down', 'in', 'out', 'on', 'off', 'over', 'under', 'again', 'further', 'then', 'once', 'here', 'there', 'when', 'where', 'why', 'how', 'all', 'any', 'both', 'each', 'few', 'more', 'most', 'other', 'some', 'such', 'no', 'nor', 'not', 'only', 'own', 'same', 'so', 'than', 'too', 'very', 's', 't', 'can', 'will', 'just', 'don', \"don't\", 'should', \"should've\", 'now', 'd', 'll', 'm', 'o', 're', 've', 'y', 'ain', 'aren', \"aren't\", 'couldn', \"couldn't\", 'didn', \"didn't\", 'doesn', \"doesn't\", 'hadn', \"hadn't\", 'hasn', \"hasn't\", 'haven', \"haven't\", 'isn', \"isn't\", 'ma', 'mightn', \"mightn't\", 'mustn', \"mustn't\", 'needn', \"needn't\", 'shan', \"shan't\", 'shouldn', \"shouldn't\", 'wasn', \"wasn't\", 'weren', \"weren't\", 'won', \"won't\", 'wouldn', \"wouldn't\"]\n"
     ]
    }
   ],
   "source": [
    "print(nltk.corpus.stopwords.words(\"english\"))"
   ]
  },
  {
   "cell_type": "code",
   "execution_count": 87,
   "id": "0947f4ca",
   "metadata": {},
   "outputs": [],
   "source": [
    "from nltk.stem import PorterStemmer"
   ]
  },
  {
   "cell_type": "code",
   "execution_count": 88,
   "id": "2bba27e1",
   "metadata": {},
   "outputs": [
    {
     "data": {
      "text/plain": [
       "'happi'"
      ]
     },
     "execution_count": 88,
     "metadata": {},
     "output_type": "execute_result"
    }
   ],
   "source": [
    "PorterStemmer().stem(\"Happiness\")"
   ]
  },
  {
   "cell_type": "code",
   "execution_count": 89,
   "id": "f3c7f6e1",
   "metadata": {},
   "outputs": [],
   "source": [
    "from nltk.stem import LancasterStemmer"
   ]
  },
  {
   "cell_type": "code",
   "execution_count": 90,
   "id": "820e0b46",
   "metadata": {},
   "outputs": [
    {
     "data": {
      "text/plain": [
       "'happy'"
      ]
     },
     "execution_count": 90,
     "metadata": {},
     "output_type": "execute_result"
    }
   ],
   "source": [
    "LancasterStemmer().stem(\"Happiness\")"
   ]
  },
  {
   "cell_type": "code",
   "execution_count": 91,
   "id": "c1d0ca95",
   "metadata": {},
   "outputs": [],
   "source": [
    "#Markov Chain - bir sonraki adımı tahmin etmek\n",
    "from nltk.stem import RegexpStemmer#hanig eki kaldıracağını belirtiyor"
   ]
  },
  {
   "cell_type": "code",
   "execution_count": 92,
   "id": "3350961d",
   "metadata": {},
   "outputs": [],
   "source": [
    "rs=RegexpStemmer(\"ing\")"
   ]
  },
  {
   "cell_type": "raw",
   "id": "a36c5ccf",
   "metadata": {},
   "source": [
    "rs.stem(\"working\")"
   ]
  },
  {
   "cell_type": "markdown",
   "id": "c46dc0d7",
   "metadata": {},
   "source": [
    "#bir nlt projesi için dikkakt eidlmesi kurallar;\n",
    "1-Nktalama şaretlerine kaldırıyorsnuz\n",
    "2-Hepsini küçük harfe yada büüyh harfe çevir\n",
    "3-enter ve \\n kaldır\n",
    "4- Gereksiz kelimeleri kaldır\n",
    "5-Rakamları kaldır\n",
    "6- Eklerini kaldır köklerini bul\n",
    "7-Tokenize etke\n"
   ]
  },
  {
   "cell_type": "code",
   "execution_count": 93,
   "id": "f09eb1da",
   "metadata": {},
   "outputs": [],
   "source": [
    "from nltk.stem import SnowballStemmer "
   ]
  },
  {
   "cell_type": "code",
   "execution_count": 94,
   "id": "516e23ad",
   "metadata": {},
   "outputs": [
    {
     "data": {
      "text/plain": [
       "('arabic',\n",
       " 'danish',\n",
       " 'dutch',\n",
       " 'english',\n",
       " 'finnish',\n",
       " 'french',\n",
       " 'german',\n",
       " 'hungarian',\n",
       " 'italian',\n",
       " 'norwegian',\n",
       " 'porter',\n",
       " 'portuguese',\n",
       " 'romanian',\n",
       " 'russian',\n",
       " 'spanish',\n",
       " 'swedish')"
      ]
     },
     "execution_count": 94,
     "metadata": {},
     "output_type": "execute_result"
    }
   ],
   "source": [
    "SnowballStemmer.languages# hangi dilleri desteklediğini görüyoruz"
   ]
  },
  {
   "cell_type": "code",
   "execution_count": 95,
   "id": "b0c843a3",
   "metadata": {},
   "outputs": [
    {
     "name": "stdout",
     "output_type": "stream",
     "text": [
      "Requirement already satisfied: TurkishStemmer in c:\\users\\kubra\\anaconda\\lib\\site-packages (1.3)\n",
      "Note: you may need to restart the kernel to use updated packages.\n"
     ]
    }
   ],
   "source": [
    "pip install TurkishStemmer"
   ]
  },
  {
   "cell_type": "code",
   "execution_count": 96,
   "id": "3c166c62",
   "metadata": {},
   "outputs": [],
   "source": [
    "from TurkishStemmer import TurkishStemmer"
   ]
  },
  {
   "cell_type": "code",
   "execution_count": 97,
   "id": "ae2022fe",
   "metadata": {},
   "outputs": [
    {
     "data": {
      "text/plain": [
       "'bardak'"
      ]
     },
     "execution_count": 97,
     "metadata": {},
     "output_type": "execute_result"
    }
   ],
   "source": [
    "TurkishStemmer().stem(\"bardaktan\")"
   ]
  },
  {
   "cell_type": "code",
   "execution_count": 98,
   "id": "6834157d",
   "metadata": {},
   "outputs": [
    {
     "data": {
      "text/plain": [
       "'geliyor'"
      ]
     },
     "execution_count": 98,
     "metadata": {},
     "output_type": "execute_result"
    }
   ],
   "source": [
    "TurkishStemmer().stem(\"geliyorum\")"
   ]
  },
  {
   "cell_type": "code",
   "execution_count": 99,
   "id": "cdd901d9",
   "metadata": {},
   "outputs": [
    {
     "data": {
      "text/plain": [
       "'gözlük'"
      ]
     },
     "execution_count": 99,
     "metadata": {},
     "output_type": "execute_result"
    }
   ],
   "source": [
    "TurkishStemmer().stem(\"gözlük\")"
   ]
  },
  {
   "cell_type": "code",
   "execution_count": 100,
   "id": "a8a85421",
   "metadata": {},
   "outputs": [
    {
     "data": {
      "text/plain": [
       "'mahalle'"
      ]
     },
     "execution_count": 100,
     "metadata": {},
     "output_type": "execute_result"
    }
   ],
   "source": [
    "TurkishStemmer().stem(\"mahalle\")"
   ]
  },
  {
   "cell_type": "code",
   "execution_count": 101,
   "id": "de63d7bb",
   "metadata": {},
   "outputs": [
    {
     "data": {
      "text/plain": [
       "'muhallebiç'"
      ]
     },
     "execution_count": 101,
     "metadata": {},
     "output_type": "execute_result"
    }
   ],
   "source": [
    "TurkishStemmer().stem(\"muhallebici\")"
   ]
  },
  {
   "cell_type": "code",
   "execution_count": 102,
   "id": "b9b97491",
   "metadata": {},
   "outputs": [
    {
     "data": {
      "text/plain": [
       "'gör'"
      ]
     },
     "execution_count": 102,
     "metadata": {},
     "output_type": "execute_result"
    }
   ],
   "source": [
    "TurkishStemmer().stem(\"görümce\")"
   ]
  },
  {
   "cell_type": "code",
   "execution_count": 103,
   "id": "5b748114",
   "metadata": {},
   "outputs": [],
   "source": [
    "#Ayla Kayabaş akdemik maklalerine bakabilirsin"
   ]
  },
  {
   "cell_type": "code",
   "execution_count": 104,
   "id": "9067e43b",
   "metadata": {},
   "outputs": [],
   "source": [
    "spstemmer=SnowballStemmer(\"spanish\")"
   ]
  },
  {
   "cell_type": "code",
   "execution_count": 105,
   "id": "362e5606",
   "metadata": {},
   "outputs": [
    {
     "data": {
      "text/plain": [
       "'com'"
      ]
     },
     "execution_count": 105,
     "metadata": {},
     "output_type": "execute_result"
    }
   ],
   "source": [
    "spstemmer.stem(\"comiendo\")"
   ]
  },
  {
   "cell_type": "code",
   "execution_count": 106,
   "id": "6d200b33",
   "metadata": {},
   "outputs": [
    {
     "data": {
      "text/plain": [
       "'tiam'"
      ]
     },
     "execution_count": 106,
     "metadata": {},
     "output_type": "execute_result"
    }
   ],
   "source": [
    "spstemmer.stem(\"tiamo\")"
   ]
  },
  {
   "cell_type": "code",
   "execution_count": 107,
   "id": "812d0b41",
   "metadata": {},
   "outputs": [],
   "source": [
    "frstemmer=SnowballStemmer(\"french\")"
   ]
  },
  {
   "cell_type": "code",
   "execution_count": 108,
   "id": "d85aa259",
   "metadata": {},
   "outputs": [
    {
     "data": {
      "text/plain": [
       "'kes kos'"
      ]
     },
     "execution_count": 108,
     "metadata": {},
     "output_type": "execute_result"
    }
   ],
   "source": [
    "frstemmer.stem(\"kes kose\")"
   ]
  },
  {
   "cell_type": "code",
   "execution_count": 109,
   "id": "440b5e94",
   "metadata": {},
   "outputs": [],
   "source": [
    "#Part of specch-POS İsim fill,ozne yuklem,fiil fail"
   ]
  },
  {
   "cell_type": "code",
   "execution_count": 110,
   "id": "ac857a5d",
   "metadata": {},
   "outputs": [],
   "source": [
    "from nltk.tokenize import word_tokenize"
   ]
  },
  {
   "cell_type": "code",
   "execution_count": 111,
   "id": "69308b83",
   "metadata": {},
   "outputs": [],
   "source": [
    "cumle=\"Zafer loves stuffed  grave leaves. Artificial Intelligence is cooll\""
   ]
  },
  {
   "cell_type": "code",
   "execution_count": 112,
   "id": "2f161efe",
   "metadata": {},
   "outputs": [
    {
     "name": "stderr",
     "output_type": "stream",
     "text": [
      "[nltk_data] Downloading package averaged_perceptron_tagger to\n",
      "[nltk_data]     C:\\Users\\kubra\\AppData\\Roaming\\nltk_data...\n",
      "[nltk_data]   Package averaged_perceptron_tagger is already up-to-\n",
      "[nltk_data]       date!\n"
     ]
    },
    {
     "data": {
      "text/plain": [
       "True"
      ]
     },
     "execution_count": 112,
     "metadata": {},
     "output_type": "execute_result"
    }
   ],
   "source": [
    "nltk.download(\"averaged_perceptron_tagger\")"
   ]
  },
  {
   "cell_type": "code",
   "execution_count": 113,
   "id": "6b7022fc",
   "metadata": {},
   "outputs": [
    {
     "data": {
      "text/plain": [
       "[('Zafer', 'NNP'),\n",
       " ('loves', 'VBZ'),\n",
       " ('stuffed', 'VBN'),\n",
       " ('grave', 'JJ'),\n",
       " ('leaves', 'NNS'),\n",
       " ('.', '.'),\n",
       " ('Artificial', 'JJ'),\n",
       " ('Intelligence', 'NN'),\n",
       " ('is', 'VBZ'),\n",
       " ('cooll', 'JJ')]"
      ]
     },
     "execution_count": 113,
     "metadata": {},
     "output_type": "execute_result"
    }
   ],
   "source": [
    "nltk.pos_tag(word_tokenize(cumle))"
   ]
  },
  {
   "cell_type": "code",
   "execution_count": 114,
   "id": "9b8ce501",
   "metadata": {},
   "outputs": [],
   "source": [
    "text=word_tokenize(\"it is a pleasent day today\")"
   ]
  },
  {
   "cell_type": "code",
   "execution_count": 115,
   "id": "b12285a0",
   "metadata": {},
   "outputs": [
    {
     "data": {
      "text/plain": [
       "[('it', 'PRP'),\n",
       " ('is', 'VBZ'),\n",
       " ('a', 'DT'),\n",
       " ('pleasent', 'JJ'),\n",
       " ('day', 'NN'),\n",
       " ('today', 'NN')]"
      ]
     },
     "execution_count": 115,
     "metadata": {},
     "output_type": "execute_result"
    }
   ],
   "source": [
    "nltk.pos_tag(text)"
   ]
  },
  {
   "cell_type": "code",
   "execution_count": 116,
   "id": "29fbc378",
   "metadata": {},
   "outputs": [],
   "source": [
    "from nltk.tag import DefaultTagger"
   ]
  },
  {
   "cell_type": "code",
   "execution_count": 117,
   "id": "b8e1ba92",
   "metadata": {},
   "outputs": [],
   "source": [
    "tag=DefaultTagger(\"He is the man\")"
   ]
  },
  {
   "cell_type": "code",
   "execution_count": 118,
   "id": "109a2569",
   "metadata": {},
   "outputs": [
    {
     "data": {
      "text/plain": [
       "[('beautiful', 'He is the man'), ('morning', 'He is the man')]"
      ]
     },
     "execution_count": 118,
     "metadata": {},
     "output_type": "execute_result"
    }
   ],
   "source": [
    "tag.tag([\"beautiful\",\"morning\"])#etiketleme"
   ]
  },
  {
   "cell_type": "code",
   "execution_count": 119,
   "id": "e1fe5e78",
   "metadata": {},
   "outputs": [
    {
     "name": "stdout",
     "output_type": "stream",
     "text": [
      "Requirement already satisfied: autocorrect in c:\\users\\kubra\\anaconda\\lib\\site-packages (2.6.1)\n"
     ]
    }
   ],
   "source": [
    "!pip install autocorrect  "
   ]
  },
  {
   "cell_type": "code",
   "execution_count": 120,
   "id": "9e2bdb19",
   "metadata": {},
   "outputs": [],
   "source": [
    "from autocorrect import spell"
   ]
  },
  {
   "cell_type": "code",
   "execution_count": 121,
   "id": "1745b9e3",
   "metadata": {},
   "outputs": [
    {
     "name": "stdout",
     "output_type": "stream",
     "text": [
      "autocorrect.spell is deprecated,             use autocorrect.Speller instead\n"
     ]
    },
    {
     "data": {
      "text/plain": [
       "'the'"
      ]
     },
     "execution_count": 121,
     "metadata": {},
     "output_type": "execute_result"
    }
   ],
   "source": [
    "spell(\"tghe\")"
   ]
  },
  {
   "cell_type": "code",
   "execution_count": 122,
   "id": "a00da261",
   "metadata": {},
   "outputs": [
    {
     "name": "stdout",
     "output_type": "stream",
     "text": [
      "Requirement already satisfied: TextBlob in c:\\users\\kubra\\anaconda\\lib\\site-packages (0.17.1)\n",
      "Requirement already satisfied: nltk>=3.1 in c:\\users\\kubra\\anaconda\\lib\\site-packages (from TextBlob) (3.7)\n",
      "Requirement already satisfied: regex>=2021.8.3 in c:\\users\\kubra\\anaconda\\lib\\site-packages (from nltk>=3.1->TextBlob) (2022.3.15)\n",
      "Requirement already satisfied: joblib in c:\\users\\kubra\\anaconda\\lib\\site-packages (from nltk>=3.1->TextBlob) (1.1.0)\n",
      "Requirement already satisfied: tqdm in c:\\users\\kubra\\anaconda\\lib\\site-packages (from nltk>=3.1->TextBlob) (4.64.0)\n",
      "Requirement already satisfied: click in c:\\users\\kubra\\anaconda\\lib\\site-packages (from nltk>=3.1->TextBlob) (8.0.4)\n",
      "Requirement already satisfied: colorama in c:\\users\\kubra\\appdata\\roaming\\python\\python39\\site-packages (from click->nltk>=3.1->TextBlob) (0.4.4)\n"
     ]
    }
   ],
   "source": [
    "!pip install TextBlob"
   ]
  },
  {
   "cell_type": "code",
   "execution_count": 123,
   "id": "0885113e",
   "metadata": {},
   "outputs": [],
   "source": [
    "from textblob import TextBlob"
   ]
  },
  {
   "cell_type": "code",
   "execution_count": 127,
   "id": "7276e3b9",
   "metadata": {},
   "outputs": [],
   "source": [
    "b=TextBlob(\"I havv good spelling\")"
   ]
  },
  {
   "cell_type": "code",
   "execution_count": 128,
   "id": "e9cc1b13",
   "metadata": {},
   "outputs": [
    {
     "ename": "HTTPError",
     "evalue": "HTTP Error 400: Bad Request",
     "output_type": "error",
     "traceback": [
      "\u001b[1;31m---------------------------------------------------------------------------\u001b[0m",
      "\u001b[1;31mHTTPError\u001b[0m                                 Traceback (most recent call last)",
      "Input \u001b[1;32mIn [128]\u001b[0m, in \u001b[0;36m<cell line: 1>\u001b[1;34m()\u001b[0m\n\u001b[1;32m----> 1\u001b[0m \u001b[43mb\u001b[49m\u001b[38;5;241;43m.\u001b[39;49m\u001b[43mdetect_language\u001b[49m\u001b[43m(\u001b[49m\u001b[43m)\u001b[49m\n",
      "File \u001b[1;32m~\\anaconda\\lib\\site-packages\\textblob\\blob.py:597\u001b[0m, in \u001b[0;36mBaseBlob.detect_language\u001b[1;34m(self)\u001b[0m\n\u001b[0;32m    572\u001b[0m \u001b[38;5;124;03m\"\"\"Detect the blob's language using the Google Translate API.\u001b[39;00m\n\u001b[0;32m    573\u001b[0m \n\u001b[0;32m    574\u001b[0m \u001b[38;5;124;03mRequires an internet connection.\u001b[39;00m\n\u001b[1;32m   (...)\u001b[0m\n\u001b[0;32m    590\u001b[0m \u001b[38;5;124;03m:rtype: str\u001b[39;00m\n\u001b[0;32m    591\u001b[0m \u001b[38;5;124;03m\"\"\"\u001b[39;00m\n\u001b[0;32m    592\u001b[0m warnings\u001b[38;5;241m.\u001b[39mwarn(\n\u001b[0;32m    593\u001b[0m     \u001b[38;5;124m'\u001b[39m\u001b[38;5;124mTextBlob.detext_translate is deprecated and will be removed in a future release. \u001b[39m\u001b[38;5;124m'\u001b[39m\n\u001b[0;32m    594\u001b[0m     \u001b[38;5;124m'\u001b[39m\u001b[38;5;124mUse the official Google Translate API instead.\u001b[39m\u001b[38;5;124m'\u001b[39m,\n\u001b[0;32m    595\u001b[0m     \u001b[38;5;167;01mDeprecationWarning\u001b[39;00m\n\u001b[0;32m    596\u001b[0m )\n\u001b[1;32m--> 597\u001b[0m \u001b[38;5;28;01mreturn\u001b[39;00m \u001b[38;5;28;43mself\u001b[39;49m\u001b[38;5;241;43m.\u001b[39;49m\u001b[43mtranslator\u001b[49m\u001b[38;5;241;43m.\u001b[39;49m\u001b[43mdetect\u001b[49m\u001b[43m(\u001b[49m\u001b[38;5;28;43mself\u001b[39;49m\u001b[38;5;241;43m.\u001b[39;49m\u001b[43mraw\u001b[49m\u001b[43m)\u001b[49m\n",
      "File \u001b[1;32m~\\anaconda\\lib\\site-packages\\textblob\\translate.py:76\u001b[0m, in \u001b[0;36mTranslator.detect\u001b[1;34m(self, source, host, type_)\u001b[0m\n\u001b[0;32m     70\u001b[0m data \u001b[38;5;241m=\u001b[39m {\u001b[38;5;124m\"\u001b[39m\u001b[38;5;124mq\u001b[39m\u001b[38;5;124m\"\u001b[39m: source}\n\u001b[0;32m     71\u001b[0m url \u001b[38;5;241m=\u001b[39m \u001b[38;5;124mu\u001b[39m\u001b[38;5;124m'\u001b[39m\u001b[38;5;132;01m{url}\u001b[39;00m\u001b[38;5;124m&sl=auto&tk=\u001b[39m\u001b[38;5;132;01m{tk}\u001b[39;00m\u001b[38;5;124m&client=\u001b[39m\u001b[38;5;132;01m{client}\u001b[39;00m\u001b[38;5;124m'\u001b[39m\u001b[38;5;241m.\u001b[39mformat(\n\u001b[0;32m     72\u001b[0m     url\u001b[38;5;241m=\u001b[39m\u001b[38;5;28mself\u001b[39m\u001b[38;5;241m.\u001b[39murl,\n\u001b[0;32m     73\u001b[0m     tk\u001b[38;5;241m=\u001b[39m_calculate_tk(source),\n\u001b[0;32m     74\u001b[0m     client\u001b[38;5;241m=\u001b[39m\u001b[38;5;124m\"\u001b[39m\u001b[38;5;124mte\u001b[39m\u001b[38;5;124m\"\u001b[39m,\n\u001b[0;32m     75\u001b[0m )\n\u001b[1;32m---> 76\u001b[0m response \u001b[38;5;241m=\u001b[39m \u001b[38;5;28;43mself\u001b[39;49m\u001b[38;5;241;43m.\u001b[39;49m\u001b[43m_request\u001b[49m\u001b[43m(\u001b[49m\u001b[43murl\u001b[49m\u001b[43m,\u001b[49m\u001b[43m \u001b[49m\u001b[43mhost\u001b[49m\u001b[38;5;241;43m=\u001b[39;49m\u001b[43mhost\u001b[49m\u001b[43m,\u001b[49m\u001b[43m \u001b[49m\u001b[43mtype_\u001b[49m\u001b[38;5;241;43m=\u001b[39;49m\u001b[43mtype_\u001b[49m\u001b[43m,\u001b[49m\u001b[43m \u001b[49m\u001b[43mdata\u001b[49m\u001b[38;5;241;43m=\u001b[39;49m\u001b[43mdata\u001b[49m\u001b[43m)\u001b[49m\n\u001b[0;32m     77\u001b[0m result, language \u001b[38;5;241m=\u001b[39m json\u001b[38;5;241m.\u001b[39mloads(response)\n\u001b[0;32m     78\u001b[0m \u001b[38;5;28;01mreturn\u001b[39;00m language\n",
      "File \u001b[1;32m~\\anaconda\\lib\\site-packages\\textblob\\translate.py:96\u001b[0m, in \u001b[0;36mTranslator._request\u001b[1;34m(self, url, host, type_, data)\u001b[0m\n\u001b[0;32m     94\u001b[0m \u001b[38;5;28;01mif\u001b[39;00m host \u001b[38;5;129;01mor\u001b[39;00m type_:\n\u001b[0;32m     95\u001b[0m     req\u001b[38;5;241m.\u001b[39mset_proxy(host\u001b[38;5;241m=\u001b[39mhost, \u001b[38;5;28mtype\u001b[39m\u001b[38;5;241m=\u001b[39mtype_)\n\u001b[1;32m---> 96\u001b[0m resp \u001b[38;5;241m=\u001b[39m \u001b[43mrequest\u001b[49m\u001b[38;5;241;43m.\u001b[39;49m\u001b[43murlopen\u001b[49m\u001b[43m(\u001b[49m\u001b[43mreq\u001b[49m\u001b[43m)\u001b[49m\n\u001b[0;32m     97\u001b[0m content \u001b[38;5;241m=\u001b[39m resp\u001b[38;5;241m.\u001b[39mread()\n\u001b[0;32m     98\u001b[0m \u001b[38;5;28;01mreturn\u001b[39;00m content\u001b[38;5;241m.\u001b[39mdecode(\u001b[38;5;124m'\u001b[39m\u001b[38;5;124mutf-8\u001b[39m\u001b[38;5;124m'\u001b[39m)\n",
      "File \u001b[1;32m~\\anaconda\\lib\\urllib\\request.py:214\u001b[0m, in \u001b[0;36murlopen\u001b[1;34m(url, data, timeout, cafile, capath, cadefault, context)\u001b[0m\n\u001b[0;32m    212\u001b[0m \u001b[38;5;28;01melse\u001b[39;00m:\n\u001b[0;32m    213\u001b[0m     opener \u001b[38;5;241m=\u001b[39m _opener\n\u001b[1;32m--> 214\u001b[0m \u001b[38;5;28;01mreturn\u001b[39;00m \u001b[43mopener\u001b[49m\u001b[38;5;241;43m.\u001b[39;49m\u001b[43mopen\u001b[49m\u001b[43m(\u001b[49m\u001b[43murl\u001b[49m\u001b[43m,\u001b[49m\u001b[43m \u001b[49m\u001b[43mdata\u001b[49m\u001b[43m,\u001b[49m\u001b[43m \u001b[49m\u001b[43mtimeout\u001b[49m\u001b[43m)\u001b[49m\n",
      "File \u001b[1;32m~\\anaconda\\lib\\urllib\\request.py:523\u001b[0m, in \u001b[0;36mOpenerDirector.open\u001b[1;34m(self, fullurl, data, timeout)\u001b[0m\n\u001b[0;32m    521\u001b[0m \u001b[38;5;28;01mfor\u001b[39;00m processor \u001b[38;5;129;01min\u001b[39;00m \u001b[38;5;28mself\u001b[39m\u001b[38;5;241m.\u001b[39mprocess_response\u001b[38;5;241m.\u001b[39mget(protocol, []):\n\u001b[0;32m    522\u001b[0m     meth \u001b[38;5;241m=\u001b[39m \u001b[38;5;28mgetattr\u001b[39m(processor, meth_name)\n\u001b[1;32m--> 523\u001b[0m     response \u001b[38;5;241m=\u001b[39m \u001b[43mmeth\u001b[49m\u001b[43m(\u001b[49m\u001b[43mreq\u001b[49m\u001b[43m,\u001b[49m\u001b[43m \u001b[49m\u001b[43mresponse\u001b[49m\u001b[43m)\u001b[49m\n\u001b[0;32m    525\u001b[0m \u001b[38;5;28;01mreturn\u001b[39;00m response\n",
      "File \u001b[1;32m~\\anaconda\\lib\\urllib\\request.py:632\u001b[0m, in \u001b[0;36mHTTPErrorProcessor.http_response\u001b[1;34m(self, request, response)\u001b[0m\n\u001b[0;32m    629\u001b[0m \u001b[38;5;66;03m# According to RFC 2616, \"2xx\" code indicates that the client's\u001b[39;00m\n\u001b[0;32m    630\u001b[0m \u001b[38;5;66;03m# request was successfully received, understood, and accepted.\u001b[39;00m\n\u001b[0;32m    631\u001b[0m \u001b[38;5;28;01mif\u001b[39;00m \u001b[38;5;129;01mnot\u001b[39;00m (\u001b[38;5;241m200\u001b[39m \u001b[38;5;241m<\u001b[39m\u001b[38;5;241m=\u001b[39m code \u001b[38;5;241m<\u001b[39m \u001b[38;5;241m300\u001b[39m):\n\u001b[1;32m--> 632\u001b[0m     response \u001b[38;5;241m=\u001b[39m \u001b[38;5;28;43mself\u001b[39;49m\u001b[38;5;241;43m.\u001b[39;49m\u001b[43mparent\u001b[49m\u001b[38;5;241;43m.\u001b[39;49m\u001b[43merror\u001b[49m\u001b[43m(\u001b[49m\n\u001b[0;32m    633\u001b[0m \u001b[43m        \u001b[49m\u001b[38;5;124;43m'\u001b[39;49m\u001b[38;5;124;43mhttp\u001b[39;49m\u001b[38;5;124;43m'\u001b[39;49m\u001b[43m,\u001b[49m\u001b[43m \u001b[49m\u001b[43mrequest\u001b[49m\u001b[43m,\u001b[49m\u001b[43m \u001b[49m\u001b[43mresponse\u001b[49m\u001b[43m,\u001b[49m\u001b[43m \u001b[49m\u001b[43mcode\u001b[49m\u001b[43m,\u001b[49m\u001b[43m \u001b[49m\u001b[43mmsg\u001b[49m\u001b[43m,\u001b[49m\u001b[43m \u001b[49m\u001b[43mhdrs\u001b[49m\u001b[43m)\u001b[49m\n\u001b[0;32m    635\u001b[0m \u001b[38;5;28;01mreturn\u001b[39;00m response\n",
      "File \u001b[1;32m~\\anaconda\\lib\\urllib\\request.py:561\u001b[0m, in \u001b[0;36mOpenerDirector.error\u001b[1;34m(self, proto, *args)\u001b[0m\n\u001b[0;32m    559\u001b[0m \u001b[38;5;28;01mif\u001b[39;00m http_err:\n\u001b[0;32m    560\u001b[0m     args \u001b[38;5;241m=\u001b[39m (\u001b[38;5;28mdict\u001b[39m, \u001b[38;5;124m'\u001b[39m\u001b[38;5;124mdefault\u001b[39m\u001b[38;5;124m'\u001b[39m, \u001b[38;5;124m'\u001b[39m\u001b[38;5;124mhttp_error_default\u001b[39m\u001b[38;5;124m'\u001b[39m) \u001b[38;5;241m+\u001b[39m orig_args\n\u001b[1;32m--> 561\u001b[0m     \u001b[38;5;28;01mreturn\u001b[39;00m \u001b[38;5;28;43mself\u001b[39;49m\u001b[38;5;241;43m.\u001b[39;49m\u001b[43m_call_chain\u001b[49m\u001b[43m(\u001b[49m\u001b[38;5;241;43m*\u001b[39;49m\u001b[43margs\u001b[49m\u001b[43m)\u001b[49m\n",
      "File \u001b[1;32m~\\anaconda\\lib\\urllib\\request.py:494\u001b[0m, in \u001b[0;36mOpenerDirector._call_chain\u001b[1;34m(self, chain, kind, meth_name, *args)\u001b[0m\n\u001b[0;32m    492\u001b[0m \u001b[38;5;28;01mfor\u001b[39;00m handler \u001b[38;5;129;01min\u001b[39;00m handlers:\n\u001b[0;32m    493\u001b[0m     func \u001b[38;5;241m=\u001b[39m \u001b[38;5;28mgetattr\u001b[39m(handler, meth_name)\n\u001b[1;32m--> 494\u001b[0m     result \u001b[38;5;241m=\u001b[39m \u001b[43mfunc\u001b[49m\u001b[43m(\u001b[49m\u001b[38;5;241;43m*\u001b[39;49m\u001b[43margs\u001b[49m\u001b[43m)\u001b[49m\n\u001b[0;32m    495\u001b[0m     \u001b[38;5;28;01mif\u001b[39;00m result \u001b[38;5;129;01mis\u001b[39;00m \u001b[38;5;129;01mnot\u001b[39;00m \u001b[38;5;28;01mNone\u001b[39;00m:\n\u001b[0;32m    496\u001b[0m         \u001b[38;5;28;01mreturn\u001b[39;00m result\n",
      "File \u001b[1;32m~\\anaconda\\lib\\urllib\\request.py:641\u001b[0m, in \u001b[0;36mHTTPDefaultErrorHandler.http_error_default\u001b[1;34m(self, req, fp, code, msg, hdrs)\u001b[0m\n\u001b[0;32m    640\u001b[0m \u001b[38;5;28;01mdef\u001b[39;00m \u001b[38;5;21mhttp_error_default\u001b[39m(\u001b[38;5;28mself\u001b[39m, req, fp, code, msg, hdrs):\n\u001b[1;32m--> 641\u001b[0m     \u001b[38;5;28;01mraise\u001b[39;00m HTTPError(req\u001b[38;5;241m.\u001b[39mfull_url, code, msg, hdrs, fp)\n",
      "\u001b[1;31mHTTPError\u001b[0m: HTTP Error 400: Bad Request"
     ]
    }
   ],
   "source": [
    "b.detect_language()"
   ]
  },
  {
   "cell_type": "code",
   "execution_count": 129,
   "id": "bf920a08",
   "metadata": {},
   "outputs": [
    {
     "data": {
      "text/plain": [
       "<bound method BaseBlob.correct of TextBlob(\"I havv good spelling\")>"
      ]
     },
     "execution_count": 129,
     "metadata": {},
     "output_type": "execute_result"
    }
   ],
   "source": [
    "b.correct"
   ]
  },
  {
   "cell_type": "code",
   "execution_count": 130,
   "id": "9fbbe66e",
   "metadata": {},
   "outputs": [
    {
     "name": "stdout",
     "output_type": "stream",
     "text": [
      "Requirement already satisfied: langdetect in c:\\users\\kubra\\anaconda\\lib\\site-packages (1.0.9)\n",
      "Requirement already satisfied: six in c:\\users\\kubra\\anaconda\\lib\\site-packages (from langdetect) (1.16.0)\n",
      "Note: you may need to restart the kernel to use updated packages.\n"
     ]
    }
   ],
   "source": [
    "pip install  langdetect"
   ]
  },
  {
   "cell_type": "code",
   "execution_count": 131,
   "id": "481ad264",
   "metadata": {},
   "outputs": [],
   "source": [
    "from langdetect import detect"
   ]
  },
  {
   "cell_type": "code",
   "execution_count": 132,
   "id": "2a2ceeab",
   "metadata": {},
   "outputs": [
    {
     "data": {
      "text/plain": [
       "'de'"
      ]
     },
     "execution_count": 132,
     "metadata": {},
     "output_type": "execute_result"
    }
   ],
   "source": [
    "detect((\"Ein. zwi,vier\"))"
   ]
  },
  {
   "cell_type": "code",
   "execution_count": 133,
   "id": "6881c0a3",
   "metadata": {},
   "outputs": [
    {
     "data": {
      "text/plain": [
       "'tr'"
      ]
     },
     "execution_count": 133,
     "metadata": {},
     "output_type": "execute_result"
    }
   ],
   "source": [
    "detect(\"Döndü dönmedi\")"
   ]
  },
  {
   "cell_type": "code",
   "execution_count": 134,
   "id": "7ee38e16",
   "metadata": {},
   "outputs": [
    {
     "data": {
      "text/plain": [
       "'tr'"
      ]
     },
     "execution_count": 134,
     "metadata": {},
     "output_type": "execute_result"
    }
   ],
   "source": [
    "detect(\"Nasılsınız\")"
   ]
  },
  {
   "cell_type": "code",
   "execution_count": 135,
   "id": "2562d7d2",
   "metadata": {},
   "outputs": [
    {
     "data": {
      "text/plain": [
       "'af'"
      ]
     },
     "execution_count": 135,
     "metadata": {},
     "output_type": "execute_result"
    }
   ],
   "source": [
    "detect(\"Eu godto de vier\")"
   ]
  },
  {
   "cell_type": "code",
   "execution_count": 136,
   "id": "b9ec6d32",
   "metadata": {},
   "outputs": [
    {
     "data": {
      "text/plain": [
       "'tr'"
      ]
     },
     "execution_count": 136,
     "metadata": {},
     "output_type": "execute_result"
    }
   ],
   "source": [
    "detect(\"başka merhaba\")"
   ]
  },
  {
   "cell_type": "code",
   "execution_count": 137,
   "id": "777e1fe2",
   "metadata": {},
   "outputs": [],
   "source": [
    "#bir dileden diğer dile çevirme işlemi\n",
    "#Speech to text"
   ]
  },
  {
   "cell_type": "code",
   "execution_count": 138,
   "id": "d00adfb3",
   "metadata": {},
   "outputs": [],
   "source": [
    "c=\"I am a free black man from Afrika\""
   ]
  },
  {
   "cell_type": "code",
   "execution_count": 139,
   "id": "ed636eed",
   "metadata": {},
   "outputs": [],
   "source": [
    "b=TextBlob(c)"
   ]
  },
  {
   "cell_type": "code",
   "execution_count": 140,
   "id": "b139170f",
   "metadata": {},
   "outputs": [
    {
     "data": {
      "text/plain": [
       "TextBlob(\"Ben Afrika'dan özgür bir siyah adamım\")"
      ]
     },
     "execution_count": 140,
     "metadata": {},
     "output_type": "execute_result"
    }
   ],
   "source": [
    "b.translate(from_lang=\"en\", to=\"tr\")"
   ]
  },
  {
   "cell_type": "code",
   "execution_count": 141,
   "id": "33667c32",
   "metadata": {},
   "outputs": [],
   "source": [
    "k=\"hayat kısa, kuşlar uçuyor \""
   ]
  },
  {
   "cell_type": "code",
   "execution_count": 142,
   "id": "ef306a23",
   "metadata": {},
   "outputs": [],
   "source": [
    "b=TextBlob(k)"
   ]
  },
  {
   "cell_type": "code",
   "execution_count": 143,
   "id": "52770816",
   "metadata": {},
   "outputs": [
    {
     "data": {
      "text/plain": [
       "TextBlob(\"Жизнь короткая, птицы летят\")"
      ]
     },
     "execution_count": 143,
     "metadata": {},
     "output_type": "execute_result"
    }
   ],
   "source": [
    "b.translate(\"tr\",\"ru\")"
   ]
  },
  {
   "cell_type": "code",
   "execution_count": 144,
   "id": "b88fb86a",
   "metadata": {},
   "outputs": [
    {
     "data": {
      "text/plain": [
       "TextBlob(\"Das Leben ist kurz, Vögel fliegen\")"
      ]
     },
     "execution_count": 144,
     "metadata": {},
     "output_type": "execute_result"
    }
   ],
   "source": [
    "b.translate(\"tr\",\"de\")    "
   ]
  },
  {
   "cell_type": "code",
   "execution_count": 145,
   "id": "8d28f773",
   "metadata": {},
   "outputs": [],
   "source": [
    "#TF-IDF=Term Frequrncy - Inverse Document Frequency"
   ]
  },
  {
   "cell_type": "code",
   "execution_count": 146,
   "id": "2978889f",
   "metadata": {},
   "outputs": [
    {
     "name": "stdout",
     "output_type": "stream",
     "text": [
      "Requirement already satisfied: google in c:\\users\\kubra\\anaconda\\lib\\site-packages (3.0.0)\n",
      "Requirement already satisfied: beautifulsoup4 in c:\\users\\kubra\\anaconda\\lib\\site-packages (from google) (4.11.1)\n",
      "Requirement already satisfied: soupsieve>1.2 in c:\\users\\kubra\\anaconda\\lib\\site-packages (from beautifulsoup4->google) (2.3.1)\n",
      "Note: you may need to restart the kernel to use updated packages.\n"
     ]
    }
   ],
   "source": [
    "pip install google"
   ]
  },
  {
   "cell_type": "code",
   "execution_count": 147,
   "id": "3666741d",
   "metadata": {},
   "outputs": [],
   "source": [
    "from googlesearch import search # isteidiğimiz şeyyin ineternet üzerindne hangi sitelrde olduğunu buluyor"
   ]
  },
  {
   "cell_type": "code",
   "execution_count": 148,
   "id": "5ca50898",
   "metadata": {},
   "outputs": [
    {
     "name": "stdout",
     "output_type": "stream",
     "text": [
      "https://turkiyeustunzekalilarokulu.com/yapay-zeka-ii-zafer-acar/\n",
      "https://www.karar.com/yazarlar/zafer-acar/30-gunde-yapay-zeka-1588433\n",
      "https://www.karar.com/yazarlar/zafer-acar/yapay-zeka-is-dunyasini-derinden-sarsiyor-1589535\n",
      "http://www.birannetavsiyesi.com/tag/zafer-acar-yapay-zeka/\n",
      "https://www.youtube.com/watch?v=PleY4TOQmfw\n",
      "https://ne-np.facebook.com/KararHaber/posts/zafer-acar-g%C3%B6r%C3%BCld%C3%BC%C4%9F%C3%BC-gibi-topyek%C3%BCn-yapay-zeka-%C3%B6%C4%9Frenmemiz-gerekiyor-de%C4%9Filse-%C3%B6n%C3%BCm%C3%BC/3354956214607941/\n",
      "https://twitter.com/kararhaber/status/1391706559760175108?lang=en\n",
      "https://www.bizsiziz.com/cern-arastirmacisi-zafer-acardan-dikkat-ceken-yapay-zeka-aciklamasi/\n",
      "https://tr.newworldai.com/tag/zafer-acar/\n",
      "https://tr.newworldai.com/sesin-arkasindaki-yuz-zafer-acar/\n",
      "https://www.ensonhaber.com/teknoloji/cern-arastirmacisi-zafer-acar-insanlar-2-kilometrede-bir-iz-birakiyor\n",
      "https://www.site-traffic.net/zafer-acar-kimdir\n",
      "https://turkiye.ai/basinda-biz/\n",
      "https://www.tyb.org.tr/zafer-acar-yapay-zekaya-nereden-baslamali-40384h.htm\n",
      "https://www.gunlukkoseyazilari.com/karar-zafer-acar-01-subat-2021-30-gunde-yapay-zeka/791061\n",
      "https://1000kitap.com/kitap/kamburun-yukselisi--278393\n",
      "https://www.sondakika32.com/haber-zafer-acar-yapay-zeka-yeni-meslekler-olusturacak-19973.html\n",
      "https://www.cumhuriyet.com.tr/haber/insanlar-her-2-kilometrede-bir-dijital-iz-birakiyor-1799731\n",
      "https://www.edirneahval.com/bahcesehir-kolejinden-yapay-zeka-soylesisi\n",
      "https://www.auto2000kediri.com/zafer-acar\n",
      "https://kidega.com/yazar/zafer-acar-172869/\n",
      "https://www.koseyazarioku.com/yazar/zafer-acar/3/\n",
      "https://www.sonkoseyazilari.com/zafer-acar-dunku-yazisi\n",
      "https://www.oakfortressjournals.org/zafer-acar\n",
      "https://yazartakibi.com/home/writes/show/605469\n",
      "https://www.edirnegazetesi.com.tr/yapay-zeka-uzerine-konustular/27843/\n",
      "https://tr.polcip.pl/6b21806b/\n",
      "https://2022.kancelaria-unww.pl/a27a808c/\n",
      "https://www.linkedin.com/in/zaferacar\n",
      "https://www.karasuhaber.com/yasam/engellilere-mujdeli-haber-h1953.html\n",
      "https://www.yeniakit.com.tr/haber/insanlar-her-2-kilometrede-bir-dijital-iz-birakiyor-1480232.html\n",
      "https://www.gunboyugazetesi.com.tr/arsiv-haberi-73019h.htm\n",
      "https://tr.tribewakepark.it/tr/799df3aa9f\n",
      "https://zpko.friulmec.it/yapay-zeka-yaz-okulu-2018.html\n",
      "https://www.academia.edu/49258693/Lojistik_Y%C3%B6netimi\n",
      "https://www.bilgecocuk.com/bilge-cocuk-aralik-2020-sayisi-cikti/\n",
      "https://dergipark.org.tr/tr/pub/ijoses/board\n",
      "https://tr.a-wind.pl/29e2093d/\n",
      "https://www.polatkitapcilik.com/kitap/lojistik-yaklasimiyla-tedarik-zinciri-yonetimi-a-zafer-acar-9786051339535\n",
      "https://www.konyasehirkoleji.com/anadolu-lisesi/haberler/sehir-yapay-zeka-ya-kavusuyor\n",
      "https://domdekorum.pl/e07667c3/\n",
      "https://www.bpdbauranchi.org/haber-sunan-yapay-zeka\n",
      "https://fxdy.f1sh.it/yapay-zeka-m%C3%BChendisi-maa%C5%9F%C4%B1.html\n",
      "https://www.airporthaber.com/dhmi-haberleri/havacilik-sektor-paneline-buyuk-ilgi.html\n",
      "https://events.csu.edu.tr/?EventID=146\n",
      "http://mxtube.live/videos/search/Zafer%20Acar\n",
      "https://www.vitalcity.cz/83045fe3/\n",
      "https://praisr.net/karar_tv.html\n",
      "https://gazikitabevi.com.tr/index.php/kategori/yapay-zeka\n",
      "https://www.sihor.net/haber-sunan-yapay-zeka\n",
      "https://www.kitapyurdu.com/kategori/isletme/393.html&page=7&filter_rating=4&filter_in_stock=1&limit=25\n",
      "https://www.cimri.com/ekonomi-pazarlama-kitaplari?page=24\n",
      "https://www.keramikadostal.cz/oyun/40596/\n",
      "https://oomovoe.com/post-detail/uzayda-calsacak-komedyen-aranyor---zafer-acar/23559116\n",
      "https://www.kjpodlahy.cz/5032bba0/\n",
      "https://shiftdelete.net/her-iki-kmde-bir-dijital-iz-birakiyoruz\n",
      "https://kayiprihtim.com/haberler/bilim/7-olimpos-gokyuzu-ve-bilim-festivali-kayit-sureci-basladi/\n",
      "https://zerofeerentals.com/karar_tv.html\n",
      "https://870638129.christiane-guyer.ch/karar-tv-canl%C4%B1-izle.html\n",
      "https://diyanetamerica.org/wp-content/uploads/2020/06/DE2020SummerProgram.pdf\n",
      "http://www.istikbalgazetesi.com/haber.asp?sec=2&newscatid=0&yazarid=271&newsid=223278\n",
      "https://247attractions.co.uk/karar_tv.html\n",
      "https://www.oksvatba.cz/7dd9272c/\n",
      "https://www.naifcare.pl/karar-fali.html\n",
      "https://parafia.bonczyk.org/mcanlitv.html\n",
      "https://pb3658.net/karar_tv.html\n",
      "https://maaa.deusconsulting.it/yapay-zeka-m%C3%BChendisi-maa%C5%9F%C4%B1.html\n",
      "https://www.kibrispostasi.com/c77-SAGLIK/n417202-prof-dr-hasan-zafer-acar-kanserde-erken-taniya-dikkat-cekti\n",
      "https://qasuzyd.mailingliststudio.es/hysex/tixum.php\n",
      "https://ets.anadolu.edu.tr/storage/nfs/LOJ104U/ebook/LOJ104U-13V2S1-8-0-1-SV1-ebook.pdf\n",
      "https://www.orionkitabevi.com.tr/kategori/bilim-muhendislik/yapay-zeka/\n",
      "https://tr.natematchin.pl/1a062511/\n",
      "http://mxtube.net/videos/search/Zafer%20Acar\n",
      "http://www.fbe2.sakarya.edu.tr/TezListele.aspx?kelime=YAPAY&bolumid=0&tip=0&durum=0\n",
      "https://www.bkmkitap.com/herkes-icin-yapay-zeka\n",
      "https://www.malatyanethaber.com.tr/yazi/mehmet-zeki-dincarslan/teknoloji-ilerledikce-issizlik-artacak/2500/\n",
      "https://tr.kontaktenergia.pl/3dc661c6/\n",
      "https://www.heryerdebul.com/kategoriler/bilgi/ad/yapay-zeka-ve-makine-ogrenimi-kurumsal-yazilim-gelistirmeyi-nasil-guclendirir,10850\n",
      "https://projectcamelotportal.net/karar_tv_canl%C4%B1_yay%C4%B1n.html\n",
      "https://www.meridyenhaber.com/alinti-yazarlar/cin-askeri-birimleri-biyolojik-olarak-gelistirilmis-h54940.html\n",
      "https://lotto.e-badanieosobowosci.pl/e86e90ae/\n",
      "https://www.healthworldnews.net/yapay-zeka-ve-insan-kalabilmek-bolum-2/\n",
      "https://nitter.fdn.fr/IEEEegesb/status/1337011342172168193\n",
      "https://ogbf.kozmikanafor.com/gunluk/author/309-superuser\n",
      "https://www.haberturk.com/mardin-haberleri/65133805-mardinli-gencler-icin-yapay-zeka-etkinligi-duzenlendi\n",
      "https://workingside.com/karar_tv_canl%C4%B1_yay%C4%B1n.html\n",
      "https://imatip.mediacuerdo.es/toz/fiqoku.php\n",
      "https://www.hidropolitikakademi.org/tr/article/22118/21-yuzyilin-en-onemli-meslegi-veri-bilimi\n",
      "https://evrimagaci.org/etkinlik/7-olimpos-gokyuzu-bilim-festivali-610\n",
      "https://bonuslar.bomihurt.pl/d312cf03/\n",
      "https://tr.mpisterm.pl/5f3f0656/\n",
      "https://www.phr-forensic-course.org/amazon-tedarik-zinciri\n",
      "http://giak2015.isikun.edu.tr/tr/kabul-edilen-bildiriler\n",
      "https://www.siyasalkitap.com/bilim-muhendislik/yapay-zeka\n",
      "https://www.gtech.com.tr/yapay-zeka-uzerine-okunasi-kitaplar-1/\n",
      "https://www.kitapmatik.com.tr/kitap/stratejik-lojistik-yonetimi-p928767.html\n",
      "http://www.haberdurus.com/haber/haber-sunan-yapay-zeka-24473.html\n",
      "https://www.nobelyayin.com/kitapliste.asp?c=880&p=16\n",
      "https://www.mynet.com/insanlar-her-2-kilometrede-bir-dijital-iz-birakiyor-110106676375\n",
      "https://avesis.atauni.edu.tr/abdullatif/yayinlar?themeId=1\n",
      "https://turkce.akademiafachowca.pl/36c9c4e2/\n",
      "https://lotto.ekopin.pl/edf16321/\n",
      "https://www.okulhaberleri.net/sayin-zafer-acardan-okulumuza-ozel-egitim-4062720\n",
      "https://qn.trud-sudim.ru/RCMDIwMkI4NkQwQQ==e\n",
      "https://www.gzt.com/etiket/yapay-zeka\n",
      "https://benimcevabim.com/yapay-zeka-nereden-baslamali/\n",
      "https://www.milliyet.com.tr/gundem/turk-muhendislerden-buyuk-basari-yapay-zeka-6210716\n",
      "https://www.oncevatan.com.tr/bilim-ve-teknoloji/turkiyenin-ozel-yetenekli-gencleri-zekathonda-yarisacak-h190690.html\n",
      "https://www.indyturk.com/node/563431\n",
      "https://tr.wikipedia.org/wiki/Go\n",
      "https://www.omu.edu.tr/tr\n",
      "https://fruitboxkw.com/karar_tv_canl%C4%B1_yay%C4%B1n.html\n",
      "https://www.kodlab.com/programlama/597-projelerle-yapay-zeka-ve-bilgisayarli-goru-9786257440196.html\n",
      "https://onedio.com/haber/turk-ekranlarinin-en-uzun-soluklu-dizisi-arka-sokaklar-in-17-sezonu-basliyor-yayin-tarihi-belli-oldu-1099521\n",
      "https://esinvisiblepast.work/karar_tv.html\n",
      "https://www.cudanajawie.pl/6c434556/\n",
      "https://wlya.andrearombaldi.it/neptun-f%C4%B1skiye.html\n",
      "https://tramaoluo.avtosport-orel.ru/MeMDIwMjRFN0U5QQ==Y\n",
      "https://tramaoluo.avtosport-orel.ru/MeMDIwMjg0NDhCMw==Y\n",
      "https://www.teatrodellolmo-taino.it/miwod/j290t75x70b/\n",
      "http://ateliermaletine.fr/miwod/o444t70z21n/\n",
      "https://tur.tivoyageur.com/nasa-feed-goes-dead-after-unidentified-object-passes-through-space-toward-earth-366746\n",
      "https://eksisozluk.com/yapay-zeka--42117?p=4\n",
      "https://davisvideo1999768085.blogspot.com/?download,yN7xPVWBB1A\n",
      "https://davisvideo1999768085.blogspot.com/?download,UDWtuu2_kK0\n",
      "https://martinezmonge.es/tr/a31e9d3\n",
      "https://dwo.imperiyal-klimat.ru/bWMDIwMjRFN0VCNg==n\n",
      "https://www.acarbaltas.com/yapay-zekanin-egemen-oldugu-dunyada-yasamak/\n",
      "https://www.sevilenotocekici.com/yapay-zekayla-bebek\n"
     ]
    }
   ],
   "source": [
    "for i in search(\"Zafer Acar Yapay Zeka\"): # nerelerde isim geçiyor onu buluyor\n",
    "    print(i)"
   ]
  },
  {
   "cell_type": "code",
   "execution_count": 149,
   "id": "b28af5ef",
   "metadata": {},
   "outputs": [],
   "source": [
    "#Euler Method köprü sorusu- Graph Theory önemli, google bunu kullanılarak, \n",
    "#fverr denen yerden link alarak goggle sizin görünürlülüğünüzü artırıyor\n",
    "#aranan kelmelri hangi web sitesi en güzel buluyor?"
   ]
  },
  {
   "cell_type": "code",
   "execution_count": 150,
   "id": "a8db2dff",
   "metadata": {},
   "outputs": [],
   "source": [
    "#ORBİTZ VE KAYAK ucuz UÇAK BİLEti İçin\n",
    "#GOLD IRA- Bazı kelimelrin google da parasal karşılığı var, google bunlar reklam veriyor ve para kazanıyor"
   ]
  },
  {
   "cell_type": "code",
   "execution_count": 151,
   "id": "2b653e99",
   "metadata": {},
   "outputs": [],
   "source": [
    "#TF-ID ; bir kelimenin ne kadar geçtiği"
   ]
  },
  {
   "cell_type": "code",
   "execution_count": 152,
   "id": "e3fd22bf",
   "metadata": {},
   "outputs": [],
   "source": [
    "#vectorisez ;cümellerin içindeki kelilerin tekrrarlanırken altlarına numara yazılması\n",
    "#micrsosoftın yarısı hindistanlı ve lisede öğreniyorlar\n"
   ]
  },
  {
   "cell_type": "code",
   "execution_count": 153,
   "id": "63a3eb4f",
   "metadata": {},
   "outputs": [],
   "source": [
    "#Vectorizer"
   ]
  },
  {
   "cell_type": "code",
   "execution_count": 154,
   "id": "6d38a949",
   "metadata": {},
   "outputs": [],
   "source": [
    "from sklearn.feature_extraction.text import CountVectorizer, TfidfVectorizer #CountVectorizer ; BRİ KELMİENİ NE KADAR GEÇİTĞİNİ SAYIYOR"
   ]
  },
  {
   "cell_type": "code",
   "execution_count": 155,
   "id": "00f436be",
   "metadata": {},
   "outputs": [],
   "source": [
    "cumle=\"Call you tonight\",\"Call me a cab\",\"please, call me...PLEASE!\"\n"
   ]
  },
  {
   "cell_type": "code",
   "execution_count": 156,
   "id": "d62b9299",
   "metadata": {},
   "outputs": [],
   "source": [
    "vect=CountVectorizer()"
   ]
  },
  {
   "cell_type": "code",
   "execution_count": 157,
   "id": "c26ecb44",
   "metadata": {},
   "outputs": [],
   "source": [
    "import pandas as pd"
   ]
  },
  {
   "cell_type": "code",
   "execution_count": 158,
   "id": "026d25aa",
   "metadata": {},
   "outputs": [
    {
     "name": "stderr",
     "output_type": "stream",
     "text": [
      "C:\\Users\\kubra\\anaconda\\lib\\site-packages\\sklearn\\utils\\deprecation.py:87: FutureWarning: Function get_feature_names is deprecated; get_feature_names is deprecated in 1.0 and will be removed in 1.2. Please use get_feature_names_out instead.\n",
      "  warnings.warn(msg, category=FutureWarning)\n"
     ]
    }
   ],
   "source": [
    "tf=pd.DataFrame(vect.fit_transform(cumle).toarray(),columns=vect.get_feature_names())\n"
   ]
  },
  {
   "cell_type": "code",
   "execution_count": 159,
   "id": "4dba0955",
   "metadata": {},
   "outputs": [
    {
     "data": {
      "text/html": [
       "<div>\n",
       "<style scoped>\n",
       "    .dataframe tbody tr th:only-of-type {\n",
       "        vertical-align: middle;\n",
       "    }\n",
       "\n",
       "    .dataframe tbody tr th {\n",
       "        vertical-align: top;\n",
       "    }\n",
       "\n",
       "    .dataframe thead th {\n",
       "        text-align: right;\n",
       "    }\n",
       "</style>\n",
       "<table border=\"1\" class=\"dataframe\">\n",
       "  <thead>\n",
       "    <tr style=\"text-align: right;\">\n",
       "      <th></th>\n",
       "      <th>cab</th>\n",
       "      <th>call</th>\n",
       "      <th>me</th>\n",
       "      <th>please</th>\n",
       "      <th>tonight</th>\n",
       "      <th>you</th>\n",
       "    </tr>\n",
       "  </thead>\n",
       "  <tbody>\n",
       "    <tr>\n",
       "      <th>0</th>\n",
       "      <td>0</td>\n",
       "      <td>1</td>\n",
       "      <td>0</td>\n",
       "      <td>0</td>\n",
       "      <td>1</td>\n",
       "      <td>1</td>\n",
       "    </tr>\n",
       "    <tr>\n",
       "      <th>1</th>\n",
       "      <td>1</td>\n",
       "      <td>1</td>\n",
       "      <td>1</td>\n",
       "      <td>0</td>\n",
       "      <td>0</td>\n",
       "      <td>0</td>\n",
       "    </tr>\n",
       "    <tr>\n",
       "      <th>2</th>\n",
       "      <td>0</td>\n",
       "      <td>1</td>\n",
       "      <td>1</td>\n",
       "      <td>2</td>\n",
       "      <td>0</td>\n",
       "      <td>0</td>\n",
       "    </tr>\n",
       "  </tbody>\n",
       "</table>\n",
       "</div>"
      ],
      "text/plain": [
       "   cab  call  me  please  tonight  you\n",
       "0    0     1   0       0        1    1\n",
       "1    1     1   1       0        0    0\n",
       "2    0     1   1       2        0    0"
      ]
     },
     "execution_count": 159,
     "metadata": {},
     "output_type": "execute_result"
    }
   ],
   "source": [
    "tf"
   ]
  },
  {
   "cell_type": "code",
   "execution_count": 160,
   "id": "00c56dd9",
   "metadata": {},
   "outputs": [],
   "source": [
    "vect=CountVectorizer()\n",
    "df=vect.fit_transform(cumle).toarray().sum(axis=0)"
   ]
  },
  {
   "cell_type": "code",
   "execution_count": 161,
   "id": "7f683f4b",
   "metadata": {},
   "outputs": [
    {
     "data": {
      "text/plain": [
       "array([1, 3, 2, 2, 1, 1], dtype=int64)"
      ]
     },
     "execution_count": 161,
     "metadata": {},
     "output_type": "execute_result"
    }
   ],
   "source": [
    "df"
   ]
  },
  {
   "cell_type": "code",
   "execution_count": 162,
   "id": "e7c40dfb",
   "metadata": {},
   "outputs": [
    {
     "name": "stderr",
     "output_type": "stream",
     "text": [
      "C:\\Users\\kubra\\anaconda\\lib\\site-packages\\sklearn\\utils\\deprecation.py:87: FutureWarning: Function get_feature_names is deprecated; get_feature_names is deprecated in 1.0 and will be removed in 1.2. Please use get_feature_names_out instead.\n",
      "  warnings.warn(msg, category=FutureWarning)\n"
     ]
    },
    {
     "data": {
      "text/html": [
       "<div>\n",
       "<style scoped>\n",
       "    .dataframe tbody tr th:only-of-type {\n",
       "        vertical-align: middle;\n",
       "    }\n",
       "\n",
       "    .dataframe tbody tr th {\n",
       "        vertical-align: top;\n",
       "    }\n",
       "\n",
       "    .dataframe thead th {\n",
       "        text-align: right;\n",
       "    }\n",
       "</style>\n",
       "<table border=\"1\" class=\"dataframe\">\n",
       "  <thead>\n",
       "    <tr style=\"text-align: right;\">\n",
       "      <th></th>\n",
       "      <th>cab</th>\n",
       "      <th>call</th>\n",
       "      <th>me</th>\n",
       "      <th>please</th>\n",
       "      <th>tonight</th>\n",
       "      <th>you</th>\n",
       "    </tr>\n",
       "  </thead>\n",
       "  <tbody>\n",
       "    <tr>\n",
       "      <th>0</th>\n",
       "      <td>1</td>\n",
       "      <td>3</td>\n",
       "      <td>2</td>\n",
       "      <td>2</td>\n",
       "      <td>1</td>\n",
       "      <td>1</td>\n",
       "    </tr>\n",
       "  </tbody>\n",
       "</table>\n",
       "</div>"
      ],
      "text/plain": [
       "   cab  call  me  please  tonight  you\n",
       "0    1     3   2       2        1    1"
      ]
     },
     "execution_count": 162,
     "metadata": {},
     "output_type": "execute_result"
    }
   ],
   "source": [
    "pd.DataFrame(df.reshape(1,6),columns=vect.get_feature_names())"
   ]
  },
  {
   "cell_type": "code",
   "execution_count": 163,
   "id": "0cb060b2",
   "metadata": {},
   "outputs": [
    {
     "data": {
      "text/html": [
       "<div>\n",
       "<style scoped>\n",
       "    .dataframe tbody tr th:only-of-type {\n",
       "        vertical-align: middle;\n",
       "    }\n",
       "\n",
       "    .dataframe tbody tr th {\n",
       "        vertical-align: top;\n",
       "    }\n",
       "\n",
       "    .dataframe thead th {\n",
       "        text-align: right;\n",
       "    }\n",
       "</style>\n",
       "<table border=\"1\" class=\"dataframe\">\n",
       "  <thead>\n",
       "    <tr style=\"text-align: right;\">\n",
       "      <th></th>\n",
       "      <th>cab</th>\n",
       "      <th>call</th>\n",
       "      <th>me</th>\n",
       "      <th>please</th>\n",
       "      <th>tonight</th>\n",
       "      <th>you</th>\n",
       "    </tr>\n",
       "  </thead>\n",
       "  <tbody>\n",
       "    <tr>\n",
       "      <th>0</th>\n",
       "      <td>0.0</td>\n",
       "      <td>0.333333</td>\n",
       "      <td>0.0</td>\n",
       "      <td>0.0</td>\n",
       "      <td>1.0</td>\n",
       "      <td>1.0</td>\n",
       "    </tr>\n",
       "    <tr>\n",
       "      <th>1</th>\n",
       "      <td>1.0</td>\n",
       "      <td>0.333333</td>\n",
       "      <td>0.5</td>\n",
       "      <td>0.0</td>\n",
       "      <td>0.0</td>\n",
       "      <td>0.0</td>\n",
       "    </tr>\n",
       "    <tr>\n",
       "      <th>2</th>\n",
       "      <td>0.0</td>\n",
       "      <td>0.333333</td>\n",
       "      <td>0.5</td>\n",
       "      <td>1.0</td>\n",
       "      <td>0.0</td>\n",
       "      <td>0.0</td>\n",
       "    </tr>\n",
       "  </tbody>\n",
       "</table>\n",
       "</div>"
      ],
      "text/plain": [
       "   cab      call   me  please  tonight  you\n",
       "0  0.0  0.333333  0.0     0.0      1.0  1.0\n",
       "1  1.0  0.333333  0.5     0.0      0.0  0.0\n",
       "2  0.0  0.333333  0.5     1.0      0.0  0.0"
      ]
     },
     "execution_count": 163,
     "metadata": {},
     "output_type": "execute_result"
    }
   ],
   "source": [
    "tf/df # hangi kelimenin hangi cümlede yüzdelik geçme oranını söylüyor"
   ]
  },
  {
   "cell_type": "code",
   "execution_count": 164,
   "id": "6e7db451",
   "metadata": {},
   "outputs": [],
   "source": [
    "#vektörün uzunluğu bulmak"
   ]
  },
  {
   "cell_type": "code",
   "execution_count": 165,
   "id": "52648221",
   "metadata": {},
   "outputs": [],
   "source": [
    "vect=TfidfVectorizer()"
   ]
  },
  {
   "cell_type": "code",
   "execution_count": 166,
   "id": "3214ee02",
   "metadata": {},
   "outputs": [
    {
     "name": "stderr",
     "output_type": "stream",
     "text": [
      "C:\\Users\\kubra\\anaconda\\lib\\site-packages\\sklearn\\utils\\deprecation.py:87: FutureWarning: Function get_feature_names is deprecated; get_feature_names is deprecated in 1.0 and will be removed in 1.2. Please use get_feature_names_out instead.\n",
      "  warnings.warn(msg, category=FutureWarning)\n"
     ]
    },
    {
     "data": {
      "text/html": [
       "<div>\n",
       "<style scoped>\n",
       "    .dataframe tbody tr th:only-of-type {\n",
       "        vertical-align: middle;\n",
       "    }\n",
       "\n",
       "    .dataframe tbody tr th {\n",
       "        vertical-align: top;\n",
       "    }\n",
       "\n",
       "    .dataframe thead th {\n",
       "        text-align: right;\n",
       "    }\n",
       "</style>\n",
       "<table border=\"1\" class=\"dataframe\">\n",
       "  <thead>\n",
       "    <tr style=\"text-align: right;\">\n",
       "      <th></th>\n",
       "      <th>cab</th>\n",
       "      <th>call</th>\n",
       "      <th>me</th>\n",
       "      <th>please</th>\n",
       "      <th>tonight</th>\n",
       "      <th>you</th>\n",
       "    </tr>\n",
       "  </thead>\n",
       "  <tbody>\n",
       "    <tr>\n",
       "      <th>0</th>\n",
       "      <td>0.000000</td>\n",
       "      <td>0.385372</td>\n",
       "      <td>0.000000</td>\n",
       "      <td>0.000000</td>\n",
       "      <td>0.652491</td>\n",
       "      <td>0.652491</td>\n",
       "    </tr>\n",
       "    <tr>\n",
       "      <th>1</th>\n",
       "      <td>0.720333</td>\n",
       "      <td>0.425441</td>\n",
       "      <td>0.547832</td>\n",
       "      <td>0.000000</td>\n",
       "      <td>0.000000</td>\n",
       "      <td>0.000000</td>\n",
       "    </tr>\n",
       "    <tr>\n",
       "      <th>2</th>\n",
       "      <td>0.000000</td>\n",
       "      <td>0.266075</td>\n",
       "      <td>0.342620</td>\n",
       "      <td>0.901008</td>\n",
       "      <td>0.000000</td>\n",
       "      <td>0.000000</td>\n",
       "    </tr>\n",
       "  </tbody>\n",
       "</table>\n",
       "</div>"
      ],
      "text/plain": [
       "        cab      call        me    please   tonight       you\n",
       "0  0.000000  0.385372  0.000000  0.000000  0.652491  0.652491\n",
       "1  0.720333  0.425441  0.547832  0.000000  0.000000  0.000000\n",
       "2  0.000000  0.266075  0.342620  0.901008  0.000000  0.000000"
      ]
     },
     "execution_count": 166,
     "metadata": {},
     "output_type": "execute_result"
    }
   ],
   "source": [
    "pd.DataFrame(vect.fit_transform(cumle).toarray(),columns=vect.get_feature_names())"
   ]
  },
  {
   "cell_type": "code",
   "execution_count": 167,
   "id": "4222bf83",
   "metadata": {},
   "outputs": [],
   "source": [
    "import pandas as pd"
   ]
  },
  {
   "cell_type": "code",
   "execution_count": 168,
   "id": "f1c75fa3",
   "metadata": {},
   "outputs": [],
   "source": [
    "yelp=pd.read_csv(\"yelp.csv\")"
   ]
  },
  {
   "cell_type": "code",
   "execution_count": 169,
   "id": "571c2f2c",
   "metadata": {},
   "outputs": [
    {
     "data": {
      "text/html": [
       "<div>\n",
       "<style scoped>\n",
       "    .dataframe tbody tr th:only-of-type {\n",
       "        vertical-align: middle;\n",
       "    }\n",
       "\n",
       "    .dataframe tbody tr th {\n",
       "        vertical-align: top;\n",
       "    }\n",
       "\n",
       "    .dataframe thead th {\n",
       "        text-align: right;\n",
       "    }\n",
       "</style>\n",
       "<table border=\"1\" class=\"dataframe\">\n",
       "  <thead>\n",
       "    <tr style=\"text-align: right;\">\n",
       "      <th></th>\n",
       "      <th>business_id</th>\n",
       "      <th>date</th>\n",
       "      <th>review_id</th>\n",
       "      <th>stars</th>\n",
       "      <th>text</th>\n",
       "      <th>type</th>\n",
       "      <th>user_id</th>\n",
       "      <th>cool</th>\n",
       "      <th>useful</th>\n",
       "      <th>funny</th>\n",
       "    </tr>\n",
       "  </thead>\n",
       "  <tbody>\n",
       "    <tr>\n",
       "      <th>0</th>\n",
       "      <td>9yKzy9PApeiPPOUJEtnvkg</td>\n",
       "      <td>2011-01-26</td>\n",
       "      <td>fWKvX83p0-ka4JS3dc6E5A</td>\n",
       "      <td>5</td>\n",
       "      <td>My wife took me here on my birthday for breakf...</td>\n",
       "      <td>review</td>\n",
       "      <td>rLtl8ZkDX5vH5nAx9C3q5Q</td>\n",
       "      <td>2</td>\n",
       "      <td>5</td>\n",
       "      <td>0</td>\n",
       "    </tr>\n",
       "    <tr>\n",
       "      <th>1</th>\n",
       "      <td>ZRJwVLyzEJq1VAihDhYiow</td>\n",
       "      <td>2011-07-27</td>\n",
       "      <td>IjZ33sJrzXqU-0X6U8NwyA</td>\n",
       "      <td>5</td>\n",
       "      <td>I have no idea why some people give bad review...</td>\n",
       "      <td>review</td>\n",
       "      <td>0a2KyEL0d3Yb1V6aivbIuQ</td>\n",
       "      <td>0</td>\n",
       "      <td>0</td>\n",
       "      <td>0</td>\n",
       "    </tr>\n",
       "    <tr>\n",
       "      <th>2</th>\n",
       "      <td>6oRAC4uyJCsJl1X0WZpVSA</td>\n",
       "      <td>2012-06-14</td>\n",
       "      <td>IESLBzqUCLdSzSqm0eCSxQ</td>\n",
       "      <td>4</td>\n",
       "      <td>love the gyro plate. Rice is so good and I als...</td>\n",
       "      <td>review</td>\n",
       "      <td>0hT2KtfLiobPvh6cDC8JQg</td>\n",
       "      <td>0</td>\n",
       "      <td>1</td>\n",
       "      <td>0</td>\n",
       "    </tr>\n",
       "    <tr>\n",
       "      <th>3</th>\n",
       "      <td>_1QQZuf4zZOyFCvXc0o6Vg</td>\n",
       "      <td>2010-05-27</td>\n",
       "      <td>G-WvGaISbqqaMHlNnByodA</td>\n",
       "      <td>5</td>\n",
       "      <td>Rosie, Dakota, and I LOVE Chaparral Dog Park!!...</td>\n",
       "      <td>review</td>\n",
       "      <td>uZetl9T0NcROGOyFfughhg</td>\n",
       "      <td>1</td>\n",
       "      <td>2</td>\n",
       "      <td>0</td>\n",
       "    </tr>\n",
       "    <tr>\n",
       "      <th>4</th>\n",
       "      <td>6ozycU1RpktNG2-1BroVtw</td>\n",
       "      <td>2012-01-05</td>\n",
       "      <td>1uJFq2r5QfJG_6ExMRCaGw</td>\n",
       "      <td>5</td>\n",
       "      <td>General Manager Scott Petello is a good egg!!!...</td>\n",
       "      <td>review</td>\n",
       "      <td>vYmM4KTsC8ZfQBg-j5MWkw</td>\n",
       "      <td>0</td>\n",
       "      <td>0</td>\n",
       "      <td>0</td>\n",
       "    </tr>\n",
       "  </tbody>\n",
       "</table>\n",
       "</div>"
      ],
      "text/plain": [
       "              business_id        date               review_id  stars  \\\n",
       "0  9yKzy9PApeiPPOUJEtnvkg  2011-01-26  fWKvX83p0-ka4JS3dc6E5A      5   \n",
       "1  ZRJwVLyzEJq1VAihDhYiow  2011-07-27  IjZ33sJrzXqU-0X6U8NwyA      5   \n",
       "2  6oRAC4uyJCsJl1X0WZpVSA  2012-06-14  IESLBzqUCLdSzSqm0eCSxQ      4   \n",
       "3  _1QQZuf4zZOyFCvXc0o6Vg  2010-05-27  G-WvGaISbqqaMHlNnByodA      5   \n",
       "4  6ozycU1RpktNG2-1BroVtw  2012-01-05  1uJFq2r5QfJG_6ExMRCaGw      5   \n",
       "\n",
       "                                                text    type  \\\n",
       "0  My wife took me here on my birthday for breakf...  review   \n",
       "1  I have no idea why some people give bad review...  review   \n",
       "2  love the gyro plate. Rice is so good and I als...  review   \n",
       "3  Rosie, Dakota, and I LOVE Chaparral Dog Park!!...  review   \n",
       "4  General Manager Scott Petello is a good egg!!!...  review   \n",
       "\n",
       "                  user_id  cool  useful  funny  \n",
       "0  rLtl8ZkDX5vH5nAx9C3q5Q     2       5      0  \n",
       "1  0a2KyEL0d3Yb1V6aivbIuQ     0       0      0  \n",
       "2  0hT2KtfLiobPvh6cDC8JQg     0       1      0  \n",
       "3  uZetl9T0NcROGOyFfughhg     1       2      0  \n",
       "4  vYmM4KTsC8ZfQBg-j5MWkw     0       0      0  "
      ]
     },
     "execution_count": 169,
     "metadata": {},
     "output_type": "execute_result"
    }
   ],
   "source": [
    "yelp.head()"
   ]
  },
  {
   "cell_type": "code",
   "execution_count": 170,
   "id": "983db0c0",
   "metadata": {},
   "outputs": [],
   "source": [
    "#yelp siteis kötü yorumalrı sildiriyor\n",
    "#yelp dataset ;ne kadar yorum yapıdığğını göstwriyor\n"
   ]
  },
  {
   "cell_type": "code",
   "execution_count": 171,
   "id": "15a4e2d1",
   "metadata": {},
   "outputs": [
    {
     "name": "stdout",
     "output_type": "stream",
     "text": [
      "<class 'pandas.core.frame.DataFrame'>\n",
      "RangeIndex: 10000 entries, 0 to 9999\n",
      "Data columns (total 10 columns):\n",
      " #   Column       Non-Null Count  Dtype \n",
      "---  ------       --------------  ----- \n",
      " 0   business_id  10000 non-null  object\n",
      " 1   date         10000 non-null  object\n",
      " 2   review_id    10000 non-null  object\n",
      " 3   stars        10000 non-null  int64 \n",
      " 4   text         10000 non-null  object\n",
      " 5   type         10000 non-null  object\n",
      " 6   user_id      10000 non-null  object\n",
      " 7   cool         10000 non-null  int64 \n",
      " 8   useful       10000 non-null  int64 \n",
      " 9   funny        10000 non-null  int64 \n",
      "dtypes: int64(4), object(6)\n",
      "memory usage: 781.4+ KB\n"
     ]
    }
   ],
   "source": [
    "yelp.info()"
   ]
  },
  {
   "cell_type": "markdown",
   "id": "fca052ef",
   "metadata": {},
   "source": [
    "NLP Project\n",
    "1-bütün harfleri küçük harfe çevir\n",
    "2-Noktalama işaretlerini kaldır\n",
    "3-Rakamları kaldııryorsunuz\n",
    "4-Satır sonu ve enter \\r \\n kaldırıyoruz\n",
    "5- Gereksiz kelimelri kldır\n",
    "6-kelmelri tetek ayırmalısınız(Tokenizer)\n",
    "7-Lema ve stemma ile ekleri kaldırıp kökleri bul\n",
    "8- vectorize ile yazıları rakama çevir\n"
   ]
  },
  {
   "cell_type": "code",
   "execution_count": 172,
   "id": "41df7c17",
   "metadata": {},
   "outputs": [
    {
     "data": {
      "text/html": [
       "<div>\n",
       "<style scoped>\n",
       "    .dataframe tbody tr th:only-of-type {\n",
       "        vertical-align: middle;\n",
       "    }\n",
       "\n",
       "    .dataframe tbody tr th {\n",
       "        vertical-align: top;\n",
       "    }\n",
       "\n",
       "    .dataframe thead th {\n",
       "        text-align: right;\n",
       "    }\n",
       "</style>\n",
       "<table border=\"1\" class=\"dataframe\">\n",
       "  <thead>\n",
       "    <tr style=\"text-align: right;\">\n",
       "      <th></th>\n",
       "      <th>business_id</th>\n",
       "      <th>date</th>\n",
       "      <th>review_id</th>\n",
       "      <th>stars</th>\n",
       "      <th>text</th>\n",
       "      <th>type</th>\n",
       "      <th>user_id</th>\n",
       "      <th>cool</th>\n",
       "      <th>useful</th>\n",
       "      <th>funny</th>\n",
       "    </tr>\n",
       "  </thead>\n",
       "  <tbody>\n",
       "    <tr>\n",
       "      <th>0</th>\n",
       "      <td>9yKzy9PApeiPPOUJEtnvkg</td>\n",
       "      <td>2011-01-26</td>\n",
       "      <td>fWKvX83p0-ka4JS3dc6E5A</td>\n",
       "      <td>5</td>\n",
       "      <td>My wife took me here on my birthday for breakf...</td>\n",
       "      <td>review</td>\n",
       "      <td>rLtl8ZkDX5vH5nAx9C3q5Q</td>\n",
       "      <td>2</td>\n",
       "      <td>5</td>\n",
       "      <td>0</td>\n",
       "    </tr>\n",
       "    <tr>\n",
       "      <th>1</th>\n",
       "      <td>ZRJwVLyzEJq1VAihDhYiow</td>\n",
       "      <td>2011-07-27</td>\n",
       "      <td>IjZ33sJrzXqU-0X6U8NwyA</td>\n",
       "      <td>5</td>\n",
       "      <td>I have no idea why some people give bad review...</td>\n",
       "      <td>review</td>\n",
       "      <td>0a2KyEL0d3Yb1V6aivbIuQ</td>\n",
       "      <td>0</td>\n",
       "      <td>0</td>\n",
       "      <td>0</td>\n",
       "    </tr>\n",
       "    <tr>\n",
       "      <th>2</th>\n",
       "      <td>6oRAC4uyJCsJl1X0WZpVSA</td>\n",
       "      <td>2012-06-14</td>\n",
       "      <td>IESLBzqUCLdSzSqm0eCSxQ</td>\n",
       "      <td>4</td>\n",
       "      <td>love the gyro plate. Rice is so good and I als...</td>\n",
       "      <td>review</td>\n",
       "      <td>0hT2KtfLiobPvh6cDC8JQg</td>\n",
       "      <td>0</td>\n",
       "      <td>1</td>\n",
       "      <td>0</td>\n",
       "    </tr>\n",
       "    <tr>\n",
       "      <th>3</th>\n",
       "      <td>_1QQZuf4zZOyFCvXc0o6Vg</td>\n",
       "      <td>2010-05-27</td>\n",
       "      <td>G-WvGaISbqqaMHlNnByodA</td>\n",
       "      <td>5</td>\n",
       "      <td>Rosie, Dakota, and I LOVE Chaparral Dog Park!!...</td>\n",
       "      <td>review</td>\n",
       "      <td>uZetl9T0NcROGOyFfughhg</td>\n",
       "      <td>1</td>\n",
       "      <td>2</td>\n",
       "      <td>0</td>\n",
       "    </tr>\n",
       "    <tr>\n",
       "      <th>4</th>\n",
       "      <td>6ozycU1RpktNG2-1BroVtw</td>\n",
       "      <td>2012-01-05</td>\n",
       "      <td>1uJFq2r5QfJG_6ExMRCaGw</td>\n",
       "      <td>5</td>\n",
       "      <td>General Manager Scott Petello is a good egg!!!...</td>\n",
       "      <td>review</td>\n",
       "      <td>vYmM4KTsC8ZfQBg-j5MWkw</td>\n",
       "      <td>0</td>\n",
       "      <td>0</td>\n",
       "      <td>0</td>\n",
       "    </tr>\n",
       "  </tbody>\n",
       "</table>\n",
       "</div>"
      ],
      "text/plain": [
       "              business_id        date               review_id  stars  \\\n",
       "0  9yKzy9PApeiPPOUJEtnvkg  2011-01-26  fWKvX83p0-ka4JS3dc6E5A      5   \n",
       "1  ZRJwVLyzEJq1VAihDhYiow  2011-07-27  IjZ33sJrzXqU-0X6U8NwyA      5   \n",
       "2  6oRAC4uyJCsJl1X0WZpVSA  2012-06-14  IESLBzqUCLdSzSqm0eCSxQ      4   \n",
       "3  _1QQZuf4zZOyFCvXc0o6Vg  2010-05-27  G-WvGaISbqqaMHlNnByodA      5   \n",
       "4  6ozycU1RpktNG2-1BroVtw  2012-01-05  1uJFq2r5QfJG_6ExMRCaGw      5   \n",
       "\n",
       "                                                text    type  \\\n",
       "0  My wife took me here on my birthday for breakf...  review   \n",
       "1  I have no idea why some people give bad review...  review   \n",
       "2  love the gyro plate. Rice is so good and I als...  review   \n",
       "3  Rosie, Dakota, and I LOVE Chaparral Dog Park!!...  review   \n",
       "4  General Manager Scott Petello is a good egg!!!...  review   \n",
       "\n",
       "                  user_id  cool  useful  funny  \n",
       "0  rLtl8ZkDX5vH5nAx9C3q5Q     2       5      0  \n",
       "1  0a2KyEL0d3Yb1V6aivbIuQ     0       0      0  \n",
       "2  0hT2KtfLiobPvh6cDC8JQg     0       1      0  \n",
       "3  uZetl9T0NcROGOyFfughhg     1       2      0  \n",
       "4  vYmM4KTsC8ZfQBg-j5MWkw     0       0      0  "
      ]
     },
     "execution_count": 172,
     "metadata": {},
     "output_type": "execute_result"
    }
   ],
   "source": [
    "yelp.head()"
   ]
  },
  {
   "cell_type": "code",
   "execution_count": 173,
   "id": "240bf5c9",
   "metadata": {},
   "outputs": [],
   "source": [
    "yelp[\"text\"]=yelp[\"text\"].str.lower()"
   ]
  },
  {
   "cell_type": "code",
   "execution_count": 174,
   "id": "e132e296",
   "metadata": {},
   "outputs": [
    {
     "name": "stderr",
     "output_type": "stream",
     "text": [
      "C:\\Users\\kubra\\AppData\\Local\\Temp\\ipykernel_9180\\1516108521.py:1: FutureWarning: The default value of regex will change from True to False in a future version.\n",
      "  yelp[\"text\"]=yelp[\"text\"].str.replace('[^\\w\\s]','')#noktlaama işaretilerini kaldırı\n"
     ]
    }
   ],
   "source": [
    "yelp[\"text\"]=yelp[\"text\"].str.replace('[^\\w\\s]','')#noktlaama işaretilerini kaldırı"
   ]
  },
  {
   "cell_type": "code",
   "execution_count": 175,
   "id": "7d46390b",
   "metadata": {},
   "outputs": [
    {
     "name": "stderr",
     "output_type": "stream",
     "text": [
      "C:\\Users\\kubra\\AppData\\Local\\Temp\\ipykernel_9180\\2118329707.py:1: FutureWarning: The default value of regex will change from True to False in a future version.\n",
      "  yelp[\"text\"]=yelp[\"text\"].str.replace(\"\\d+\",\"\") #rakamları kaldırır\n"
     ]
    }
   ],
   "source": [
    "yelp[\"text\"]=yelp[\"text\"].str.replace(\"\\d+\",\"\") #rakamları kaldırır"
   ]
  },
  {
   "cell_type": "code",
   "execution_count": 176,
   "id": "01f2d71b",
   "metadata": {},
   "outputs": [],
   "source": [
    "yelp[\"text\"]=yelp[\"text\"].str.replace(\"\\n\",\" \").replace(\"\\r\",\" \")"
   ]
  },
  {
   "cell_type": "code",
   "execution_count": 177,
   "id": "106e9cb5",
   "metadata": {},
   "outputs": [],
   "source": [
    "yelp_ei_ek=yelp[(yelp.stars==5) | (yelp.stars==1)] # ei;eniyi ek; en kötü"
   ]
  },
  {
   "cell_type": "code",
   "execution_count": 178,
   "id": "7f6c48db",
   "metadata": {},
   "outputs": [],
   "source": [
    "yelp_ei_ek.reset_index(drop=True,inplace=True)#bu indesleri tekrardan koyuyor\n"
   ]
  },
  {
   "cell_type": "code",
   "execution_count": 203,
   "id": "22ef58af",
   "metadata": {},
   "outputs": [
    {
     "data": {
      "text/html": [
       "<div>\n",
       "<style scoped>\n",
       "    .dataframe tbody tr th:only-of-type {\n",
       "        vertical-align: middle;\n",
       "    }\n",
       "\n",
       "    .dataframe tbody tr th {\n",
       "        vertical-align: top;\n",
       "    }\n",
       "\n",
       "    .dataframe thead th {\n",
       "        text-align: right;\n",
       "    }\n",
       "</style>\n",
       "<table border=\"1\" class=\"dataframe\">\n",
       "  <thead>\n",
       "    <tr style=\"text-align: right;\">\n",
       "      <th></th>\n",
       "      <th>business_id</th>\n",
       "      <th>date</th>\n",
       "      <th>review_id</th>\n",
       "      <th>stars</th>\n",
       "      <th>text</th>\n",
       "      <th>type</th>\n",
       "      <th>user_id</th>\n",
       "      <th>cool</th>\n",
       "      <th>useful</th>\n",
       "      <th>funny</th>\n",
       "    </tr>\n",
       "  </thead>\n",
       "  <tbody>\n",
       "    <tr>\n",
       "      <th>0</th>\n",
       "      <td>9yKzy9PApeiPPOUJEtnvkg</td>\n",
       "      <td>2011-01-26</td>\n",
       "      <td>fWKvX83p0-ka4JS3dc6E5A</td>\n",
       "      <td>5</td>\n",
       "      <td>my wife took me here on my birthday for breakf...</td>\n",
       "      <td>review</td>\n",
       "      <td>rLtl8ZkDX5vH5nAx9C3q5Q</td>\n",
       "      <td>2</td>\n",
       "      <td>5</td>\n",
       "      <td>0</td>\n",
       "    </tr>\n",
       "    <tr>\n",
       "      <th>1</th>\n",
       "      <td>ZRJwVLyzEJq1VAihDhYiow</td>\n",
       "      <td>2011-07-27</td>\n",
       "      <td>IjZ33sJrzXqU-0X6U8NwyA</td>\n",
       "      <td>5</td>\n",
       "      <td>i have no idea why some people give bad review...</td>\n",
       "      <td>review</td>\n",
       "      <td>0a2KyEL0d3Yb1V6aivbIuQ</td>\n",
       "      <td>0</td>\n",
       "      <td>0</td>\n",
       "      <td>0</td>\n",
       "    </tr>\n",
       "    <tr>\n",
       "      <th>2</th>\n",
       "      <td>_1QQZuf4zZOyFCvXc0o6Vg</td>\n",
       "      <td>2010-05-27</td>\n",
       "      <td>G-WvGaISbqqaMHlNnByodA</td>\n",
       "      <td>5</td>\n",
       "      <td>rosie dakota and i love chaparral dog park its...</td>\n",
       "      <td>review</td>\n",
       "      <td>uZetl9T0NcROGOyFfughhg</td>\n",
       "      <td>1</td>\n",
       "      <td>2</td>\n",
       "      <td>0</td>\n",
       "    </tr>\n",
       "    <tr>\n",
       "      <th>3</th>\n",
       "      <td>6ozycU1RpktNG2-1BroVtw</td>\n",
       "      <td>2012-01-05</td>\n",
       "      <td>1uJFq2r5QfJG_6ExMRCaGw</td>\n",
       "      <td>5</td>\n",
       "      <td>general manager scott petello is a good egg no...</td>\n",
       "      <td>review</td>\n",
       "      <td>vYmM4KTsC8ZfQBg-j5MWkw</td>\n",
       "      <td>0</td>\n",
       "      <td>0</td>\n",
       "      <td>0</td>\n",
       "    </tr>\n",
       "    <tr>\n",
       "      <th>4</th>\n",
       "      <td>zp713qNhx8d9KCJJnrw1xA</td>\n",
       "      <td>2010-02-12</td>\n",
       "      <td>riFQ3vxNpP4rWLk_CSri2A</td>\n",
       "      <td>5</td>\n",
       "      <td>drop what youre doing and drive here after i a...</td>\n",
       "      <td>review</td>\n",
       "      <td>wFweIWhv2fREZV_dYkz_1g</td>\n",
       "      <td>7</td>\n",
       "      <td>7</td>\n",
       "      <td>4</td>\n",
       "    </tr>\n",
       "    <tr>\n",
       "      <th>...</th>\n",
       "      <td>...</td>\n",
       "      <td>...</td>\n",
       "      <td>...</td>\n",
       "      <td>...</td>\n",
       "      <td>...</td>\n",
       "      <td>...</td>\n",
       "      <td>...</td>\n",
       "      <td>...</td>\n",
       "      <td>...</td>\n",
       "      <td>...</td>\n",
       "    </tr>\n",
       "    <tr>\n",
       "      <th>4081</th>\n",
       "      <td>R8VwdLyvsp9iybNqRvm94g</td>\n",
       "      <td>2011-10-03</td>\n",
       "      <td>pcEeHdAJPoFNF23es0kKWg</td>\n",
       "      <td>5</td>\n",
       "      <td>yes i do rock the hipster joints  i dig this p...</td>\n",
       "      <td>review</td>\n",
       "      <td>b92Y3tyWTQQZ5FLifex62Q</td>\n",
       "      <td>1</td>\n",
       "      <td>1</td>\n",
       "      <td>1</td>\n",
       "    </tr>\n",
       "    <tr>\n",
       "      <th>4082</th>\n",
       "      <td>WJ5mq4EiWYAA4Vif0xDfdg</td>\n",
       "      <td>2011-12-05</td>\n",
       "      <td>EuHX-39FR7tyyG1ElvN1Jw</td>\n",
       "      <td>5</td>\n",
       "      <td>only  stars   a few notes the folks that rated...</td>\n",
       "      <td>review</td>\n",
       "      <td>hTau-iNZFwoNsPCaiIUTEA</td>\n",
       "      <td>1</td>\n",
       "      <td>1</td>\n",
       "      <td>0</td>\n",
       "    </tr>\n",
       "    <tr>\n",
       "      <th>4083</th>\n",
       "      <td>f96lWMIAUhYIYy9gOktivQ</td>\n",
       "      <td>2009-03-10</td>\n",
       "      <td>YF17z7HWlMj6aezZc-pVEw</td>\n",
       "      <td>5</td>\n",
       "      <td>im not normally one to jump at reviewing a cha...</td>\n",
       "      <td>review</td>\n",
       "      <td>W_QXYA7A0IhMrvbckz7eVg</td>\n",
       "      <td>2</td>\n",
       "      <td>3</td>\n",
       "      <td>2</td>\n",
       "    </tr>\n",
       "    <tr>\n",
       "      <th>4084</th>\n",
       "      <td>L3BSpFvxcNf3T_teitgt6A</td>\n",
       "      <td>2012-03-19</td>\n",
       "      <td>0nxb1gIGFgk3WbC5zwhKZg</td>\n",
       "      <td>5</td>\n",
       "      <td>lets seewhat is there not to like about surpri...</td>\n",
       "      <td>review</td>\n",
       "      <td>OzOZv-Knlw3oz9K5Kh5S6A</td>\n",
       "      <td>1</td>\n",
       "      <td>2</td>\n",
       "      <td>1</td>\n",
       "    </tr>\n",
       "    <tr>\n",
       "      <th>4085</th>\n",
       "      <td>pF7uRzygyZsltbmVpjIyvw</td>\n",
       "      <td>2010-10-16</td>\n",
       "      <td>vWSmOhg2ID1MNZHaWapGbA</td>\n",
       "      <td>5</td>\n",
       "      <td>locations all  star average i think arizona r...</td>\n",
       "      <td>review</td>\n",
       "      <td>KSBFytcdjPKZgXKQnYQdkA</td>\n",
       "      <td>0</td>\n",
       "      <td>0</td>\n",
       "      <td>0</td>\n",
       "    </tr>\n",
       "  </tbody>\n",
       "</table>\n",
       "<p>4086 rows × 10 columns</p>\n",
       "</div>"
      ],
      "text/plain": [
       "                 business_id        date               review_id  stars  \\\n",
       "0     9yKzy9PApeiPPOUJEtnvkg  2011-01-26  fWKvX83p0-ka4JS3dc6E5A      5   \n",
       "1     ZRJwVLyzEJq1VAihDhYiow  2011-07-27  IjZ33sJrzXqU-0X6U8NwyA      5   \n",
       "2     _1QQZuf4zZOyFCvXc0o6Vg  2010-05-27  G-WvGaISbqqaMHlNnByodA      5   \n",
       "3     6ozycU1RpktNG2-1BroVtw  2012-01-05  1uJFq2r5QfJG_6ExMRCaGw      5   \n",
       "4     zp713qNhx8d9KCJJnrw1xA  2010-02-12  riFQ3vxNpP4rWLk_CSri2A      5   \n",
       "...                      ...         ...                     ...    ...   \n",
       "4081  R8VwdLyvsp9iybNqRvm94g  2011-10-03  pcEeHdAJPoFNF23es0kKWg      5   \n",
       "4082  WJ5mq4EiWYAA4Vif0xDfdg  2011-12-05  EuHX-39FR7tyyG1ElvN1Jw      5   \n",
       "4083  f96lWMIAUhYIYy9gOktivQ  2009-03-10  YF17z7HWlMj6aezZc-pVEw      5   \n",
       "4084  L3BSpFvxcNf3T_teitgt6A  2012-03-19  0nxb1gIGFgk3WbC5zwhKZg      5   \n",
       "4085  pF7uRzygyZsltbmVpjIyvw  2010-10-16  vWSmOhg2ID1MNZHaWapGbA      5   \n",
       "\n",
       "                                                   text    type  \\\n",
       "0     my wife took me here on my birthday for breakf...  review   \n",
       "1     i have no idea why some people give bad review...  review   \n",
       "2     rosie dakota and i love chaparral dog park its...  review   \n",
       "3     general manager scott petello is a good egg no...  review   \n",
       "4     drop what youre doing and drive here after i a...  review   \n",
       "...                                                 ...     ...   \n",
       "4081  yes i do rock the hipster joints  i dig this p...  review   \n",
       "4082  only  stars   a few notes the folks that rated...  review   \n",
       "4083  im not normally one to jump at reviewing a cha...  review   \n",
       "4084  lets seewhat is there not to like about surpri...  review   \n",
       "4085   locations all  star average i think arizona r...  review   \n",
       "\n",
       "                     user_id  cool  useful  funny  \n",
       "0     rLtl8ZkDX5vH5nAx9C3q5Q     2       5      0  \n",
       "1     0a2KyEL0d3Yb1V6aivbIuQ     0       0      0  \n",
       "2     uZetl9T0NcROGOyFfughhg     1       2      0  \n",
       "3     vYmM4KTsC8ZfQBg-j5MWkw     0       0      0  \n",
       "4     wFweIWhv2fREZV_dYkz_1g     7       7      4  \n",
       "...                      ...   ...     ...    ...  \n",
       "4081  b92Y3tyWTQQZ5FLifex62Q     1       1      1  \n",
       "4082  hTau-iNZFwoNsPCaiIUTEA     1       1      0  \n",
       "4083  W_QXYA7A0IhMrvbckz7eVg     2       3      2  \n",
       "4084  OzOZv-Knlw3oz9K5Kh5S6A     1       2      1  \n",
       "4085  KSBFytcdjPKZgXKQnYQdkA     0       0      0  \n",
       "\n",
       "[4086 rows x 10 columns]"
      ]
     },
     "execution_count": 203,
     "metadata": {},
     "output_type": "execute_result"
    }
   ],
   "source": [
    "yelp_ei_ek"
   ]
  },
  {
   "cell_type": "code",
   "execution_count": 180,
   "id": "7d9d54ff",
   "metadata": {},
   "outputs": [],
   "source": [
    "x=yelp_ei_ek.text\n",
    "y=yelp_ei_ek.stars #modeli eğiticez ve sonra yeni yazılan yazı dakkada bir yızldız yada 5 yıldızmı vecek , içeriği kötü yorumsa ama genede 5 yıldız vericek yani çoğunluğu iyi çıkmış oluyor"
   ]
  },
  {
   "cell_type": "code",
   "execution_count": 181,
   "id": "b585d080",
   "metadata": {},
   "outputs": [],
   "source": [
    "from sklearn.model_selection import train_test_split"
   ]
  },
  {
   "cell_type": "code",
   "execution_count": 182,
   "id": "3e0984f0",
   "metadata": {},
   "outputs": [],
   "source": [
    "from sklearn.feature_extraction.text import CountVectorizer, TfidfVectorizer"
   ]
  },
  {
   "cell_type": "code",
   "execution_count": 231,
   "id": "3cb46c2e",
   "metadata": {},
   "outputs": [],
   "source": [
    "vect=CountVectorizer(lowercase=True,ngram_range=(1,2),stop_words=\"english\")\n",
    "x_yeni=vect.fit_transform(x)\n",
    "#UYARI ikinci keZ çalıştırma "
   ]
  },
  {
   "cell_type": "code",
   "execution_count": 232,
   "id": "acfffe22",
   "metadata": {
    "scrolled": true
   },
   "outputs": [
    {
     "name": "stdout",
     "output_type": "stream",
     "text": [
      "  (0, 6315)\t1\n",
      "  (0, 518)\t1\n",
      "  (0, 16366)\t1\n",
      "  (0, 13858)\t1\n",
      "  (0, 20652)\t1\n",
      "  (0, 10923)\t1\n",
      "  (0, 19871)\t1\n",
      "  (0, 14941)\t1\n",
      "  (0, 10844)\t1\n",
      "  (0, 16376)\t1\n",
      "  (0, 11444)\t1\n",
      "  (0, 1778)\t1\n",
      "  (0, 5814)\t1\n",
      "  (0, 20686)\t1\n",
      "  (0, 957)\t1\n",
      "  (0, 10897)\t1\n",
      "  (0, 8038)\t1\n",
      "  (0, 17756)\t1\n",
      "  (0, 16591)\t1\n",
      "  (0, 7917)\t1\n",
      "  (0, 9231)\t1\n",
      "  (0, 12355)\t1\n",
      "  (0, 2106)\t1\n",
      "  (0, 17734)\t1\n",
      "  (0, 10932)\t1\n",
      "  :\t:\n",
      "  (3062, 6068)\t1\n",
      "  (3062, 20439)\t1\n",
      "  (3062, 5726)\t1\n",
      "  (3062, 12567)\t1\n",
      "  (3063, 13877)\t1\n",
      "  (3063, 1652)\t1\n",
      "  (3063, 9768)\t1\n",
      "  (3063, 4909)\t1\n",
      "  (3063, 8007)\t2\n",
      "  (3063, 17500)\t1\n",
      "  (3063, 12325)\t1\n",
      "  (3063, 15392)\t1\n",
      "  (3063, 17572)\t1\n",
      "  (3063, 3112)\t1\n",
      "  (3063, 2135)\t1\n",
      "  (3063, 7335)\t1\n",
      "  (3063, 9205)\t1\n",
      "  (3063, 8576)\t1\n",
      "  (3063, 1980)\t1\n",
      "  (3063, 15496)\t1\n",
      "  (3063, 19791)\t1\n",
      "  (3063, 3133)\t1\n",
      "  (3063, 16758)\t1\n",
      "  (3063, 11028)\t1\n",
      "  (3063, 11291)\t1\n"
     ]
    }
   ],
   "source": [
    "print(x_train)"
   ]
  },
  {
   "cell_type": "code",
   "execution_count": 233,
   "id": "d9b5778b",
   "metadata": {},
   "outputs": [],
   "source": [
    "from sklearn.naive_bayes import MultinomialNB"
   ]
  },
  {
   "cell_type": "code",
   "execution_count": 234,
   "id": "51d4255b",
   "metadata": {},
   "outputs": [],
   "source": [
    "mb=MultinomialNB()"
   ]
  },
  {
   "cell_type": "code",
   "execution_count": 235,
   "id": "a16bdb17",
   "metadata": {},
   "outputs": [
    {
     "data": {
      "text/plain": [
       "MultinomialNB()"
      ]
     },
     "execution_count": 235,
     "metadata": {},
     "output_type": "execute_result"
    }
   ],
   "source": [
    "mb.fit(x_train,y_train)"
   ]
  },
  {
   "cell_type": "code",
   "execution_count": 236,
   "id": "19c8e6cc",
   "metadata": {},
   "outputs": [],
   "source": [
    "from sklearn.metrics import accuracy_score"
   ]
  },
  {
   "cell_type": "code",
   "execution_count": 237,
   "id": "0ccbd211",
   "metadata": {},
   "outputs": [],
   "source": [
    "tahmin=mb.predict(x_test)"
   ]
  },
  {
   "cell_type": "code",
   "execution_count": 238,
   "id": "31763e8a",
   "metadata": {},
   "outputs": [
    {
     "data": {
      "text/plain": [
       "0.9041095890410958"
      ]
     },
     "execution_count": 238,
     "metadata": {},
     "output_type": "execute_result"
    }
   ],
   "source": [
    "accuracy_score(y_test,tahmin) #başarı oranımı rangei değiştirerek bulabilriz yani 100 tnae yorumda 90 ı yanlış yazılmış"
   ]
  },
  {
   "cell_type": "code",
   "execution_count": 239,
   "id": "8a045461",
   "metadata": {},
   "outputs": [],
   "source": [
    "from sklearn.tree import DecisionTreeClassifier"
   ]
  },
  {
   "cell_type": "code",
   "execution_count": 230,
   "id": "d45f3f91",
   "metadata": {},
   "outputs": [],
   "source": [
    "d=DecisionTreeClassifier()\n"
   ]
  },
  {
   "cell_type": "code",
   "execution_count": null,
   "id": "10b95c81",
   "metadata": {},
   "outputs": [],
   "source": []
  }
 ],
 "metadata": {
  "kernelspec": {
   "display_name": "Python 3 (ipykernel)",
   "language": "python",
   "name": "python3"
  },
  "language_info": {
   "codemirror_mode": {
    "name": "ipython",
    "version": 3
   },
   "file_extension": ".py",
   "mimetype": "text/x-python",
   "name": "python",
   "nbconvert_exporter": "python",
   "pygments_lexer": "ipython3",
   "version": "3.9.12"
  }
 },
 "nbformat": 4,
 "nbformat_minor": 5
}
