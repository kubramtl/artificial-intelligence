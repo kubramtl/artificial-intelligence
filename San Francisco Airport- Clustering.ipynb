{
 "cells": [
  {
   "cell_type": "code",
   "execution_count": 46,
   "id": "e804a45b",
   "metadata": {},
   "outputs": [],
   "source": [
    "import pandas as pd\n",
    "import numpy as np\n",
    "import warnings\n",
    "warnings.filterwarnings(\"ignore\")"
   ]
  },
  {
   "cell_type": "code",
   "execution_count": 47,
   "id": "8277b1eb",
   "metadata": {},
   "outputs": [],
   "source": [
    "df=pd.read_csv(\"air-traffic-passenger-statistics (1).csv\")"
   ]
  },
  {
   "cell_type": "code",
   "execution_count": 48,
   "id": "f68efc3d",
   "metadata": {},
   "outputs": [
    {
     "data": {
      "text/html": [
       "<div>\n",
       "<style scoped>\n",
       "    .dataframe tbody tr th:only-of-type {\n",
       "        vertical-align: middle;\n",
       "    }\n",
       "\n",
       "    .dataframe tbody tr th {\n",
       "        vertical-align: top;\n",
       "    }\n",
       "\n",
       "    .dataframe thead th {\n",
       "        text-align: right;\n",
       "    }\n",
       "</style>\n",
       "<table border=\"1\" class=\"dataframe\">\n",
       "  <thead>\n",
       "    <tr style=\"text-align: right;\">\n",
       "      <th></th>\n",
       "      <th>Activity Period</th>\n",
       "      <th>Operating Airline</th>\n",
       "      <th>Operating Airline IATA Code</th>\n",
       "      <th>Published Airline</th>\n",
       "      <th>Published Airline IATA Code</th>\n",
       "      <th>GEO Summary</th>\n",
       "      <th>GEO Region</th>\n",
       "      <th>Activity Type Code</th>\n",
       "      <th>Price Category Code</th>\n",
       "      <th>Terminal</th>\n",
       "      <th>Boarding Area</th>\n",
       "      <th>Passenger Count</th>\n",
       "    </tr>\n",
       "  </thead>\n",
       "  <tbody>\n",
       "    <tr>\n",
       "      <th>0</th>\n",
       "      <td>200507</td>\n",
       "      <td>ATA Airlines</td>\n",
       "      <td>TZ</td>\n",
       "      <td>ATA Airlines</td>\n",
       "      <td>TZ</td>\n",
       "      <td>Domestic</td>\n",
       "      <td>US</td>\n",
       "      <td>Deplaned</td>\n",
       "      <td>Low Fare</td>\n",
       "      <td>Terminal 1</td>\n",
       "      <td>B</td>\n",
       "      <td>27271</td>\n",
       "    </tr>\n",
       "    <tr>\n",
       "      <th>1</th>\n",
       "      <td>200507</td>\n",
       "      <td>ATA Airlines</td>\n",
       "      <td>TZ</td>\n",
       "      <td>ATA Airlines</td>\n",
       "      <td>TZ</td>\n",
       "      <td>Domestic</td>\n",
       "      <td>US</td>\n",
       "      <td>Enplaned</td>\n",
       "      <td>Low Fare</td>\n",
       "      <td>Terminal 1</td>\n",
       "      <td>B</td>\n",
       "      <td>29131</td>\n",
       "    </tr>\n",
       "    <tr>\n",
       "      <th>2</th>\n",
       "      <td>200507</td>\n",
       "      <td>ATA Airlines</td>\n",
       "      <td>TZ</td>\n",
       "      <td>ATA Airlines</td>\n",
       "      <td>TZ</td>\n",
       "      <td>Domestic</td>\n",
       "      <td>US</td>\n",
       "      <td>Thru / Transit</td>\n",
       "      <td>Low Fare</td>\n",
       "      <td>Terminal 1</td>\n",
       "      <td>B</td>\n",
       "      <td>5415</td>\n",
       "    </tr>\n",
       "    <tr>\n",
       "      <th>3</th>\n",
       "      <td>200507</td>\n",
       "      <td>Air Canada</td>\n",
       "      <td>AC</td>\n",
       "      <td>Air Canada</td>\n",
       "      <td>AC</td>\n",
       "      <td>International</td>\n",
       "      <td>Canada</td>\n",
       "      <td>Deplaned</td>\n",
       "      <td>Other</td>\n",
       "      <td>Terminal 1</td>\n",
       "      <td>B</td>\n",
       "      <td>35156</td>\n",
       "    </tr>\n",
       "    <tr>\n",
       "      <th>4</th>\n",
       "      <td>200507</td>\n",
       "      <td>Air Canada</td>\n",
       "      <td>AC</td>\n",
       "      <td>Air Canada</td>\n",
       "      <td>AC</td>\n",
       "      <td>International</td>\n",
       "      <td>Canada</td>\n",
       "      <td>Enplaned</td>\n",
       "      <td>Other</td>\n",
       "      <td>Terminal 1</td>\n",
       "      <td>B</td>\n",
       "      <td>34090</td>\n",
       "    </tr>\n",
       "  </tbody>\n",
       "</table>\n",
       "</div>"
      ],
      "text/plain": [
       "   Activity Period Operating Airline Operating Airline IATA Code  \\\n",
       "0           200507      ATA Airlines                          TZ   \n",
       "1           200507      ATA Airlines                          TZ   \n",
       "2           200507      ATA Airlines                          TZ   \n",
       "3           200507        Air Canada                          AC   \n",
       "4           200507        Air Canada                          AC   \n",
       "\n",
       "  Published Airline Published Airline IATA Code    GEO Summary GEO Region  \\\n",
       "0      ATA Airlines                          TZ       Domestic         US   \n",
       "1      ATA Airlines                          TZ       Domestic         US   \n",
       "2      ATA Airlines                          TZ       Domestic         US   \n",
       "3        Air Canada                          AC  International     Canada   \n",
       "4        Air Canada                          AC  International     Canada   \n",
       "\n",
       "  Activity Type Code Price Category Code    Terminal Boarding Area  \\\n",
       "0           Deplaned            Low Fare  Terminal 1             B   \n",
       "1           Enplaned            Low Fare  Terminal 1             B   \n",
       "2     Thru / Transit            Low Fare  Terminal 1             B   \n",
       "3           Deplaned               Other  Terminal 1             B   \n",
       "4           Enplaned               Other  Terminal 1             B   \n",
       "\n",
       "   Passenger Count  \n",
       "0            27271  \n",
       "1            29131  \n",
       "2             5415  \n",
       "3            35156  \n",
       "4            34090  "
      ]
     },
     "execution_count": 48,
     "metadata": {},
     "output_type": "execute_result"
    }
   ],
   "source": [
    "df.head()"
   ]
  },
  {
   "cell_type": "code",
   "execution_count": 49,
   "id": "2dd63593",
   "metadata": {},
   "outputs": [
    {
     "data": {
      "text/html": [
       "<div>\n",
       "<style scoped>\n",
       "    .dataframe tbody tr th:only-of-type {\n",
       "        vertical-align: middle;\n",
       "    }\n",
       "\n",
       "    .dataframe tbody tr th {\n",
       "        vertical-align: top;\n",
       "    }\n",
       "\n",
       "    .dataframe thead th {\n",
       "        text-align: right;\n",
       "    }\n",
       "</style>\n",
       "<table border=\"1\" class=\"dataframe\">\n",
       "  <thead>\n",
       "    <tr style=\"text-align: right;\">\n",
       "      <th></th>\n",
       "      <th>Activity Period</th>\n",
       "      <th>Operating Airline</th>\n",
       "      <th>Operating Airline IATA Code</th>\n",
       "      <th>Published Airline</th>\n",
       "      <th>Published Airline IATA Code</th>\n",
       "      <th>GEO Summary</th>\n",
       "      <th>GEO Region</th>\n",
       "      <th>Activity Type Code</th>\n",
       "      <th>Price Category Code</th>\n",
       "      <th>Terminal</th>\n",
       "      <th>Boarding Area</th>\n",
       "      <th>Passenger Count</th>\n",
       "    </tr>\n",
       "  </thead>\n",
       "  <tbody>\n",
       "    <tr>\n",
       "      <th>16084</th>\n",
       "      <td>201611</td>\n",
       "      <td>Virgin America</td>\n",
       "      <td>VX</td>\n",
       "      <td>Virgin America</td>\n",
       "      <td>VX</td>\n",
       "      <td>Domestic</td>\n",
       "      <td>US</td>\n",
       "      <td>Deplaned</td>\n",
       "      <td>Low Fare</td>\n",
       "      <td>Terminal 2</td>\n",
       "      <td>D</td>\n",
       "      <td>201263</td>\n",
       "    </tr>\n",
       "    <tr>\n",
       "      <th>9424</th>\n",
       "      <td>201204</td>\n",
       "      <td>Alaska Airlines</td>\n",
       "      <td>AS</td>\n",
       "      <td>Alaska Airlines</td>\n",
       "      <td>AS</td>\n",
       "      <td>Domestic</td>\n",
       "      <td>US</td>\n",
       "      <td>Enplaned</td>\n",
       "      <td>Other</td>\n",
       "      <td>Terminal 1</td>\n",
       "      <td>B</td>\n",
       "      <td>33706</td>\n",
       "    </tr>\n",
       "    <tr>\n",
       "      <th>2825</th>\n",
       "      <td>200707</td>\n",
       "      <td>Singapore Airlines</td>\n",
       "      <td>SQ</td>\n",
       "      <td>Singapore Airlines</td>\n",
       "      <td>SQ</td>\n",
       "      <td>International</td>\n",
       "      <td>Asia</td>\n",
       "      <td>Deplaned</td>\n",
       "      <td>Other</td>\n",
       "      <td>International</td>\n",
       "      <td>G</td>\n",
       "      <td>18998</td>\n",
       "    </tr>\n",
       "    <tr>\n",
       "      <th>1689</th>\n",
       "      <td>200609</td>\n",
       "      <td>US Airways</td>\n",
       "      <td>US</td>\n",
       "      <td>US Airways</td>\n",
       "      <td>US</td>\n",
       "      <td>Domestic</td>\n",
       "      <td>US</td>\n",
       "      <td>Enplaned</td>\n",
       "      <td>Other</td>\n",
       "      <td>Terminal 1</td>\n",
       "      <td>B</td>\n",
       "      <td>38447</td>\n",
       "    </tr>\n",
       "    <tr>\n",
       "      <th>3282</th>\n",
       "      <td>200711</td>\n",
       "      <td>Horizon Air</td>\n",
       "      <td>QX</td>\n",
       "      <td>Alaska Airlines</td>\n",
       "      <td>AS</td>\n",
       "      <td>Domestic</td>\n",
       "      <td>US</td>\n",
       "      <td>Enplaned</td>\n",
       "      <td>Other</td>\n",
       "      <td>Terminal 1</td>\n",
       "      <td>B</td>\n",
       "      <td>3027</td>\n",
       "    </tr>\n",
       "  </tbody>\n",
       "</table>\n",
       "</div>"
      ],
      "text/plain": [
       "       Activity Period   Operating Airline Operating Airline IATA Code  \\\n",
       "16084           201611      Virgin America                          VX   \n",
       "9424            201204     Alaska Airlines                          AS   \n",
       "2825            200707  Singapore Airlines                          SQ   \n",
       "1689            200609          US Airways                          US   \n",
       "3282            200711         Horizon Air                          QX   \n",
       "\n",
       "        Published Airline Published Airline IATA Code    GEO Summary  \\\n",
       "16084      Virgin America                          VX       Domestic   \n",
       "9424      Alaska Airlines                          AS       Domestic   \n",
       "2825   Singapore Airlines                          SQ  International   \n",
       "1689           US Airways                          US       Domestic   \n",
       "3282      Alaska Airlines                          AS       Domestic   \n",
       "\n",
       "      GEO Region Activity Type Code Price Category Code       Terminal  \\\n",
       "16084         US           Deplaned            Low Fare     Terminal 2   \n",
       "9424          US           Enplaned               Other     Terminal 1   \n",
       "2825        Asia           Deplaned               Other  International   \n",
       "1689          US           Enplaned               Other     Terminal 1   \n",
       "3282          US           Enplaned               Other     Terminal 1   \n",
       "\n",
       "      Boarding Area  Passenger Count  \n",
       "16084             D           201263  \n",
       "9424              B            33706  \n",
       "2825              G            18998  \n",
       "1689              B            38447  \n",
       "3282              B             3027  "
      ]
     },
     "execution_count": 49,
     "metadata": {},
     "output_type": "execute_result"
    }
   ],
   "source": [
    "df.sample(5)"
   ]
  },
  {
   "cell_type": "code",
   "execution_count": 50,
   "id": "430b80c5",
   "metadata": {},
   "outputs": [
    {
     "data": {
      "text/plain": [
       "(18885, 12)"
      ]
     },
     "execution_count": 50,
     "metadata": {},
     "output_type": "execute_result"
    }
   ],
   "source": [
    "df.shape"
   ]
  },
  {
   "cell_type": "code",
   "execution_count": 51,
   "id": "fee15568",
   "metadata": {},
   "outputs": [
    {
     "name": "stdout",
     "output_type": "stream",
     "text": [
      "<class 'pandas.core.frame.DataFrame'>\n",
      "RangeIndex: 18885 entries, 0 to 18884\n",
      "Data columns (total 12 columns):\n",
      " #   Column                       Non-Null Count  Dtype \n",
      "---  ------                       --------------  ----- \n",
      " 0   Activity Period              18885 non-null  int64 \n",
      " 1   Operating Airline            18885 non-null  object\n",
      " 2   Operating Airline IATA Code  18822 non-null  object\n",
      " 3   Published Airline            18885 non-null  object\n",
      " 4   Published Airline IATA Code  18822 non-null  object\n",
      " 5   GEO Summary                  18885 non-null  object\n",
      " 6   GEO Region                   18885 non-null  object\n",
      " 7   Activity Type Code           18885 non-null  object\n",
      " 8   Price Category Code          18885 non-null  object\n",
      " 9   Terminal                     18885 non-null  object\n",
      " 10  Boarding Area                18885 non-null  object\n",
      " 11  Passenger Count              18885 non-null  int64 \n",
      "dtypes: int64(2), object(10)\n",
      "memory usage: 1.7+ MB\n"
     ]
    }
   ],
   "source": [
    "df.info()"
   ]
  },
  {
   "cell_type": "code",
   "execution_count": 52,
   "id": "dd4b688f",
   "metadata": {},
   "outputs": [
    {
     "data": {
      "text/plain": [
       "Activity Period                 0\n",
       "Operating Airline               0\n",
       "Operating Airline IATA Code    63\n",
       "Published Airline               0\n",
       "Published Airline IATA Code    63\n",
       "GEO Summary                     0\n",
       "GEO Region                      0\n",
       "Activity Type Code              0\n",
       "Price Category Code             0\n",
       "Terminal                        0\n",
       "Boarding Area                   0\n",
       "Passenger Count                 0\n",
       "dtype: int64"
      ]
     },
     "execution_count": 52,
     "metadata": {},
     "output_type": "execute_result"
    }
   ],
   "source": [
    "df.isnull().sum()"
   ]
  },
  {
   "cell_type": "code",
   "execution_count": 53,
   "id": "0cee5d81",
   "metadata": {},
   "outputs": [
    {
     "data": {
      "text/plain": [
       "UA    3807\n",
       "OO    1212\n",
       "AS     891\n",
       "VX     462\n",
       "DL     445\n",
       "      ... \n",
       "IB       6\n",
       "WO       3\n",
       "XP       2\n",
       "5Y       2\n",
       "EZ       2\n",
       "Name: Operating Airline IATA Code, Length: 82, dtype: int64"
      ]
     },
     "execution_count": 53,
     "metadata": {},
     "output_type": "execute_result"
    }
   ],
   "source": [
    "df[\"Operating Airline IATA Code\"].value_counts()"
   ]
  },
  {
   "cell_type": "code",
   "execution_count": 54,
   "id": "edd1ba92",
   "metadata": {},
   "outputs": [],
   "source": [
    "df[\"Operating Airline IATA Code\"]=df[\"Operating Airline IATA Code\"].fillna(\"UA\")"
   ]
  },
  {
   "cell_type": "code",
   "execution_count": 55,
   "id": "3d776c83",
   "metadata": {},
   "outputs": [
    {
     "data": {
      "text/plain": [
       "UA     4649\n",
       "AS     1203\n",
       "DL      975\n",
       "AA      588\n",
       "AC      484\n",
       "       ... \n",
       "BBB       6\n",
       "WO        3\n",
       "EZ        2\n",
       "XP        2\n",
       "5Y        2\n",
       "Name: Published Airline IATA Code, Length: 73, dtype: int64"
      ]
     },
     "execution_count": 55,
     "metadata": {},
     "output_type": "execute_result"
    }
   ],
   "source": [
    "df[\"Published Airline IATA Code\"].value_counts()"
   ]
  },
  {
   "cell_type": "code",
   "execution_count": 56,
   "id": "da015e71",
   "metadata": {},
   "outputs": [],
   "source": [
    "df[\"Published Airline IATA Code\"]=df[\"Published Airline IATA Code\"].fillna(\"UA\")"
   ]
  },
  {
   "cell_type": "code",
   "execution_count": 82,
   "id": "bf41080a",
   "metadata": {},
   "outputs": [
    {
     "data": {
      "text/plain": [
       "Other       16521\n",
       "Low Fare     2364\n",
       "Name: Price Category Code, dtype: int64"
      ]
     },
     "execution_count": 82,
     "metadata": {},
     "output_type": "execute_result"
    }
   ],
   "source": [
    "df[\"Price Category Code\"].value_counts()"
   ]
  },
  {
   "cell_type": "code",
   "execution_count": null,
   "id": "8bce6160",
   "metadata": {},
   "outputs": [],
   "source": []
  },
  {
   "cell_type": "code",
   "execution_count": 84,
   "id": "11b00e33",
   "metadata": {},
   "outputs": [],
   "source": [
    "from sklearn.cluster import KMeans #en yaakın komşu demek, clustering denetimsiz öğreitme giriyor, burfda hedef yok\n",
    "from sklearn.metrics import silhouette_score\n"
   ]
  },
  {
   "cell_type": "code",
   "execution_count": 108,
   "id": "53173929",
   "metadata": {},
   "outputs": [],
   "source": [
    "x=df[[\"Activity Period\",\"Passenger Count\"]]"
   ]
  },
  {
   "cell_type": "code",
   "execution_count": 109,
   "id": "00558307",
   "metadata": {},
   "outputs": [],
   "source": [
    "x=pd.get_dummies(x,drop_first=True)"
   ]
  },
  {
   "cell_type": "code",
   "execution_count": 110,
   "id": "e19d03bc",
   "metadata": {},
   "outputs": [
    {
     "data": {
      "text/html": [
       "<div>\n",
       "<style scoped>\n",
       "    .dataframe tbody tr th:only-of-type {\n",
       "        vertical-align: middle;\n",
       "    }\n",
       "\n",
       "    .dataframe tbody tr th {\n",
       "        vertical-align: top;\n",
       "    }\n",
       "\n",
       "    .dataframe thead th {\n",
       "        text-align: right;\n",
       "    }\n",
       "</style>\n",
       "<table border=\"1\" class=\"dataframe\">\n",
       "  <thead>\n",
       "    <tr style=\"text-align: right;\">\n",
       "      <th></th>\n",
       "      <th>Activity Period</th>\n",
       "      <th>Passenger Count</th>\n",
       "    </tr>\n",
       "  </thead>\n",
       "  <tbody>\n",
       "    <tr>\n",
       "      <th>0</th>\n",
       "      <td>200507</td>\n",
       "      <td>27271</td>\n",
       "    </tr>\n",
       "    <tr>\n",
       "      <th>1</th>\n",
       "      <td>200507</td>\n",
       "      <td>29131</td>\n",
       "    </tr>\n",
       "    <tr>\n",
       "      <th>2</th>\n",
       "      <td>200507</td>\n",
       "      <td>5415</td>\n",
       "    </tr>\n",
       "    <tr>\n",
       "      <th>3</th>\n",
       "      <td>200507</td>\n",
       "      <td>35156</td>\n",
       "    </tr>\n",
       "    <tr>\n",
       "      <th>4</th>\n",
       "      <td>200507</td>\n",
       "      <td>34090</td>\n",
       "    </tr>\n",
       "  </tbody>\n",
       "</table>\n",
       "</div>"
      ],
      "text/plain": [
       "   Activity Period  Passenger Count\n",
       "0           200507            27271\n",
       "1           200507            29131\n",
       "2           200507             5415\n",
       "3           200507            35156\n",
       "4           200507            34090"
      ]
     },
     "execution_count": 110,
     "metadata": {},
     "output_type": "execute_result"
    }
   ],
   "source": [
    "x.head()"
   ]
  },
  {
   "cell_type": "code",
   "execution_count": 137,
   "id": "14d32f41",
   "metadata": {},
   "outputs": [],
   "source": [
    "model=KMeans(n_clusters=15)"
   ]
  },
  {
   "cell_type": "code",
   "execution_count": 138,
   "id": "841d62a5",
   "metadata": {},
   "outputs": [],
   "source": [
    "model=model.fit(x)"
   ]
  },
  {
   "cell_type": "code",
   "execution_count": 139,
   "id": "a2bc7ec3",
   "metadata": {},
   "outputs": [],
   "source": [
    "tahmin=model.predict(x)"
   ]
  },
  {
   "cell_type": "code",
   "execution_count": 140,
   "id": "765b1750",
   "metadata": {},
   "outputs": [
    {
     "data": {
      "text/plain": [
       "array([7, 7, 9, ..., 0, 9, 9])"
      ]
     },
     "execution_count": 140,
     "metadata": {},
     "output_type": "execute_result"
    }
   ],
   "source": [
    "tahmin\n"
   ]
  },
  {
   "cell_type": "code",
   "execution_count": 141,
   "id": "05ec3b24",
   "metadata": {},
   "outputs": [],
   "source": [
    "x[\"cluster\"]=tahmin "
   ]
  },
  {
   "cell_type": "code",
   "execution_count": 142,
   "id": "b99b321a",
   "metadata": {},
   "outputs": [
    {
     "data": {
      "text/html": [
       "<div>\n",
       "<style scoped>\n",
       "    .dataframe tbody tr th:only-of-type {\n",
       "        vertical-align: middle;\n",
       "    }\n",
       "\n",
       "    .dataframe tbody tr th {\n",
       "        vertical-align: top;\n",
       "    }\n",
       "\n",
       "    .dataframe thead th {\n",
       "        text-align: right;\n",
       "    }\n",
       "</style>\n",
       "<table border=\"1\" class=\"dataframe\">\n",
       "  <thead>\n",
       "    <tr style=\"text-align: right;\">\n",
       "      <th></th>\n",
       "      <th>Activity Period</th>\n",
       "      <th>Passenger Count</th>\n",
       "      <th>cluster</th>\n",
       "    </tr>\n",
       "  </thead>\n",
       "  <tbody>\n",
       "    <tr>\n",
       "      <th>0</th>\n",
       "      <td>200507</td>\n",
       "      <td>27271</td>\n",
       "      <td>7</td>\n",
       "    </tr>\n",
       "    <tr>\n",
       "      <th>1</th>\n",
       "      <td>200507</td>\n",
       "      <td>29131</td>\n",
       "      <td>7</td>\n",
       "    </tr>\n",
       "    <tr>\n",
       "      <th>2</th>\n",
       "      <td>200507</td>\n",
       "      <td>5415</td>\n",
       "      <td>9</td>\n",
       "    </tr>\n",
       "    <tr>\n",
       "      <th>3</th>\n",
       "      <td>200507</td>\n",
       "      <td>35156</td>\n",
       "      <td>7</td>\n",
       "    </tr>\n",
       "    <tr>\n",
       "      <th>4</th>\n",
       "      <td>200507</td>\n",
       "      <td>34090</td>\n",
       "      <td>7</td>\n",
       "    </tr>\n",
       "  </tbody>\n",
       "</table>\n",
       "</div>"
      ],
      "text/plain": [
       "   Activity Period  Passenger Count  cluster\n",
       "0           200507            27271        7\n",
       "1           200507            29131        7\n",
       "2           200507             5415        9\n",
       "3           200507            35156        7\n",
       "4           200507            34090        7"
      ]
     },
     "execution_count": 142,
     "metadata": {},
     "output_type": "execute_result"
    }
   ],
   "source": [
    "x.head()"
   ]
  },
  {
   "cell_type": "code",
   "execution_count": 146,
   "id": "83d20b50",
   "metadata": {},
   "outputs": [
    {
     "data": {
      "text/plain": [
       "0.5207696673641748"
      ]
     },
     "execution_count": 146,
     "metadata": {},
     "output_type": "execute_result"
    }
   ],
   "source": [
    "silhouette_score(x,tahmin)# yüksek gelmez sadce fikir verir"
   ]
  },
  {
   "cell_type": "code",
   "execution_count": 127,
   "id": "3eeecaf6",
   "metadata": {},
   "outputs": [],
   "source": [
    "import matplotlib.pyplot as plt"
   ]
  },
  {
   "cell_type": "code",
   "execution_count": 128,
   "id": "8a886bd0",
   "metadata": {},
   "outputs": [
    {
     "ename": "SyntaxError",
     "evalue": "invalid syntax (1869271244.py, line 2)",
     "output_type": "error",
     "traceback": [
      "\u001b[1;36m  Input \u001b[1;32mIn [128]\u001b[1;36m\u001b[0m\n\u001b[1;33m    plt.scatter(x.Activity Period,x.Passenger Count,c=tahmin)\u001b[0m\n\u001b[1;37m                           ^\u001b[0m\n\u001b[1;31mSyntaxError\u001b[0m\u001b[1;31m:\u001b[0m invalid syntax\n"
     ]
    }
   ],
   "source": [
    "plt.figure(figsize=(10,6))\n",
    "plt.scatter(x.Activity Period,x.Passenger Count,c=tahmin)\n",
    "plt.xlabel(\"Aktivite Periodu\")\n",
    "plt.ylabel(\"Yolcu Sayısı\")\n",
    "plt.colorbar()\n",
    "plt.grid()"
   ]
  },
  {
   "cell_type": "code",
   "execution_count": 148,
   "id": "f51df595",
   "metadata": {},
   "outputs": [
    {
     "name": "stdout",
     "output_type": "stream",
     "text": [
      "Cluster 2 score 0.8594457138673857\n",
      "Cluster 3 score 0.8282308994909744\n",
      "Cluster 4 score 0.7852108959303349\n",
      "Cluster 5 score 0.7837145997415371\n",
      "Cluster 6 score 0.655645491116903\n",
      "Cluster 7 score 0.6623871911116691\n",
      "Cluster 8 score 0.64462689036459\n",
      "Cluster 9 score 0.6376763020505929\n",
      "Cluster 10 score 0.6079760727065548\n",
      "Cluster 11 score 0.6053918633719504\n",
      "Cluster 12 score 0.6056450566273498\n",
      "Cluster 13 score 0.520691601246453\n",
      "Cluster 14 score 0.5200812303992306\n",
      "Cluster 15 score 0.5217082138282817\n",
      "Cluster 16 score 0.5254184730247154\n"
     ]
    }
   ],
   "source": [
    "allscore=[]\n",
    "allclusters=[]\n",
    "uzakliklar=[]\n",
    "def clust(kactane):\n",
    "    for i in range(1,kactane+1):\n",
    "        i=i+1\n",
    "        model=KMeans(n_clusters=i)\n",
    "        model=model.fit(x)\n",
    "        tahmin=model.predict(x)\n",
    "        score=silhouette_score(x,tahmin)#score ve uzaklığı eklememmeiz gerek\n",
    "        uzaklik=model.inertia_\n",
    "        print(\"Cluster\",i,\"score\",score)\n",
    "        allscore.append(score)\n",
    "        allclusters.append(i)\n",
    "        uzakliklar.append(uzaklik)\n",
    "clust(15)"
   ]
  },
  {
   "cell_type": "code",
   "execution_count": 149,
   "id": "c7380501",
   "metadata": {},
   "outputs": [
    {
     "data": {
      "text/plain": [
       "[<matplotlib.lines.Line2D at 0x25f032d6970>]"
      ]
     },
     "execution_count": 149,
     "metadata": {},
     "output_type": "execute_result"
    },
    {
     "data": {
      "image/png": "[encoded data removed]",
      "text/plain": [
       "<Figure size 432x288 with 1 Axes>"
      ]
     },
     "metadata": {
      "needs_background": "light"
     },
     "output_type": "display_data"
    }
   ],
   "source": [
    "plt.xlabel(\"k\")\n",
    "plt.ylabel(\"uzakliklar\")\n",
    "plt.plot(allclusters,uzakliklar)"
   ]
  },
  {
   "cell_type": "code",
   "execution_count": null,
   "id": "4351fe23",
   "metadata": {},
   "outputs": [],
   "source": []
  }
 ],
 "metadata": {
  "kernelspec": {
   "display_name": "Python 3 (ipykernel)",
   "language": "python",
   "name": "python3"
  },
  "language_info": {
   "codemirror_mode": {
    "name": "ipython",
    "version": 3
   },
   "file_extension": ".py",
   "mimetype": "text/x-python",
   "name": "python",
   "nbconvert_exporter": "python",
   "pygments_lexer": "ipython3",
   "version": "3.9.12"
  }
 },
 "nbformat": 4,
 "nbformat_minor": 5
}
