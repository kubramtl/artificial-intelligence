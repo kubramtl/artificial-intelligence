{
 "cells": [
  {
   "cell_type": "code",
   "execution_count": 1,
   "id": "453ef2b9",
   "metadata": {},
   "outputs": [],
   "source": [
    "import pandas as pd\n",
    "import numpy as np\n",
    "import seaborn as sns\n",
    "import matplotlib.pyplot as plt\n",
    "import warnings\n",
    "from datetime import datetime\n",
    "warnings.filterwarnings(\"ignore\")\n",
    "pd.set_option(\"display.max_columns\",100)\n",
    "\n"
   ]
  },
  {
   "cell_type": "code",
   "execution_count": 2,
   "id": "82d7d2dc",
   "metadata": {},
   "outputs": [],
   "source": [
    "df=pd.read_csv(\"profiles.csv\")"
   ]
  },
  {
   "cell_type": "code",
   "execution_count": 3,
   "id": "a8cf6add",
   "metadata": {
    "scrolled": true
   },
   "outputs": [
    {
     "data": {
      "text/html": [
       "<div>\n",
       "<style scoped>\n",
       "    .dataframe tbody tr th:only-of-type {\n",
       "        vertical-align: middle;\n",
       "    }\n",
       "\n",
       "    .dataframe tbody tr th {\n",
       "        vertical-align: top;\n",
       "    }\n",
       "\n",
       "    .dataframe thead th {\n",
       "        text-align: right;\n",
       "    }\n",
       "</style>\n",
       "<table border=\"1\" class=\"dataframe\">\n",
       "  <thead>\n",
       "    <tr style=\"text-align: right;\">\n",
       "      <th></th>\n",
       "      <th>age</th>\n",
       "      <th>body_type</th>\n",
       "      <th>diet</th>\n",
       "      <th>drinks</th>\n",
       "      <th>drugs</th>\n",
       "      <th>education</th>\n",
       "      <th>essay0</th>\n",
       "      <th>essay1</th>\n",
       "      <th>essay2</th>\n",
       "      <th>essay3</th>\n",
       "      <th>essay4</th>\n",
       "      <th>essay5</th>\n",
       "      <th>essay6</th>\n",
       "      <th>essay7</th>\n",
       "      <th>essay8</th>\n",
       "      <th>essay9</th>\n",
       "      <th>ethnicity</th>\n",
       "      <th>height</th>\n",
       "      <th>income</th>\n",
       "      <th>job</th>\n",
       "      <th>last_online</th>\n",
       "      <th>location</th>\n",
       "      <th>offspring</th>\n",
       "      <th>orientation</th>\n",
       "      <th>pets</th>\n",
       "      <th>religion</th>\n",
       "      <th>sex</th>\n",
       "      <th>sign</th>\n",
       "      <th>smokes</th>\n",
       "      <th>speaks</th>\n",
       "      <th>status</th>\n",
       "    </tr>\n",
       "  </thead>\n",
       "  <tbody>\n",
       "    <tr>\n",
       "      <th>60547</th>\n",
       "      <td>NaN</td>\n",
       "      <td>NaN</td>\n",
       "      <td>NaN</td>\n",
       "      <td>NaN</td>\n",
       "      <td>NaN</td>\n",
       "      <td>NaN</td>\n",
       "      <td>NaN</td>\n",
       "      <td>NaN</td>\n",
       "      <td>NaN</td>\n",
       "      <td>NaN</td>\n",
       "      <td>NaN</td>\n",
       "      <td>NaN</td>\n",
       "      <td>NaN</td>\n",
       "      <td>NaN</td>\n",
       "      <td>NaN</td>\n",
       "      <td>NaN</td>\n",
       "      <td>NaN</td>\n",
       "      <td>NaN</td>\n",
       "      <td>NaN</td>\n",
       "      <td>NaN</td>\n",
       "      <td>NaN</td>\n",
       "      <td>NaN</td>\n",
       "      <td>NaN</td>\n",
       "      <td>NaN</td>\n",
       "      <td>NaN</td>\n",
       "      <td>NaN</td>\n",
       "      <td>NaN</td>\n",
       "      <td>NaN</td>\n",
       "      <td>NaN</td>\n",
       "      <td>NaN</td>\n",
       "      <td>NaN</td>\n",
       "    </tr>\n",
       "    <tr>\n",
       "      <th>60548</th>\n",
       "      <td>NaN</td>\n",
       "      <td>NaN</td>\n",
       "      <td>NaN</td>\n",
       "      <td>NaN</td>\n",
       "      <td>NaN</td>\n",
       "      <td>NaN</td>\n",
       "      <td>NaN</td>\n",
       "      <td>NaN</td>\n",
       "      <td>NaN</td>\n",
       "      <td>NaN</td>\n",
       "      <td>NaN</td>\n",
       "      <td>NaN</td>\n",
       "      <td>NaN</td>\n",
       "      <td>NaN</td>\n",
       "      <td>NaN</td>\n",
       "      <td>NaN</td>\n",
       "      <td>NaN</td>\n",
       "      <td>NaN</td>\n",
       "      <td>NaN</td>\n",
       "      <td>NaN</td>\n",
       "      <td>NaN</td>\n",
       "      <td>NaN</td>\n",
       "      <td>NaN</td>\n",
       "      <td>NaN</td>\n",
       "      <td>NaN</td>\n",
       "      <td>NaN</td>\n",
       "      <td>NaN</td>\n",
       "      <td>NaN</td>\n",
       "      <td>NaN</td>\n",
       "      <td>NaN</td>\n",
       "      <td>NaN</td>\n",
       "    </tr>\n",
       "    <tr>\n",
       "      <th>60549</th>\n",
       "      <td>NaN</td>\n",
       "      <td>NaN</td>\n",
       "      <td>NaN</td>\n",
       "      <td>NaN</td>\n",
       "      <td>NaN</td>\n",
       "      <td>NaN</td>\n",
       "      <td>NaN</td>\n",
       "      <td>NaN</td>\n",
       "      <td>NaN</td>\n",
       "      <td>NaN</td>\n",
       "      <td>NaN</td>\n",
       "      <td>NaN</td>\n",
       "      <td>NaN</td>\n",
       "      <td>NaN</td>\n",
       "      <td>NaN</td>\n",
       "      <td>NaN</td>\n",
       "      <td>NaN</td>\n",
       "      <td>NaN</td>\n",
       "      <td>NaN</td>\n",
       "      <td>NaN</td>\n",
       "      <td>NaN</td>\n",
       "      <td>NaN</td>\n",
       "      <td>NaN</td>\n",
       "      <td>NaN</td>\n",
       "      <td>NaN</td>\n",
       "      <td>NaN</td>\n",
       "      <td>NaN</td>\n",
       "      <td>NaN</td>\n",
       "      <td>NaN</td>\n",
       "      <td>NaN</td>\n",
       "      <td>NaN</td>\n",
       "    </tr>\n",
       "    <tr>\n",
       "      <th>60550</th>\n",
       "      <td>NaN</td>\n",
       "      <td>NaN</td>\n",
       "      <td>NaN</td>\n",
       "      <td>NaN</td>\n",
       "      <td>NaN</td>\n",
       "      <td>NaN</td>\n",
       "      <td>NaN</td>\n",
       "      <td>NaN</td>\n",
       "      <td>NaN</td>\n",
       "      <td>NaN</td>\n",
       "      <td>NaN</td>\n",
       "      <td>NaN</td>\n",
       "      <td>NaN</td>\n",
       "      <td>NaN</td>\n",
       "      <td>NaN</td>\n",
       "      <td>NaN</td>\n",
       "      <td>NaN</td>\n",
       "      <td>NaN</td>\n",
       "      <td>NaN</td>\n",
       "      <td>NaN</td>\n",
       "      <td>NaN</td>\n",
       "      <td>NaN</td>\n",
       "      <td>NaN</td>\n",
       "      <td>NaN</td>\n",
       "      <td>NaN</td>\n",
       "      <td>NaN</td>\n",
       "      <td>NaN</td>\n",
       "      <td>NaN</td>\n",
       "      <td>NaN</td>\n",
       "      <td>NaN</td>\n",
       "      <td>NaN</td>\n",
       "    </tr>\n",
       "    <tr>\n",
       "      <th>60551</th>\n",
       "      <td>NaN</td>\n",
       "      <td>NaN</td>\n",
       "      <td>NaN</td>\n",
       "      <td>NaN</td>\n",
       "      <td>NaN</td>\n",
       "      <td>NaN</td>\n",
       "      <td>NaN</td>\n",
       "      <td>NaN</td>\n",
       "      <td>NaN</td>\n",
       "      <td>NaN</td>\n",
       "      <td>NaN</td>\n",
       "      <td>NaN</td>\n",
       "      <td>NaN</td>\n",
       "      <td>NaN</td>\n",
       "      <td>NaN</td>\n",
       "      <td>NaN</td>\n",
       "      <td>NaN</td>\n",
       "      <td>NaN</td>\n",
       "      <td>NaN</td>\n",
       "      <td>NaN</td>\n",
       "      <td>NaN</td>\n",
       "      <td>NaN</td>\n",
       "      <td>NaN</td>\n",
       "      <td>NaN</td>\n",
       "      <td>NaN</td>\n",
       "      <td>NaN</td>\n",
       "      <td>NaN</td>\n",
       "      <td>NaN</td>\n",
       "      <td>NaN</td>\n",
       "      <td>NaN</td>\n",
       "      <td>NaN</td>\n",
       "    </tr>\n",
       "  </tbody>\n",
       "</table>\n",
       "</div>"
      ],
      "text/plain": [
       "       age body_type diet drinks drugs education essay0 essay1 essay2 essay3  \\\n",
       "60547  NaN       NaN  NaN    NaN   NaN       NaN    NaN    NaN    NaN    NaN   \n",
       "60548  NaN       NaN  NaN    NaN   NaN       NaN    NaN    NaN    NaN    NaN   \n",
       "60549  NaN       NaN  NaN    NaN   NaN       NaN    NaN    NaN    NaN    NaN   \n",
       "60550  NaN       NaN  NaN    NaN   NaN       NaN    NaN    NaN    NaN    NaN   \n",
       "60551  NaN       NaN  NaN    NaN   NaN       NaN    NaN    NaN    NaN    NaN   \n",
       "\n",
       "      essay4 essay5 essay6 essay7 essay8 essay9 ethnicity  height  income  \\\n",
       "60547    NaN    NaN    NaN    NaN    NaN    NaN       NaN     NaN     NaN   \n",
       "60548    NaN    NaN    NaN    NaN    NaN    NaN       NaN     NaN     NaN   \n",
       "60549    NaN    NaN    NaN    NaN    NaN    NaN       NaN     NaN     NaN   \n",
       "60550    NaN    NaN    NaN    NaN    NaN    NaN       NaN     NaN     NaN   \n",
       "60551    NaN    NaN    NaN    NaN    NaN    NaN       NaN     NaN     NaN   \n",
       "\n",
       "       job last_online location offspring orientation pets religion  sex sign  \\\n",
       "60547  NaN         NaN      NaN       NaN         NaN  NaN      NaN  NaN  NaN   \n",
       "60548  NaN         NaN      NaN       NaN         NaN  NaN      NaN  NaN  NaN   \n",
       "60549  NaN         NaN      NaN       NaN         NaN  NaN      NaN  NaN  NaN   \n",
       "60550  NaN         NaN      NaN       NaN         NaN  NaN      NaN  NaN  NaN   \n",
       "60551  NaN         NaN      NaN       NaN         NaN  NaN      NaN  NaN  NaN   \n",
       "\n",
       "      smokes speaks status  \n",
       "60547    NaN    NaN    NaN  \n",
       "60548    NaN    NaN    NaN  \n",
       "60549    NaN    NaN    NaN  \n",
       "60550    NaN    NaN    NaN  \n",
       "60551    NaN    NaN    NaN  "
      ]
     },
     "execution_count": 3,
     "metadata": {},
     "output_type": "execute_result"
    }
   ],
   "source": [
    "df.tail()"
   ]
  },
  {
   "cell_type": "code",
   "execution_count": 4,
   "id": "3530c813",
   "metadata": {},
   "outputs": [
    {
     "data": {
      "text/plain": [
       "(60552, 31)"
      ]
     },
     "execution_count": 4,
     "metadata": {},
     "output_type": "execute_result"
    }
   ],
   "source": [
    "df.shape"
   ]
  },
  {
   "cell_type": "code",
   "execution_count": 5,
   "id": "2089ca68",
   "metadata": {},
   "outputs": [],
   "source": [
    "df=df.drop_duplicates()\n"
   ]
  },
  {
   "cell_type": "code",
   "execution_count": 6,
   "id": "e390cc55",
   "metadata": {},
   "outputs": [
    {
     "data": {
      "text/plain": [
       "(9515, 31)"
      ]
     },
     "execution_count": 6,
     "metadata": {},
     "output_type": "execute_result"
    }
   ],
   "source": [
    "df.shape"
   ]
  },
  {
   "cell_type": "code",
   "execution_count": 7,
   "id": "3fb47bc5",
   "metadata": {},
   "outputs": [
    {
     "data": {
      "text/plain": [
       "age               1\n",
       "body_type       849\n",
       "diet           3754\n",
       "drinks          503\n",
       "drugs          2300\n",
       "education      1056\n",
       "essay0          848\n",
       "essay1         1168\n",
       "essay2         1466\n",
       "essay3         1825\n",
       "essay4         1636\n",
       "essay5         1701\n",
       "essay6         2163\n",
       "essay7         1962\n",
       "essay8         3154\n",
       "essay9         1961\n",
       "ethnicity       950\n",
       "height            1\n",
       "income            1\n",
       "job            1332\n",
       "last_online       1\n",
       "location          1\n",
       "offspring      5629\n",
       "orientation       1\n",
       "pets           3163\n",
       "religion       3254\n",
       "sex               1\n",
       "sign           1739\n",
       "smokes          919\n",
       "speaks            7\n",
       "status            1\n",
       "dtype: int64"
      ]
     },
     "execution_count": 7,
     "metadata": {},
     "output_type": "execute_result"
    }
   ],
   "source": [
    "df.isnull().sum()"
   ]
  },
  {
   "cell_type": "code",
   "execution_count": 8,
   "id": "1de21dd4",
   "metadata": {},
   "outputs": [
    {
     "data": {
      "text/plain": [
       "Index(['age', 'body_type', 'diet', 'drinks', 'drugs', 'education', 'essay0',\n",
       "       'essay1', 'essay2', 'essay3', 'essay4', 'essay5', 'essay6', 'essay7',\n",
       "       'essay8', 'essay9', 'ethnicity', 'height', 'income', 'job',\n",
       "       'last_online', 'location', 'offspring', 'orientation', 'pets',\n",
       "       'religion', 'sex', 'sign', 'smokes', 'speaks', 'status'],\n",
       "      dtype='object')"
      ]
     },
     "execution_count": 8,
     "metadata": {},
     "output_type": "execute_result"
    }
   ],
   "source": [
    "df.columns"
   ]
  },
  {
   "cell_type": "code",
   "execution_count": 9,
   "id": "5f03e467",
   "metadata": {},
   "outputs": [
    {
     "name": "stdout",
     "output_type": "stream",
     "text": [
      "<class 'pandas.core.frame.DataFrame'>\n",
      "Int64Index: 9515 entries, 0 to 9514\n",
      "Data columns (total 31 columns):\n",
      " #   Column       Non-Null Count  Dtype  \n",
      "---  ------       --------------  -----  \n",
      " 0   age          9514 non-null   float64\n",
      " 1   body_type    8666 non-null   object \n",
      " 2   diet         5761 non-null   object \n",
      " 3   drinks       9012 non-null   object \n",
      " 4   drugs        7215 non-null   object \n",
      " 5   education    8459 non-null   object \n",
      " 6   essay0       8667 non-null   object \n",
      " 7   essay1       8347 non-null   object \n",
      " 8   essay2       8049 non-null   object \n",
      " 9   essay3       7690 non-null   object \n",
      " 10  essay4       7879 non-null   object \n",
      " 11  essay5       7814 non-null   object \n",
      " 12  essay6       7352 non-null   object \n",
      " 13  essay7       7553 non-null   object \n",
      " 14  essay8       6361 non-null   object \n",
      " 15  essay9       7554 non-null   object \n",
      " 16  ethnicity    8565 non-null   object \n",
      " 17  height       9514 non-null   float64\n",
      " 18  income       9514 non-null   float64\n",
      " 19  job          8183 non-null   object \n",
      " 20  last_online  9514 non-null   object \n",
      " 21  location     9514 non-null   object \n",
      " 22  offspring    3886 non-null   object \n",
      " 23  orientation  9514 non-null   object \n",
      " 24  pets         6352 non-null   object \n",
      " 25  religion     6261 non-null   object \n",
      " 26  sex          9514 non-null   object \n",
      " 27  sign         7776 non-null   object \n",
      " 28  smokes       8596 non-null   object \n",
      " 29  speaks       9508 non-null   object \n",
      " 30  status       9514 non-null   object \n",
      "dtypes: float64(3), object(28)\n",
      "memory usage: 2.3+ MB\n"
     ]
    }
   ],
   "source": [
    "df.info()"
   ]
  },
  {
   "cell_type": "code",
   "execution_count": 10,
   "id": "eaa86d43",
   "metadata": {},
   "outputs": [],
   "source": [
    "df=df.drop([\"essay0\",\"essay1\",\"essay2\",\"essay3\",\"essay4\",\"essay5\",\"essay6\",\"essay7\",\"essay8\",\"essay9\"], axis=1)"
   ]
  },
  {
   "cell_type": "code",
   "execution_count": 11,
   "id": "9cc4baf1",
   "metadata": {},
   "outputs": [
    {
     "data": {
      "text/plain": [
       "age               1\n",
       "body_type       849\n",
       "diet           3754\n",
       "drinks          503\n",
       "drugs          2300\n",
       "education      1056\n",
       "ethnicity       950\n",
       "height            1\n",
       "income            1\n",
       "job            1332\n",
       "last_online       1\n",
       "location          1\n",
       "offspring      5629\n",
       "orientation       1\n",
       "pets           3163\n",
       "religion       3254\n",
       "sex               1\n",
       "sign           1739\n",
       "smokes          919\n",
       "speaks            7\n",
       "status            1\n",
       "dtype: int64"
      ]
     },
     "execution_count": 11,
     "metadata": {},
     "output_type": "execute_result"
    }
   ],
   "source": [
    "df.isnull().sum()"
   ]
  },
  {
   "cell_type": "code",
   "execution_count": 12,
   "id": "1b3d3b43",
   "metadata": {},
   "outputs": [
    {
     "data": {
      "text/plain": [
       "array(['transportation', 'hospitality / travel', nan, 'student',\n",
       "       'artistic / musical / writer', 'computer / hardware / software',\n",
       "       'banking / financial / real estate', 'entertainment / media',\n",
       "       'sales / marketing / biz dev', 'other', 'medicine / health',\n",
       "       'science / tech / engineering', 'executive / management',\n",
       "       'education / academia', 'clerical / administrative',\n",
       "       'construction / craftsmanship', 'rather not say',\n",
       "       'political / government', 'law / legal services', 'unemployed',\n",
       "       'military', 'retired'], dtype=object)"
      ]
     },
     "execution_count": 12,
     "metadata": {},
     "output_type": "execute_result"
    }
   ],
   "source": [
    "df.job.unique() # değerleri daha kısa değerlere çevircez\n"
   ]
  },
  {
   "cell_type": "code",
   "execution_count": 13,
   "id": "72e8cb3e",
   "metadata": {},
   "outputs": [],
   "source": [
    "df.job=df.job.replace(\"hospitality / travel\",\"travel\")\n",
    "df.job=df.job.replace(\"artistic / musical / writer\",\"art\")\n",
    "df.job=df.job.replace(\"computer / hardware / software\",\"computer\")\n",
    "df.job=df.job.replace(\"banking / financial / real estate\",\"financial\")\n",
    "df.job=df.job.replace(\"entertainment / media\",\"media\")\n",
    "df.job=df.job.replace(\"sales / marketing / biz dev\",\"marketing\")\n",
    "df.job=df.job.replace(\"science / tech / engineering\",\"scitech\")\n",
    "df.job=df.job.replace(\"executive / management\",\"management\")\n",
    "df.job=df.job.replace(\"education / academia\",\"education\")\n",
    "df.job=df.job.replace(\"clerical / administrative\",\"administrative\")\n",
    "df.job=df.job.replace(\"construction / craftsmanship\",\"construction\")\n",
    "df.job=df.job.replace(\"political / government\",\"politics\")"
   ]
  },
  {
   "cell_type": "code",
   "execution_count": 14,
   "id": "dfc78ba2",
   "metadata": {},
   "outputs": [],
   "source": [
    "df.job.fillna(df.job.mode()[0], inplace=True) # \"other\" değeriyle doldurduk. "
   ]
  },
  {
   "cell_type": "code",
   "execution_count": 15,
   "id": "68e1ed82",
   "metadata": {},
   "outputs": [
    {
     "data": {
      "text/plain": [
       "array(['a little extra', 'average', 'thin', 'athletic', 'fit', nan,\n",
       "       'skinny', 'curvy', 'full figured', 'jacked', 'rather not say',\n",
       "       'used up', 'overweight'], dtype=object)"
      ]
     },
     "execution_count": 15,
     "metadata": {},
     "output_type": "execute_result"
    }
   ],
   "source": [
    "df.body_type.unique() # değerleri daha kısa değerlere çevircez\n"
   ]
  },
  {
   "cell_type": "code",
   "execution_count": 16,
   "id": "05492cd3",
   "metadata": {},
   "outputs": [],
   "source": [
    "d={\"average\":\"fit\",\n",
    "              \"fit\":\"fit\",\n",
    "              \"athletic\":\"fit\",\n",
    "              \"thin\":\"fit\",\n",
    "              \"curvy\":\"curvy\",\n",
    "              \"a little extra\":\"curvy\",\n",
    "              \"skinny\":\"fit\",\n",
    "              \"full figured\":\"curvy\",\n",
    "              \"overweight\":\"bad\",\n",
    "              \"jacked\":\"bad\",\n",
    "              \"used up\":\"bad\",\n",
    "              \"rather not say\":\"curvy\"\n",
    "             }\n",
    "df['body_type']=df['body_type'].map(d) "
   ]
  },
  {
   "cell_type": "code",
   "execution_count": 17,
   "id": "19d90362",
   "metadata": {},
   "outputs": [
    {
     "data": {
      "text/plain": [
       "fit      7211\n",
       "curvy    1275\n",
       "bad       180\n",
       "Name: body_type, dtype: int64"
      ]
     },
     "execution_count": 17,
     "metadata": {},
     "output_type": "execute_result"
    }
   ],
   "source": [
    "df.body_type.value_counts()"
   ]
  },
  {
   "cell_type": "code",
   "execution_count": 18,
   "id": "d598bc7c",
   "metadata": {},
   "outputs": [],
   "source": [
    "df.body_type.fillna(\"bad\", inplace=True) # \"curvy\" değeriyle doldurduk. "
   ]
  },
  {
   "cell_type": "code",
   "execution_count": 19,
   "id": "f81e6b4e",
   "metadata": {},
   "outputs": [
    {
     "data": {
      "text/plain": [
       "array(['strictly anything', 'mostly other', 'anything', 'vegetarian', nan,\n",
       "       'mostly anything', 'mostly vegetarian', 'strictly vegan',\n",
       "       'strictly vegetarian', 'mostly vegan', 'strictly other',\n",
       "       'mostly halal', 'other', 'vegan', 'mostly kosher',\n",
       "       'strictly halal', 'halal', 'strictly kosher', 'kosher'],\n",
       "      dtype=object)"
      ]
     },
     "execution_count": 19,
     "metadata": {},
     "output_type": "execute_result"
    }
   ],
   "source": [
    "df.diet.unique()"
   ]
  },
  {
   "cell_type": "code",
   "execution_count": 20,
   "id": "34977cd5",
   "metadata": {},
   "outputs": [],
   "source": [
    "dic={'strictly anything':\"anything\", \n",
    "      'mostly other':\"other\", \n",
    "      \n",
    "       'mostly anything':\"anything\",\n",
    "      'mostly vegetarian':\"vegetarian\",\n",
    "      'strictly vegan':\"vegan\",\n",
    "      'strictly vegetarian':\"vegetarian\", \n",
    "      'mostly vegan':\"vegan\", \n",
    "      'strictly other':\"other\",\n",
    "       'mostly halal':\"halal\",\n",
    "        'mostly kosher':\"kosher\",\n",
    "       'strictly halal':\"halal\", \n",
    "      'strictly kosher':\"kosher\"}\n",
    "df['diet']=df['diet'].map(dic) "
   ]
  },
  {
   "cell_type": "code",
   "execution_count": 21,
   "id": "2f39bc48",
   "metadata": {},
   "outputs": [
    {
     "data": {
      "text/plain": [
       "anything      3456\n",
       "vegetarian     703\n",
       "other          218\n",
       "vegan           92\n",
       "halal           17\n",
       "kosher          14\n",
       "Name: diet, dtype: int64"
      ]
     },
     "execution_count": 21,
     "metadata": {},
     "output_type": "execute_result"
    }
   ],
   "source": [
    "df.diet.value_counts() #"
   ]
  },
  {
   "cell_type": "code",
   "execution_count": 22,
   "id": "b728f763",
   "metadata": {},
   "outputs": [],
   "source": [
    "df.diet.fillna(\"anything\", inplace=True) # en çok tekrarlanan değeriyle doldurduk"
   ]
  },
  {
   "cell_type": "code",
   "execution_count": 23,
   "id": "bee913fb",
   "metadata": {},
   "outputs": [
    {
     "data": {
      "text/plain": [
       "array(['socially', 'often', 'not at all', 'rarely', nan, 'very often',\n",
       "       'desperately'], dtype=object)"
      ]
     },
     "execution_count": 23,
     "metadata": {},
     "output_type": "execute_result"
    }
   ],
   "source": [
    "df.drinks.unique()"
   ]
  },
  {
   "cell_type": "code",
   "execution_count": 24,
   "id": "b6288fed",
   "metadata": {},
   "outputs": [
    {
     "data": {
      "text/plain": [
       "0    socially\n",
       "Name: drinks, dtype: object"
      ]
     },
     "execution_count": 24,
     "metadata": {},
     "output_type": "execute_result"
    }
   ],
   "source": [
    "df.drinks.mode()"
   ]
  },
  {
   "cell_type": "code",
   "execution_count": 25,
   "id": "15ef039a",
   "metadata": {},
   "outputs": [],
   "source": [
    "df.drinks.fillna(\"socially\", inplace=True) # en çok tekrarlanan değeriyle doldurduk"
   ]
  },
  {
   "cell_type": "code",
   "execution_count": 26,
   "id": "ac99d601",
   "metadata": {},
   "outputs": [
    {
     "data": {
      "text/plain": [
       "array(['never', 'sometimes', nan, 'often'], dtype=object)"
      ]
     },
     "execution_count": 26,
     "metadata": {},
     "output_type": "execute_result"
    }
   ],
   "source": [
    "df.drugs.unique()\n"
   ]
  },
  {
   "cell_type": "code",
   "execution_count": 27,
   "id": "70df5ea7",
   "metadata": {},
   "outputs": [
    {
     "data": {
      "text/plain": [
       "0    never\n",
       "Name: drugs, dtype: object"
      ]
     },
     "execution_count": 27,
     "metadata": {},
     "output_type": "execute_result"
    }
   ],
   "source": [
    "df.drugs.mode()"
   ]
  },
  {
   "cell_type": "code",
   "execution_count": 28,
   "id": "4e26b727",
   "metadata": {},
   "outputs": [],
   "source": [
    "df.drugs.fillna(\"never\", inplace=True) # en çok tekrarlanan değeriyle doldurduk"
   ]
  },
  {
   "cell_type": "code",
   "execution_count": 29,
   "id": "c60de0c5",
   "metadata": {},
   "outputs": [
    {
     "data": {
      "text/plain": [
       "array(['working on college/university', 'working on space camp',\n",
       "       'graduated from masters program',\n",
       "       'graduated from college/university', 'working on two-year college',\n",
       "       nan, 'graduated from high school', 'working on masters program',\n",
       "       'graduated from space camp', 'college/university',\n",
       "       'dropped out of space camp', 'graduated from ph.d program',\n",
       "       'graduated from law school', 'working on ph.d program',\n",
       "       'two-year college', 'graduated from two-year college',\n",
       "       'working on med school', 'dropped out of college/university',\n",
       "       'space camp', 'graduated from med school',\n",
       "       'dropped out of high school', 'working on high school',\n",
       "       'masters program', 'dropped out of ph.d program',\n",
       "       'dropped out of two-year college', 'dropped out of med school',\n",
       "       'high school', 'working on law school', 'law school',\n",
       "       'dropped out of masters program', 'ph.d program',\n",
       "       'dropped out of law school'], dtype=object)"
      ]
     },
     "execution_count": 29,
     "metadata": {},
     "output_type": "execute_result"
    }
   ],
   "source": [
    "df.education.unique() \n"
   ]
  },
  {
   "cell_type": "code",
   "execution_count": 30,
   "id": "62e723b8",
   "metadata": {},
   "outputs": [],
   "source": [
    "di={'working on college/university':\"working\",\n",
    "    'working on space camp':\"working\",\n",
    "       'graduated from masters program':\"graduated\",\n",
    "       'graduated from college/university':\"graduated\",\n",
    "    'working on two-year college':\"working\",\n",
    "     'graduated from high school':\"graduated\",\n",
    "    'working on masters program':\"working\",\n",
    "       'graduated from space camp':\"graduated\",\n",
    "    'college/university':\"university\",\n",
    "       'dropped out of space camp':\"dropped\",\n",
    "    'graduated from ph.d program':\"graduated\",\n",
    "       'graduated from law school':\"graduated\",\n",
    "    'working on ph.d program':\"working\",\n",
    "       'two-year college':\"university\", \n",
    "    'graduated from two-year college':\"graduated\",\n",
    "       'working on med school':\"working\",\n",
    "    'dropped out of college/university':\"dropped\",\n",
    "       'space camp':\"university\", \n",
    "    'graduated from med school':\"graduated\",\n",
    "       'dropped out of high school':\"dropped\",\n",
    "    'working on high school':\"working\",\n",
    "       'masters program':\"university\", \n",
    "    'dropped out of ph.d program':\"dropped\",\n",
    "       'dropped out of two-year college':\"dropped\",\n",
    "    'dropped out of med school':\"dropped\",\n",
    "        'working on law school':\"working\",\n",
    "    'law school':\"university\",\n",
    "       'dropped out of masters program':\"dropped\",\n",
    "    'ph.d program':\"university\",\n",
    "       'dropped out of law school':\"dropped\"}"
   ]
  },
  {
   "cell_type": "code",
   "execution_count": 31,
   "id": "0c50cff5",
   "metadata": {},
   "outputs": [],
   "source": [
    "df.education=df.education.map(di)"
   ]
  },
  {
   "cell_type": "code",
   "execution_count": 32,
   "id": "fb87c70b",
   "metadata": {},
   "outputs": [
    {
     "data": {
      "text/plain": [
       "<AxesSubplot:xlabel='education', ylabel='count'>"
      ]
     },
     "execution_count": 32,
     "metadata": {},
     "output_type": "execute_result"
    },
    {
     "data": {
      "image/png": "[encoded data removed]",
      "text/plain": [
       "<Figure size 432x288 with 1 Axes>"
      ]
     },
     "metadata": {
      "needs_background": "light"
     },
     "output_type": "display_data"
    }
   ],
   "source": [
    "sns.countplot(df.education)"
   ]
  },
  {
   "cell_type": "code",
   "execution_count": 33,
   "id": "2464b927",
   "metadata": {},
   "outputs": [],
   "source": [
    "df.education.fillna(\"graduated\", inplace=True) # en çok tekrarlanan değeriyle doldurduk"
   ]
  },
  {
   "cell_type": "code",
   "execution_count": 35,
   "id": "63ef3aa2",
   "metadata": {},
   "outputs": [],
   "source": [
    "df=df.drop('last_online', axis=1)"
   ]
  },
  {
   "cell_type": "code",
   "execution_count": 36,
   "id": "7353daf6",
   "metadata": {},
   "outputs": [
    {
     "data": {
      "text/plain": [
       "age               1\n",
       "body_type         0\n",
       "diet              0\n",
       "drinks            0\n",
       "drugs             0\n",
       "education         0\n",
       "ethnicity       950\n",
       "height            1\n",
       "income            1\n",
       "job               0\n",
       "location          1\n",
       "offspring      5629\n",
       "orientation       1\n",
       "pets           3163\n",
       "religion       3254\n",
       "sex               1\n",
       "sign           1739\n",
       "smokes          919\n",
       "speaks            7\n",
       "status            1\n",
       "dtype: int64"
      ]
     },
     "execution_count": 36,
     "metadata": {},
     "output_type": "execute_result"
    }
   ],
   "source": [
    "df.isnull().sum()"
   ]
  },
  {
   "cell_type": "code",
   "execution_count": null,
   "id": "65de6096",
   "metadata": {},
   "outputs": [],
   "source": []
  },
  {
   "cell_type": "markdown",
   "id": "687b0f98",
   "metadata": {},
   "source": [
    "### Ouliars"
   ]
  },
  {
   "cell_type": "code",
   "execution_count": 37,
   "id": "44a2ff9d",
   "metadata": {},
   "outputs": [],
   "source": [
    "# Q1=25%\n",
    "# Q3=75%\n",
    "#IQR;Inter Quartile Range\n",
    "#IQR=Q3-Q1\n",
    "# outliar bulmak için lower ve upper bound \n",
    "#LOWER BOUND=Q1-1.5*IQR \n",
    "#UPPER BOUND=Q3+1.5*IQR"
   ]
  },
  {
   "cell_type": "code",
   "execution_count": 38,
   "id": "a2d6909d",
   "metadata": {},
   "outputs": [
    {
     "data": {
      "text/html": [
       "<div>\n",
       "<style scoped>\n",
       "    .dataframe tbody tr th:only-of-type {\n",
       "        vertical-align: middle;\n",
       "    }\n",
       "\n",
       "    .dataframe tbody tr th {\n",
       "        vertical-align: top;\n",
       "    }\n",
       "\n",
       "    .dataframe thead th {\n",
       "        text-align: right;\n",
       "    }\n",
       "</style>\n",
       "<table border=\"1\" class=\"dataframe\">\n",
       "  <thead>\n",
       "    <tr style=\"text-align: right;\">\n",
       "      <th></th>\n",
       "      <th>count</th>\n",
       "      <th>mean</th>\n",
       "      <th>std</th>\n",
       "      <th>min</th>\n",
       "      <th>25%</th>\n",
       "      <th>50%</th>\n",
       "      <th>75%</th>\n",
       "      <th>max</th>\n",
       "    </tr>\n",
       "  </thead>\n",
       "  <tbody>\n",
       "    <tr>\n",
       "      <th>height</th>\n",
       "      <td>9514.0</td>\n",
       "      <td>68.337398</td>\n",
       "      <td>3.905229</td>\n",
       "      <td>36.0</td>\n",
       "      <td>66.0</td>\n",
       "      <td>68.0</td>\n",
       "      <td>71.0</td>\n",
       "      <td>95.0</td>\n",
       "    </tr>\n",
       "    <tr>\n",
       "      <th>income</th>\n",
       "      <td>9514.0</td>\n",
       "      <td>18887.145155</td>\n",
       "      <td>91428.807808</td>\n",
       "      <td>-1.0</td>\n",
       "      <td>-1.0</td>\n",
       "      <td>-1.0</td>\n",
       "      <td>-1.0</td>\n",
       "      <td>1000000.0</td>\n",
       "    </tr>\n",
       "  </tbody>\n",
       "</table>\n",
       "</div>"
      ],
      "text/plain": [
       "         count          mean           std   min   25%   50%   75%        max\n",
       "height  9514.0     68.337398      3.905229  36.0  66.0  68.0  71.0       95.0\n",
       "income  9514.0  18887.145155  91428.807808  -1.0  -1.0  -1.0  -1.0  1000000.0"
      ]
     },
     "execution_count": 38,
     "metadata": {},
     "output_type": "execute_result"
    }
   ],
   "source": [
    "df[[\"height\",\"income\"]].describe().T"
   ]
  },
  {
   "cell_type": "code",
   "execution_count": 39,
   "id": "681337eb",
   "metadata": {},
   "outputs": [],
   "source": [
    "#\"height\" özelliği içi quartile\n",
    "heighQ1=66.0\n",
    "heightQ3=71.0\n",
    "iqr=71.0-66.0\n",
    "lower=66.0-1.5*iqr\n",
    "upper=77.0+1.5*iqr"
   ]
  },
  {
   "cell_type": "code",
   "execution_count": 40,
   "id": "e9666e6e",
   "metadata": {},
   "outputs": [
    {
     "name": "stdout",
     "output_type": "stream",
     "text": [
      "height oflower bound:  58.5\n",
      "height of upper bound:  84.5\n"
     ]
    }
   ],
   "source": [
    "print(\"height oflower bound: \",lower)\n",
    "print(\"height of upper bound: \",upper)"
   ]
  },
  {
   "cell_type": "code",
   "execution_count": 41,
   "id": "810a108a",
   "metadata": {},
   "outputs": [],
   "source": [
    "#\"income\" özelliği içi quartile\n",
    "incomeQ1=-1.0\n",
    "incomeQ3=-1.0\n",
    "iqr=-1.0-(-1.0)\n",
    "lower=-1.0-1.5*iqr\n",
    "upper=-1.0+1.5*iqr"
   ]
  },
  {
   "cell_type": "code",
   "execution_count": 42,
   "id": "26b90f91",
   "metadata": {},
   "outputs": [
    {
     "name": "stdout",
     "output_type": "stream",
     "text": [
      "income of lower bound:  -1.0\n",
      "income of upper bound:  -1.0\n"
     ]
    }
   ],
   "source": [
    "print(\"income of lower bound: \",lower)\n",
    "print(\"income of upper bound: \",upper)"
   ]
  },
  {
   "cell_type": "code",
   "execution_count": 43,
   "id": "c2d1b5ae",
   "metadata": {
    "scrolled": true
   },
   "outputs": [
    {
     "data": {
      "text/plain": [
       "<AxesSubplot:xlabel='height'>"
      ]
     },
     "execution_count": 43,
     "metadata": {},
     "output_type": "execute_result"
    },
    {
     "data": {
      "image/png": "[encoded data removed]",
      "text/plain": [
       "<Figure size 432x288 with 1 Axes>"
      ]
     },
     "metadata": {
      "needs_background": "light"
     },
     "output_type": "display_data"
    }
   ],
   "source": [
    "sns.boxplot(\"height\",data=df)"
   ]
  },
  {
   "cell_type": "code",
   "execution_count": 44,
   "id": "fd262188",
   "metadata": {},
   "outputs": [
    {
     "data": {
      "text/plain": [
       "<AxesSubplot:xlabel='income'>"
      ]
     },
     "execution_count": 44,
     "metadata": {},
     "output_type": "execute_result"
    },
    {
     "data": {
      "image/png": "[encoded data removed]",
      "text/plain": [
       "<Figure size 432x288 with 1 Axes>"
      ]
     },
     "metadata": {
      "needs_background": "light"
     },
     "output_type": "display_data"
    }
   ],
   "source": [
    "sns.boxplot(\"income\",data=df)"
   ]
  },
  {
   "cell_type": "code",
   "execution_count": 68,
   "id": "80764486",
   "metadata": {},
   "outputs": [
    {
     "data": {
      "text/plain": [
       "<AxesSubplot:xlabel='age'>"
      ]
     },
     "execution_count": 68,
     "metadata": {},
     "output_type": "execute_result"
    },
    {
     "data": {
      "image/png": "[encoded data removed]",
      "text/plain": [
       "<Figure size 432x288 with 1 Axes>"
      ]
     },
     "metadata": {
      "needs_background": "light"
     },
     "output_type": "display_data"
    }
   ],
   "source": [
    "sns.boxplot(\"age\",data=df)"
   ]
  },
  {
   "cell_type": "code",
   "execution_count": 87,
   "id": "04eb7c24",
   "metadata": {},
   "outputs": [
    {
     "data": {
      "text/plain": [
       "(443, 18)"
      ]
     },
     "execution_count": 87,
     "metadata": {},
     "output_type": "execute_result"
    }
   ],
   "source": [
    "df[df[\"age\"]>52].shape"
   ]
  },
  {
   "cell_type": "code",
   "execution_count": 47,
   "id": "73fdf38f",
   "metadata": {},
   "outputs": [
    {
     "data": {
      "text/plain": [
       "<bound method Series.unique of 0       south san francisco, california\n",
       "1                   oakland, california\n",
       "2             san francisco, california\n",
       "3                  berkeley, california\n",
       "4             san francisco, california\n",
       "                     ...               \n",
       "9510          san francisco, california\n",
       "9511          san francisco, california\n",
       "9512          san francisco, california\n",
       "9513          castro valley, california\n",
       "9514                                NaN\n",
       "Name: location, Length: 9515, dtype: object>"
      ]
     },
     "execution_count": 47,
     "metadata": {},
     "output_type": "execute_result"
    }
   ],
   "source": [
    "\n",
    "df.location.unique"
   ]
  },
  {
   "cell_type": "code",
   "execution_count": 48,
   "id": "a0d4c0ab",
   "metadata": {},
   "outputs": [],
   "source": [
    "df.location=df.location.str.split(\",\").str[0] # \"california\"  tüm satırlarda olduğu için onu çıkardık."
   ]
  },
  {
   "cell_type": "code",
   "execution_count": 49,
   "id": "7b816d40",
   "metadata": {},
   "outputs": [
    {
     "data": {
      "text/plain": [
       "array(['doesn&rsquo;t have kids, but might want them', nan,\n",
       "       'doesn&rsquo;t want kids',\n",
       "       'doesn&rsquo;t have kids, but wants them',\n",
       "       'doesn&rsquo;t have kids', 'wants kids', 'has a kid', 'has kids',\n",
       "       'doesn&rsquo;t have kids, and doesn&rsquo;t want any',\n",
       "       'has kids, but doesn&rsquo;t want more',\n",
       "       'has a kid, but doesn&rsquo;t want more',\n",
       "       'has a kid, and wants more', 'has kids, and might want more',\n",
       "       'might want kids', 'has a kid, and might want more',\n",
       "       'has kids, and wants more'], dtype=object)"
      ]
     },
     "execution_count": 49,
     "metadata": {},
     "output_type": "execute_result"
    }
   ],
   "source": [
    "df.offspring.unique()"
   ]
  },
  {
   "cell_type": "code",
   "execution_count": 50,
   "id": "a5275b25",
   "metadata": {},
   "outputs": [],
   "source": [
    "sozluk={'doesn&rsquo;t have kids, but might want them':\"no kids but wanting\", \n",
    "       'doesn&rsquo;t want kids':\"no kids\",\n",
    "       'doesn&rsquo;t have kids, but wants them':\"no kids but wanting\",\n",
    "       'doesn&rsquo;t have kids':\"no kids\", \n",
    "        'has a kid':\"has kid\", \n",
    "        'has kids':\"has kid\",\n",
    "       'doesn&rsquo;t have kids, and doesn&rsquo;t want any':\"doenst want kids\",\n",
    "       'has kids, but doesn&rsquo;t want more':\"has kid\",\n",
    "       'has a kid, but doesn&rsquo;t want more':\"has kid\",\n",
    "       'has a kid, and wants more':\"wants kids\", \n",
    "        'has kids, and might want more':\"wants kids\",\n",
    "       'might want kids':\"wants kids\", \n",
    "        'has a kid, and might want more':\"wants kids\",\n",
    "       'has kids, and wants more':\"wants kids\"}\n",
    "df[\"offspring\"]=df[\"offspring\"].map(sozluk)"
   ]
  },
  {
   "cell_type": "code",
   "execution_count": 51,
   "id": "6077312d",
   "metadata": {},
   "outputs": [
    {
     "data": {
      "text/plain": [
       "0    no kids\n",
       "Name: offspring, dtype: object"
      ]
     },
     "execution_count": 51,
     "metadata": {},
     "output_type": "execute_result"
    }
   ],
   "source": [
    "df.offspring.mode()"
   ]
  },
  {
   "cell_type": "code",
   "execution_count": 52,
   "id": "0cbecda0",
   "metadata": {},
   "outputs": [],
   "source": [
    "df.offspring.fillna(df.offspring.mode()[0], inplace=True)"
   ]
  },
  {
   "cell_type": "code",
   "execution_count": 53,
   "id": "707cdd1d",
   "metadata": {},
   "outputs": [
    {
     "data": {
      "image/png": "[encoded data removed]",
      "text/plain": [
       "<Figure size 1584x576 with 1 Axes>"
      ]
     },
     "metadata": {
      "needs_background": "light"
     },
     "output_type": "display_data"
    }
   ],
   "source": [
    "plt.figure(figsize=(22,8))\n",
    "sns.countplot(x=df.age,hue=df.offspring);"
   ]
  },
  {
   "cell_type": "code",
   "execution_count": 54,
   "id": "25aca006",
   "metadata": {},
   "outputs": [],
   "source": [
    "df=df.drop([\"ethnicity\",\"job\"], axis=1)"
   ]
  },
  {
   "cell_type": "code",
   "execution_count": 55,
   "id": "a41f8790",
   "metadata": {},
   "outputs": [
    {
     "data": {
      "text/plain": [
       "age               1\n",
       "body_type         0\n",
       "diet              0\n",
       "drinks            0\n",
       "drugs             0\n",
       "education         0\n",
       "height            1\n",
       "income            1\n",
       "location          1\n",
       "offspring         0\n",
       "orientation       1\n",
       "pets           3163\n",
       "religion       3254\n",
       "sex               1\n",
       "sign           1739\n",
       "smokes          919\n",
       "speaks            7\n",
       "status            1\n",
       "dtype: int64"
      ]
     },
     "execution_count": 55,
     "metadata": {},
     "output_type": "execute_result"
    }
   ],
   "source": [
    "df.isnull().sum()"
   ]
  },
  {
   "cell_type": "code",
   "execution_count": 56,
   "id": "4631406f",
   "metadata": {},
   "outputs": [
    {
     "data": {
      "text/plain": [
       "array(['straight', 'bisexual', 'gay', nan], dtype=object)"
      ]
     },
     "execution_count": 56,
     "metadata": {},
     "output_type": "execute_result"
    }
   ],
   "source": [
    "df.orientation.unique()       "
   ]
  },
  {
   "cell_type": "code",
   "execution_count": 57,
   "id": "5c183331",
   "metadata": {},
   "outputs": [
    {
     "data": {
      "text/plain": [
       "0    straight\n",
       "Name: orientation, dtype: object"
      ]
     },
     "execution_count": 57,
     "metadata": {},
     "output_type": "execute_result"
    }
   ],
   "source": [
    "df.orientation.mode()       "
   ]
  },
  {
   "cell_type": "code",
   "execution_count": 58,
   "id": "806e82a6",
   "metadata": {},
   "outputs": [],
   "source": [
    "df.offspring.fillna(df.offspring.mode()[0], inplace=True)"
   ]
  },
  {
   "cell_type": "code",
   "execution_count": 59,
   "id": "3046f025",
   "metadata": {},
   "outputs": [
    {
     "data": {
      "text/plain": [
       "array(['likes dogs and likes cats', 'has cats', 'likes cats', nan,\n",
       "       'has dogs and likes cats', 'likes dogs and has cats',\n",
       "       'likes dogs and dislikes cats', 'has dogs',\n",
       "       'has dogs and dislikes cats', 'likes dogs',\n",
       "       'has dogs and has cats', 'dislikes dogs and has cats',\n",
       "       'dislikes dogs and dislikes cats', 'dislikes cats',\n",
       "       'dislikes dogs and likes cats', 'dislikes dogs'], dtype=object)"
      ]
     },
     "execution_count": 59,
     "metadata": {},
     "output_type": "execute_result"
    }
   ],
   "source": [
    "df.pets.unique()       "
   ]
  },
  {
   "cell_type": "code",
   "execution_count": 60,
   "id": "84ff8d9c",
   "metadata": {},
   "outputs": [],
   "source": [
    "soz={'likes dogs and likes cats':\"likes pets\", \n",
    "     'has cats':\"has pets\", \n",
    "     'likes cats':\"likes pets\", \n",
    "       'has dogs and likes cats':\"has pets\",\n",
    "     'likes dogs and has cats':\"has pets\",\n",
    "       'likes dogs and dislikes cats':\"likes pets\", \n",
    "     'has dogs':\"has pets\",\n",
    "       'has dogs and dislikes cats':\"has pets\", \n",
    "     'likes dogs':\"likes pets\",\n",
    "       'has dogs and has cats':\"has pets\", 'dislikes dogs and has cats':\"has pets\",\n",
    "       'dislikes dogs and dislikes cats':\"hates pets\", 'dislikes cats':\"hates pets\",\n",
    "       'dislikes dogs and likes cats':\"likes pets\", 'dislikes dogs':\"hates pets\"}\n",
    "df.pets=df.pets.map(soz)"
   ]
  },
  {
   "cell_type": "code",
   "execution_count": 61,
   "id": "a08619a3",
   "metadata": {},
   "outputs": [],
   "source": [
    "df.pets.fillna(df.pets.mode()[0], inplace=True)"
   ]
  },
  {
   "cell_type": "code",
   "execution_count": 62,
   "id": "1bac66e7",
   "metadata": {},
   "outputs": [
    {
     "data": {
      "image/png": "[encoded data removed]",
      "text/plain": [
       "<Figure size 1584x576 with 1 Axes>"
      ]
     },
     "metadata": {
      "needs_background": "light"
     },
     "output_type": "display_data"
    }
   ],
   "source": [
    "plt.figure(figsize=(22,8))\n",
    "sns.countplot(x=df.age,hue=df.pets);"
   ]
  },
  {
   "cell_type": "code",
   "execution_count": 63,
   "id": "a7cb9414",
   "metadata": {
    "scrolled": true
   },
   "outputs": [
    {
     "data": {
      "text/plain": [
       "array(['agnosticism and very serious about it',\n",
       "       'agnosticism but not too serious about it', nan, 'atheism',\n",
       "       'christianity', 'christianity but not too serious about it',\n",
       "       'atheism and laughing about it',\n",
       "       'christianity and very serious about it', 'other', 'catholicism',\n",
       "       'catholicism but not too serious about it',\n",
       "       'catholicism and somewhat serious about it',\n",
       "       'agnosticism and somewhat serious about it',\n",
       "       'catholicism and laughing about it',\n",
       "       'agnosticism and laughing about it', 'agnosticism',\n",
       "       'atheism and somewhat serious about it',\n",
       "       'buddhism but not too serious about it',\n",
       "       'other but not too serious about it', 'buddhism',\n",
       "       'other and laughing about it',\n",
       "       'judaism but not too serious about it',\n",
       "       'buddhism and laughing about it',\n",
       "       'other and somewhat serious about it',\n",
       "       'other and very serious about it',\n",
       "       'hinduism but not too serious about it',\n",
       "       'atheism but not too serious about it', 'judaism',\n",
       "       'christianity and somewhat serious about it',\n",
       "       'hinduism and very serious about it',\n",
       "       'atheism and very serious about it',\n",
       "       'judaism and laughing about it',\n",
       "       'christianity and laughing about it',\n",
       "       'hinduism and laughing about it',\n",
       "       'buddhism and somewhat serious about it',\n",
       "       'islam and very serious about it', 'islam', 'hinduism',\n",
       "       'judaism and somewhat serious about it',\n",
       "       'catholicism and very serious about it',\n",
       "       'judaism and very serious about it',\n",
       "       'hinduism and somewhat serious about it',\n",
       "       'islam but not too serious about it',\n",
       "       'buddhism and very serious about it',\n",
       "       'islam and laughing about it',\n",
       "       'islam and somewhat serious about it'], dtype=object)"
      ]
     },
     "execution_count": 63,
     "metadata": {},
     "output_type": "execute_result"
    }
   ],
   "source": [
    "df.religion.unique()\n"
   ]
  },
  {
   "cell_type": "code",
   "execution_count": 64,
   "id": "dbe613a6",
   "metadata": {},
   "outputs": [
    {
     "data": {
      "image/png": "[encoded data removed]",
      "text/plain": [
       "<Figure size 1584x576 with 1 Axes>"
      ]
     },
     "metadata": {
      "needs_background": "light"
     },
     "output_type": "display_data"
    }
   ],
   "source": [
    "plt.figure(figsize=(22,8))\n",
    "sns.lineplot(x=df.religion, y=df.age)\n",
    "plt.xticks(rotation=90);\n",
    "print(\"burdan religion da yasşlar agöre çok değişmediğini gösteriyor\")"
   ]
  },
  {
   "cell_type": "code",
   "execution_count": 67,
   "id": "47448dba",
   "metadata": {},
   "outputs": [
    {
     "data": {
      "text/plain": [
       "count    9514.000000\n",
       "mean       32.084192\n",
       "std         9.445488\n",
       "min        18.000000\n",
       "25%        25.000000\n",
       "50%        30.000000\n",
       "75%        36.000000\n",
       "max       110.000000\n",
       "Name: age, dtype: float64"
      ]
     },
     "execution_count": 67,
     "metadata": {},
     "output_type": "execute_result"
    }
   ],
   "source": [
    "df.age.describe()"
   ]
  },
  {
   "cell_type": "code",
   "execution_count": 73,
   "id": "0142e465",
   "metadata": {},
   "outputs": [],
   "source": [
    "df=df.drop(\"religion\", axis=1)"
   ]
  },
  {
   "cell_type": "code",
   "execution_count": 70,
   "id": "ba0c8479",
   "metadata": {},
   "outputs": [],
   "source": [
    "generation=[]\n",
    "for i in df[\"age\"].values:\n",
    "    if (i>=18) and (i<=32):\n",
    "        generation.append(\"Millennial\")\n",
    "    elif (i>=33) and (i<=47):\n",
    "        generation.append(\"Gen X-er\")\n",
    "    elif (48>=33) and (i<=70):\n",
    "        generation.append(\"Boomers\")\n",
    "    else:\n",
    "        generation.append(\"Unkown\")\n",
    "\n",
    "df[\"generation\"]=generation"
   ]
  },
  {
   "cell_type": "code",
   "execution_count": 71,
   "id": "762a9038",
   "metadata": {},
   "outputs": [],
   "source": [
    "df[\"generation\"].replace(\"Unkown\",\"Boomers\", inplace=True)"
   ]
  },
  {
   "cell_type": "code",
   "execution_count": 72,
   "id": "3a77425b",
   "metadata": {},
   "outputs": [],
   "source": [
    "df[\"generation\"]= df[\"generation\"].map({\"Millennial\":0,\"Gen X-er\":1,\"Boomers\":2})"
   ]
  },
  {
   "cell_type": "code",
   "execution_count": 91,
   "id": "83b57b35",
   "metadata": {},
   "outputs": [
    {
     "name": "stdout",
     "output_type": "stream",
     "text": [
      "Bu graifkten burçların yaşı tahmin etmede çok bir etkisi olamdığını görüyoruz\n"
     ]
    },
    {
     "data": {
      "image/png": "[encoded data removed]",
      "text/plain": [
       "<Figure size 1584x576 with 1 Axes>"
      ]
     },
     "metadata": {
      "needs_background": "light"
     },
     "output_type": "display_data"
    }
   ],
   "source": [
    "plt.figure(figsize=(22,8))\n",
    "sns.lineplot(x=df.sign, y=df.age)\n",
    "plt.xticks(rotation=90);\n",
    "print(\"Bu graifkten burçların yaşı tahmin etmede çok bir etkisi olamdığını görüyoruz\")"
   ]
  },
  {
   "cell_type": "code",
   "execution_count": 92,
   "id": "ec7cb5e2",
   "metadata": {},
   "outputs": [
    {
     "data": {
      "text/plain": [
       "Index(['age', 'body_type', 'diet', 'drinks', 'drugs', 'education', 'height',\n",
       "       'income', 'location', 'offspring', 'orientation', 'pets', 'sex', 'sign',\n",
       "       'smokes', 'speaks', 'status', 'generation'],\n",
       "      dtype='object')"
      ]
     },
     "execution_count": 92,
     "metadata": {},
     "output_type": "execute_result"
    }
   ],
   "source": [
    "df.columns"
   ]
  },
  {
   "cell_type": "code",
   "execution_count": 93,
   "id": "ba976c00",
   "metadata": {},
   "outputs": [
    {
     "data": {
      "text/plain": [
       "<AxesSubplot:xlabel='smokes', ylabel='count'>"
      ]
     },
     "execution_count": 93,
     "metadata": {},
     "output_type": "execute_result"
    },
    {
     "data": {
      "image/png": "[encoded data removed]",
      "text/plain": [
       "<Figure size 432x288 with 1 Axes>"
      ]
     },
     "metadata": {
      "needs_background": "light"
     },
     "output_type": "display_data"
    }
   ],
   "source": [
    "sns.countplot(df.smokes)"
   ]
  },
  {
   "cell_type": "code",
   "execution_count": 94,
   "id": "52c97c1d",
   "metadata": {},
   "outputs": [],
   "source": [
    "df.smokes.fillna(\"no\", inplace=True)"
   ]
  },
  {
   "cell_type": "code",
   "execution_count": 95,
   "id": "c7649ad3",
   "metadata": {},
   "outputs": [
    {
     "data": {
      "text/plain": [
       "1794"
      ]
     },
     "execution_count": 95,
     "metadata": {},
     "output_type": "execute_result"
    }
   ],
   "source": [
    "df.speaks.nunique() # çok fazla değişkeni var bu özelliğin"
   ]
  },
  {
   "cell_type": "code",
   "execution_count": 96,
   "id": "d9d338ef",
   "metadata": {},
   "outputs": [
    {
     "data": {
      "text/plain": [
       "array(['english', 'english (fluently), spanish (poorly), french (poorly)',\n",
       "       'english, french, c++', ...,\n",
       "       'english (fluently), french (okay), spanish (poorly), sign language (poorly)',\n",
       "       'english (fluently), spanish, swedish',\n",
       "       'english (fluently), french (okay), swedish (poorly)'],\n",
       "      dtype=object)"
      ]
     },
     "execution_count": 96,
     "metadata": {},
     "output_type": "execute_result"
    }
   ],
   "source": [
    "df.speaks.unique() \n"
   ]
  },
  {
   "cell_type": "code",
   "execution_count": 97,
   "id": "67d7dcdb",
   "metadata": {},
   "outputs": [],
   "source": [
    "df[\"number_of_fluent_languages\"]=df.speaks.str.count(\"fluently\")\n",
    "df[\"number_of_fluent_languages\"].replace(0,1,regex=True,inplace=True)\n",
    "df[\"number_of_poorly_languages\"]=df.speaks.str.count(\"poorly\")\n",
    "df.drop(\"speaks\",axis=1,inplace=True)"
   ]
  },
  {
   "cell_type": "code",
   "execution_count": 98,
   "id": "0a113054",
   "metadata": {},
   "outputs": [],
   "source": [
    "for column in df.select_dtypes(include=np.number):\n",
    "    df[column].fillna(df[column].median(),inplace=True) "
   ]
  },
  {
   "cell_type": "code",
   "execution_count": 99,
   "id": "2efa1f41",
   "metadata": {},
   "outputs": [],
   "source": [
    "df.status.fillna(\"no\", inplace=True)\n"
   ]
  },
  {
   "cell_type": "code",
   "execution_count": 100,
   "id": "3a4bebec",
   "metadata": {},
   "outputs": [],
   "source": [
    "df=df.drop(\"sign\", axis=1)"
   ]
  },
  {
   "cell_type": "code",
   "execution_count": 101,
   "id": "21548167",
   "metadata": {},
   "outputs": [],
   "source": [
    "for column in df.select_dtypes(include=np.object):\n",
    "    df[column].fillna(df[column].mode()[0],inplace=True) "
   ]
  },
  {
   "cell_type": "code",
   "execution_count": 102,
   "id": "8976dee4",
   "metadata": {},
   "outputs": [
    {
     "data": {
      "text/plain": [
       "age                           0\n",
       "body_type                     0\n",
       "diet                          0\n",
       "drinks                        0\n",
       "drugs                         0\n",
       "education                     0\n",
       "height                        0\n",
       "income                        0\n",
       "location                      0\n",
       "offspring                     0\n",
       "orientation                   0\n",
       "pets                          0\n",
       "sex                           0\n",
       "smokes                        0\n",
       "status                        0\n",
       "generation                    0\n",
       "number_of_fluent_languages    0\n",
       "number_of_poorly_languages    0\n",
       "dtype: int64"
      ]
     },
     "execution_count": 102,
     "metadata": {},
     "output_type": "execute_result"
    }
   ],
   "source": [
    "df.isnull().sum()"
   ]
  },
  {
   "cell_type": "markdown",
   "id": "780acd02",
   "metadata": {},
   "source": [
    "###modelimiz\n"
   ]
  },
  {
   "cell_type": "code",
   "execution_count": 114,
   "id": "2a0044ed",
   "metadata": {},
   "outputs": [],
   "source": [
    "df=pd.get_dummies(df, drop_first=True)"
   ]
  },
  {
   "cell_type": "code",
   "execution_count": 115,
   "id": "d10eb3bc",
   "metadata": {},
   "outputs": [
    {
     "name": "stdout",
     "output_type": "stream",
     "text": [
      "<class 'pandas.core.frame.DataFrame'>\n",
      "Int64Index: 9515 entries, 0 to 9514\n",
      "Columns: 128 entries, age to status_single\n",
      "dtypes: float64(5), int64(1), uint8(122)\n",
      "memory usage: 1.9 MB\n"
     ]
    }
   ],
   "source": [
    "df.info()"
   ]
  },
  {
   "cell_type": "code",
   "execution_count": 116,
   "id": "3b10ee0d",
   "metadata": {},
   "outputs": [],
   "source": [
    "x=df.drop(\"age\",axis=1)"
   ]
  },
  {
   "cell_type": "code",
   "execution_count": 125,
   "id": "b7878706",
   "metadata": {},
   "outputs": [],
   "source": [
    "y=df[[\"age\"]]"
   ]
  },
  {
   "cell_type": "code",
   "execution_count": 126,
   "id": "321c9bd1",
   "metadata": {},
   "outputs": [],
   "source": [
    "x.age=df.age.astype(int)\n",
    "x.height=df.age.astype(int)\n",
    "x.income=df.age.astype(int)\n",
    "x[\"number_of_fluent_languages\"]=x[\"number_of_fluent_languages\"].astype(int)\n",
    "x[\"number_of_poorly_languages\"]=x[\"number_of_poorly_languages\"].astype(int)\n"
   ]
  },
  {
   "cell_type": "code",
   "execution_count": 127,
   "id": "fc2a673b",
   "metadata": {},
   "outputs": [
    {
     "name": "stdout",
     "output_type": "stream",
     "text": [
      "<class 'pandas.core.frame.DataFrame'>\n",
      "Int64Index: 9515 entries, 0 to 9514\n",
      "Columns: 127 entries, height to status_single\n",
      "dtypes: int32(4), int64(1), uint8(122)\n",
      "memory usage: 1.6 MB\n"
     ]
    }
   ],
   "source": [
    "x.info()"
   ]
  },
  {
   "cell_type": "code",
   "execution_count": 129,
   "id": "219db3ca",
   "metadata": {},
   "outputs": [],
   "source": [
    "x_train,x_test,y_train,y_test=train_test_split(x,y,test_size=0.2,random_state=42)\n",
    "from sklearn.model_selection import train_test_split"
   ]
  },
  {
   "cell_type": "code",
   "execution_count": 130,
   "id": "8510c566",
   "metadata": {},
   "outputs": [],
   "source": [
    "from sklearn.metrics import mean_squared_error, r2_score"
   ]
  },
  {
   "cell_type": "code",
   "execution_count": 132,
   "id": "ef6b1917",
   "metadata": {},
   "outputs": [],
   "source": [
    "from sklearn.linear_model import LinearRegression\n",
    "lr=LinearRegression()\n"
   ]
  },
  {
   "cell_type": "code",
   "execution_count": 133,
   "id": "192e1454",
   "metadata": {},
   "outputs": [],
   "source": [
    "model=lr.fit(x_train,y_train)\n",
    "tahmin=model.predict(x_test)"
   ]
  },
  {
   "cell_type": "code",
   "execution_count": 134,
   "id": "b48d9a60",
   "metadata": {},
   "outputs": [
    {
     "data": {
      "text/plain": [
       "1.0"
      ]
     },
     "execution_count": 134,
     "metadata": {},
     "output_type": "execute_result"
    }
   ],
   "source": [
    "r2_score(tahmin,y_test)"
   ]
  },
  {
   "cell_type": "code",
   "execution_count": 135,
   "id": "691720a9",
   "metadata": {},
   "outputs": [
    {
     "data": {
      "text/plain": [
       "7.88082196485499e-15"
      ]
     },
     "execution_count": 135,
     "metadata": {},
     "output_type": "execute_result"
    }
   ],
   "source": [
    "mean_squared_error(tahmin,y_test)**0.5"
   ]
  },
  {
   "cell_type": "code",
   "execution_count": 137,
   "id": "93a1f7cb",
   "metadata": {},
   "outputs": [],
   "source": [
    "from sklearn.linear_model import Ridge, Lasso\n",
    "r=Ridge()\n",
    "l=Lasso()"
   ]
  },
  {
   "cell_type": "code",
   "execution_count": 138,
   "id": "fd0fc857",
   "metadata": {},
   "outputs": [],
   "source": [
    "model=r.fit(x_train,y_train)\n",
    "tahmin1=model.predict(x_test)"
   ]
  },
  {
   "cell_type": "code",
   "execution_count": 139,
   "id": "1325a7df",
   "metadata": {},
   "outputs": [
    {
     "data": {
      "text/plain": [
       "0.9999999999966335"
      ]
     },
     "execution_count": 139,
     "metadata": {},
     "output_type": "execute_result"
    }
   ],
   "source": [
    "r2_score(tahmin1,y_test)"
   ]
  },
  {
   "cell_type": "code",
   "execution_count": 141,
   "id": "17dc847c",
   "metadata": {},
   "outputs": [
    {
     "data": {
      "text/plain": [
       "2.8421113162570506e-10"
      ]
     },
     "execution_count": 141,
     "metadata": {},
     "output_type": "execute_result"
    }
   ],
   "source": [
    "mean_squared_error(tahmin1,y_test)"
   ]
  },
  {
   "cell_type": "code",
   "execution_count": 143,
   "id": "21bf6bbe",
   "metadata": {},
   "outputs": [],
   "source": [
    "model=l.fit(x_train,y_train)\n",
    "tahmin2=model.predict(x_test)"
   ]
  },
  {
   "cell_type": "code",
   "execution_count": 145,
   "id": "0296fd6e",
   "metadata": {},
   "outputs": [
    {
     "data": {
      "text/plain": [
       "0.9998748534284227"
      ]
     },
     "execution_count": 145,
     "metadata": {},
     "output_type": "execute_result"
    }
   ],
   "source": [
    "r2_score(tahmin2,y_test)"
   ]
  },
  {
   "cell_type": "code",
   "execution_count": 146,
   "id": "30208e73",
   "metadata": {},
   "outputs": [
    {
     "data": {
      "text/plain": [
       "0.010332806706680454"
      ]
     },
     "execution_count": 146,
     "metadata": {},
     "output_type": "execute_result"
    }
   ],
   "source": [
    "mean_squared_error(tahmin2,y_test)"
   ]
  },
  {
   "cell_type": "code",
   "execution_count": 147,
   "id": "f8879b44",
   "metadata": {},
   "outputs": [],
   "source": [
    "from sklearn.linear_model import ElasticNet\n",
    "e=ElasticNet()"
   ]
  },
  {
   "cell_type": "code",
   "execution_count": 148,
   "id": "29a72928",
   "metadata": {},
   "outputs": [],
   "source": [
    "model=e.fit(x_train,y_train)\n",
    "tahmin3=model.predict(x_test)"
   ]
  },
  {
   "cell_type": "code",
   "execution_count": 149,
   "id": "3d7e7231",
   "metadata": {},
   "outputs": [
    {
     "data": {
      "text/plain": [
       "0.9999308040481965"
      ]
     },
     "execution_count": 149,
     "metadata": {},
     "output_type": "execute_result"
    }
   ],
   "source": [
    "r2_score(tahmin3,y_test)"
   ]
  },
  {
   "cell_type": "code",
   "execution_count": 152,
   "id": "240b5bd0",
   "metadata": {},
   "outputs": [
    {
     "data": {
      "text/plain": [
       "0.005745759653202803"
      ]
     },
     "execution_count": 152,
     "metadata": {},
     "output_type": "execute_result"
    }
   ],
   "source": [
    "mean_squared_error(tahmin3,y_test)"
   ]
  },
  {
   "cell_type": "code",
   "execution_count": 153,
   "id": "93f18c6b",
   "metadata": {},
   "outputs": [],
   "source": [
    "from sklearn.tree import ExtraTreeRegressor\n",
    "ex=ExtraTreeRegressor()"
   ]
  },
  {
   "cell_type": "code",
   "execution_count": 154,
   "id": "c239ae80",
   "metadata": {},
   "outputs": [],
   "source": [
    "model=ex.fit(x_train,y_train)\n",
    "tahmin4=model.predict(x_test)"
   ]
  },
  {
   "cell_type": "code",
   "execution_count": 155,
   "id": "a1369618",
   "metadata": {},
   "outputs": [
    {
     "data": {
      "text/plain": [
       "1.0"
      ]
     },
     "execution_count": 155,
     "metadata": {},
     "output_type": "execute_result"
    }
   ],
   "source": [
    "r2_score(tahmin4,y_test)"
   ]
  },
  {
   "cell_type": "code",
   "execution_count": 156,
   "id": "13f4ac6c",
   "metadata": {},
   "outputs": [
    {
     "data": {
      "text/plain": [
       "0.0"
      ]
     },
     "execution_count": 156,
     "metadata": {},
     "output_type": "execute_result"
    }
   ],
   "source": [
    "mean_squared_error(tahmin4,y_test)"
   ]
  },
  {
   "cell_type": "code",
   "execution_count": 157,
   "id": "da5608c8",
   "metadata": {},
   "outputs": [],
   "source": [
    "from sklearn.ensemble import GradientBoostingRegressor\n",
    "g=GradientBoostingRegressor()"
   ]
  },
  {
   "cell_type": "code",
   "execution_count": 158,
   "id": "f0c5a86e",
   "metadata": {},
   "outputs": [],
   "source": [
    "model=g.fit(x_train,y_train)\n",
    "tahmin5=model.predict(x_test)"
   ]
  },
  {
   "cell_type": "code",
   "execution_count": 159,
   "id": "e61d488e",
   "metadata": {},
   "outputs": [
    {
     "data": {
      "text/plain": [
       "0.9999998994097221"
      ]
     },
     "execution_count": 159,
     "metadata": {},
     "output_type": "execute_result"
    }
   ],
   "source": [
    "r2_score(tahmin5,y_test)"
   ]
  },
  {
   "cell_type": "code",
   "execution_count": 160,
   "id": "af6da64c",
   "metadata": {},
   "outputs": [
    {
     "data": {
      "text/plain": [
       "8.490459657957513e-06"
      ]
     },
     "execution_count": 160,
     "metadata": {},
     "output_type": "execute_result"
    }
   ],
   "source": [
    "mean_squared_error(tahmin5,y_test)"
   ]
  },
  {
   "cell_type": "code",
   "execution_count": 161,
   "id": "0c1c7bd0",
   "metadata": {},
   "outputs": [],
   "source": [
    "from sklearn.neighbors import KNeighborsRegressor\n",
    "k=KNeighborsRegressor()"
   ]
  },
  {
   "cell_type": "code",
   "execution_count": 163,
   "id": "73a1d8f1",
   "metadata": {},
   "outputs": [],
   "source": [
    "model=k.fit(x_train,y_train)\n",
    "tahmin6=model.predict(x_test)"
   ]
  },
  {
   "cell_type": "code",
   "execution_count": 164,
   "id": "bd1ea184",
   "metadata": {},
   "outputs": [
    {
     "data": {
      "text/plain": [
       "0.9998413223117489"
      ]
     },
     "execution_count": 164,
     "metadata": {},
     "output_type": "execute_result"
    }
   ],
   "source": [
    "r2_score(tahmin6,y_test)"
   ]
  },
  {
   "cell_type": "code",
   "execution_count": 165,
   "id": "90afd2f8",
   "metadata": {},
   "outputs": [
    {
     "data": {
      "text/plain": [
       "0.01334734629532323"
      ]
     },
     "execution_count": 165,
     "metadata": {},
     "output_type": "execute_result"
    }
   ],
   "source": [
    "mean_squared_error(tahmin6,y_test)"
   ]
  },
  {
   "cell_type": "markdown",
   "id": "48e99d1a",
   "metadata": {},
   "source": [
    "###classification"
   ]
  },
  {
   "cell_type": "code",
   "execution_count": 167,
   "id": "460ac1b0",
   "metadata": {},
   "outputs": [],
   "source": [
    "from sklearn.metrics import accuracy_score, confusion_matrix,classification_report\n"
   ]
  },
  {
   "cell_type": "code",
   "execution_count": 168,
   "id": "bb93285c",
   "metadata": {},
   "outputs": [],
   "source": [
    "from sklearn.naive_bayes import GaussianNB\n",
    "from sklearn.naive_bayes import BernoulliNB\n",
    "g=GaussianNB()\n",
    "b=BernoulliNB()"
   ]
  },
  {
   "cell_type": "code",
   "execution_count": 169,
   "id": "9bb1d19f",
   "metadata": {},
   "outputs": [
    {
     "data": {
      "text/html": [
       "<style>#sk-container-id-1 {color: black;background-color: white;}#sk-container-id-1 pre{padding: 0;}#sk-container-id-1 div.sk-toggleable {background-color: white;}#sk-container-id-1 label.sk-toggleable__label {cursor: pointer;display: block;width: 100%;margin-bottom: 0;padding: 0.3em;box-sizing: border-box;text-align: center;}#sk-container-id-1 label.sk-toggleable__label-arrow:before {content: \"▸\";float: left;margin-right: 0.25em;color: #696969;}#sk-container-id-1 label.sk-toggleable__label-arrow:hover:before {color: black;}#sk-container-id-1 div.sk-estimator:hover label.sk-toggleable__label-arrow:before {color: black;}#sk-container-id-1 div.sk-toggleable__content {max-height: 0;max-width: 0;overflow: hidden;text-align: left;background-color: #f0f8ff;}#sk-container-id-1 div.sk-toggleable__content pre {margin: 0.2em;color: black;border-radius: 0.25em;background-color: #f0f8ff;}#sk-container-id-1 input.sk-toggleable__control:checked~div.sk-toggleable__content {max-height: 200px;max-width: 100%;overflow: auto;}#sk-container-id-1 input.sk-toggleable__control:checked~label.sk-toggleable__label-arrow:before {content: \"▾\";}#sk-container-id-1 div.sk-estimator input.sk-toggleable__control:checked~label.sk-toggleable__label {background-color: #d4ebff;}#sk-container-id-1 div.sk-label input.sk-toggleable__control:checked~label.sk-toggleable__label {background-color: #d4ebff;}#sk-container-id-1 input.sk-hidden--visually {border: 0;clip: rect(1px 1px 1px 1px);clip: rect(1px, 1px, 1px, 1px);height: 1px;margin: -1px;overflow: hidden;padding: 0;position: absolute;width: 1px;}#sk-container-id-1 div.sk-estimator {font-family: monospace;background-color: #f0f8ff;border: 1px dotted black;border-radius: 0.25em;box-sizing: border-box;margin-bottom: 0.5em;}#sk-container-id-1 div.sk-estimator:hover {background-color: #d4ebff;}#sk-container-id-1 div.sk-parallel-item::after {content: \"\";width: 100%;border-bottom: 1px solid gray;flex-grow: 1;}#sk-container-id-1 div.sk-label:hover label.sk-toggleable__label {background-color: #d4ebff;}#sk-container-id-1 div.sk-serial::before {content: \"\";position: absolute;border-left: 1px solid gray;box-sizing: border-box;top: 0;bottom: 0;left: 50%;z-index: 0;}#sk-container-id-1 div.sk-serial {display: flex;flex-direction: column;align-items: center;background-color: white;padding-right: 0.2em;padding-left: 0.2em;position: relative;}#sk-container-id-1 div.sk-item {position: relative;z-index: 1;}#sk-container-id-1 div.sk-parallel {display: flex;align-items: stretch;justify-content: center;background-color: white;position: relative;}#sk-container-id-1 div.sk-item::before, #sk-container-id-1 div.sk-parallel-item::before {content: \"\";position: absolute;border-left: 1px solid gray;box-sizing: border-box;top: 0;bottom: 0;left: 50%;z-index: -1;}#sk-container-id-1 div.sk-parallel-item {display: flex;flex-direction: column;z-index: 1;position: relative;background-color: white;}#sk-container-id-1 div.sk-parallel-item:first-child::after {align-self: flex-end;width: 50%;}#sk-container-id-1 div.sk-parallel-item:last-child::after {align-self: flex-start;width: 50%;}#sk-container-id-1 div.sk-parallel-item:only-child::after {width: 0;}#sk-container-id-1 div.sk-dashed-wrapped {border: 1px dashed gray;margin: 0 0.4em 0.5em 0.4em;box-sizing: border-box;padding-bottom: 0.4em;background-color: white;}#sk-container-id-1 div.sk-label label {font-family: monospace;font-weight: bold;display: inline-block;line-height: 1.2em;}#sk-container-id-1 div.sk-label-container {text-align: center;}#sk-container-id-1 div.sk-container {/* jupyter's `normalize.less` sets `[hidden] { display: none; }` but bootstrap.min.css set `[hidden] { display: none !important; }` so we also need the `!important` here to be able to override the default hidden behavior on the sphinx rendered scikit-learn.org. See: https://github.com/scikit-learn/scikit-learn/issues/21755 */display: inline-block !important;position: relative;}#sk-container-id-1 div.sk-text-repr-fallback {display: none;}</style><div id=\"sk-container-id-1\" class=\"sk-top-container\"><div class=\"sk-text-repr-fallback\"><pre>BernoulliNB()</pre><b>In a Jupyter environment, please rerun this cell to show the HTML representation or trust the notebook. <br />On GitHub, the HTML representation is unable to render, please try loading this page with nbviewer.org.</b></div><div class=\"sk-container\" hidden><div class=\"sk-item\"><div class=\"sk-estimator sk-toggleable\"><input class=\"sk-toggleable__control sk-hidden--visually\" id=\"sk-estimator-id-1\" type=\"checkbox\" checked><label for=\"sk-estimator-id-1\" class=\"sk-toggleable__label sk-toggleable__label-arrow\">BernoulliNB</label><div class=\"sk-toggleable__content\"><pre>BernoulliNB()</pre></div></div></div></div></div>"
      ],
      "text/plain": [
       "BernoulliNB()"
      ]
     },
     "execution_count": 169,
     "metadata": {},
     "output_type": "execute_result"
    }
   ],
   "source": [
    "g.fit(x,y)\n",
    "b.fit(x,y)"
   ]
  },
  {
   "cell_type": "code",
   "execution_count": 171,
   "id": "2dc566d2",
   "metadata": {},
   "outputs": [],
   "source": [
    "tahmin1=g.predict(x)\n",
    "tahmin2=b.predict(x)"
   ]
  },
  {
   "cell_type": "code",
   "execution_count": 172,
   "id": "8768cb18",
   "metadata": {},
   "outputs": [
    {
     "data": {
      "text/plain": [
       "1.0"
      ]
     },
     "execution_count": 172,
     "metadata": {},
     "output_type": "execute_result"
    }
   ],
   "source": [
    "accuracy_score(tahmin1,y)"
   ]
  },
  {
   "cell_type": "code",
   "execution_count": 173,
   "id": "72993f78",
   "metadata": {},
   "outputs": [
    {
     "data": {
      "text/plain": [
       "array([[ 58,   0,   0, ...,   0,   0,   0],\n",
       "       [  0, 113,   0, ...,   0,   0,   0],\n",
       "       [  0,   0, 156, ...,   0,   0,   0],\n",
       "       ...,\n",
       "       [  0,   0,   0, ...,  12,   0,   0],\n",
       "       [  0,   0,   0, ...,   0,   5,   0],\n",
       "       [  0,   0,   0, ...,   0,   0,   1]], dtype=int64)"
      ]
     },
     "execution_count": 173,
     "metadata": {},
     "output_type": "execute_result"
    }
   ],
   "source": [
    "confusion_matrix(tahmin1,y)\n"
   ]
  },
  {
   "cell_type": "code",
   "execution_count": 174,
   "id": "4a483e4f",
   "metadata": {
    "collapsed": true
   },
   "outputs": [
    {
     "name": "stdout",
     "output_type": "stream",
     "text": [
      "              precision    recall  f1-score   support\n",
      "\n",
      "        18.0       1.00      1.00      1.00        58\n",
      "        19.0       1.00      1.00      1.00       113\n",
      "        20.0       1.00      1.00      1.00       156\n",
      "        21.0       1.00      1.00      1.00       207\n",
      "        22.0       1.00      1.00      1.00       320\n",
      "        23.0       1.00      1.00      1.00       429\n",
      "        24.0       1.00      1.00      1.00       539\n",
      "        25.0       1.00      1.00      1.00       591\n",
      "        26.0       1.00      1.00      1.00       601\n",
      "        27.0       1.00      1.00      1.00       593\n",
      "        28.0       1.00      1.00      1.00       557\n",
      "        29.0       1.00      1.00      1.00       536\n",
      "        30.0       1.00      1.00      1.00       477\n",
      "        31.0       1.00      1.00      1.00       459\n",
      "        32.0       1.00      1.00      1.00       412\n",
      "        33.0       1.00      1.00      1.00       323\n",
      "        34.0       1.00      1.00      1.00       295\n",
      "        35.0       1.00      1.00      1.00       262\n",
      "        36.0       1.00      1.00      1.00       226\n",
      "        37.0       1.00      1.00      1.00       237\n",
      "        38.0       1.00      1.00      1.00       204\n",
      "        39.0       1.00      1.00      1.00       178\n",
      "        40.0       1.00      1.00      1.00       176\n",
      "        41.0       1.00      1.00      1.00       153\n",
      "        42.0       1.00      1.00      1.00       161\n",
      "        43.0       1.00      1.00      1.00       136\n",
      "        44.0       1.00      1.00      1.00       104\n",
      "        45.0       1.00      1.00      1.00        99\n",
      "        46.0       1.00      1.00      1.00        86\n",
      "        47.0       1.00      1.00      1.00        81\n",
      "        48.0       1.00      1.00      1.00        68\n",
      "        49.0       1.00      1.00      1.00        71\n",
      "        50.0       1.00      1.00      1.00        58\n",
      "        51.0       1.00      1.00      1.00        51\n",
      "        52.0       1.00      1.00      1.00        55\n",
      "        53.0       1.00      1.00      1.00        38\n",
      "        54.0       1.00      1.00      1.00        34\n",
      "        55.0       1.00      1.00      1.00        36\n",
      "        56.0       1.00      1.00      1.00        39\n",
      "        57.0       1.00      1.00      1.00        43\n",
      "        58.0       1.00      1.00      1.00        31\n",
      "        59.0       1.00      1.00      1.00        39\n",
      "        60.0       1.00      1.00      1.00        29\n",
      "        61.0       1.00      1.00      1.00        25\n",
      "        62.0       1.00      1.00      1.00        20\n",
      "        63.0       1.00      1.00      1.00        26\n",
      "        64.0       1.00      1.00      1.00        16\n",
      "        65.0       1.00      1.00      1.00        20\n",
      "        66.0       1.00      1.00      1.00        21\n",
      "        67.0       1.00      1.00      1.00         8\n",
      "        68.0       1.00      1.00      1.00        12\n",
      "        69.0       1.00      1.00      1.00         5\n",
      "       110.0       1.00      1.00      1.00         1\n",
      "\n",
      "    accuracy                           1.00      9515\n",
      "   macro avg       1.00      1.00      1.00      9515\n",
      "weighted avg       1.00      1.00      1.00      9515\n",
      "\n"
     ]
    }
   ],
   "source": [
    "print(classification_report(tahmin1,y))"
   ]
  },
  {
   "cell_type": "code",
   "execution_count": 175,
   "id": "11a5402b",
   "metadata": {},
   "outputs": [
    {
     "data": {
      "text/plain": [
       "0.1462953231739359"
      ]
     },
     "execution_count": 175,
     "metadata": {},
     "output_type": "execute_result"
    }
   ],
   "source": [
    "accuracy_score(tahmin2,y)"
   ]
  },
  {
   "cell_type": "code",
   "execution_count": 176,
   "id": "f34aaf5e",
   "metadata": {},
   "outputs": [
    {
     "data": {
      "text/plain": [
       "array([[ 5,  0,  1, ...,  0,  0,  0],\n",
       "       [ 7, 16,  9, ...,  0,  0,  0],\n",
       "       [ 4,  9, 26, ...,  0,  0,  0],\n",
       "       ...,\n",
       "       [ 0,  0,  0, ...,  0,  0,  0],\n",
       "       [ 0,  0,  0, ...,  0,  0,  0],\n",
       "       [ 0,  0,  0, ...,  0,  0,  0]], dtype=int64)"
      ]
     },
     "execution_count": 176,
     "metadata": {},
     "output_type": "execute_result"
    }
   ],
   "source": [
    "confusion_matrix(tahmin2,y)"
   ]
  },
  {
   "cell_type": "code",
   "execution_count": 177,
   "id": "10d7a790",
   "metadata": {
    "collapsed": true
   },
   "outputs": [
    {
     "name": "stdout",
     "output_type": "stream",
     "text": [
      "              precision    recall  f1-score   support\n",
      "\n",
      "        18.0       0.09      0.33      0.14        15\n",
      "        19.0       0.14      0.15      0.15       104\n",
      "        20.0       0.17      0.13      0.14       207\n",
      "        21.0       0.25      0.15      0.19       341\n",
      "        22.0       0.24      0.14      0.18       539\n",
      "        23.0       0.10      0.14      0.12       314\n",
      "        24.0       0.05      0.15      0.08       192\n",
      "        25.0       0.13      0.16      0.14       472\n",
      "        26.0       0.07      0.15      0.10       308\n",
      "        27.0       0.28      0.13      0.18      1258\n",
      "        28.0       0.22      0.14      0.17       880\n",
      "        29.0       0.13      0.14      0.14       485\n",
      "        30.0       0.05      0.19      0.07       118\n",
      "        31.0       0.06      0.19      0.09       147\n",
      "        32.0       0.25      0.15      0.19       674\n",
      "        33.0       0.53      0.15      0.23      1149\n",
      "        34.0       0.28      0.15      0.19       561\n",
      "        35.0       0.21      0.15      0.18       352\n",
      "        36.0       0.08      0.20      0.11        91\n",
      "        37.0       0.13      0.11      0.12       276\n",
      "        38.0       0.11      0.14      0.12       164\n",
      "        39.0       0.11      0.13      0.12       157\n",
      "        40.0       0.02      0.18      0.04        22\n",
      "        41.0       0.05      0.15      0.07        48\n",
      "        42.0       0.14      0.11      0.12       192\n",
      "        43.0       0.07      0.12      0.08        77\n",
      "        44.0       0.06      0.35      0.10        17\n",
      "        45.0       0.16      0.15      0.15       110\n",
      "        46.0       0.01      0.20      0.02         5\n",
      "        47.0       0.04      0.13      0.06        23\n",
      "        48.0       0.07      0.26      0.11        19\n",
      "        49.0       0.06      0.14      0.08        29\n",
      "        50.0       0.22      0.18      0.20        73\n",
      "        51.0       0.08      0.14      0.10        28\n",
      "        52.0       0.04      0.17      0.06        12\n",
      "        53.0       0.08      0.60      0.14         5\n",
      "        54.0       0.00      0.00      0.00         0\n",
      "        55.0       0.06      0.50      0.10         4\n",
      "        56.0       0.03      0.33      0.05         3\n",
      "        57.0       0.09      0.29      0.14        14\n",
      "        58.0       0.00      0.00      0.00         0\n",
      "        59.0       0.08      0.11      0.09        27\n",
      "        60.0       0.00      0.00      0.00         0\n",
      "        61.0       0.00      0.00      0.00         0\n",
      "        62.0       0.00      0.00      0.00         0\n",
      "        63.0       0.00      0.00      0.00         0\n",
      "        64.0       0.00      0.00      0.00         0\n",
      "        65.0       0.00      0.00      0.00         0\n",
      "        66.0       0.00      0.00      0.00         3\n",
      "        67.0       0.00      0.00      0.00         0\n",
      "        68.0       0.00      0.00      0.00         0\n",
      "        69.0       0.00      0.00      0.00         0\n",
      "       110.0       0.00      0.00      0.00         0\n",
      "\n",
      "    accuracy                           0.15      9515\n",
      "   macro avg       0.09      0.14      0.09      9515\n",
      "weighted avg       0.23      0.15      0.16      9515\n",
      "\n"
     ]
    }
   ],
   "source": [
    "print(classification_report(tahmin2,y))"
   ]
  },
  {
   "cell_type": "code",
   "execution_count": 178,
   "id": "8116d21e",
   "metadata": {},
   "outputs": [],
   "source": [
    "from sklearn.neighbors import KNeighborsClassifier\n",
    "k=KNeighborsClassifier()"
   ]
  },
  {
   "cell_type": "code",
   "execution_count": 180,
   "id": "795cd784",
   "metadata": {},
   "outputs": [
    {
     "data": {
      "text/html": [
       "<style>#sk-container-id-2 {color: black;background-color: white;}#sk-container-id-2 pre{padding: 0;}#sk-container-id-2 div.sk-toggleable {background-color: white;}#sk-container-id-2 label.sk-toggleable__label {cursor: pointer;display: block;width: 100%;margin-bottom: 0;padding: 0.3em;box-sizing: border-box;text-align: center;}#sk-container-id-2 label.sk-toggleable__label-arrow:before {content: \"▸\";float: left;margin-right: 0.25em;color: #696969;}#sk-container-id-2 label.sk-toggleable__label-arrow:hover:before {color: black;}#sk-container-id-2 div.sk-estimator:hover label.sk-toggleable__label-arrow:before {color: black;}#sk-container-id-2 div.sk-toggleable__content {max-height: 0;max-width: 0;overflow: hidden;text-align: left;background-color: #f0f8ff;}#sk-container-id-2 div.sk-toggleable__content pre {margin: 0.2em;color: black;border-radius: 0.25em;background-color: #f0f8ff;}#sk-container-id-2 input.sk-toggleable__control:checked~div.sk-toggleable__content {max-height: 200px;max-width: 100%;overflow: auto;}#sk-container-id-2 input.sk-toggleable__control:checked~label.sk-toggleable__label-arrow:before {content: \"▾\";}#sk-container-id-2 div.sk-estimator input.sk-toggleable__control:checked~label.sk-toggleable__label {background-color: #d4ebff;}#sk-container-id-2 div.sk-label input.sk-toggleable__control:checked~label.sk-toggleable__label {background-color: #d4ebff;}#sk-container-id-2 input.sk-hidden--visually {border: 0;clip: rect(1px 1px 1px 1px);clip: rect(1px, 1px, 1px, 1px);height: 1px;margin: -1px;overflow: hidden;padding: 0;position: absolute;width: 1px;}#sk-container-id-2 div.sk-estimator {font-family: monospace;background-color: #f0f8ff;border: 1px dotted black;border-radius: 0.25em;box-sizing: border-box;margin-bottom: 0.5em;}#sk-container-id-2 div.sk-estimator:hover {background-color: #d4ebff;}#sk-container-id-2 div.sk-parallel-item::after {content: \"\";width: 100%;border-bottom: 1px solid gray;flex-grow: 1;}#sk-container-id-2 div.sk-label:hover label.sk-toggleable__label {background-color: #d4ebff;}#sk-container-id-2 div.sk-serial::before {content: \"\";position: absolute;border-left: 1px solid gray;box-sizing: border-box;top: 0;bottom: 0;left: 50%;z-index: 0;}#sk-container-id-2 div.sk-serial {display: flex;flex-direction: column;align-items: center;background-color: white;padding-right: 0.2em;padding-left: 0.2em;position: relative;}#sk-container-id-2 div.sk-item {position: relative;z-index: 1;}#sk-container-id-2 div.sk-parallel {display: flex;align-items: stretch;justify-content: center;background-color: white;position: relative;}#sk-container-id-2 div.sk-item::before, #sk-container-id-2 div.sk-parallel-item::before {content: \"\";position: absolute;border-left: 1px solid gray;box-sizing: border-box;top: 0;bottom: 0;left: 50%;z-index: -1;}#sk-container-id-2 div.sk-parallel-item {display: flex;flex-direction: column;z-index: 1;position: relative;background-color: white;}#sk-container-id-2 div.sk-parallel-item:first-child::after {align-self: flex-end;width: 50%;}#sk-container-id-2 div.sk-parallel-item:last-child::after {align-self: flex-start;width: 50%;}#sk-container-id-2 div.sk-parallel-item:only-child::after {width: 0;}#sk-container-id-2 div.sk-dashed-wrapped {border: 1px dashed gray;margin: 0 0.4em 0.5em 0.4em;box-sizing: border-box;padding-bottom: 0.4em;background-color: white;}#sk-container-id-2 div.sk-label label {font-family: monospace;font-weight: bold;display: inline-block;line-height: 1.2em;}#sk-container-id-2 div.sk-label-container {text-align: center;}#sk-container-id-2 div.sk-container {/* jupyter's `normalize.less` sets `[hidden] { display: none; }` but bootstrap.min.css set `[hidden] { display: none !important; }` so we also need the `!important` here to be able to override the default hidden behavior on the sphinx rendered scikit-learn.org. See: https://github.com/scikit-learn/scikit-learn/issues/21755 */display: inline-block !important;position: relative;}#sk-container-id-2 div.sk-text-repr-fallback {display: none;}</style><div id=\"sk-container-id-2\" class=\"sk-top-container\"><div class=\"sk-text-repr-fallback\"><pre>KNeighborsClassifier()</pre><b>In a Jupyter environment, please rerun this cell to show the HTML representation or trust the notebook. <br />On GitHub, the HTML representation is unable to render, please try loading this page with nbviewer.org.</b></div><div class=\"sk-container\" hidden><div class=\"sk-item\"><div class=\"sk-estimator sk-toggleable\"><input class=\"sk-toggleable__control sk-hidden--visually\" id=\"sk-estimator-id-2\" type=\"checkbox\" checked><label for=\"sk-estimator-id-2\" class=\"sk-toggleable__label sk-toggleable__label-arrow\">KNeighborsClassifier</label><div class=\"sk-toggleable__content\"><pre>KNeighborsClassifier()</pre></div></div></div></div></div>"
      ],
      "text/plain": [
       "KNeighborsClassifier()"
      ]
     },
     "execution_count": 180,
     "metadata": {},
     "output_type": "execute_result"
    }
   ],
   "source": [
    "k.fit(x,y)"
   ]
  },
  {
   "cell_type": "code",
   "execution_count": 181,
   "id": "9afb6b4a",
   "metadata": {},
   "outputs": [],
   "source": [
    "tahmin3=k.predict(x)"
   ]
  },
  {
   "cell_type": "code",
   "execution_count": 182,
   "id": "1a5df632",
   "metadata": {},
   "outputs": [
    {
     "data": {
      "text/plain": [
       "0.9965317919075144"
      ]
     },
     "execution_count": 182,
     "metadata": {},
     "output_type": "execute_result"
    }
   ],
   "source": [
    "accuracy_score(tahmin3,y)"
   ]
  },
  {
   "cell_type": "code",
   "execution_count": 183,
   "id": "f1da4f0b",
   "metadata": {},
   "outputs": [
    {
     "data": {
      "text/plain": [
       "array([[ 56,   0,   0, ...,   0,   0,   0],\n",
       "       [  2, 113,   0, ...,   0,   0,   0],\n",
       "       [  0,   0, 156, ...,   0,   0,   0],\n",
       "       ...,\n",
       "       [  0,   0,   0, ...,  12,   5,   0],\n",
       "       [  0,   0,   0, ...,   0,   0,   1],\n",
       "       [  0,   0,   0, ...,   0,   0,   0]], dtype=int64)"
      ]
     },
     "execution_count": 183,
     "metadata": {},
     "output_type": "execute_result"
    }
   ],
   "source": [
    "confusion_matrix(tahmin3,y)"
   ]
  },
  {
   "cell_type": "code",
   "execution_count": 187,
   "id": "5c5a9868",
   "metadata": {
    "collapsed": true
   },
   "outputs": [
    {
     "name": "stdout",
     "output_type": "stream",
     "text": [
      "              precision    recall  f1-score   support\n",
      "\n",
      "        18.0       0.97      1.00      0.98        56\n",
      "        19.0       1.00      0.98      0.99       115\n",
      "        20.0       1.00      1.00      1.00       156\n",
      "        21.0       1.00      1.00      1.00       207\n",
      "        22.0       1.00      1.00      1.00       320\n",
      "        23.0       1.00      1.00      1.00       429\n",
      "        24.0       1.00      1.00      1.00       539\n",
      "        25.0       1.00      1.00      1.00       591\n",
      "        26.0       1.00      1.00      1.00       602\n",
      "        27.0       1.00      1.00      1.00       592\n",
      "        28.0       1.00      1.00      1.00       557\n",
      "        29.0       1.00      1.00      1.00       536\n",
      "        30.0       1.00      1.00      1.00       478\n",
      "        31.0       1.00      1.00      1.00       458\n",
      "        32.0       1.00      1.00      1.00       412\n",
      "        33.0       1.00      1.00      1.00       323\n",
      "        34.0       1.00      0.99      1.00       297\n",
      "        35.0       0.99      1.00      0.99       261\n",
      "        36.0       1.00      1.00      1.00       225\n",
      "        37.0       1.00      1.00      1.00       237\n",
      "        38.0       1.00      1.00      1.00       204\n",
      "        39.0       1.00      1.00      1.00       178\n",
      "        40.0       1.00      1.00      1.00       176\n",
      "        41.0       1.00      1.00      1.00       153\n",
      "        42.0       1.00      1.00      1.00       161\n",
      "        43.0       1.00      0.99      0.99       138\n",
      "        44.0       0.98      1.00      0.99       102\n",
      "        45.0       1.00      1.00      1.00        99\n",
      "        46.0       1.00      1.00      1.00        86\n",
      "        47.0       1.00      1.00      1.00        81\n",
      "        48.0       0.99      0.97      0.98        69\n",
      "        49.0       0.97      0.96      0.97        72\n",
      "        50.0       0.97      0.98      0.97        57\n",
      "        51.0       0.98      0.98      0.98        51\n",
      "        52.0       0.98      0.95      0.96        57\n",
      "        53.0       0.92      0.97      0.95        36\n",
      "        54.0       0.97      0.97      0.97        34\n",
      "        55.0       0.97      1.00      0.99        35\n",
      "        56.0       1.00      1.00      1.00        39\n",
      "        57.0       0.98      0.98      0.98        43\n",
      "        58.0       0.97      0.94      0.95        32\n",
      "        59.0       0.97      0.97      0.97        39\n",
      "        60.0       0.97      1.00      0.98        28\n",
      "        61.0       1.00      1.00      1.00        25\n",
      "        62.0       1.00      1.00      1.00        20\n",
      "        63.0       1.00      0.96      0.98        27\n",
      "        64.0       0.94      1.00      0.97        15\n",
      "        65.0       1.00      0.95      0.98        21\n",
      "        66.0       0.95      1.00      0.98        20\n",
      "        67.0       1.00      1.00      1.00         8\n",
      "        68.0       1.00      0.71      0.83        17\n",
      "        69.0       0.00      0.00      0.00         1\n",
      "       110.0       0.00      0.00      0.00         0\n",
      "\n",
      "    accuracy                           1.00      9515\n",
      "   macro avg       0.95      0.95      0.95      9515\n",
      "weighted avg       1.00      1.00      1.00      9515\n",
      "\n"
     ]
    }
   ],
   "source": [
    "print(classification_report(tahmin3,y))"
   ]
  },
  {
   "cell_type": "code",
   "execution_count": 188,
   "id": "0627d409",
   "metadata": {},
   "outputs": [],
   "source": [
    "from sklearn.svm import SVC\n",
    "svc=SVC()"
   ]
  },
  {
   "cell_type": "code",
   "execution_count": 189,
   "id": "15b4ddbb",
   "metadata": {},
   "outputs": [
    {
     "data": {
      "text/html": [
       "<style>#sk-container-id-3 {color: black;background-color: white;}#sk-container-id-3 pre{padding: 0;}#sk-container-id-3 div.sk-toggleable {background-color: white;}#sk-container-id-3 label.sk-toggleable__label {cursor: pointer;display: block;width: 100%;margin-bottom: 0;padding: 0.3em;box-sizing: border-box;text-align: center;}#sk-container-id-3 label.sk-toggleable__label-arrow:before {content: \"▸\";float: left;margin-right: 0.25em;color: #696969;}#sk-container-id-3 label.sk-toggleable__label-arrow:hover:before {color: black;}#sk-container-id-3 div.sk-estimator:hover label.sk-toggleable__label-arrow:before {color: black;}#sk-container-id-3 div.sk-toggleable__content {max-height: 0;max-width: 0;overflow: hidden;text-align: left;background-color: #f0f8ff;}#sk-container-id-3 div.sk-toggleable__content pre {margin: 0.2em;color: black;border-radius: 0.25em;background-color: #f0f8ff;}#sk-container-id-3 input.sk-toggleable__control:checked~div.sk-toggleable__content {max-height: 200px;max-width: 100%;overflow: auto;}#sk-container-id-3 input.sk-toggleable__control:checked~label.sk-toggleable__label-arrow:before {content: \"▾\";}#sk-container-id-3 div.sk-estimator input.sk-toggleable__control:checked~label.sk-toggleable__label {background-color: #d4ebff;}#sk-container-id-3 div.sk-label input.sk-toggleable__control:checked~label.sk-toggleable__label {background-color: #d4ebff;}#sk-container-id-3 input.sk-hidden--visually {border: 0;clip: rect(1px 1px 1px 1px);clip: rect(1px, 1px, 1px, 1px);height: 1px;margin: -1px;overflow: hidden;padding: 0;position: absolute;width: 1px;}#sk-container-id-3 div.sk-estimator {font-family: monospace;background-color: #f0f8ff;border: 1px dotted black;border-radius: 0.25em;box-sizing: border-box;margin-bottom: 0.5em;}#sk-container-id-3 div.sk-estimator:hover {background-color: #d4ebff;}#sk-container-id-3 div.sk-parallel-item::after {content: \"\";width: 100%;border-bottom: 1px solid gray;flex-grow: 1;}#sk-container-id-3 div.sk-label:hover label.sk-toggleable__label {background-color: #d4ebff;}#sk-container-id-3 div.sk-serial::before {content: \"\";position: absolute;border-left: 1px solid gray;box-sizing: border-box;top: 0;bottom: 0;left: 50%;z-index: 0;}#sk-container-id-3 div.sk-serial {display: flex;flex-direction: column;align-items: center;background-color: white;padding-right: 0.2em;padding-left: 0.2em;position: relative;}#sk-container-id-3 div.sk-item {position: relative;z-index: 1;}#sk-container-id-3 div.sk-parallel {display: flex;align-items: stretch;justify-content: center;background-color: white;position: relative;}#sk-container-id-3 div.sk-item::before, #sk-container-id-3 div.sk-parallel-item::before {content: \"\";position: absolute;border-left: 1px solid gray;box-sizing: border-box;top: 0;bottom: 0;left: 50%;z-index: -1;}#sk-container-id-3 div.sk-parallel-item {display: flex;flex-direction: column;z-index: 1;position: relative;background-color: white;}#sk-container-id-3 div.sk-parallel-item:first-child::after {align-self: flex-end;width: 50%;}#sk-container-id-3 div.sk-parallel-item:last-child::after {align-self: flex-start;width: 50%;}#sk-container-id-3 div.sk-parallel-item:only-child::after {width: 0;}#sk-container-id-3 div.sk-dashed-wrapped {border: 1px dashed gray;margin: 0 0.4em 0.5em 0.4em;box-sizing: border-box;padding-bottom: 0.4em;background-color: white;}#sk-container-id-3 div.sk-label label {font-family: monospace;font-weight: bold;display: inline-block;line-height: 1.2em;}#sk-container-id-3 div.sk-label-container {text-align: center;}#sk-container-id-3 div.sk-container {/* jupyter's `normalize.less` sets `[hidden] { display: none; }` but bootstrap.min.css set `[hidden] { display: none !important; }` so we also need the `!important` here to be able to override the default hidden behavior on the sphinx rendered scikit-learn.org. See: https://github.com/scikit-learn/scikit-learn/issues/21755 */display: inline-block !important;position: relative;}#sk-container-id-3 div.sk-text-repr-fallback {display: none;}</style><div id=\"sk-container-id-3\" class=\"sk-top-container\"><div class=\"sk-text-repr-fallback\"><pre>SVC()</pre><b>In a Jupyter environment, please rerun this cell to show the HTML representation or trust the notebook. <br />On GitHub, the HTML representation is unable to render, please try loading this page with nbviewer.org.</b></div><div class=\"sk-container\" hidden><div class=\"sk-item\"><div class=\"sk-estimator sk-toggleable\"><input class=\"sk-toggleable__control sk-hidden--visually\" id=\"sk-estimator-id-3\" type=\"checkbox\" checked><label for=\"sk-estimator-id-3\" class=\"sk-toggleable__label sk-toggleable__label-arrow\">SVC</label><div class=\"sk-toggleable__content\"><pre>SVC()</pre></div></div></div></div></div>"
      ],
      "text/plain": [
       "SVC()"
      ]
     },
     "execution_count": 189,
     "metadata": {},
     "output_type": "execute_result"
    }
   ],
   "source": [
    "svc.fit(x,y)"
   ]
  },
  {
   "cell_type": "code",
   "execution_count": 191,
   "id": "fec1b91e",
   "metadata": {},
   "outputs": [],
   "source": [
    "tahmin4=svc.predict(x)"
   ]
  },
  {
   "cell_type": "code",
   "execution_count": 193,
   "id": "d8a119bd",
   "metadata": {},
   "outputs": [
    {
     "data": {
      "text/plain": [
       "0.33610089332632687"
      ]
     },
     "execution_count": 193,
     "metadata": {},
     "output_type": "execute_result"
    }
   ],
   "source": [
    "accuracy_score(tahmin4,y)"
   ]
  },
  {
   "cell_type": "code",
   "execution_count": 194,
   "id": "8a019970",
   "metadata": {},
   "outputs": [
    {
     "data": {
      "text/plain": [
       "array([[ 56,   0,   0, ...,   0,   0,   0],\n",
       "       [  2, 113,   0, ...,   0,   0,   0],\n",
       "       [  0,   0, 156, ...,   0,   0,   0],\n",
       "       ...,\n",
       "       [  0,   0,   0, ...,  12,   5,   0],\n",
       "       [  0,   0,   0, ...,   0,   0,   1],\n",
       "       [  0,   0,   0, ...,   0,   0,   0]], dtype=int64)"
      ]
     },
     "execution_count": 194,
     "metadata": {},
     "output_type": "execute_result"
    }
   ],
   "source": [
    "confusion_matrix(tahmin3,y)"
   ]
  },
  {
   "cell_type": "code",
   "execution_count": null,
   "id": "746c2296",
   "metadata": {},
   "outputs": [],
   "source": []
  }
 ],
 "metadata": {
  "kernelspec": {
   "display_name": "Python 3 (ipykernel)",
   "language": "python",
   "name": "python3"
  },
  "language_info": {
   "codemirror_mode": {
    "name": "ipython",
    "version": 3
   },
   "file_extension": ".py",
   "mimetype": "text/x-python",
   "name": "python",
   "nbconvert_exporter": "python",
   "pygments_lexer": "ipython3",
   "version": "3.9.12"
  }
 },
 "nbformat": 4,
 "nbformat_minor": 5
}
