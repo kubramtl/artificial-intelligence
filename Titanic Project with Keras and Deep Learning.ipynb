{
 "cells": [
  {
   "cell_type": "markdown",
   "id": "7a9565c8",
   "metadata": {},
   "source": [
    "### Deep Learning ile Makine Öğrenmesi 1-Classification 2- Regression 3 - Clustering"
   ]
  },
  {
   "cell_type": "markdown",
   "id": "9f8791d7",
   "metadata": {},
   "source": [
    "# 1 - Classification"
   ]
  },
  {
   "cell_type": "code",
   "execution_count": 43,
   "id": "8bceaf07",
   "metadata": {
    "scrolled": true
   },
   "outputs": [
    {
     "name": "stdout",
     "output_type": "stream",
     "text": [
      "Requirement already satisfied: tensorflow in c:\\users\\kubra\\anaconda\\lib\\site-packages (2.10.0)\n",
      "Requirement already satisfied: packaging in c:\\users\\kubra\\anaconda\\lib\\site-packages (from tensorflow) (21.3)\n",
      "Requirement already satisfied: protobuf<3.20,>=3.9.2 in c:\\users\\kubra\\anaconda\\lib\\site-packages (from tensorflow) (3.19.1)\n",
      "Requirement already satisfied: setuptools in c:\\users\\kubra\\anaconda\\lib\\site-packages (from tensorflow) (61.2.0)\n",
      "Requirement already satisfied: tensorflow-io-gcs-filesystem>=0.23.1 in c:\\users\\kubra\\anaconda\\lib\\site-packages (from tensorflow) (0.27.0)\n",
      "Requirement already satisfied: six>=1.12.0 in c:\\users\\kubra\\anaconda\\lib\\site-packages (from tensorflow) (1.16.0)\n",
      "Requirement already satisfied: gast<=0.4.0,>=0.2.1 in c:\\users\\kubra\\anaconda\\lib\\site-packages (from tensorflow) (0.4.0)\n",
      "Requirement already satisfied: libclang>=13.0.0 in c:\\users\\kubra\\anaconda\\lib\\site-packages (from tensorflow) (14.0.6)\n",
      "Requirement already satisfied: typing-extensions>=3.6.6 in c:\\users\\kubra\\anaconda\\lib\\site-packages (from tensorflow) (4.1.1)\n",
      "Requirement already satisfied: keras-preprocessing>=1.1.1 in c:\\users\\kubra\\anaconda\\lib\\site-packages (from tensorflow) (1.1.2)\n",
      "Requirement already satisfied: wrapt>=1.11.0 in c:\\users\\kubra\\appdata\\roaming\\python\\python39\\site-packages (from tensorflow) (1.12.1)\n",
      "Requirement already satisfied: keras<2.11,>=2.10.0 in c:\\users\\kubra\\anaconda\\lib\\site-packages (from tensorflow) (2.10.0)\n",
      "Requirement already satisfied: google-pasta>=0.1.1 in c:\\users\\kubra\\anaconda\\lib\\site-packages (from tensorflow) (0.2.0)\n",
      "Requirement already satisfied: flatbuffers>=2.0 in c:\\users\\kubra\\anaconda\\lib\\site-packages (from tensorflow) (22.9.24)\n",
      "Requirement already satisfied: tensorboard<2.11,>=2.10 in c:\\users\\kubra\\anaconda\\lib\\site-packages (from tensorflow) (2.10.1)\n",
      "Requirement already satisfied: tensorflow-estimator<2.11,>=2.10.0 in c:\\users\\kubra\\anaconda\\lib\\site-packages (from tensorflow) (2.10.0)\n",
      "Requirement already satisfied: absl-py>=1.0.0 in c:\\users\\kubra\\anaconda\\lib\\site-packages (from tensorflow) (1.3.0)\n",
      "Requirement already satisfied: astunparse>=1.6.0 in c:\\users\\kubra\\anaconda\\lib\\site-packages (from tensorflow) (1.6.3)\n",
      "Requirement already satisfied: h5py>=2.9.0 in c:\\users\\kubra\\anaconda\\lib\\site-packages (from tensorflow) (3.6.0)\n",
      "Requirement already satisfied: grpcio<2.0,>=1.24.3 in c:\\users\\kubra\\anaconda\\lib\\site-packages (from tensorflow) (1.42.0)\n",
      "Requirement already satisfied: termcolor>=1.1.0 in c:\\users\\kubra\\anaconda\\lib\\site-packages (from tensorflow) (2.0.1)\n",
      "Requirement already satisfied: opt-einsum>=2.3.2 in c:\\users\\kubra\\anaconda\\lib\\site-packages (from tensorflow) (3.3.0)\n",
      "Requirement already satisfied: numpy>=1.20 in c:\\users\\kubra\\anaconda\\lib\\site-packages (from tensorflow) (1.21.5)\n",
      "Requirement already satisfied: wheel<1.0,>=0.23.0 in c:\\users\\kubra\\anaconda\\lib\\site-packages (from astunparse>=1.6.0->tensorflow) (0.37.1)\n",
      "Requirement already satisfied: tensorboard-data-server<0.7.0,>=0.6.0 in c:\\users\\kubra\\anaconda\\lib\\site-packages (from tensorboard<2.11,>=2.10->tensorflow) (0.6.1)\n",
      "Requirement already satisfied: google-auth<3,>=1.6.3 in c:\\users\\kubra\\anaconda\\lib\\site-packages (from tensorboard<2.11,>=2.10->tensorflow) (1.33.0)\n",
      "Requirement already satisfied: requests<3,>=2.21.0 in c:\\users\\kubra\\anaconda\\lib\\site-packages (from tensorboard<2.11,>=2.10->tensorflow) (2.27.1)\n",
      "Requirement already satisfied: google-auth-oauthlib<0.5,>=0.4.1 in c:\\users\\kubra\\anaconda\\lib\\site-packages (from tensorboard<2.11,>=2.10->tensorflow) (0.4.6)\n",
      "Requirement already satisfied: tensorboard-plugin-wit>=1.6.0 in c:\\users\\kubra\\anaconda\\lib\\site-packages (from tensorboard<2.11,>=2.10->tensorflow) (1.8.1)\n",
      "Requirement already satisfied: werkzeug>=1.0.1 in c:\\users\\kubra\\anaconda\\lib\\site-packages (from tensorboard<2.11,>=2.10->tensorflow) (2.0.3)\n",
      "Requirement already satisfied: markdown>=2.6.8 in c:\\users\\kubra\\anaconda\\lib\\site-packages (from tensorboard<2.11,>=2.10->tensorflow) (3.3.4)\n",
      "Requirement already satisfied: rsa<5,>=3.1.4 in c:\\users\\kubra\\anaconda\\lib\\site-packages (from google-auth<3,>=1.6.3->tensorboard<2.11,>=2.10->tensorflow) (4.7.2)\n",
      "Requirement already satisfied: cachetools<5.0,>=2.0.0 in c:\\users\\kubra\\anaconda\\lib\\site-packages (from google-auth<3,>=1.6.3->tensorboard<2.11,>=2.10->tensorflow) (4.2.2)\n",
      "Requirement already satisfied: pyasn1-modules>=0.2.1 in c:\\users\\kubra\\anaconda\\lib\\site-packages (from google-auth<3,>=1.6.3->tensorboard<2.11,>=2.10->tensorflow) (0.2.8)\n",
      "Requirement already satisfied: requests-oauthlib>=0.7.0 in c:\\users\\kubra\\anaconda\\lib\\site-packages (from google-auth-oauthlib<0.5,>=0.4.1->tensorboard<2.11,>=2.10->tensorflow) (1.3.1)\n",
      "Requirement already satisfied: pyasn1<0.5.0,>=0.4.6 in c:\\users\\kubra\\anaconda\\lib\\site-packages (from pyasn1-modules>=0.2.1->google-auth<3,>=1.6.3->tensorboard<2.11,>=2.10->tensorflow) (0.4.8)\n",
      "Requirement already satisfied: certifi>=2017.4.17 in c:\\users\\kubra\\anaconda\\lib\\site-packages (from requests<3,>=2.21.0->tensorboard<2.11,>=2.10->tensorflow) (2021.10.8)\n",
      "Requirement already satisfied: charset-normalizer~=2.0.0 in c:\\users\\kubra\\anaconda\\lib\\site-packages (from requests<3,>=2.21.0->tensorboard<2.11,>=2.10->tensorflow) (2.0.4)\n",
      "Requirement already satisfied: urllib3<1.27,>=1.21.1 in c:\\users\\kubra\\anaconda\\lib\\site-packages (from requests<3,>=2.21.0->tensorboard<2.11,>=2.10->tensorflow) (1.26.9)\n",
      "Requirement already satisfied: idna<4,>=2.5 in c:\\users\\kubra\\anaconda\\lib\\site-packages (from requests<3,>=2.21.0->tensorboard<2.11,>=2.10->tensorflow) (3.3)\n",
      "Requirement already satisfied: oauthlib>=3.0.0 in c:\\users\\kubra\\anaconda\\lib\\site-packages (from requests-oauthlib>=0.7.0->google-auth-oauthlib<0.5,>=0.4.1->tensorboard<2.11,>=2.10->tensorflow) (3.2.2)\n",
      "Requirement already satisfied: pyparsing!=3.0.5,>=2.0.2 in c:\\users\\kubra\\anaconda\\lib\\site-packages (from packaging->tensorflow) (3.0.4)\n",
      "Requirement already satisfied: keras in c:\\users\\kubra\\anaconda\\lib\\site-packages (2.10.0)\n"
     ]
    }
   ],
   "source": [
    "!pip install tensorflow\n",
    "!pip install keras"
   ]
  },
  {
   "cell_type": "code",
   "execution_count": 44,
   "id": "f2684e80",
   "metadata": {},
   "outputs": [],
   "source": [
    "import pandas as pd\n",
    "import numpy as np\n",
    "import tensorflow as tf\n",
    "import matplotlib.pyplot as plt\n",
    "import seaborn as sns"
   ]
  },
  {
   "cell_type": "code",
   "execution_count": 45,
   "id": "66f01b21",
   "metadata": {},
   "outputs": [],
   "source": [
    "from tensorflow.keras.models import Sequential\n",
    "from tensorflow.keras.layers import Dense #bütün neronları birbirine bağlar"
   ]
  },
  {
   "cell_type": "code",
   "execution_count": 4,
   "id": "260b0912",
   "metadata": {},
   "outputs": [],
   "source": [
    "df1=pd.read_csv(\"ttrain.csv\")"
   ]
  },
  {
   "cell_type": "code",
   "execution_count": 5,
   "id": "117a4065",
   "metadata": {},
   "outputs": [],
   "source": [
    "df2=pd.read_csv(\"ttest.csv\")"
   ]
  },
  {
   "cell_type": "code",
   "execution_count": 6,
   "id": "774af649",
   "metadata": {},
   "outputs": [
    {
     "name": "stderr",
     "output_type": "stream",
     "text": [
      "C:\\Users\\kubra\\AppData\\Local\\Temp\\ipykernel_12016\\2456558213.py:1: FutureWarning: The frame.append method is deprecated and will be removed from pandas in a future version. Use pandas.concat instead.\n",
      "  df=df1.append(df2)\n"
     ]
    }
   ],
   "source": [
    "df=df1.append(df2)"
   ]
  },
  {
   "cell_type": "code",
   "execution_count": 7,
   "id": "e14e6571",
   "metadata": {},
   "outputs": [
    {
     "data": {
      "text/html": [
       "<div>\n",
       "<style scoped>\n",
       "    .dataframe tbody tr th:only-of-type {\n",
       "        vertical-align: middle;\n",
       "    }\n",
       "\n",
       "    .dataframe tbody tr th {\n",
       "        vertical-align: top;\n",
       "    }\n",
       "\n",
       "    .dataframe thead th {\n",
       "        text-align: right;\n",
       "    }\n",
       "</style>\n",
       "<table border=\"1\" class=\"dataframe\">\n",
       "  <thead>\n",
       "    <tr style=\"text-align: right;\">\n",
       "      <th></th>\n",
       "      <th>PassengerId</th>\n",
       "      <th>Survived</th>\n",
       "      <th>Pclass</th>\n",
       "      <th>Name</th>\n",
       "      <th>Sex</th>\n",
       "      <th>Age</th>\n",
       "      <th>SibSp</th>\n",
       "      <th>Parch</th>\n",
       "      <th>Ticket</th>\n",
       "      <th>Fare</th>\n",
       "      <th>Cabin</th>\n",
       "      <th>Embarked</th>\n",
       "    </tr>\n",
       "  </thead>\n",
       "  <tbody>\n",
       "    <tr>\n",
       "      <th>475</th>\n",
       "      <td>476</td>\n",
       "      <td>0.0</td>\n",
       "      <td>1</td>\n",
       "      <td>Clifford, Mr. George Quincy</td>\n",
       "      <td>male</td>\n",
       "      <td>NaN</td>\n",
       "      <td>0</td>\n",
       "      <td>0</td>\n",
       "      <td>110465</td>\n",
       "      <td>52.0000</td>\n",
       "      <td>A14</td>\n",
       "      <td>S</td>\n",
       "    </tr>\n",
       "    <tr>\n",
       "      <th>165</th>\n",
       "      <td>166</td>\n",
       "      <td>1.0</td>\n",
       "      <td>3</td>\n",
       "      <td>Goldsmith, Master. Frank John William \"Frankie\"</td>\n",
       "      <td>male</td>\n",
       "      <td>9.0</td>\n",
       "      <td>0</td>\n",
       "      <td>2</td>\n",
       "      <td>363291</td>\n",
       "      <td>20.5250</td>\n",
       "      <td>NaN</td>\n",
       "      <td>S</td>\n",
       "    </tr>\n",
       "    <tr>\n",
       "      <th>564</th>\n",
       "      <td>565</td>\n",
       "      <td>0.0</td>\n",
       "      <td>3</td>\n",
       "      <td>Meanwell, Miss. (Marion Ogden)</td>\n",
       "      <td>female</td>\n",
       "      <td>NaN</td>\n",
       "      <td>0</td>\n",
       "      <td>0</td>\n",
       "      <td>SOTON/O.Q. 392087</td>\n",
       "      <td>8.0500</td>\n",
       "      <td>NaN</td>\n",
       "      <td>S</td>\n",
       "    </tr>\n",
       "    <tr>\n",
       "      <th>503</th>\n",
       "      <td>504</td>\n",
       "      <td>0.0</td>\n",
       "      <td>3</td>\n",
       "      <td>Laitinen, Miss. Kristina Sofia</td>\n",
       "      <td>female</td>\n",
       "      <td>37.0</td>\n",
       "      <td>0</td>\n",
       "      <td>0</td>\n",
       "      <td>4135</td>\n",
       "      <td>9.5875</td>\n",
       "      <td>NaN</td>\n",
       "      <td>S</td>\n",
       "    </tr>\n",
       "    <tr>\n",
       "      <th>366</th>\n",
       "      <td>367</td>\n",
       "      <td>1.0</td>\n",
       "      <td>1</td>\n",
       "      <td>Warren, Mrs. Frank Manley (Anna Sophia Atkinson)</td>\n",
       "      <td>female</td>\n",
       "      <td>60.0</td>\n",
       "      <td>1</td>\n",
       "      <td>0</td>\n",
       "      <td>110813</td>\n",
       "      <td>75.2500</td>\n",
       "      <td>D37</td>\n",
       "      <td>C</td>\n",
       "    </tr>\n",
       "  </tbody>\n",
       "</table>\n",
       "</div>"
      ],
      "text/plain": [
       "     PassengerId  Survived  Pclass  \\\n",
       "475          476       0.0       1   \n",
       "165          166       1.0       3   \n",
       "564          565       0.0       3   \n",
       "503          504       0.0       3   \n",
       "366          367       1.0       1   \n",
       "\n",
       "                                                 Name     Sex   Age  SibSp  \\\n",
       "475                       Clifford, Mr. George Quincy    male   NaN      0   \n",
       "165   Goldsmith, Master. Frank John William \"Frankie\"    male   9.0      0   \n",
       "564                    Meanwell, Miss. (Marion Ogden)  female   NaN      0   \n",
       "503                    Laitinen, Miss. Kristina Sofia  female  37.0      0   \n",
       "366  Warren, Mrs. Frank Manley (Anna Sophia Atkinson)  female  60.0      1   \n",
       "\n",
       "     Parch             Ticket     Fare Cabin Embarked  \n",
       "475      0             110465  52.0000   A14        S  \n",
       "165      2             363291  20.5250   NaN        S  \n",
       "564      0  SOTON/O.Q. 392087   8.0500   NaN        S  \n",
       "503      0               4135   9.5875   NaN        S  \n",
       "366      0             110813  75.2500   D37        C  "
      ]
     },
     "execution_count": 7,
     "metadata": {},
     "output_type": "execute_result"
    }
   ],
   "source": [
    "df.sample(5)"
   ]
  },
  {
   "cell_type": "code",
   "execution_count": 8,
   "id": "b79c0d30",
   "metadata": {},
   "outputs": [
    {
     "data": {
      "text/plain": [
       "(1309, 12)"
      ]
     },
     "execution_count": 8,
     "metadata": {},
     "output_type": "execute_result"
    }
   ],
   "source": [
    "df.shape"
   ]
  },
  {
   "cell_type": "code",
   "execution_count": 9,
   "id": "c52373c3",
   "metadata": {},
   "outputs": [
    {
     "data": {
      "text/plain": [
       "PassengerId       0\n",
       "Survived        418\n",
       "Pclass            0\n",
       "Name              0\n",
       "Sex               0\n",
       "Age             263\n",
       "SibSp             0\n",
       "Parch             0\n",
       "Ticket            0\n",
       "Fare              1\n",
       "Cabin          1014\n",
       "Embarked          2\n",
       "dtype: int64"
      ]
     },
     "execution_count": 9,
     "metadata": {},
     "output_type": "execute_result"
    }
   ],
   "source": [
    "df.isnull().sum()"
   ]
  },
  {
   "cell_type": "code",
   "execution_count": 10,
   "id": "1d655ae1",
   "metadata": {},
   "outputs": [],
   "source": [
    "del df[\"Cabin\"]"
   ]
  },
  {
   "cell_type": "code",
   "execution_count": 11,
   "id": "93ddf2c2",
   "metadata": {},
   "outputs": [],
   "source": [
    "df[\"Fare\"].fillna(df[\"Fare\"].mode()[0],inplace=True)"
   ]
  },
  {
   "cell_type": "code",
   "execution_count": 12,
   "id": "3f26b83f",
   "metadata": {},
   "outputs": [
    {
     "data": {
      "text/plain": [
       "S    914\n",
       "C    270\n",
       "Q    123\n",
       "Name: Embarked, dtype: int64"
      ]
     },
     "execution_count": 12,
     "metadata": {},
     "output_type": "execute_result"
    }
   ],
   "source": [
    "df[\"Embarked\"].value_counts()"
   ]
  },
  {
   "cell_type": "code",
   "execution_count": 13,
   "id": "02a04693",
   "metadata": {},
   "outputs": [],
   "source": [
    "df[\"Embarked\"].fillna(\"S\",inplace=True)"
   ]
  },
  {
   "cell_type": "code",
   "execution_count": 14,
   "id": "64d96715",
   "metadata": {},
   "outputs": [],
   "source": [
    "df[\"Age\"].fillna(df[\"Age\"].mean(),inplace=True)"
   ]
  },
  {
   "cell_type": "code",
   "execution_count": 15,
   "id": "4c8bed6e",
   "metadata": {},
   "outputs": [],
   "source": [
    "df[\"Family\"]=df[\"SibSp\"]+df[\"Parch\"]+1"
   ]
  },
  {
   "cell_type": "code",
   "execution_count": 16,
   "id": "a14c4020",
   "metadata": {},
   "outputs": [
    {
     "data": {
      "text/plain": [
       "PassengerId      0\n",
       "Survived       418\n",
       "Pclass           0\n",
       "Name             0\n",
       "Sex              0\n",
       "Age              0\n",
       "SibSp            0\n",
       "Parch            0\n",
       "Ticket           0\n",
       "Fare             0\n",
       "Embarked         0\n",
       "Family           0\n",
       "dtype: int64"
      ]
     },
     "execution_count": 16,
     "metadata": {},
     "output_type": "execute_result"
    }
   ],
   "source": [
    "df.isnull().sum()"
   ]
  },
  {
   "cell_type": "code",
   "execution_count": 17,
   "id": "5f706c80",
   "metadata": {},
   "outputs": [
    {
     "data": {
      "text/plain": [
       "<AxesSubplot:>"
      ]
     },
     "execution_count": 17,
     "metadata": {},
     "output_type": "execute_result"
    },
    {
     "data": {
      "image/png": "[encoded data removed]",
      "text/plain": [
       "<Figure size 432x288 with 1 Axes>"
      ]
     },
     "metadata": {
      "needs_background": "light"
     },
     "output_type": "display_data"
    }
   ],
   "source": [
    "df[\"Age\"].hist()"
   ]
  },
  {
   "cell_type": "code",
   "execution_count": 18,
   "id": "70037009",
   "metadata": {},
   "outputs": [
    {
     "data": {
      "text/plain": [
       "<AxesSubplot:xlabel='Embarked', ylabel='count'>"
      ]
     },
     "execution_count": 18,
     "metadata": {},
     "output_type": "execute_result"
    },
    {
     "data": {
      "image/png": "[encoded data removed]",
      "text/plain": [
       "<Figure size 432x288 with 1 Axes>"
      ]
     },
     "metadata": {
      "needs_background": "light"
     },
     "output_type": "display_data"
    }
   ],
   "source": [
    "sns.countplot(x=df[\"Embarked\"],hue=df[\"Survived\"])"
   ]
  },
  {
   "cell_type": "code",
   "execution_count": 19,
   "id": "11b13025",
   "metadata": {},
   "outputs": [
    {
     "data": {
      "text/plain": [
       "Connolly, Miss. Kate                                   2\n",
       "Kelly, Mr. James                                       2\n",
       "Braund, Mr. Owen Harris                                1\n",
       "Johnson, Master. Harold Theodor                        1\n",
       "Gustafsson, Mr. Alfred Ossian                          1\n",
       "                                                      ..\n",
       "Carter, Miss. Lucile Polk                              1\n",
       "Silvey, Mr. William Baird                              1\n",
       "Kallio, Mr. Nikolai Erland                             1\n",
       "Louch, Mrs. Charles Alexander (Alice Adelaide Slow)    1\n",
       "Peter, Master. Michael J                               1\n",
       "Name: Name, Length: 1307, dtype: int64"
      ]
     },
     "execution_count": 19,
     "metadata": {},
     "output_type": "execute_result"
    }
   ],
   "source": [
    "df[\"Name\"].value_counts()"
   ]
  },
  {
   "cell_type": "code",
   "execution_count": 20,
   "id": "1e318a71",
   "metadata": {},
   "outputs": [],
   "source": [
    "df[\"Title\"]=df[\"Name\"].str.extract(\"([A-Za-z]+)\\.\",expand=False)\n",
    "df[\"Title\"]=df[\"Title\"].replace([\"Ms\",\"Mlle\"],\"Miss\")\n",
    "df[\"Title\"]=df[\"Title\"].replace([\"Mme\",\"Countess\",\"Lady\",\"Dona\"],\"Mrs\")\n",
    "df[\"Title\"]=df[\"Title\"].replace([\"Dr\",\"Major\",\"Col\",\"Capt\",\"Sir\",\"Rev\",\"Jonkheer\",\"Don\"],\"Mr\")"
   ]
  },
  {
   "cell_type": "code",
   "execution_count": 21,
   "id": "8769a534",
   "metadata": {},
   "outputs": [
    {
     "data": {
      "text/plain": [
       "Index(['PassengerId', 'Survived', 'Pclass', 'Name', 'Sex', 'Age', 'SibSp',\n",
       "       'Parch', 'Ticket', 'Fare', 'Embarked', 'Family', 'Title'],\n",
       "      dtype='object')"
      ]
     },
     "execution_count": 21,
     "metadata": {},
     "output_type": "execute_result"
    }
   ],
   "source": [
    "df.columns"
   ]
  },
  {
   "cell_type": "code",
   "execution_count": 22,
   "id": "158ccf90",
   "metadata": {},
   "outputs": [],
   "source": [
    "df=df.drop(columns=[\"Ticket\"])\n"
   ]
  },
  {
   "cell_type": "code",
   "execution_count": 23,
   "id": "971d42c3",
   "metadata": {},
   "outputs": [],
   "source": [
    "df=df.drop(columns=[\"Name\"])"
   ]
  },
  {
   "cell_type": "code",
   "execution_count": 24,
   "id": "43dfe5db",
   "metadata": {},
   "outputs": [],
   "source": [
    "x=df[['PassengerId', 'Pclass', 'Sex', 'Age', 'SibSp','Parch','Fare', 'Embarked', 'Family']]"
   ]
  },
  {
   "cell_type": "code",
   "execution_count": 42,
   "id": "6c3f68ef",
   "metadata": {},
   "outputs": [],
   "source": [
    "y=df[[\"Survived\"]]"
   ]
  },
  {
   "cell_type": "code",
   "execution_count": 26,
   "id": "ae313f44",
   "metadata": {},
   "outputs": [],
   "source": [
    "x=df.iloc[:,0:9]\n",
    "y=df.iloc[:,9]\n"
   ]
  },
  {
   "cell_type": "code",
   "execution_count": 27,
   "id": "4b7175c9",
   "metadata": {},
   "outputs": [
    {
     "data": {
      "text/plain": [
       "(1309, 9)"
      ]
     },
     "execution_count": 27,
     "metadata": {},
     "output_type": "execute_result"
    }
   ],
   "source": [
    "x.shape"
   ]
  },
  {
   "cell_type": "code",
   "execution_count": 28,
   "id": "1a79ce4b",
   "metadata": {},
   "outputs": [
    {
     "data": {
      "text/html": [
       "<div>\n",
       "<style scoped>\n",
       "    .dataframe tbody tr th:only-of-type {\n",
       "        vertical-align: middle;\n",
       "    }\n",
       "\n",
       "    .dataframe tbody tr th {\n",
       "        vertical-align: top;\n",
       "    }\n",
       "\n",
       "    .dataframe thead th {\n",
       "        text-align: right;\n",
       "    }\n",
       "</style>\n",
       "<table border=\"1\" class=\"dataframe\">\n",
       "  <thead>\n",
       "    <tr style=\"text-align: right;\">\n",
       "      <th></th>\n",
       "      <th>PassengerId</th>\n",
       "      <th>Survived</th>\n",
       "      <th>Pclass</th>\n",
       "      <th>Sex</th>\n",
       "      <th>Age</th>\n",
       "      <th>SibSp</th>\n",
       "      <th>Parch</th>\n",
       "      <th>Fare</th>\n",
       "      <th>Embarked</th>\n",
       "    </tr>\n",
       "  </thead>\n",
       "  <tbody>\n",
       "    <tr>\n",
       "      <th>0</th>\n",
       "      <td>1</td>\n",
       "      <td>0.0</td>\n",
       "      <td>3</td>\n",
       "      <td>male</td>\n",
       "      <td>22.0</td>\n",
       "      <td>1</td>\n",
       "      <td>0</td>\n",
       "      <td>7.2500</td>\n",
       "      <td>S</td>\n",
       "    </tr>\n",
       "    <tr>\n",
       "      <th>1</th>\n",
       "      <td>2</td>\n",
       "      <td>1.0</td>\n",
       "      <td>1</td>\n",
       "      <td>female</td>\n",
       "      <td>38.0</td>\n",
       "      <td>1</td>\n",
       "      <td>0</td>\n",
       "      <td>71.2833</td>\n",
       "      <td>C</td>\n",
       "    </tr>\n",
       "    <tr>\n",
       "      <th>2</th>\n",
       "      <td>3</td>\n",
       "      <td>1.0</td>\n",
       "      <td>3</td>\n",
       "      <td>female</td>\n",
       "      <td>26.0</td>\n",
       "      <td>0</td>\n",
       "      <td>0</td>\n",
       "      <td>7.9250</td>\n",
       "      <td>S</td>\n",
       "    </tr>\n",
       "    <tr>\n",
       "      <th>3</th>\n",
       "      <td>4</td>\n",
       "      <td>1.0</td>\n",
       "      <td>1</td>\n",
       "      <td>female</td>\n",
       "      <td>35.0</td>\n",
       "      <td>1</td>\n",
       "      <td>0</td>\n",
       "      <td>53.1000</td>\n",
       "      <td>S</td>\n",
       "    </tr>\n",
       "    <tr>\n",
       "      <th>4</th>\n",
       "      <td>5</td>\n",
       "      <td>0.0</td>\n",
       "      <td>3</td>\n",
       "      <td>male</td>\n",
       "      <td>35.0</td>\n",
       "      <td>0</td>\n",
       "      <td>0</td>\n",
       "      <td>8.0500</td>\n",
       "      <td>S</td>\n",
       "    </tr>\n",
       "  </tbody>\n",
       "</table>\n",
       "</div>"
      ],
      "text/plain": [
       "   PassengerId  Survived  Pclass     Sex   Age  SibSp  Parch     Fare Embarked\n",
       "0            1       0.0       3    male  22.0      1      0   7.2500        S\n",
       "1            2       1.0       1  female  38.0      1      0  71.2833        C\n",
       "2            3       1.0       3  female  26.0      0      0   7.9250        S\n",
       "3            4       1.0       1  female  35.0      1      0  53.1000        S\n",
       "4            5       0.0       3    male  35.0      0      0   8.0500        S"
      ]
     },
     "execution_count": 28,
     "metadata": {},
     "output_type": "execute_result"
    }
   ],
   "source": [
    "x.head()"
   ]
  },
  {
   "cell_type": "code",
   "execution_count": 29,
   "id": "88909106",
   "metadata": {},
   "outputs": [],
   "source": [
    "x=pd.get_dummies(x,drop_first=True)\n"
   ]
  },
  {
   "cell_type": "code",
   "execution_count": 30,
   "id": "a621df43",
   "metadata": {},
   "outputs": [
    {
     "data": {
      "text/html": [
       "<div>\n",
       "<style scoped>\n",
       "    .dataframe tbody tr th:only-of-type {\n",
       "        vertical-align: middle;\n",
       "    }\n",
       "\n",
       "    .dataframe tbody tr th {\n",
       "        vertical-align: top;\n",
       "    }\n",
       "\n",
       "    .dataframe thead th {\n",
       "        text-align: right;\n",
       "    }\n",
       "</style>\n",
       "<table border=\"1\" class=\"dataframe\">\n",
       "  <thead>\n",
       "    <tr style=\"text-align: right;\">\n",
       "      <th></th>\n",
       "      <th>PassengerId</th>\n",
       "      <th>Survived</th>\n",
       "      <th>Pclass</th>\n",
       "      <th>Age</th>\n",
       "      <th>SibSp</th>\n",
       "      <th>Parch</th>\n",
       "      <th>Fare</th>\n",
       "      <th>Sex_male</th>\n",
       "      <th>Embarked_Q</th>\n",
       "      <th>Embarked_S</th>\n",
       "    </tr>\n",
       "  </thead>\n",
       "  <tbody>\n",
       "    <tr>\n",
       "      <th>0</th>\n",
       "      <td>1</td>\n",
       "      <td>0.0</td>\n",
       "      <td>3</td>\n",
       "      <td>22.0</td>\n",
       "      <td>1</td>\n",
       "      <td>0</td>\n",
       "      <td>7.2500</td>\n",
       "      <td>1</td>\n",
       "      <td>0</td>\n",
       "      <td>1</td>\n",
       "    </tr>\n",
       "    <tr>\n",
       "      <th>1</th>\n",
       "      <td>2</td>\n",
       "      <td>1.0</td>\n",
       "      <td>1</td>\n",
       "      <td>38.0</td>\n",
       "      <td>1</td>\n",
       "      <td>0</td>\n",
       "      <td>71.2833</td>\n",
       "      <td>0</td>\n",
       "      <td>0</td>\n",
       "      <td>0</td>\n",
       "    </tr>\n",
       "    <tr>\n",
       "      <th>2</th>\n",
       "      <td>3</td>\n",
       "      <td>1.0</td>\n",
       "      <td>3</td>\n",
       "      <td>26.0</td>\n",
       "      <td>0</td>\n",
       "      <td>0</td>\n",
       "      <td>7.9250</td>\n",
       "      <td>0</td>\n",
       "      <td>0</td>\n",
       "      <td>1</td>\n",
       "    </tr>\n",
       "    <tr>\n",
       "      <th>3</th>\n",
       "      <td>4</td>\n",
       "      <td>1.0</td>\n",
       "      <td>1</td>\n",
       "      <td>35.0</td>\n",
       "      <td>1</td>\n",
       "      <td>0</td>\n",
       "      <td>53.1000</td>\n",
       "      <td>0</td>\n",
       "      <td>0</td>\n",
       "      <td>1</td>\n",
       "    </tr>\n",
       "    <tr>\n",
       "      <th>4</th>\n",
       "      <td>5</td>\n",
       "      <td>0.0</td>\n",
       "      <td>3</td>\n",
       "      <td>35.0</td>\n",
       "      <td>0</td>\n",
       "      <td>0</td>\n",
       "      <td>8.0500</td>\n",
       "      <td>1</td>\n",
       "      <td>0</td>\n",
       "      <td>1</td>\n",
       "    </tr>\n",
       "  </tbody>\n",
       "</table>\n",
       "</div>"
      ],
      "text/plain": [
       "   PassengerId  Survived  Pclass   Age  SibSp  Parch     Fare  Sex_male  \\\n",
       "0            1       0.0       3  22.0      1      0   7.2500         1   \n",
       "1            2       1.0       1  38.0      1      0  71.2833         0   \n",
       "2            3       1.0       3  26.0      0      0   7.9250         0   \n",
       "3            4       1.0       1  35.0      1      0  53.1000         0   \n",
       "4            5       0.0       3  35.0      0      0   8.0500         1   \n",
       "\n",
       "   Embarked_Q  Embarked_S  \n",
       "0           0           1  \n",
       "1           0           0  \n",
       "2           0           1  \n",
       "3           0           1  \n",
       "4           0           1  "
      ]
     },
     "execution_count": 30,
     "metadata": {},
     "output_type": "execute_result"
    }
   ],
   "source": [
    "x.head()\n"
   ]
  },
  {
   "cell_type": "code",
   "execution_count": 31,
   "id": "a0e3fd11",
   "metadata": {},
   "outputs": [],
   "source": [
    "model=Sequential()\n",
    "model.add(Dense(8,activation='relu')) #neronlar\n",
    "model.add(Dense(120,activation='relu'))\n",
    "model.add(Dense(60,activation='relu'))\n",
    "model.add(Dense(6,activation='relu'))\n",
    "model.add(Dense(4,activation='relu'))\n",
    "model.add(Dense(1,activation='sigmoid'))\n",
    "\n"
   ]
  },
  {
   "cell_type": "code",
   "execution_count": 32,
   "id": "fc556c2b",
   "metadata": {},
   "outputs": [],
   "source": [
    "model.compile(loss=\"binary_crossentropy\",optimizer=\"adam\",metrics=\"accuracy\")"
   ]
  },
  {
   "cell_type": "code",
   "execution_count": 46,
   "id": "402b7e5f",
   "metadata": {
    "scrolled": true
   },
   "outputs": [
    {
     "name": "stdout",
     "output_type": "stream",
     "text": [
      "Epoch 1/150\n",
      "88/88 [==============================] - 1s 1ms/step - loss: nan - accuracy: 0.4194\n",
      "Epoch 2/150\n",
      "88/88 [==============================] - 0s 2ms/step - loss: nan - accuracy: 0.4194\n",
      "Epoch 3/150\n",
      "88/88 [==============================] - 0s 2ms/step - loss: nan - accuracy: 0.4194\n",
      "Epoch 4/150\n",
      "88/88 [==============================] - 0s 2ms/step - loss: nan - accuracy: 0.4194\n",
      "Epoch 5/150\n",
      "88/88 [==============================] - 0s 2ms/step - loss: nan - accuracy: 0.4194\n",
      "Epoch 6/150\n",
      "88/88 [==============================] - 0s 2ms/step - loss: nan - accuracy: 0.4194\n",
      "Epoch 7/150\n",
      "88/88 [==============================] - 0s 2ms/step - loss: nan - accuracy: 0.4194\n",
      "Epoch 8/150\n",
      "88/88 [==============================] - 0s 2ms/step - loss: nan - accuracy: 0.4194\n",
      "Epoch 9/150\n",
      "88/88 [==============================] - 0s 2ms/step - loss: nan - accuracy: 0.4194\n",
      "Epoch 10/150\n",
      "88/88 [==============================] - 0s 2ms/step - loss: nan - accuracy: 0.4194\n",
      "Epoch 11/150\n",
      "88/88 [==============================] - 0s 2ms/step - loss: nan - accuracy: 0.4194\n",
      "Epoch 12/150\n",
      "88/88 [==============================] - 0s 2ms/step - loss: nan - accuracy: 0.4194\n",
      "Epoch 13/150\n",
      "88/88 [==============================] - 0s 2ms/step - loss: nan - accuracy: 0.4194\n",
      "Epoch 14/150\n",
      "88/88 [==============================] - 0s 2ms/step - loss: nan - accuracy: 0.4194\n",
      "Epoch 15/150\n",
      "88/88 [==============================] - 0s 2ms/step - loss: nan - accuracy: 0.4194\n",
      "Epoch 16/150\n",
      "88/88 [==============================] - 0s 2ms/step - loss: nan - accuracy: 0.4194\n",
      "Epoch 17/150\n",
      "88/88 [==============================] - 0s 2ms/step - loss: nan - accuracy: 0.4194\n",
      "Epoch 18/150\n",
      "88/88 [==============================] - 0s 2ms/step - loss: nan - accuracy: 0.4194\n",
      "Epoch 19/150\n",
      "88/88 [==============================] - 0s 2ms/step - loss: nan - accuracy: 0.4194\n",
      "Epoch 20/150\n",
      "88/88 [==============================] - 0s 2ms/step - loss: nan - accuracy: 0.4194\n",
      "Epoch 21/150\n",
      "88/88 [==============================] - 0s 2ms/step - loss: nan - accuracy: 0.4194\n",
      "Epoch 22/150\n",
      "88/88 [==============================] - 0s 2ms/step - loss: nan - accuracy: 0.4194\n",
      "Epoch 23/150\n",
      "88/88 [==============================] - 0s 2ms/step - loss: nan - accuracy: 0.4194\n",
      "Epoch 24/150\n",
      "88/88 [==============================] - 0s 2ms/step - loss: nan - accuracy: 0.4194\n",
      "Epoch 25/150\n",
      "88/88 [==============================] - 0s 2ms/step - loss: nan - accuracy: 0.4194\n",
      "Epoch 26/150\n",
      "88/88 [==============================] - 0s 2ms/step - loss: nan - accuracy: 0.4194\n",
      "Epoch 27/150\n",
      "88/88 [==============================] - 0s 2ms/step - loss: nan - accuracy: 0.4194\n",
      "Epoch 28/150\n",
      "88/88 [==============================] - 0s 2ms/step - loss: nan - accuracy: 0.4194\n",
      "Epoch 29/150\n",
      "88/88 [==============================] - 0s 2ms/step - loss: nan - accuracy: 0.4194\n",
      "Epoch 30/150\n",
      "88/88 [==============================] - 0s 2ms/step - loss: nan - accuracy: 0.4194\n",
      "Epoch 31/150\n",
      "88/88 [==============================] - 0s 2ms/step - loss: nan - accuracy: 0.4194\n",
      "Epoch 32/150\n",
      "88/88 [==============================] - 0s 2ms/step - loss: nan - accuracy: 0.4194\n",
      "Epoch 33/150\n",
      "88/88 [==============================] - 0s 2ms/step - loss: nan - accuracy: 0.4194\n",
      "Epoch 34/150\n",
      "88/88 [==============================] - 0s 2ms/step - loss: nan - accuracy: 0.4194\n",
      "Epoch 35/150\n",
      "88/88 [==============================] - 0s 2ms/step - loss: nan - accuracy: 0.4194\n",
      "Epoch 36/150\n",
      "88/88 [==============================] - 0s 2ms/step - loss: nan - accuracy: 0.4194\n",
      "Epoch 37/150\n",
      "88/88 [==============================] - 0s 2ms/step - loss: nan - accuracy: 0.4194\n",
      "Epoch 38/150\n",
      "88/88 [==============================] - 0s 2ms/step - loss: nan - accuracy: 0.4194\n",
      "Epoch 39/150\n",
      "88/88 [==============================] - 0s 2ms/step - loss: nan - accuracy: 0.4194\n",
      "Epoch 40/150\n",
      "88/88 [==============================] - 0s 1ms/step - loss: nan - accuracy: 0.4194\n",
      "Epoch 41/150\n",
      "88/88 [==============================] - 0s 2ms/step - loss: nan - accuracy: 0.4194\n",
      "Epoch 42/150\n",
      "88/88 [==============================] - 0s 2ms/step - loss: nan - accuracy: 0.4194\n",
      "Epoch 43/150\n",
      "88/88 [==============================] - 0s 2ms/step - loss: nan - accuracy: 0.4194\n",
      "Epoch 44/150\n",
      "88/88 [==============================] - 0s 2ms/step - loss: nan - accuracy: 0.4194\n",
      "Epoch 45/150\n",
      "88/88 [==============================] - 0s 1ms/step - loss: nan - accuracy: 0.4194\n",
      "Epoch 46/150\n",
      "88/88 [==============================] - 0s 2ms/step - loss: nan - accuracy: 0.4194\n",
      "Epoch 47/150\n",
      "88/88 [==============================] - 0s 2ms/step - loss: nan - accuracy: 0.4194\n",
      "Epoch 48/150\n",
      "88/88 [==============================] - 0s 1ms/step - loss: nan - accuracy: 0.4194\n",
      "Epoch 49/150\n",
      "88/88 [==============================] - 0s 2ms/step - loss: nan - accuracy: 0.4194\n",
      "Epoch 50/150\n",
      "88/88 [==============================] - 0s 2ms/step - loss: nan - accuracy: 0.4194\n",
      "Epoch 51/150\n",
      "88/88 [==============================] - 0s 2ms/step - loss: nan - accuracy: 0.4194\n",
      "Epoch 52/150\n",
      "88/88 [==============================] - 0s 2ms/step - loss: nan - accuracy: 0.4194\n",
      "Epoch 53/150\n",
      "88/88 [==============================] - 0s 2ms/step - loss: nan - accuracy: 0.4194\n",
      "Epoch 54/150\n",
      "88/88 [==============================] - 0s 2ms/step - loss: nan - accuracy: 0.4194\n",
      "Epoch 55/150\n",
      "88/88 [==============================] - 0s 2ms/step - loss: nan - accuracy: 0.4194\n",
      "Epoch 56/150\n",
      "88/88 [==============================] - 0s 2ms/step - loss: nan - accuracy: 0.4194\n",
      "Epoch 57/150\n",
      "88/88 [==============================] - 0s 2ms/step - loss: nan - accuracy: 0.4194\n",
      "Epoch 58/150\n",
      "88/88 [==============================] - 0s 2ms/step - loss: nan - accuracy: 0.4194\n",
      "Epoch 59/150\n",
      "88/88 [==============================] - 0s 2ms/step - loss: nan - accuracy: 0.4194\n",
      "Epoch 60/150\n",
      "88/88 [==============================] - 0s 2ms/step - loss: nan - accuracy: 0.4194\n",
      "Epoch 61/150\n",
      "88/88 [==============================] - 0s 2ms/step - loss: nan - accuracy: 0.4194\n",
      "Epoch 62/150\n",
      "88/88 [==============================] - 0s 2ms/step - loss: nan - accuracy: 0.4194\n",
      "Epoch 63/150\n",
      "88/88 [==============================] - 0s 2ms/step - loss: nan - accuracy: 0.4194\n",
      "Epoch 64/150\n",
      "88/88 [==============================] - 0s 2ms/step - loss: nan - accuracy: 0.4194\n",
      "Epoch 65/150\n",
      "88/88 [==============================] - 0s 2ms/step - loss: nan - accuracy: 0.4194\n",
      "Epoch 66/150\n",
      "88/88 [==============================] - 0s 2ms/step - loss: nan - accuracy: 0.4194\n",
      "Epoch 67/150\n",
      "88/88 [==============================] - 0s 2ms/step - loss: nan - accuracy: 0.4194\n",
      "Epoch 68/150\n",
      "88/88 [==============================] - 0s 2ms/step - loss: nan - accuracy: 0.4194\n",
      "Epoch 69/150\n",
      "88/88 [==============================] - 0s 2ms/step - loss: nan - accuracy: 0.4194\n",
      "Epoch 70/150\n",
      "88/88 [==============================] - 0s 2ms/step - loss: nan - accuracy: 0.4194\n",
      "Epoch 71/150\n",
      "88/88 [==============================] - 0s 2ms/step - loss: nan - accuracy: 0.4194\n",
      "Epoch 72/150\n",
      "88/88 [==============================] - 0s 2ms/step - loss: nan - accuracy: 0.4194\n",
      "Epoch 73/150\n",
      "88/88 [==============================] - 0s 2ms/step - loss: nan - accuracy: 0.4194\n",
      "Epoch 74/150\n",
      "88/88 [==============================] - 0s 2ms/step - loss: nan - accuracy: 0.4194\n",
      "Epoch 75/150\n",
      "88/88 [==============================] - 0s 2ms/step - loss: nan - accuracy: 0.4194\n",
      "Epoch 76/150\n",
      "88/88 [==============================] - 0s 2ms/step - loss: nan - accuracy: 0.4194\n",
      "Epoch 77/150\n",
      "88/88 [==============================] - 0s 2ms/step - loss: nan - accuracy: 0.4194\n",
      "Epoch 78/150\n",
      "88/88 [==============================] - 0s 2ms/step - loss: nan - accuracy: 0.4194\n",
      "Epoch 79/150\n",
      "88/88 [==============================] - 0s 2ms/step - loss: nan - accuracy: 0.4194\n",
      "Epoch 80/150\n",
      "88/88 [==============================] - 0s 2ms/step - loss: nan - accuracy: 0.4194\n",
      "Epoch 81/150\n",
      "88/88 [==============================] - 0s 2ms/step - loss: nan - accuracy: 0.4194\n",
      "Epoch 82/150\n",
      "88/88 [==============================] - 0s 2ms/step - loss: nan - accuracy: 0.4194\n",
      "Epoch 83/150\n",
      "88/88 [==============================] - 0s 2ms/step - loss: nan - accuracy: 0.4194\n",
      "Epoch 84/150\n",
      "88/88 [==============================] - 0s 2ms/step - loss: nan - accuracy: 0.4194\n",
      "Epoch 85/150\n"
     ]
    },
    {
     "name": "stdout",
     "output_type": "stream",
     "text": [
      "88/88 [==============================] - 0s 2ms/step - loss: nan - accuracy: 0.4194\n",
      "Epoch 86/150\n",
      "88/88 [==============================] - 0s 1ms/step - loss: nan - accuracy: 0.4194\n",
      "Epoch 87/150\n",
      "88/88 [==============================] - 0s 2ms/step - loss: nan - accuracy: 0.4194\n",
      "Epoch 88/150\n",
      "88/88 [==============================] - 0s 2ms/step - loss: nan - accuracy: 0.4194\n",
      "Epoch 89/150\n",
      "88/88 [==============================] - 0s 2ms/step - loss: nan - accuracy: 0.4194\n",
      "Epoch 90/150\n",
      "88/88 [==============================] - 0s 1ms/step - loss: nan - accuracy: 0.4194\n",
      "Epoch 91/150\n",
      "88/88 [==============================] - 0s 2ms/step - loss: nan - accuracy: 0.4194\n",
      "Epoch 92/150\n",
      "88/88 [==============================] - 0s 2ms/step - loss: nan - accuracy: 0.4194\n",
      "Epoch 93/150\n",
      "88/88 [==============================] - 0s 2ms/step - loss: nan - accuracy: 0.4194\n",
      "Epoch 94/150\n",
      "88/88 [==============================] - 0s 2ms/step - loss: nan - accuracy: 0.4194\n",
      "Epoch 95/150\n",
      "88/88 [==============================] - 0s 2ms/step - loss: nan - accuracy: 0.4194\n",
      "Epoch 96/150\n",
      "88/88 [==============================] - 0s 2ms/step - loss: nan - accuracy: 0.4194\n",
      "Epoch 97/150\n",
      "88/88 [==============================] - 0s 2ms/step - loss: nan - accuracy: 0.4194\n",
      "Epoch 98/150\n",
      "88/88 [==============================] - 0s 2ms/step - loss: nan - accuracy: 0.4194\n",
      "Epoch 99/150\n",
      "88/88 [==============================] - 0s 2ms/step - loss: nan - accuracy: 0.4194\n",
      "Epoch 100/150\n",
      "88/88 [==============================] - 0s 2ms/step - loss: nan - accuracy: 0.4194\n",
      "Epoch 101/150\n",
      "88/88 [==============================] - 0s 2ms/step - loss: nan - accuracy: 0.4194\n",
      "Epoch 102/150\n",
      "88/88 [==============================] - 0s 2ms/step - loss: nan - accuracy: 0.4194\n",
      "Epoch 103/150\n",
      "88/88 [==============================] - 0s 2ms/step - loss: nan - accuracy: 0.4194\n",
      "Epoch 104/150\n",
      "88/88 [==============================] - 0s 2ms/step - loss: nan - accuracy: 0.4194\n",
      "Epoch 105/150\n",
      "88/88 [==============================] - 0s 2ms/step - loss: nan - accuracy: 0.4194\n",
      "Epoch 106/150\n",
      "88/88 [==============================] - 0s 2ms/step - loss: nan - accuracy: 0.4194\n",
      "Epoch 107/150\n",
      "88/88 [==============================] - 0s 2ms/step - loss: nan - accuracy: 0.4194\n",
      "Epoch 108/150\n",
      "88/88 [==============================] - 0s 2ms/step - loss: nan - accuracy: 0.4194\n",
      "Epoch 109/150\n",
      "88/88 [==============================] - 0s 2ms/step - loss: nan - accuracy: 0.4194\n",
      "Epoch 110/150\n",
      "88/88 [==============================] - 0s 2ms/step - loss: nan - accuracy: 0.4194\n",
      "Epoch 111/150\n",
      "88/88 [==============================] - 0s 2ms/step - loss: nan - accuracy: 0.4194\n",
      "Epoch 112/150\n",
      "88/88 [==============================] - 0s 2ms/step - loss: nan - accuracy: 0.4194\n",
      "Epoch 113/150\n",
      "88/88 [==============================] - 0s 2ms/step - loss: nan - accuracy: 0.4194\n",
      "Epoch 114/150\n",
      "88/88 [==============================] - 0s 2ms/step - loss: nan - accuracy: 0.4194\n",
      "Epoch 115/150\n",
      "88/88 [==============================] - 0s 2ms/step - loss: nan - accuracy: 0.4194\n",
      "Epoch 116/150\n",
      "88/88 [==============================] - 0s 2ms/step - loss: nan - accuracy: 0.4194\n",
      "Epoch 117/150\n",
      "88/88 [==============================] - 0s 2ms/step - loss: nan - accuracy: 0.4194\n",
      "Epoch 118/150\n",
      "88/88 [==============================] - 0s 2ms/step - loss: nan - accuracy: 0.4194\n",
      "Epoch 119/150\n",
      "88/88 [==============================] - 0s 2ms/step - loss: nan - accuracy: 0.4194\n",
      "Epoch 120/150\n",
      "88/88 [==============================] - 0s 2ms/step - loss: nan - accuracy: 0.4194\n",
      "Epoch 121/150\n",
      "88/88 [==============================] - 0s 2ms/step - loss: nan - accuracy: 0.4194\n",
      "Epoch 122/150\n",
      "88/88 [==============================] - 0s 2ms/step - loss: nan - accuracy: 0.4194\n",
      "Epoch 123/150\n",
      "88/88 [==============================] - 0s 2ms/step - loss: nan - accuracy: 0.4194\n",
      "Epoch 124/150\n",
      "88/88 [==============================] - 0s 2ms/step - loss: nan - accuracy: 0.4194\n",
      "Epoch 125/150\n",
      "88/88 [==============================] - 0s 2ms/step - loss: nan - accuracy: 0.4194\n",
      "Epoch 126/150\n",
      "88/88 [==============================] - 0s 2ms/step - loss: nan - accuracy: 0.4194\n",
      "Epoch 127/150\n",
      "88/88 [==============================] - 0s 2ms/step - loss: nan - accuracy: 0.4194\n",
      "Epoch 128/150\n",
      "88/88 [==============================] - 0s 2ms/step - loss: nan - accuracy: 0.4194\n",
      "Epoch 129/150\n",
      "88/88 [==============================] - 0s 2ms/step - loss: nan - accuracy: 0.4194\n",
      "Epoch 130/150\n",
      "88/88 [==============================] - 0s 2ms/step - loss: nan - accuracy: 0.4194\n",
      "Epoch 131/150\n",
      "88/88 [==============================] - 0s 2ms/step - loss: nan - accuracy: 0.4194\n",
      "Epoch 132/150\n",
      "88/88 [==============================] - 0s 2ms/step - loss: nan - accuracy: 0.4194\n",
      "Epoch 133/150\n",
      "88/88 [==============================] - 0s 2ms/step - loss: nan - accuracy: 0.4194\n",
      "Epoch 134/150\n",
      "88/88 [==============================] - 0s 2ms/step - loss: nan - accuracy: 0.4194\n",
      "Epoch 135/150\n",
      "88/88 [==============================] - 0s 2ms/step - loss: nan - accuracy: 0.4194\n",
      "Epoch 136/150\n",
      "88/88 [==============================] - 0s 2ms/step - loss: nan - accuracy: 0.4194\n",
      "Epoch 137/150\n",
      "88/88 [==============================] - 0s 2ms/step - loss: nan - accuracy: 0.4194\n",
      "Epoch 138/150\n",
      "88/88 [==============================] - 0s 3ms/step - loss: nan - accuracy: 0.4194\n",
      "Epoch 139/150\n",
      "88/88 [==============================] - 0s 3ms/step - loss: nan - accuracy: 0.4194\n",
      "Epoch 140/150\n",
      "88/88 [==============================] - 0s 3ms/step - loss: nan - accuracy: 0.4194\n",
      "Epoch 141/150\n",
      "88/88 [==============================] - 0s 3ms/step - loss: nan - accuracy: 0.4194\n",
      "Epoch 142/150\n",
      "88/88 [==============================] - 0s 3ms/step - loss: nan - accuracy: 0.4194\n",
      "Epoch 143/150\n",
      "88/88 [==============================] - 0s 3ms/step - loss: nan - accuracy: 0.4194\n",
      "Epoch 144/150\n",
      "88/88 [==============================] - 0s 3ms/step - loss: nan - accuracy: 0.4194\n",
      "Epoch 145/150\n",
      "88/88 [==============================] - 0s 3ms/step - loss: nan - accuracy: 0.4194\n",
      "Epoch 146/150\n",
      "88/88 [==============================] - 0s 2ms/step - loss: nan - accuracy: 0.4194\n",
      "Epoch 147/150\n",
      "88/88 [==============================] - 0s 1ms/step - loss: nan - accuracy: 0.4194\n",
      "Epoch 148/150\n",
      "88/88 [==============================] - 0s 2ms/step - loss: nan - accuracy: 0.4194\n",
      "Epoch 149/150\n",
      "88/88 [==============================] - 0s 1ms/step - loss: nan - accuracy: 0.4194\n",
      "Epoch 150/150\n",
      "88/88 [==============================] - 0s 2ms/step - loss: nan - accuracy: 0.4194\n"
     ]
    },
    {
     "data": {
      "text/plain": [
       "<keras.callbacks.History at 0x252d6ee87f0>"
      ]
     },
     "execution_count": 46,
     "metadata": {},
     "output_type": "execute_result"
    }
   ],
   "source": [
    "model.fit(x,y,epochs=150,batch_size=15,verbose=1)"
   ]
  },
  {
   "cell_type": "code",
   "execution_count": 47,
   "id": "8cd56528",
   "metadata": {},
   "outputs": [
    {
     "name": "stdout",
     "output_type": "stream",
     "text": [
      "Model: \"sequential\"\n",
      "_________________________________________________________________\n",
      " Layer (type)                Output Shape              Param #   \n",
      "=================================================================\n",
      " dense (Dense)               (None, 8)                 88        \n",
      "                                                                 \n",
      " dense_1 (Dense)             (None, 120)               1080      \n",
      "                                                                 \n",
      " dense_2 (Dense)             (None, 60)                7260      \n",
      "                                                                 \n",
      " dense_3 (Dense)             (None, 6)                 366       \n",
      "                                                                 \n",
      " dense_4 (Dense)             (None, 4)                 28        \n",
      "                                                                 \n",
      " dense_5 (Dense)             (None, 1)                 5         \n",
      "                                                                 \n",
      "=================================================================\n",
      "Total params: 8,827\n",
      "Trainable params: 8,827\n",
      "Non-trainable params: 0\n",
      "_________________________________________________________________\n"
     ]
    }
   ],
   "source": [
    "model.summary()"
   ]
  },
  {
   "cell_type": "code",
   "execution_count": 48,
   "id": "0299f358",
   "metadata": {},
   "outputs": [
    {
     "name": "stdout",
     "output_type": "stream",
     "text": [
      "41/41 [==============================] - 0s 1ms/step - loss: nan - accuracy: 0.4194\n"
     ]
    }
   ],
   "source": [
    "scores=model.evaluate(x,y)"
   ]
  },
  {
   "cell_type": "code",
   "execution_count": 49,
   "id": "863155cf",
   "metadata": {},
   "outputs": [
    {
     "data": {
      "text/plain": [
       "nan"
      ]
     },
     "execution_count": 49,
     "metadata": {},
     "output_type": "execute_result"
    }
   ],
   "source": [
    "scores[0] #kaybı yazar  "
   ]
  },
  {
   "cell_type": "code",
   "execution_count": 50,
   "id": "35367b44",
   "metadata": {},
   "outputs": [
    {
     "data": {
      "text/plain": [
       "0.41940411925315857"
      ]
     },
     "execution_count": 50,
     "metadata": {},
     "output_type": "execute_result"
    }
   ],
   "source": [
    "scores[1]"
   ]
  },
  {
   "cell_type": "code",
   "execution_count": 51,
   "id": "18fd4223",
   "metadata": {},
   "outputs": [],
   "source": [
    "#Early stopping "
   ]
  },
  {
   "cell_type": "code",
   "execution_count": 52,
   "id": "09f23836",
   "metadata": {
    "scrolled": true
   },
   "outputs": [
    {
     "name": "stdout",
     "output_type": "stream",
     "text": [
      "Epoch 1/19\n",
      "105/105 [==============================] - 0s 2ms/step - loss: nan - accuracy: 0.5244 - val_loss: nan - val_accuracy: 0.0000e+00\n",
      "Epoch 2/19\n",
      "105/105 [==============================] - 0s 2ms/step - loss: nan - accuracy: 0.5244 - val_loss: nan - val_accuracy: 0.0000e+00\n",
      "Epoch 3/19\n",
      "105/105 [==============================] - 0s 2ms/step - loss: nan - accuracy: 0.5244 - val_loss: nan - val_accuracy: 0.0000e+00\n",
      "Epoch 4/19\n",
      "105/105 [==============================] - 0s 2ms/step - loss: nan - accuracy: 0.5244 - val_loss: nan - val_accuracy: 0.0000e+00\n",
      "Epoch 5/19\n",
      "105/105 [==============================] - 0s 2ms/step - loss: nan - accuracy: 0.5244 - val_loss: nan - val_accuracy: 0.0000e+00\n",
      "Epoch 6/19\n",
      "105/105 [==============================] - 0s 2ms/step - loss: nan - accuracy: 0.5244 - val_loss: nan - val_accuracy: 0.0000e+00\n",
      "Epoch 7/19\n",
      "105/105 [==============================] - 0s 2ms/step - loss: nan - accuracy: 0.5244 - val_loss: nan - val_accuracy: 0.0000e+00\n",
      "Epoch 8/19\n",
      "105/105 [==============================] - 0s 2ms/step - loss: nan - accuracy: 0.5244 - val_loss: nan - val_accuracy: 0.0000e+00\n",
      "Epoch 9/19\n",
      "105/105 [==============================] - 0s 2ms/step - loss: nan - accuracy: 0.5244 - val_loss: nan - val_accuracy: 0.0000e+00\n",
      "Epoch 10/19\n",
      "105/105 [==============================] - 0s 2ms/step - loss: nan - accuracy: 0.5244 - val_loss: nan - val_accuracy: 0.0000e+00\n",
      "Epoch 11/19\n",
      "105/105 [==============================] - 0s 2ms/step - loss: nan - accuracy: 0.5244 - val_loss: nan - val_accuracy: 0.0000e+00\n",
      "Epoch 12/19\n",
      "105/105 [==============================] - 0s 2ms/step - loss: nan - accuracy: 0.5244 - val_loss: nan - val_accuracy: 0.0000e+00\n",
      "Epoch 13/19\n",
      "105/105 [==============================] - 0s 2ms/step - loss: nan - accuracy: 0.5244 - val_loss: nan - val_accuracy: 0.0000e+00\n",
      "Epoch 14/19\n",
      "105/105 [==============================] - 0s 2ms/step - loss: nan - accuracy: 0.5244 - val_loss: nan - val_accuracy: 0.0000e+00\n",
      "Epoch 15/19\n",
      "105/105 [==============================] - 0s 2ms/step - loss: nan - accuracy: 0.5244 - val_loss: nan - val_accuracy: 0.0000e+00\n",
      "Epoch 16/19\n",
      "105/105 [==============================] - 0s 2ms/step - loss: nan - accuracy: 0.5244 - val_loss: nan - val_accuracy: 0.0000e+00\n",
      "Epoch 17/19\n",
      "105/105 [==============================] - 0s 2ms/step - loss: nan - accuracy: 0.5244 - val_loss: nan - val_accuracy: 0.0000e+00\n",
      "Epoch 18/19\n",
      "105/105 [==============================] - 0s 2ms/step - loss: nan - accuracy: 0.5244 - val_loss: nan - val_accuracy: 0.0000e+00\n",
      "Epoch 19/19\n",
      "105/105 [==============================] - 0s 2ms/step - loss: nan - accuracy: 0.5244 - val_loss: nan - val_accuracy: 0.0000e+00\n"
     ]
    }
   ],
   "source": [
    "history=model.fit(x,y,epochs=19,validation_split=0.20,batch_size=10,verbose=1)"
   ]
  },
  {
   "cell_type": "code",
   "execution_count": 53,
   "id": "a1a3d12c",
   "metadata": {},
   "outputs": [],
   "source": [
    "import matplotlib.pyplot as plt"
   ]
  },
  {
   "cell_type": "code",
   "execution_count": 54,
   "id": "eae31c83",
   "metadata": {},
   "outputs": [
    {
     "data": {
      "text/plain": [
       "<matplotlib.legend.Legend at 0x252dcbab550>"
      ]
     },
     "execution_count": 54,
     "metadata": {},
     "output_type": "execute_result"
    },
    {
     "data": {
      "image/png": "[encoded data removed]",
      "text/plain": [
       "<Figure size 432x288 with 1 Axes>"
      ]
     },
     "metadata": {
      "needs_background": "light"
     },
     "output_type": "display_data"
    }
   ],
   "source": [
    "plt.plot(history.history[\"accuracy\"],label=\"Accuracy\")\n",
    "plt.plot(history.history[\"val_accuracy\"],label=\"ValAccuracy\")\n",
    "plt.legend()"
   ]
  },
  {
   "cell_type": "code",
   "execution_count": null,
   "id": "361df0cd",
   "metadata": {},
   "outputs": [],
   "source": []
  }
 ],
 "metadata": {
  "kernelspec": {
   "display_name": "Python 3 (ipykernel)",
   "language": "python",
   "name": "python3"
  },
  "language_info": {
   "codemirror_mode": {
    "name": "ipython",
    "version": 3
   },
   "file_extension": ".py",
   "mimetype": "text/x-python",
   "name": "python",
   "nbconvert_exporter": "python",
   "pygments_lexer": "ipython3",
   "version": "3.9.12"
  }
 },
 "nbformat": 4,
 "nbformat_minor": 5
}
